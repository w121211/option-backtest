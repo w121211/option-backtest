{
 "cells": [
  {
   "cell_type": "code",
   "execution_count": 2,
   "metadata": {},
   "outputs": [
    {
     "name": "stdout",
     "output_type": "stream",
     "text": [
      "Failed to fetch data: 403 {\"status\":\"NOT_AUTHORIZED\",\"request_id\":\"452b664b3c210b7fd7a527081593a5b4\",\"message\":\"You are not entitled to this data. Please upgrade your plan at https://polygon.io/pricing\"}\n"
     ]
    }
   ],
   "source": [
    "import httpx\n",
    "\n",
    "# Replace 'YOUR_API_KEY' with your actual Polygon.io API key\n",
    "API_KEY = '0VSMpK7GBv8Phhx_PJptEYG7HCY3BrZg'\n",
    "\n",
    "# Define the endpoint URL for historical options data\n",
    "# This example fetches options data for a specific ticker and date. Adjust these values as needed.\n",
    "TICKER = 'AAPL'\n",
    "DATE = '2023-01-01'  # Example date, format: YYYY-MM-DD\n",
    "ENDPOINT_URL = f'https://api.polygon.io/v3/snapshot/options/{TICKER}/{DATE}'\n",
    "\n",
    "# Prepare the headers with the API key\n",
    "headers = {\n",
    "    'Authorization': f'Bearer {API_KEY}'\n",
    "}\n",
    "\n",
    "# Make the asynchronous request to Polygon.io using httpx\n",
    "async with httpx.AsyncClient() as client:\n",
    "    response = await client.get(ENDPOINT_URL, headers=headers)\n",
    "\n",
    "    # Check if the request was successful\n",
    "    if response.status_code == 200:\n",
    "        # Parse the JSON response\n",
    "        data = response.json()\n",
    "        print(data)\n",
    "    else:\n",
    "        print('Failed to fetch data:', response.status_code, response.text)\n",
    "\n"
   ]
  }
 ],
 "metadata": {
  "kernelspec": {
   "display_name": "Python 3",
   "language": "python",
   "name": "python3"
  },
  "language_info": {
   "codemirror_mode": {
    "name": "ipython",
    "version": 3
   },
   "file_extension": ".py",
   "mimetype": "text/x-python",
   "name": "python",
   "nbconvert_exporter": "python",
   "pygments_lexer": "ipython3",
   "version": "3.10.13"
  }
 },
 "nbformat": 4,
 "nbformat_minor": 2
}
