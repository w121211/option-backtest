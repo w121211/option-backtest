{
 "cells": [
  {
   "cell_type": "markdown",
   "metadata": {},
   "source": [
    "# Protective Put v.s. Covered Call\n",
    "\n",
    "- With rollover\n",
    "- Under different market condition, include\n",
    "  - IV 增加時\n",
    "  - IV 減少時\n",
    "\n",
    "## 嘗試回答\n",
    "\n",
    "情境：$NVDA 已經處在高位（$800），預期有機會上$1000-$1200，但又擔心隨時會跌下來，如何\n",
    "\n",
    "- 控制風險？\n",
    "- 動態調整倉位？下跌時減倉、上漲時加倉\n",
    "- 有沒有策略是上漲時透過波段性操作，持續獲取收益、甚至有加倉效果，但下跌時有減倉？\n",
    "\n",
    "## 一點思考\n",
    "\n",
    "Protective Put\n",
    "\n",
    "- 避險傾向，可以鎖定利潤\n",
    "- 搭配 Short Call OTM 做成 Collar -> 透過犧牲一部份的未來收益減少 long put 成本，但不確定這樣帶來的效益多大？\n",
    "  - 在 IV 增加時？\n",
    "\n",
    "Covered Call\n"
   ]
  },
  {
   "cell_type": "code",
   "execution_count": null,
   "metadata": {},
   "outputs": [],
   "source": [
    "\"\"\"Generate data\"\"\"\n",
    "\n",
    "import numpy as np\n",
    "import pandas as pd\n",
    "import plotly.graph_objects as go"
   ]
  }
 ],
 "metadata": {
  "kernelspec": {
   "display_name": "option-backtest-GOfJwtuk-py3.12",
   "language": "python",
   "name": "python3"
  },
  "language_info": {
   "codemirror_mode": {
    "name": "ipython",
    "version": 3
   },
   "file_extension": ".py",
   "mimetype": "text/x-python",
   "name": "python",
   "nbconvert_exporter": "python",
   "pygments_lexer": "ipython3",
   "version": "3.12.3"
  }
 },
 "nbformat": 4,
 "nbformat_minor": 2
}
