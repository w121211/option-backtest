{
 "cells": [
  {
   "cell_type": "code",
   "execution_count": 1,
   "metadata": {},
   "outputs": [],
   "source": [
    "from option_backtest.backtest_event import (\n",
    "    FindOptionsBy,\n",
    "    ShouldRolloverCriteria,\n",
    "    demo,\n",
    "    create_rollover_strategy,\n",
    ")"
   ]
  },
  {
   "cell_type": "code",
   "execution_count": 2,
   "metadata": {},
   "outputs": [
    {
     "name": "stderr",
     "output_type": "stream",
     "text": [
      "/Users/cw/Documents/github/option-backtest/src/option_backtest/backtest_event.py:403: FutureWarning: 'M' is deprecated and will be removed in a future version, please use 'ME' instead.\n",
      "  expiry_dates = list(pd.date_range(\"2023-01-01\", periods=13, freq=\"M\"))\n",
      "INFO:option_backtest.backtest_event:Rollover date=230101, price=101.59, delta=0.43, None -> XYZ230228C00105000\n",
      "INFO:option_backtest.market:Executed trade: XYZ230228C00105000 @ 2.92 * 1, Option position: 1, Cash: 707.79\n",
      "INFO:option_backtest.backtest_event:No rollover needed on 2023-01-02 00:00:00\n",
      "INFO:option_backtest.backtest_event:No rollover needed on 2023-01-03 00:00:00\n",
      "INFO:option_backtest.backtest_event:No rollover needed on 2023-01-04 00:00:00\n",
      "INFO:option_backtest.backtest_event:No rollover needed on 2023-01-05 00:00:00\n",
      "INFO:option_backtest.backtest_event:No rollover needed on 2023-01-06 00:00:00\n",
      "INFO:option_backtest.backtest_event:No rollover needed on 2023-01-07 00:00:00\n",
      "INFO:option_backtest.backtest_event:No rollover needed on 2023-01-08 00:00:00\n",
      "INFO:option_backtest.backtest_event:No rollover needed on 2023-01-09 00:00:00\n",
      "INFO:option_backtest.backtest_event:No rollover needed on 2023-01-10 00:00:00\n",
      "INFO:option_backtest.backtest_event:No rollover needed on 2023-01-11 00:00:00\n",
      "INFO:option_backtest.backtest_event:No rollover needed on 2023-01-12 00:00:00\n",
      "INFO:option_backtest.backtest_event:No rollover needed on 2023-01-13 00:00:00\n",
      "INFO:option_backtest.backtest_event:No rollover needed on 2023-01-14 00:00:00\n",
      "INFO:option_backtest.backtest_event:No rollover needed on 2023-01-15 00:00:00\n",
      "INFO:option_backtest.backtest_event:No rollover needed on 2023-01-16 00:00:00\n",
      "INFO:option_backtest.backtest_event:No rollover needed on 2023-01-17 00:00:00\n",
      "INFO:option_backtest.backtest_event:No rollover needed on 2023-01-18 00:00:00\n",
      "INFO:option_backtest.backtest_event:No rollover needed on 2023-01-19 00:00:00\n",
      "INFO:option_backtest.backtest_event:No rollover needed on 2023-01-20 00:00:00\n",
      "INFO:option_backtest.backtest_event:No rollover needed on 2023-01-21 00:00:00\n",
      "INFO:option_backtest.backtest_event:No rollover needed on 2023-01-22 00:00:00\n",
      "INFO:option_backtest.backtest_event:No rollover needed on 2023-01-23 00:00:00\n",
      "INFO:option_backtest.backtest_event:No rollover needed on 2023-01-24 00:00:00\n",
      "INFO:option_backtest.backtest_event:No rollover needed on 2023-01-25 00:00:00\n",
      "INFO:option_backtest.backtest_event:No rollover needed on 2023-01-26 00:00:00\n",
      "INFO:option_backtest.backtest_event:No rollover needed on 2023-01-27 00:00:00\n",
      "INFO:option_backtest.backtest_event:No rollover needed on 2023-01-28 00:00:00\n",
      "INFO:option_backtest.backtest_event:No rollover needed on 2023-01-29 00:00:00\n",
      "INFO:option_backtest.backtest_event:No rollover needed on 2023-01-30 00:00:00\n",
      "INFO:option_backtest.backtest_event:No rollover needed on 2023-01-31 00:00:00\n",
      "INFO:option_backtest.backtest_event:No rollover needed on 2023-02-01 00:00:00\n",
      "INFO:option_backtest.backtest_event:No rollover needed on 2023-02-02 00:00:00\n",
      "INFO:option_backtest.backtest_event:No rollover needed on 2023-02-03 00:00:00\n",
      "INFO:option_backtest.backtest_event:No rollover needed on 2023-02-04 00:00:00\n",
      "INFO:option_backtest.backtest_event:No rollover needed on 2023-02-05 00:00:00\n",
      "INFO:option_backtest.backtest_event:No rollover needed on 2023-02-06 00:00:00\n",
      "INFO:option_backtest.backtest_event:No rollover needed on 2023-02-07 00:00:00\n",
      "INFO:option_backtest.backtest_event:No rollover needed on 2023-02-08 00:00:00\n",
      "INFO:option_backtest.backtest_event:No rollover needed on 2023-02-09 00:00:00\n",
      "INFO:option_backtest.backtest_event:No rollover needed on 2023-02-10 00:00:00\n",
      "INFO:option_backtest.backtest_event:No rollover needed on 2023-02-11 00:00:00\n",
      "INFO:option_backtest.backtest_event:No rollover needed on 2023-02-12 00:00:00\n",
      "INFO:option_backtest.backtest_event:No rollover needed on 2023-02-13 00:00:00\n",
      "INFO:option_backtest.backtest_event:No rollover needed on 2023-02-14 00:00:00\n",
      "INFO:option_backtest.backtest_event:No rollover needed on 2023-02-15 00:00:00\n",
      "INFO:option_backtest.backtest_event:No rollover needed on 2023-02-16 00:00:00\n",
      "INFO:option_backtest.backtest_event:No rollover needed on 2023-02-17 00:00:00\n",
      "INFO:option_backtest.backtest_event:No rollover needed on 2023-02-18 00:00:00\n",
      "INFO:option_backtest.backtest_event:No rollover needed on 2023-02-19 00:00:00\n",
      "INFO:option_backtest.backtest_event:No rollover needed on 2023-02-20 00:00:00\n",
      "INFO:option_backtest.backtest_event:No rollover needed on 2023-02-21 00:00:00\n",
      "INFO:option_backtest.backtest_event:No rollover needed on 2023-02-22 00:00:00\n",
      "INFO:option_backtest.backtest_event:No rollover needed on 2023-02-23 00:00:00\n",
      "INFO:option_backtest.backtest_event:No rollover needed on 2023-02-24 00:00:00\n",
      "INFO:option_backtest.backtest_event:No rollover needed on 2023-02-25 00:00:00\n",
      "INFO:option_backtest.backtest_event:No rollover needed on 2023-02-26 00:00:00\n",
      "INFO:option_backtest.backtest_event:Rollover date=230227, price=103.01, delta=0.44, XYZ230228C00105000 -> XYZ230331C00105000\n",
      "INFO:option_backtest.market:Executed trade: XYZ230228C00105000 @ 0.04 * -1, Option position: 0, Cash: 711.58\n",
      "INFO:option_backtest.market:Executed trade: XYZ230331C00105000 @ 2.33 * 1, Option position: 1, Cash: 478.57\n",
      "INFO:option_backtest.backtest_event:No rollover needed on 2023-02-28 00:00:00\n",
      "INFO:option_backtest.backtest_event:No rollover needed on 2023-03-01 00:00:00\n",
      "INFO:option_backtest.backtest_event:No rollover needed on 2023-03-02 00:00:00\n",
      "INFO:option_backtest.backtest_event:No rollover needed on 2023-03-03 00:00:00\n",
      "INFO:option_backtest.backtest_event:No rollover needed on 2023-03-04 00:00:00\n",
      "INFO:option_backtest.backtest_event:No rollover needed on 2023-03-05 00:00:00\n",
      "INFO:option_backtest.backtest_event:No rollover needed on 2023-03-06 00:00:00\n",
      "INFO:option_backtest.backtest_event:No rollover needed on 2023-03-07 00:00:00\n",
      "INFO:option_backtest.backtest_event:No rollover needed on 2023-03-08 00:00:00\n",
      "INFO:option_backtest.backtest_event:No rollover needed on 2023-03-09 00:00:00\n",
      "INFO:option_backtest.backtest_event:No rollover needed on 2023-03-10 00:00:00\n",
      "INFO:option_backtest.backtest_event:No rollover needed on 2023-03-11 00:00:00\n",
      "INFO:option_backtest.backtest_event:No rollover needed on 2023-03-12 00:00:00\n",
      "INFO:option_backtest.backtest_event:No rollover needed on 2023-03-13 00:00:00\n",
      "INFO:option_backtest.backtest_event:No rollover needed on 2023-03-14 00:00:00\n",
      "INFO:option_backtest.backtest_event:No rollover needed on 2023-03-15 00:00:00\n",
      "INFO:option_backtest.backtest_event:No rollover needed on 2023-03-16 00:00:00\n",
      "INFO:option_backtest.backtest_event:No rollover needed on 2023-03-17 00:00:00\n",
      "INFO:option_backtest.backtest_event:No rollover needed on 2023-03-18 00:00:00\n",
      "INFO:option_backtest.backtest_event:No rollover needed on 2023-03-19 00:00:00\n",
      "INFO:option_backtest.backtest_event:No rollover needed on 2023-03-20 00:00:00\n",
      "INFO:option_backtest.backtest_event:No rollover needed on 2023-03-21 00:00:00\n",
      "INFO:option_backtest.backtest_event:No rollover needed on 2023-03-22 00:00:00\n",
      "INFO:option_backtest.backtest_event:No rollover needed on 2023-03-23 00:00:00\n",
      "INFO:option_backtest.backtest_event:No rollover needed on 2023-03-24 00:00:00\n",
      "INFO:option_backtest.backtest_event:No rollover needed on 2023-03-25 00:00:00\n",
      "INFO:option_backtest.backtest_event:No rollover needed on 2023-03-26 00:00:00\n",
      "INFO:option_backtest.backtest_event:No rollover needed on 2023-03-27 00:00:00\n",
      "INFO:option_backtest.backtest_event:No rollover needed on 2023-03-28 00:00:00\n",
      "INFO:option_backtest.backtest_event:No rollover needed on 2023-03-29 00:00:00\n",
      "INFO:option_backtest.backtest_event:Rollover date=230330, price=94.06, delta=0.49, XYZ230331C00105000 -> XYZ230430C00095000\n",
      "INFO:option_backtest.market:Executed trade: XYZ230331C00105000 @ 0.00 * -1, Option position: 0, Cash: 478.57\n",
      "INFO:option_backtest.market:Executed trade: XYZ230430C00095000 @ 2.46 * 1, Option position: 1, Cash: 232.53\n",
      "INFO:option_backtest.backtest_event:No rollover needed on 2023-03-31 00:00:00\n",
      "INFO:option_backtest.backtest_event:No rollover needed on 2023-04-01 00:00:00\n",
      "INFO:option_backtest.backtest_event:No rollover needed on 2023-04-02 00:00:00\n",
      "INFO:option_backtest.backtest_event:No rollover needed on 2023-04-03 00:00:00\n",
      "INFO:option_backtest.backtest_event:No rollover needed on 2023-04-04 00:00:00\n",
      "INFO:option_backtest.backtest_event:No rollover needed on 2023-04-05 00:00:00\n",
      "INFO:option_backtest.backtest_event:No rollover needed on 2023-04-06 00:00:00\n",
      "INFO:option_backtest.backtest_event:No rollover needed on 2023-04-07 00:00:00\n",
      "INFO:option_backtest.backtest_event:No rollover needed on 2023-04-08 00:00:00\n",
      "INFO:option_backtest.backtest_event:No rollover needed on 2023-04-09 00:00:00\n",
      "INFO:option_backtest.backtest_event:No rollover needed on 2023-04-10 00:00:00\n",
      "INFO:option_backtest.backtest_event:No rollover needed on 2023-04-11 00:00:00\n",
      "INFO:option_backtest.backtest_event:No rollover needed on 2023-04-12 00:00:00\n",
      "INFO:option_backtest.backtest_event:No rollover needed on 2023-04-13 00:00:00\n",
      "INFO:option_backtest.backtest_event:No rollover needed on 2023-04-14 00:00:00\n",
      "INFO:option_backtest.backtest_event:No rollover needed on 2023-04-15 00:00:00\n",
      "INFO:option_backtest.backtest_event:No rollover needed on 2023-04-16 00:00:00\n",
      "INFO:option_backtest.backtest_event:No rollover needed on 2023-04-17 00:00:00\n",
      "INFO:option_backtest.backtest_event:No rollover needed on 2023-04-18 00:00:00\n",
      "INFO:option_backtest.backtest_event:No rollover needed on 2023-04-19 00:00:00\n",
      "INFO:option_backtest.backtest_event:No rollover needed on 2023-04-20 00:00:00\n",
      "INFO:option_backtest.backtest_event:No rollover needed on 2023-04-21 00:00:00\n",
      "INFO:option_backtest.backtest_event:No rollover needed on 2023-04-22 00:00:00\n",
      "INFO:option_backtest.backtest_event:No rollover needed on 2023-04-23 00:00:00\n",
      "INFO:option_backtest.backtest_event:No rollover needed on 2023-04-24 00:00:00\n",
      "INFO:option_backtest.backtest_event:No rollover needed on 2023-04-25 00:00:00\n",
      "INFO:option_backtest.backtest_event:No rollover needed on 2023-04-26 00:00:00\n",
      "INFO:option_backtest.backtest_event:No rollover needed on 2023-04-27 00:00:00\n",
      "INFO:option_backtest.backtest_event:No rollover needed on 2023-04-28 00:00:00\n",
      "INFO:option_backtest.backtest_event:Rollover date=230429, price=97.39, delta=0.40, XYZ230430C00095000 -> XYZ230531C00100000\n",
      "INFO:option_backtest.market:Executed trade: XYZ230430C00095000 @ 2.42 * -1, Option position: 0, Cash: 474.07\n",
      "INFO:option_backtest.market:Executed trade: XYZ230531C00100000 @ 1.92 * 1, Option position: 1, Cash: 282.39\n",
      "INFO:option_backtest.backtest_event:No rollover needed on 2023-04-30 00:00:00\n",
      "INFO:option_backtest.backtest_event:No rollover needed on 2023-05-01 00:00:00\n",
      "INFO:option_backtest.backtest_event:No rollover needed on 2023-05-02 00:00:00\n",
      "INFO:option_backtest.backtest_event:No rollover needed on 2023-05-03 00:00:00\n",
      "INFO:option_backtest.backtest_event:No rollover needed on 2023-05-04 00:00:00\n",
      "INFO:option_backtest.backtest_event:No rollover needed on 2023-05-05 00:00:00\n",
      "INFO:option_backtest.backtest_event:No rollover needed on 2023-05-06 00:00:00\n",
      "INFO:option_backtest.backtest_event:No rollover needed on 2023-05-07 00:00:00\n",
      "INFO:option_backtest.backtest_event:No rollover needed on 2023-05-08 00:00:00\n",
      "INFO:option_backtest.backtest_event:No rollover needed on 2023-05-09 00:00:00\n",
      "INFO:option_backtest.backtest_event:No rollover needed on 2023-05-10 00:00:00\n",
      "INFO:option_backtest.backtest_event:No rollover needed on 2023-05-11 00:00:00\n",
      "INFO:option_backtest.backtest_event:No rollover needed on 2023-05-12 00:00:00\n",
      "INFO:option_backtest.backtest_event:No rollover needed on 2023-05-13 00:00:00\n",
      "INFO:option_backtest.backtest_event:No rollover needed on 2023-05-14 00:00:00\n",
      "INFO:option_backtest.backtest_event:No rollover needed on 2023-05-15 00:00:00\n",
      "INFO:option_backtest.backtest_event:No rollover needed on 2023-05-16 00:00:00\n",
      "INFO:option_backtest.backtest_event:No rollover needed on 2023-05-17 00:00:00\n",
      "INFO:option_backtest.backtest_event:No rollover needed on 2023-05-18 00:00:00\n",
      "INFO:option_backtest.backtest_event:No rollover needed on 2023-05-19 00:00:00\n",
      "INFO:option_backtest.backtest_event:No rollover needed on 2023-05-20 00:00:00\n",
      "INFO:option_backtest.backtest_event:No rollover needed on 2023-05-21 00:00:00\n",
      "INFO:option_backtest.backtest_event:No rollover needed on 2023-05-22 00:00:00\n",
      "INFO:option_backtest.backtest_event:No rollover needed on 2023-05-23 00:00:00\n",
      "INFO:option_backtest.backtest_event:No rollover needed on 2023-05-24 00:00:00\n",
      "INFO:option_backtest.backtest_event:No rollover needed on 2023-05-25 00:00:00\n",
      "INFO:option_backtest.backtest_event:No rollover needed on 2023-05-26 00:00:00\n",
      "INFO:option_backtest.backtest_event:No rollover needed on 2023-05-27 00:00:00\n",
      "INFO:option_backtest.backtest_event:No rollover needed on 2023-05-28 00:00:00\n",
      "INFO:option_backtest.backtest_event:No rollover needed on 2023-05-29 00:00:00\n",
      "INFO:option_backtest.backtest_event:Rollover date=230530, price=93.66, delta=0.47, XYZ230531C00100000 -> XYZ230630C00095000\n",
      "INFO:option_backtest.market:Executed trade: XYZ230531C00100000 @ 0.00 * -1, Option position: 0, Cash: 282.39\n",
      "INFO:option_backtest.market:Executed trade: XYZ230630C00095000 @ 2.27 * 1, Option position: 1, Cash: 55.58\n",
      "INFO:option_backtest.backtest_event:No rollover needed on 2023-05-31 00:00:00\n",
      "INFO:option_backtest.backtest_event:No rollover needed on 2023-06-01 00:00:00\n",
      "INFO:option_backtest.backtest_event:No rollover needed on 2023-06-02 00:00:00\n",
      "INFO:option_backtest.backtest_event:No rollover needed on 2023-06-03 00:00:00\n",
      "INFO:option_backtest.backtest_event:No rollover needed on 2023-06-04 00:00:00\n",
      "INFO:option_backtest.backtest_event:No rollover needed on 2023-06-05 00:00:00\n",
      "INFO:option_backtest.backtest_event:No rollover needed on 2023-06-06 00:00:00\n",
      "INFO:option_backtest.backtest_event:No rollover needed on 2023-06-07 00:00:00\n",
      "INFO:option_backtest.backtest_event:No rollover needed on 2023-06-08 00:00:00\n",
      "INFO:option_backtest.backtest_event:No rollover needed on 2023-06-09 00:00:00\n",
      "INFO:option_backtest.backtest_event:No rollover needed on 2023-06-10 00:00:00\n",
      "INFO:option_backtest.backtest_event:No rollover needed on 2023-06-11 00:00:00\n",
      "INFO:option_backtest.backtest_event:No rollover needed on 2023-06-12 00:00:00\n",
      "INFO:option_backtest.backtest_event:No rollover needed on 2023-06-13 00:00:00\n",
      "INFO:option_backtest.backtest_event:No rollover needed on 2023-06-14 00:00:00\n",
      "INFO:option_backtest.backtest_event:No rollover needed on 2023-06-15 00:00:00\n",
      "INFO:option_backtest.backtest_event:No rollover needed on 2023-06-16 00:00:00\n",
      "INFO:option_backtest.backtest_event:No rollover needed on 2023-06-17 00:00:00\n",
      "INFO:option_backtest.backtest_event:No rollover needed on 2023-06-18 00:00:00\n",
      "INFO:option_backtest.backtest_event:No rollover needed on 2023-06-19 00:00:00\n",
      "INFO:option_backtest.backtest_event:No rollover needed on 2023-06-20 00:00:00\n",
      "INFO:option_backtest.backtest_event:No rollover needed on 2023-06-21 00:00:00\n",
      "INFO:option_backtest.backtest_event:No rollover needed on 2023-06-22 00:00:00\n",
      "INFO:option_backtest.backtest_event:No rollover needed on 2023-06-23 00:00:00\n",
      "INFO:option_backtest.backtest_event:No rollover needed on 2023-06-24 00:00:00\n",
      "INFO:option_backtest.backtest_event:No rollover needed on 2023-06-25 00:00:00\n",
      "INFO:option_backtest.backtest_event:No rollover needed on 2023-06-26 00:00:00\n",
      "INFO:option_backtest.backtest_event:No rollover needed on 2023-06-27 00:00:00\n",
      "INFO:option_backtest.backtest_event:No rollover needed on 2023-06-28 00:00:00\n",
      "INFO:option_backtest.backtest_event:Rollover date=230629, price=101.72, delta=0.37, XYZ230630C00095000 -> XYZ230731C00105000\n",
      "INFO:option_backtest.market:Executed trade: XYZ230630C00095000 @ 6.73 * -1, Option position: 0, Cash: 729.04\n",
      "INFO:option_backtest.market:Executed trade: XYZ230731C00105000 @ 1.80 * 1, Option position: 1, Cash: 548.72\n",
      "INFO:option_backtest.backtest_event:No rollover needed on 2023-06-30 00:00:00\n",
      "INFO:option_backtest.backtest_event:No rollover needed on 2023-07-01 00:00:00\n",
      "INFO:option_backtest.backtest_event:No rollover needed on 2023-07-02 00:00:00\n",
      "INFO:option_backtest.backtest_event:No rollover needed on 2023-07-03 00:00:00\n",
      "INFO:option_backtest.backtest_event:No rollover needed on 2023-07-04 00:00:00\n",
      "INFO:option_backtest.backtest_event:No rollover needed on 2023-07-05 00:00:00\n",
      "INFO:option_backtest.backtest_event:No rollover needed on 2023-07-06 00:00:00\n",
      "INFO:option_backtest.backtest_event:No rollover needed on 2023-07-07 00:00:00\n",
      "INFO:option_backtest.backtest_event:No rollover needed on 2023-07-08 00:00:00\n",
      "INFO:option_backtest.backtest_event:No rollover needed on 2023-07-09 00:00:00\n",
      "INFO:option_backtest.backtest_event:No rollover needed on 2023-07-10 00:00:00\n",
      "INFO:option_backtest.backtest_event:No rollover needed on 2023-07-11 00:00:00\n",
      "INFO:option_backtest.backtest_event:No rollover needed on 2023-07-12 00:00:00\n",
      "INFO:option_backtest.backtest_event:No rollover needed on 2023-07-13 00:00:00\n",
      "INFO:option_backtest.backtest_event:No rollover needed on 2023-07-14 00:00:00\n",
      "INFO:option_backtest.backtest_event:No rollover needed on 2023-07-15 00:00:00\n",
      "INFO:option_backtest.backtest_event:No rollover needed on 2023-07-16 00:00:00\n",
      "INFO:option_backtest.backtest_event:No rollover needed on 2023-07-17 00:00:00\n",
      "INFO:option_backtest.backtest_event:No rollover needed on 2023-07-18 00:00:00\n",
      "INFO:option_backtest.backtest_event:No rollover needed on 2023-07-19 00:00:00\n",
      "INFO:option_backtest.backtest_event:No rollover needed on 2023-07-20 00:00:00\n",
      "INFO:option_backtest.backtest_event:No rollover needed on 2023-07-21 00:00:00\n",
      "INFO:option_backtest.backtest_event:No rollover needed on 2023-07-22 00:00:00\n",
      "INFO:option_backtest.backtest_event:No rollover needed on 2023-07-23 00:00:00\n",
      "INFO:option_backtest.backtest_event:No rollover needed on 2023-07-24 00:00:00\n",
      "INFO:option_backtest.backtest_event:No rollover needed on 2023-07-25 00:00:00\n",
      "INFO:option_backtest.backtest_event:No rollover needed on 2023-07-26 00:00:00\n",
      "INFO:option_backtest.backtest_event:No rollover needed on 2023-07-27 00:00:00\n",
      "INFO:option_backtest.backtest_event:No rollover needed on 2023-07-28 00:00:00\n",
      "INFO:option_backtest.backtest_event:No rollover needed on 2023-07-29 00:00:00\n",
      "INFO:option_backtest.backtest_event:Rollover date=230730, price=101.44, delta=0.63, XYZ230731C00105000 -> XYZ230831C00100000\n",
      "INFO:option_backtest.market:Executed trade: XYZ230731C00105000 @ 0.00 * -1, Option position: 0, Cash: 548.85\n",
      "INFO:option_backtest.market:Executed trade: XYZ230831C00100000 @ 4.01 * 1, Option position: 1, Cash: 147.64\n",
      "INFO:option_backtest.backtest_event:No rollover needed on 2023-07-31 00:00:00\n",
      "INFO:option_backtest.backtest_event:No rollover needed on 2023-08-01 00:00:00\n",
      "INFO:option_backtest.backtest_event:No rollover needed on 2023-08-02 00:00:00\n",
      "INFO:option_backtest.backtest_event:No rollover needed on 2023-08-03 00:00:00\n",
      "INFO:option_backtest.backtest_event:No rollover needed on 2023-08-04 00:00:00\n",
      "INFO:option_backtest.backtest_event:No rollover needed on 2023-08-05 00:00:00\n",
      "INFO:option_backtest.backtest_event:No rollover needed on 2023-08-06 00:00:00\n",
      "INFO:option_backtest.backtest_event:No rollover needed on 2023-08-07 00:00:00\n",
      "INFO:option_backtest.backtest_event:No rollover needed on 2023-08-08 00:00:00\n",
      "INFO:option_backtest.backtest_event:No rollover needed on 2023-08-09 00:00:00\n",
      "INFO:option_backtest.backtest_event:No rollover needed on 2023-08-10 00:00:00\n",
      "INFO:option_backtest.backtest_event:No rollover needed on 2023-08-11 00:00:00\n",
      "INFO:option_backtest.backtest_event:No rollover needed on 2023-08-12 00:00:00\n",
      "INFO:option_backtest.backtest_event:No rollover needed on 2023-08-13 00:00:00\n",
      "INFO:option_backtest.backtest_event:No rollover needed on 2023-08-14 00:00:00\n",
      "INFO:option_backtest.backtest_event:No rollover needed on 2023-08-15 00:00:00\n",
      "INFO:option_backtest.backtest_event:No rollover needed on 2023-08-16 00:00:00\n",
      "INFO:option_backtest.backtest_event:No rollover needed on 2023-08-17 00:00:00\n",
      "INFO:option_backtest.backtest_event:No rollover needed on 2023-08-18 00:00:00\n",
      "INFO:option_backtest.backtest_event:No rollover needed on 2023-08-19 00:00:00\n",
      "INFO:option_backtest.backtest_event:No rollover needed on 2023-08-20 00:00:00\n",
      "INFO:option_backtest.backtest_event:No rollover needed on 2023-08-21 00:00:00\n",
      "INFO:option_backtest.backtest_event:No rollover needed on 2023-08-22 00:00:00\n",
      "INFO:option_backtest.backtest_event:No rollover needed on 2023-08-23 00:00:00\n",
      "INFO:option_backtest.backtest_event:No rollover needed on 2023-08-24 00:00:00\n",
      "INFO:option_backtest.backtest_event:No rollover needed on 2023-08-25 00:00:00\n",
      "INFO:option_backtest.backtest_event:No rollover needed on 2023-08-26 00:00:00\n",
      "INFO:option_backtest.backtest_event:No rollover needed on 2023-08-27 00:00:00\n",
      "INFO:option_backtest.backtest_event:No rollover needed on 2023-08-28 00:00:00\n",
      "INFO:option_backtest.backtest_event:No rollover needed on 2023-08-29 00:00:00\n",
      "INFO:option_backtest.backtest_event:Rollover date=230830, price=114.84, delta=0.54, XYZ230831C00100000 -> XYZ230930C00115000\n",
      "INFO:option_backtest.market:Executed trade: XYZ230831C00100000 @ 14.86 * -1, Option position: 0, Cash: 1634.11\n",
      "INFO:option_backtest.market:Executed trade: XYZ230930C00115000 @ 3.49 * 1, Option position: 1, Cash: 1285.30\n",
      "INFO:option_backtest.backtest_event:No rollover needed on 2023-08-31 00:00:00\n",
      "INFO:option_backtest.backtest_event:No rollover needed on 2023-09-01 00:00:00\n",
      "INFO:option_backtest.backtest_event:No rollover needed on 2023-09-02 00:00:00\n",
      "INFO:option_backtest.backtest_event:No rollover needed on 2023-09-03 00:00:00\n",
      "INFO:option_backtest.backtest_event:No rollover needed on 2023-09-04 00:00:00\n",
      "INFO:option_backtest.backtest_event:No rollover needed on 2023-09-05 00:00:00\n",
      "INFO:option_backtest.backtest_event:No rollover needed on 2023-09-06 00:00:00\n",
      "INFO:option_backtest.backtest_event:No rollover needed on 2023-09-07 00:00:00\n",
      "INFO:option_backtest.backtest_event:No rollover needed on 2023-09-08 00:00:00\n",
      "INFO:option_backtest.backtest_event:No rollover needed on 2023-09-09 00:00:00\n",
      "INFO:option_backtest.backtest_event:No rollover needed on 2023-09-10 00:00:00\n",
      "INFO:option_backtest.backtest_event:No rollover needed on 2023-09-11 00:00:00\n",
      "INFO:option_backtest.backtest_event:No rollover needed on 2023-09-12 00:00:00\n",
      "INFO:option_backtest.backtest_event:No rollover needed on 2023-09-13 00:00:00\n",
      "INFO:option_backtest.backtest_event:No rollover needed on 2023-09-14 00:00:00\n",
      "INFO:option_backtest.backtest_event:No rollover needed on 2023-09-15 00:00:00\n",
      "INFO:option_backtest.backtest_event:No rollover needed on 2023-09-16 00:00:00\n",
      "INFO:option_backtest.backtest_event:No rollover needed on 2023-09-17 00:00:00\n",
      "INFO:option_backtest.backtest_event:No rollover needed on 2023-09-18 00:00:00\n",
      "INFO:option_backtest.backtest_event:No rollover needed on 2023-09-19 00:00:00\n",
      "INFO:option_backtest.backtest_event:No rollover needed on 2023-09-20 00:00:00\n",
      "INFO:option_backtest.backtest_event:No rollover needed on 2023-09-21 00:00:00\n",
      "INFO:option_backtest.backtest_event:No rollover needed on 2023-09-22 00:00:00\n",
      "INFO:option_backtest.backtest_event:No rollover needed on 2023-09-23 00:00:00\n",
      "INFO:option_backtest.backtest_event:No rollover needed on 2023-09-24 00:00:00\n",
      "INFO:option_backtest.backtest_event:No rollover needed on 2023-09-25 00:00:00\n",
      "INFO:option_backtest.backtest_event:No rollover needed on 2023-09-26 00:00:00\n",
      "INFO:option_backtest.backtest_event:No rollover needed on 2023-09-27 00:00:00\n",
      "INFO:option_backtest.backtest_event:No rollover needed on 2023-09-28 00:00:00\n",
      "INFO:option_backtest.backtest_event:Rollover date=230929, price=122.60, delta=0.44, XYZ230930C00115000 -> XYZ231031C00125000\n",
      "INFO:option_backtest.market:Executed trade: XYZ230930C00115000 @ 7.62 * -1, Option position: 0, Cash: 2047.54\n",
      "INFO:option_backtest.market:Executed trade: XYZ231031C00125000 @ 2.76 * 1, Option position: 1, Cash: 1771.36\n",
      "INFO:option_backtest.backtest_event:No rollover needed on 2023-09-30 00:00:00\n",
      "INFO:option_backtest.backtest_event:No rollover needed on 2023-10-01 00:00:00\n",
      "INFO:option_backtest.backtest_event:No rollover needed on 2023-10-02 00:00:00\n",
      "INFO:option_backtest.backtest_event:No rollover needed on 2023-10-03 00:00:00\n",
      "INFO:option_backtest.backtest_event:No rollover needed on 2023-10-04 00:00:00\n",
      "INFO:option_backtest.backtest_event:No rollover needed on 2023-10-05 00:00:00\n",
      "INFO:option_backtest.backtest_event:No rollover needed on 2023-10-06 00:00:00\n",
      "INFO:option_backtest.backtest_event:No rollover needed on 2023-10-07 00:00:00\n",
      "INFO:option_backtest.backtest_event:No rollover needed on 2023-10-08 00:00:00\n",
      "INFO:option_backtest.backtest_event:No rollover needed on 2023-10-09 00:00:00\n",
      "INFO:option_backtest.backtest_event:No rollover needed on 2023-10-10 00:00:00\n",
      "INFO:option_backtest.backtest_event:No rollover needed on 2023-10-11 00:00:00\n",
      "INFO:option_backtest.backtest_event:No rollover needed on 2023-10-12 00:00:00\n",
      "INFO:option_backtest.backtest_event:No rollover needed on 2023-10-13 00:00:00\n",
      "INFO:option_backtest.backtest_event:No rollover needed on 2023-10-14 00:00:00\n",
      "INFO:option_backtest.backtest_event:No rollover needed on 2023-10-15 00:00:00\n",
      "INFO:option_backtest.backtest_event:No rollover needed on 2023-10-16 00:00:00\n",
      "INFO:option_backtest.backtest_event:No rollover needed on 2023-10-17 00:00:00\n",
      "INFO:option_backtest.backtest_event:No rollover needed on 2023-10-18 00:00:00\n",
      "INFO:option_backtest.backtest_event:No rollover needed on 2023-10-19 00:00:00\n",
      "INFO:option_backtest.backtest_event:No rollover needed on 2023-10-20 00:00:00\n",
      "INFO:option_backtest.backtest_event:No rollover needed on 2023-10-21 00:00:00\n",
      "INFO:option_backtest.backtest_event:No rollover needed on 2023-10-22 00:00:00\n",
      "INFO:option_backtest.backtest_event:No rollover needed on 2023-10-23 00:00:00\n",
      "INFO:option_backtest.backtest_event:No rollover needed on 2023-10-24 00:00:00\n",
      "INFO:option_backtest.backtest_event:No rollover needed on 2023-10-25 00:00:00\n",
      "INFO:option_backtest.backtest_event:No rollover needed on 2023-10-26 00:00:00\n",
      "INFO:option_backtest.backtest_event:No rollover needed on 2023-10-27 00:00:00\n",
      "INFO:option_backtest.backtest_event:No rollover needed on 2023-10-28 00:00:00\n",
      "INFO:option_backtest.backtest_event:No rollover needed on 2023-10-29 00:00:00\n",
      "INFO:option_backtest.backtest_event:Rollover date=231030, price=109.12, delta=0.50, XYZ231031C00125000 -> XYZ231130C00110000\n",
      "INFO:option_backtest.market:Executed trade: XYZ231031C00125000 @ 0.00 * -1, Option position: 0, Cash: 1771.36\n",
      "INFO:option_backtest.market:Executed trade: XYZ231130C00110000 @ 2.95 * 1, Option position: 1, Cash: 1475.91\n",
      "INFO:option_backtest.backtest_event:No rollover needed on 2023-10-31 00:00:00\n",
      "INFO:option_backtest.backtest_event:No rollover needed on 2023-11-01 00:00:00\n",
      "INFO:option_backtest.backtest_event:No rollover needed on 2023-11-02 00:00:00\n",
      "INFO:option_backtest.backtest_event:No rollover needed on 2023-11-03 00:00:00\n",
      "INFO:option_backtest.backtest_event:No rollover needed on 2023-11-04 00:00:00\n",
      "INFO:option_backtest.backtest_event:No rollover needed on 2023-11-05 00:00:00\n",
      "INFO:option_backtest.backtest_event:No rollover needed on 2023-11-06 00:00:00\n",
      "INFO:option_backtest.backtest_event:No rollover needed on 2023-11-07 00:00:00\n",
      "INFO:option_backtest.backtest_event:No rollover needed on 2023-11-08 00:00:00\n",
      "INFO:option_backtest.backtest_event:No rollover needed on 2023-11-09 00:00:00\n",
      "INFO:option_backtest.backtest_event:No rollover needed on 2023-11-10 00:00:00\n",
      "INFO:option_backtest.backtest_event:No rollover needed on 2023-11-11 00:00:00\n",
      "INFO:option_backtest.backtest_event:No rollover needed on 2023-11-12 00:00:00\n",
      "INFO:option_backtest.backtest_event:No rollover needed on 2023-11-13 00:00:00\n",
      "INFO:option_backtest.backtest_event:No rollover needed on 2023-11-14 00:00:00\n",
      "INFO:option_backtest.backtest_event:No rollover needed on 2023-11-15 00:00:00\n",
      "INFO:option_backtest.backtest_event:No rollover needed on 2023-11-16 00:00:00\n",
      "INFO:option_backtest.backtest_event:No rollover needed on 2023-11-17 00:00:00\n",
      "INFO:option_backtest.backtest_event:No rollover needed on 2023-11-18 00:00:00\n",
      "INFO:option_backtest.backtest_event:No rollover needed on 2023-11-19 00:00:00\n",
      "INFO:option_backtest.backtest_event:No rollover needed on 2023-11-20 00:00:00\n",
      "INFO:option_backtest.backtest_event:No rollover needed on 2023-11-21 00:00:00\n",
      "INFO:option_backtest.backtest_event:No rollover needed on 2023-11-22 00:00:00\n",
      "INFO:option_backtest.backtest_event:No rollover needed on 2023-11-23 00:00:00\n",
      "INFO:option_backtest.backtest_event:No rollover needed on 2023-11-24 00:00:00\n",
      "INFO:option_backtest.backtest_event:No rollover needed on 2023-11-25 00:00:00\n",
      "INFO:option_backtest.backtest_event:No rollover needed on 2023-11-26 00:00:00\n",
      "INFO:option_backtest.backtest_event:No rollover needed on 2023-11-27 00:00:00\n",
      "INFO:option_backtest.backtest_event:No rollover needed on 2023-11-28 00:00:00\n",
      "INFO:option_backtest.backtest_event:Rollover date=231129, price=111.57, delta=0.38, XYZ231130C00110000 -> XYZ231231C00115000\n",
      "INFO:option_backtest.market:Executed trade: XYZ231130C00110000 @ 1.68 * -1, Option position: 0, Cash: 1643.93\n",
      "INFO:option_backtest.market:Executed trade: XYZ231231C00115000 @ 2.04 * 1, Option position: 1, Cash: 1440.12\n",
      "INFO:option_backtest.backtest_event:No rollover needed on 2023-11-30 00:00:00\n",
      "INFO:option_backtest.backtest_event:No rollover needed on 2023-12-01 00:00:00\n",
      "INFO:option_backtest.backtest_event:No rollover needed on 2023-12-02 00:00:00\n",
      "INFO:option_backtest.backtest_event:No rollover needed on 2023-12-03 00:00:00\n",
      "INFO:option_backtest.backtest_event:No rollover needed on 2023-12-04 00:00:00\n",
      "INFO:option_backtest.backtest_event:No rollover needed on 2023-12-05 00:00:00\n",
      "INFO:option_backtest.backtest_event:No rollover needed on 2023-12-06 00:00:00\n",
      "INFO:option_backtest.backtest_event:No rollover needed on 2023-12-07 00:00:00\n",
      "INFO:option_backtest.backtest_event:No rollover needed on 2023-12-08 00:00:00\n",
      "INFO:option_backtest.backtest_event:No rollover needed on 2023-12-09 00:00:00\n",
      "INFO:option_backtest.backtest_event:No rollover needed on 2023-12-10 00:00:00\n",
      "INFO:option_backtest.backtest_event:No rollover needed on 2023-12-11 00:00:00\n",
      "INFO:option_backtest.backtest_event:No rollover needed on 2023-12-12 00:00:00\n",
      "INFO:option_backtest.backtest_event:No rollover needed on 2023-12-13 00:00:00\n",
      "INFO:option_backtest.backtest_event:No rollover needed on 2023-12-14 00:00:00\n",
      "INFO:option_backtest.backtest_event:No rollover needed on 2023-12-15 00:00:00\n",
      "INFO:option_backtest.backtest_event:No rollover needed on 2023-12-16 00:00:00\n",
      "INFO:option_backtest.backtest_event:No rollover needed on 2023-12-17 00:00:00\n",
      "INFO:option_backtest.backtest_event:No rollover needed on 2023-12-18 00:00:00\n",
      "INFO:option_backtest.backtest_event:No rollover needed on 2023-12-19 00:00:00\n",
      "INFO:option_backtest.backtest_event:No rollover needed on 2023-12-20 00:00:00\n",
      "INFO:option_backtest.backtest_event:No rollover needed on 2023-12-21 00:00:00\n",
      "INFO:option_backtest.backtest_event:No rollover needed on 2023-12-22 00:00:00\n",
      "INFO:option_backtest.backtest_event:No rollover needed on 2023-12-23 00:00:00\n",
      "INFO:option_backtest.backtest_event:No rollover needed on 2023-12-24 00:00:00\n",
      "INFO:option_backtest.backtest_event:No rollover needed on 2023-12-25 00:00:00\n",
      "INFO:option_backtest.backtest_event:No rollover needed on 2023-12-26 00:00:00\n",
      "INFO:option_backtest.backtest_event:No rollover needed on 2023-12-27 00:00:00\n",
      "INFO:option_backtest.backtest_event:No rollover needed on 2023-12-28 00:00:00\n",
      "INFO:option_backtest.backtest_event:No rollover needed on 2023-12-29 00:00:00\n",
      "INFO:option_backtest.backtest_event:Rollover date=231230, price=122.71, delta=0.45, XYZ231231C00115000 -> XYZ240131C00125000\n",
      "INFO:option_backtest.market:Executed trade: XYZ231231C00115000 @ 7.73 * -1, Option position: 0, Cash: 2212.93\n",
      "INFO:option_backtest.market:Executed trade: XYZ240131C00125000 @ 2.81 * 1, Option position: 1, Cash: 1932.06\n",
      "INFO:option_backtest.backtest_event:No rollover needed on 2023-12-31 00:00:00\n"
     ]
    },
    {
     "name": "stdout",
     "output_type": "stream",
     "text": [
      "Metrics:\n",
      "Total Return: 1.2623\n",
      "Sharpe Ratio: -2.3539\n",
      "Max Drawdown: -0.7760\n",
      "Volatility: 1.4613\n"
     ]
    },
    {
     "data": {
      "application/vnd.plotly.v1+json": {
       "config": {
        "plotlyServerURL": "https://plot.ly"
       },
       "data": [
        {
         "line": {
          "color": "blue"
         },
         "name": "Stock Price",
         "type": "scatter",
         "x": [
          "2023-01-01T00:00:00",
          "2023-01-02T00:00:00",
          "2023-01-03T00:00:00",
          "2023-01-04T00:00:00",
          "2023-01-05T00:00:00",
          "2023-01-06T00:00:00",
          "2023-01-07T00:00:00",
          "2023-01-08T00:00:00",
          "2023-01-09T00:00:00",
          "2023-01-10T00:00:00",
          "2023-01-11T00:00:00",
          "2023-01-12T00:00:00",
          "2023-01-13T00:00:00",
          "2023-01-14T00:00:00",
          "2023-01-15T00:00:00",
          "2023-01-16T00:00:00",
          "2023-01-17T00:00:00",
          "2023-01-18T00:00:00",
          "2023-01-19T00:00:00",
          "2023-01-20T00:00:00",
          "2023-01-21T00:00:00",
          "2023-01-22T00:00:00",
          "2023-01-23T00:00:00",
          "2023-01-24T00:00:00",
          "2023-01-25T00:00:00",
          "2023-01-26T00:00:00",
          "2023-01-27T00:00:00",
          "2023-01-28T00:00:00",
          "2023-01-29T00:00:00",
          "2023-01-30T00:00:00",
          "2023-01-31T00:00:00",
          "2023-02-01T00:00:00",
          "2023-02-02T00:00:00",
          "2023-02-03T00:00:00",
          "2023-02-04T00:00:00",
          "2023-02-05T00:00:00",
          "2023-02-06T00:00:00",
          "2023-02-07T00:00:00",
          "2023-02-08T00:00:00",
          "2023-02-09T00:00:00",
          "2023-02-10T00:00:00",
          "2023-02-11T00:00:00",
          "2023-02-12T00:00:00",
          "2023-02-13T00:00:00",
          "2023-02-14T00:00:00",
          "2023-02-15T00:00:00",
          "2023-02-16T00:00:00",
          "2023-02-17T00:00:00",
          "2023-02-18T00:00:00",
          "2023-02-19T00:00:00",
          "2023-02-20T00:00:00",
          "2023-02-21T00:00:00",
          "2023-02-22T00:00:00",
          "2023-02-23T00:00:00",
          "2023-02-24T00:00:00",
          "2023-02-25T00:00:00",
          "2023-02-26T00:00:00",
          "2023-02-27T00:00:00",
          "2023-02-28T00:00:00",
          "2023-03-01T00:00:00",
          "2023-03-02T00:00:00",
          "2023-03-03T00:00:00",
          "2023-03-04T00:00:00",
          "2023-03-05T00:00:00",
          "2023-03-06T00:00:00",
          "2023-03-07T00:00:00",
          "2023-03-08T00:00:00",
          "2023-03-09T00:00:00",
          "2023-03-10T00:00:00",
          "2023-03-11T00:00:00",
          "2023-03-12T00:00:00",
          "2023-03-13T00:00:00",
          "2023-03-14T00:00:00",
          "2023-03-15T00:00:00",
          "2023-03-16T00:00:00",
          "2023-03-17T00:00:00",
          "2023-03-18T00:00:00",
          "2023-03-19T00:00:00",
          "2023-03-20T00:00:00",
          "2023-03-21T00:00:00",
          "2023-03-22T00:00:00",
          "2023-03-23T00:00:00",
          "2023-03-24T00:00:00",
          "2023-03-25T00:00:00",
          "2023-03-26T00:00:00",
          "2023-03-27T00:00:00",
          "2023-03-28T00:00:00",
          "2023-03-29T00:00:00",
          "2023-03-30T00:00:00",
          "2023-03-31T00:00:00",
          "2023-04-01T00:00:00",
          "2023-04-02T00:00:00",
          "2023-04-03T00:00:00",
          "2023-04-04T00:00:00",
          "2023-04-05T00:00:00",
          "2023-04-06T00:00:00",
          "2023-04-07T00:00:00",
          "2023-04-08T00:00:00",
          "2023-04-09T00:00:00",
          "2023-04-10T00:00:00",
          "2023-04-11T00:00:00",
          "2023-04-12T00:00:00",
          "2023-04-13T00:00:00",
          "2023-04-14T00:00:00",
          "2023-04-15T00:00:00",
          "2023-04-16T00:00:00",
          "2023-04-17T00:00:00",
          "2023-04-18T00:00:00",
          "2023-04-19T00:00:00",
          "2023-04-20T00:00:00",
          "2023-04-21T00:00:00",
          "2023-04-22T00:00:00",
          "2023-04-23T00:00:00",
          "2023-04-24T00:00:00",
          "2023-04-25T00:00:00",
          "2023-04-26T00:00:00",
          "2023-04-27T00:00:00",
          "2023-04-28T00:00:00",
          "2023-04-29T00:00:00",
          "2023-04-30T00:00:00",
          "2023-05-01T00:00:00",
          "2023-05-02T00:00:00",
          "2023-05-03T00:00:00",
          "2023-05-04T00:00:00",
          "2023-05-05T00:00:00",
          "2023-05-06T00:00:00",
          "2023-05-07T00:00:00",
          "2023-05-08T00:00:00",
          "2023-05-09T00:00:00",
          "2023-05-10T00:00:00",
          "2023-05-11T00:00:00",
          "2023-05-12T00:00:00",
          "2023-05-13T00:00:00",
          "2023-05-14T00:00:00",
          "2023-05-15T00:00:00",
          "2023-05-16T00:00:00",
          "2023-05-17T00:00:00",
          "2023-05-18T00:00:00",
          "2023-05-19T00:00:00",
          "2023-05-20T00:00:00",
          "2023-05-21T00:00:00",
          "2023-05-22T00:00:00",
          "2023-05-23T00:00:00",
          "2023-05-24T00:00:00",
          "2023-05-25T00:00:00",
          "2023-05-26T00:00:00",
          "2023-05-27T00:00:00",
          "2023-05-28T00:00:00",
          "2023-05-29T00:00:00",
          "2023-05-30T00:00:00",
          "2023-05-31T00:00:00",
          "2023-06-01T00:00:00",
          "2023-06-02T00:00:00",
          "2023-06-03T00:00:00",
          "2023-06-04T00:00:00",
          "2023-06-05T00:00:00",
          "2023-06-06T00:00:00",
          "2023-06-07T00:00:00",
          "2023-06-08T00:00:00",
          "2023-06-09T00:00:00",
          "2023-06-10T00:00:00",
          "2023-06-11T00:00:00",
          "2023-06-12T00:00:00",
          "2023-06-13T00:00:00",
          "2023-06-14T00:00:00",
          "2023-06-15T00:00:00",
          "2023-06-16T00:00:00",
          "2023-06-17T00:00:00",
          "2023-06-18T00:00:00",
          "2023-06-19T00:00:00",
          "2023-06-20T00:00:00",
          "2023-06-21T00:00:00",
          "2023-06-22T00:00:00",
          "2023-06-23T00:00:00",
          "2023-06-24T00:00:00",
          "2023-06-25T00:00:00",
          "2023-06-26T00:00:00",
          "2023-06-27T00:00:00",
          "2023-06-28T00:00:00",
          "2023-06-29T00:00:00",
          "2023-06-30T00:00:00",
          "2023-07-01T00:00:00",
          "2023-07-02T00:00:00",
          "2023-07-03T00:00:00",
          "2023-07-04T00:00:00",
          "2023-07-05T00:00:00",
          "2023-07-06T00:00:00",
          "2023-07-07T00:00:00",
          "2023-07-08T00:00:00",
          "2023-07-09T00:00:00",
          "2023-07-10T00:00:00",
          "2023-07-11T00:00:00",
          "2023-07-12T00:00:00",
          "2023-07-13T00:00:00",
          "2023-07-14T00:00:00",
          "2023-07-15T00:00:00",
          "2023-07-16T00:00:00",
          "2023-07-17T00:00:00",
          "2023-07-18T00:00:00",
          "2023-07-19T00:00:00",
          "2023-07-20T00:00:00",
          "2023-07-21T00:00:00",
          "2023-07-22T00:00:00",
          "2023-07-23T00:00:00",
          "2023-07-24T00:00:00",
          "2023-07-25T00:00:00",
          "2023-07-26T00:00:00",
          "2023-07-27T00:00:00",
          "2023-07-28T00:00:00",
          "2023-07-29T00:00:00",
          "2023-07-30T00:00:00",
          "2023-07-31T00:00:00",
          "2023-08-01T00:00:00",
          "2023-08-02T00:00:00",
          "2023-08-03T00:00:00",
          "2023-08-04T00:00:00",
          "2023-08-05T00:00:00",
          "2023-08-06T00:00:00",
          "2023-08-07T00:00:00",
          "2023-08-08T00:00:00",
          "2023-08-09T00:00:00",
          "2023-08-10T00:00:00",
          "2023-08-11T00:00:00",
          "2023-08-12T00:00:00",
          "2023-08-13T00:00:00",
          "2023-08-14T00:00:00",
          "2023-08-15T00:00:00",
          "2023-08-16T00:00:00",
          "2023-08-17T00:00:00",
          "2023-08-18T00:00:00",
          "2023-08-19T00:00:00",
          "2023-08-20T00:00:00",
          "2023-08-21T00:00:00",
          "2023-08-22T00:00:00",
          "2023-08-23T00:00:00",
          "2023-08-24T00:00:00",
          "2023-08-25T00:00:00",
          "2023-08-26T00:00:00",
          "2023-08-27T00:00:00",
          "2023-08-28T00:00:00",
          "2023-08-29T00:00:00",
          "2023-08-30T00:00:00",
          "2023-08-31T00:00:00",
          "2023-09-01T00:00:00",
          "2023-09-02T00:00:00",
          "2023-09-03T00:00:00",
          "2023-09-04T00:00:00",
          "2023-09-05T00:00:00",
          "2023-09-06T00:00:00",
          "2023-09-07T00:00:00",
          "2023-09-08T00:00:00",
          "2023-09-09T00:00:00",
          "2023-09-10T00:00:00",
          "2023-09-11T00:00:00",
          "2023-09-12T00:00:00",
          "2023-09-13T00:00:00",
          "2023-09-14T00:00:00",
          "2023-09-15T00:00:00",
          "2023-09-16T00:00:00",
          "2023-09-17T00:00:00",
          "2023-09-18T00:00:00",
          "2023-09-19T00:00:00",
          "2023-09-20T00:00:00",
          "2023-09-21T00:00:00",
          "2023-09-22T00:00:00",
          "2023-09-23T00:00:00",
          "2023-09-24T00:00:00",
          "2023-09-25T00:00:00",
          "2023-09-26T00:00:00",
          "2023-09-27T00:00:00",
          "2023-09-28T00:00:00",
          "2023-09-29T00:00:00",
          "2023-09-30T00:00:00",
          "2023-10-01T00:00:00",
          "2023-10-02T00:00:00",
          "2023-10-03T00:00:00",
          "2023-10-04T00:00:00",
          "2023-10-05T00:00:00",
          "2023-10-06T00:00:00",
          "2023-10-07T00:00:00",
          "2023-10-08T00:00:00",
          "2023-10-09T00:00:00",
          "2023-10-10T00:00:00",
          "2023-10-11T00:00:00",
          "2023-10-12T00:00:00",
          "2023-10-13T00:00:00",
          "2023-10-14T00:00:00",
          "2023-10-15T00:00:00",
          "2023-10-16T00:00:00",
          "2023-10-17T00:00:00",
          "2023-10-18T00:00:00",
          "2023-10-19T00:00:00",
          "2023-10-20T00:00:00",
          "2023-10-21T00:00:00",
          "2023-10-22T00:00:00",
          "2023-10-23T00:00:00",
          "2023-10-24T00:00:00",
          "2023-10-25T00:00:00",
          "2023-10-26T00:00:00",
          "2023-10-27T00:00:00",
          "2023-10-28T00:00:00",
          "2023-10-29T00:00:00",
          "2023-10-30T00:00:00",
          "2023-10-31T00:00:00",
          "2023-11-01T00:00:00",
          "2023-11-02T00:00:00",
          "2023-11-03T00:00:00",
          "2023-11-04T00:00:00",
          "2023-11-05T00:00:00",
          "2023-11-06T00:00:00",
          "2023-11-07T00:00:00",
          "2023-11-08T00:00:00",
          "2023-11-09T00:00:00",
          "2023-11-10T00:00:00",
          "2023-11-11T00:00:00",
          "2023-11-12T00:00:00",
          "2023-11-13T00:00:00",
          "2023-11-14T00:00:00",
          "2023-11-15T00:00:00",
          "2023-11-16T00:00:00",
          "2023-11-17T00:00:00",
          "2023-11-18T00:00:00",
          "2023-11-19T00:00:00",
          "2023-11-20T00:00:00",
          "2023-11-21T00:00:00",
          "2023-11-22T00:00:00",
          "2023-11-23T00:00:00",
          "2023-11-24T00:00:00",
          "2023-11-25T00:00:00",
          "2023-11-26T00:00:00",
          "2023-11-27T00:00:00",
          "2023-11-28T00:00:00",
          "2023-11-29T00:00:00",
          "2023-11-30T00:00:00",
          "2023-12-01T00:00:00",
          "2023-12-02T00:00:00",
          "2023-12-03T00:00:00",
          "2023-12-04T00:00:00",
          "2023-12-05T00:00:00",
          "2023-12-06T00:00:00",
          "2023-12-07T00:00:00",
          "2023-12-08T00:00:00",
          "2023-12-09T00:00:00",
          "2023-12-10T00:00:00",
          "2023-12-11T00:00:00",
          "2023-12-12T00:00:00",
          "2023-12-13T00:00:00",
          "2023-12-14T00:00:00",
          "2023-12-15T00:00:00",
          "2023-12-16T00:00:00",
          "2023-12-17T00:00:00",
          "2023-12-18T00:00:00",
          "2023-12-19T00:00:00",
          "2023-12-20T00:00:00",
          "2023-12-21T00:00:00",
          "2023-12-22T00:00:00",
          "2023-12-23T00:00:00",
          "2023-12-24T00:00:00",
          "2023-12-25T00:00:00",
          "2023-12-26T00:00:00",
          "2023-12-27T00:00:00",
          "2023-12-28T00:00:00",
          "2023-12-29T00:00:00",
          "2023-12-30T00:00:00",
          "2023-12-31T00:00:00"
         ],
         "y": [
          101.58703723307146,
          97.58104729868172,
          97.54290951330049,
          98.0040698234551,
          99.6760328819523,
          99.60362515424418,
          95.97499495649625,
          97.00436240476354,
          99.63323273008189,
          99.9014688284568,
          99.8927974351194,
          98.5577152680344,
          96.23221746948474,
          95.8466059425809,
          95.0309019268386,
          93.84122657635442,
          94.6267362888312,
          95.483956875353,
          97.47638109696857,
          99.7355608532352,
          100.23673352977568,
          100.31873316641442,
          98.74109953962946,
          99.95055350690366,
          99.35370525054506,
          99.35255799833853,
          99.5019121793774,
          99.27781784632715,
          99.58117867913728,
          98.36129772895418,
          98.23466023402796,
          99.50375855321666,
          99.4665626675987,
          101.09085987051832,
          102.8634723344832,
          101.60307153970844,
          101.9451085087366,
          101.87273964226324,
          103.61467503181116,
          103.58055800957251,
          104.98177493852484,
          103.781211382569,
          104.46612294126972,
          105.56550492484168,
          105.6687752371236,
          102.77136200651064,
          103.6241050207684,
          102.23014982301106,
          104.96546662140248,
          104.09834685050274,
          104.38820644710522,
          104.80238205721442,
          104.303374323325,
          102.342703323111,
          101.86180574951224,
          101.78864252555717,
          102.82794719192113,
          103.00646646354056,
          104.84158738543331,
          104.239611734376,
          106.1986880927533,
          105.16268138169735,
          101.99124042026142,
          101.2881991908272,
          98.94204023435366,
          97.4126975280346,
          98.70790965272616,
          99.84987630822216,
          99.01590473841776,
          99.22602353859816,
          97.43407667625254,
          95.65972415708649,
          95.87634715662938,
          94.2123917099093,
          94.2867264040768,
          94.35575748813253,
          95.2989410791074,
          95.9014908210654,
          96.27934077939108,
          95.56355733132324,
          94.72345571231268,
          94.6089617455104,
          96.38147748768114,
          95.88024879092924,
          94.97820853168996,
          95.42845424066296,
          93.9408413109486,
          93.41592138902182,
          94.05728897376515,
          93.8996538845141,
          93.83717956089176,
          93.67236823180504,
          93.83165399085352,
          95.33087112743448,
          96.82088207614008,
          97.20398154421687,
          97.70678088288544,
          97.8937388332021,
          98.31709271736251,
          97.60184405173868,
          96.94393818852492,
          96.95863107218396,
          97.08244958672417,
          96.88762637525484,
          96.9989260253976,
          99.19779924638348,
          100.17554500535176,
          99.93685180678982,
          100.11315483722665,
          101.61008363830442,
          100.71651759314432,
          101.12033094687848,
          101.50161828323144,
          98.92448982956344,
          98.29246258632848,
          98.9131920694173,
          100.36838010167234,
          99.68050934345364,
          97.38583701164312,
          97.4755677234284,
          96.2204735745796,
          96.14100529172497,
          97.53016711752068,
          96.83981776944218,
          97.12525581240118,
          96.24235320144612,
          97.55058654482832,
          97.15110429343984,
          97.30741337905803,
          96.78777328825932,
          97.888627255528,
          100.62884230280812,
          101.89150593197498,
          101.19294001151052,
          99.12309383948354,
          97.68795954132648,
          98.4760758045744,
          98.06523683186931,
          96.85973123784429,
          94.78113276845448,
          95.3962220202916,
          98.52637653049516,
          98.37773498554562,
          96.22134388162743,
          96.62059846705108,
          97.15082012683617,
          97.1479753683686,
          96.598109283139,
          94.44691673084576,
          93.65668797057424,
          94.16815085880278,
          96.1127302626283,
          95.44032642721136,
          95.11617926363752,
          94.38039540141176,
          93.768330962124,
          93.16407063477848,
          94.71195418425424,
          94.87226928580765,
          94.18690854409412,
          95.85183883797151,
          96.97857547917302,
          96.20023262585958,
          98.05736641670904,
          98.59431029009627,
          99.23991791036823,
          100.59266067562348,
          101.4221276009788,
          101.90221448555698,
          99.68533860573068,
          101.40230315978994,
          103.60549693905848,
          104.42444570365292,
          102.72304295376762,
          102.5025393621317,
          102.32357207452652,
          103.12382570002892,
          102.08655964994892,
          100.3721308692759,
          101.7157600970339,
          102.24112578201505,
          102.34821636321982,
          102.74215304474454,
          104.03693296907272,
          102.72343634864202,
          104.52474243251366,
          104.61832295806752,
          103.4356563129947,
          105.00373201782295,
          105.43149979066662,
          103.3300143294761,
          103.93289412481646,
          105.5524895960583,
          104.53012873465168,
          104.20476466245006,
          104.47366894408349,
          103.71605639795224,
          103.73900567514336,
          104.38106826828562,
          104.55103723329236,
          105.48181548810902,
          105.25644451117176,
          103.9321569539275,
          104.53559083239568,
          103.69754252267327,
          102.8086298166141,
          102.57552766069637,
          103.60199044823668,
          102.4491593292893,
          103.36867990915822,
          101.44425611548768,
          101.64974033364014,
          100.397196534915,
          101.34055857100424,
          102.85039038904353,
          102.43395878425852,
          103.8435988519469,
          103.6917217489558,
          106.63999020177909,
          109.04558680245076,
          109.74552438589784,
          110.92928806682076,
          111.99547983638531,
          110.97982731774962,
          111.17868459766576,
          110.10247732424207,
          107.4439997823443,
          106.23946384409275,
          106.60965509115326,
          108.2573939502784,
          108.0912683483524,
          110.44479139049876,
          111.51885484398592,
          111.41215299355932,
          113.19134485532696,
          115.4545344867218,
          118.26920805416074,
          118.37559682490458,
          116.4603309755298,
          118.3506991000173,
          117.89726646234766,
          114.8449084094164,
          114.65760818490747,
          112.81579436902148,
          114.91909214642456,
          116.94627207749105,
          115.31319259344151,
          115.91746451052649,
          115.67505777086592,
          113.96432254495971,
          113.77333722434224,
          112.80832482004422,
          113.3264321342282,
          113.79143822911296,
          114.2094214134123,
          112.51367421538924,
          112.74947500980784,
          112.6877842971718,
          113.39402729418975,
          113.28575837838952,
          113.88372398047228,
          115.58832845865491,
          115.95137988607642,
          116.40789111232336,
          117.30009254390478,
          117.07477848274898,
          117.668018270714,
          118.2390953698352,
          119.44426333442416,
          121.4609598274984,
          122.02786671335988,
          122.5995045229593,
          124.3787100422039,
          122.45349584880869,
          120.18584373822767,
          119.77764615382804,
          118.72691865697934,
          117.27969996795038,
          116.67476735645054,
          118.44481074708392,
          120.03858596960596,
          119.70623610487992,
          119.2515505747731,
          117.60831004836564,
          113.69084529248804,
          111.46448892514952,
          112.13882025404271,
          112.15630663028256,
          112.22941213264816,
          111.0069951883693,
          109.31588117082872,
          111.1743172323697,
          111.12620936124628,
          110.91555299656694,
          110.82316941325612,
          110.33924959366328,
          111.71783972517656,
          110.57106051513246,
          109.91638114983805,
          109.52835580484236,
          110.6709789604592,
          107.97652297834776,
          109.12034536327596,
          110.27334918018174,
          108.9574932685515,
          108.08898776559592,
          108.63240874086726,
          109.8614350935465,
          110.80282901114128,
          110.67711721637244,
          109.69657464644597,
          109.59334941262289,
          108.6861002597917,
          108.82428720814237,
          109.00098052348784,
          110.50319316372035,
          110.04916141833932,
          108.60754786447175,
          108.33401377186432,
          108.3048620214786,
          109.85165312077083,
          111.93962252184532,
          110.31841382251228,
          111.84090515744889,
          114.12469369575768,
          111.63277947736424,
          111.68386824201168,
          109.56470486762232,
          111.39814567072445,
          110.23530312424748,
          110.54803135609733,
          110.5490080968642,
          111.57010340798878,
          111.59688762130946,
          110.57364387262412,
          111.00169156076193,
          109.53378824920811,
          108.6348953357538,
          106.9028856123641,
          106.57284835545433,
          108.4872467872004,
          112.50679631868395,
          113.26297209389396,
          117.62326801822086,
          119.44470937580336,
          122.11761927243587,
          119.60796856983976,
          121.83153551817712,
          123.46206889378917,
          126.2444201532504,
          126.51926781677908,
          126.36285086625696,
          123.61954869361978,
          123.0733675331438,
          124.35346616259368,
          124.34200899576106,
          121.6452499002868,
          124.45845609568347,
          124.444409747082,
          122.80876761903647,
          122.6095448439507,
          121.63060610667826,
          120.06192150943468,
          122.70526884240488,
          123.89113716768168
         ],
         "yaxis": "y"
        },
        {
         "line": {
          "color": "green"
         },
         "name": "Portfolio Value",
         "type": "scatter",
         "x": [
          "2023-01-01T00:00:00",
          "2023-01-02T00:00:00",
          "2023-01-03T00:00:00",
          "2023-01-04T00:00:00",
          "2023-01-05T00:00:00",
          "2023-01-06T00:00:00",
          "2023-01-07T00:00:00",
          "2023-01-08T00:00:00",
          "2023-01-09T00:00:00",
          "2023-01-10T00:00:00",
          "2023-01-11T00:00:00",
          "2023-01-12T00:00:00",
          "2023-01-13T00:00:00",
          "2023-01-14T00:00:00",
          "2023-01-15T00:00:00",
          "2023-01-16T00:00:00",
          "2023-01-17T00:00:00",
          "2023-01-18T00:00:00",
          "2023-01-19T00:00:00",
          "2023-01-20T00:00:00",
          "2023-01-21T00:00:00",
          "2023-01-22T00:00:00",
          "2023-01-23T00:00:00",
          "2023-01-24T00:00:00",
          "2023-01-25T00:00:00",
          "2023-01-26T00:00:00",
          "2023-01-27T00:00:00",
          "2023-01-28T00:00:00",
          "2023-01-29T00:00:00",
          "2023-01-30T00:00:00",
          "2023-01-31T00:00:00",
          "2023-02-01T00:00:00",
          "2023-02-02T00:00:00",
          "2023-02-03T00:00:00",
          "2023-02-04T00:00:00",
          "2023-02-05T00:00:00",
          "2023-02-06T00:00:00",
          "2023-02-07T00:00:00",
          "2023-02-08T00:00:00",
          "2023-02-09T00:00:00",
          "2023-02-10T00:00:00",
          "2023-02-11T00:00:00",
          "2023-02-12T00:00:00",
          "2023-02-13T00:00:00",
          "2023-02-14T00:00:00",
          "2023-02-15T00:00:00",
          "2023-02-16T00:00:00",
          "2023-02-17T00:00:00",
          "2023-02-18T00:00:00",
          "2023-02-19T00:00:00",
          "2023-02-20T00:00:00",
          "2023-02-21T00:00:00",
          "2023-02-22T00:00:00",
          "2023-02-23T00:00:00",
          "2023-02-24T00:00:00",
          "2023-02-25T00:00:00",
          "2023-02-26T00:00:00",
          "2023-02-27T00:00:00",
          "2023-02-28T00:00:00",
          "2023-03-01T00:00:00",
          "2023-03-02T00:00:00",
          "2023-03-03T00:00:00",
          "2023-03-04T00:00:00",
          "2023-03-05T00:00:00",
          "2023-03-06T00:00:00",
          "2023-03-07T00:00:00",
          "2023-03-08T00:00:00",
          "2023-03-09T00:00:00",
          "2023-03-10T00:00:00",
          "2023-03-11T00:00:00",
          "2023-03-12T00:00:00",
          "2023-03-13T00:00:00",
          "2023-03-14T00:00:00",
          "2023-03-15T00:00:00",
          "2023-03-16T00:00:00",
          "2023-03-17T00:00:00",
          "2023-03-18T00:00:00",
          "2023-03-19T00:00:00",
          "2023-03-20T00:00:00",
          "2023-03-21T00:00:00",
          "2023-03-22T00:00:00",
          "2023-03-23T00:00:00",
          "2023-03-24T00:00:00",
          "2023-03-25T00:00:00",
          "2023-03-26T00:00:00",
          "2023-03-27T00:00:00",
          "2023-03-28T00:00:00",
          "2023-03-29T00:00:00",
          "2023-03-30T00:00:00",
          "2023-03-31T00:00:00",
          "2023-04-01T00:00:00",
          "2023-04-02T00:00:00",
          "2023-04-03T00:00:00",
          "2023-04-04T00:00:00",
          "2023-04-05T00:00:00",
          "2023-04-06T00:00:00",
          "2023-04-07T00:00:00",
          "2023-04-08T00:00:00",
          "2023-04-09T00:00:00",
          "2023-04-10T00:00:00",
          "2023-04-11T00:00:00",
          "2023-04-12T00:00:00",
          "2023-04-13T00:00:00",
          "2023-04-14T00:00:00",
          "2023-04-15T00:00:00",
          "2023-04-16T00:00:00",
          "2023-04-17T00:00:00",
          "2023-04-18T00:00:00",
          "2023-04-19T00:00:00",
          "2023-04-20T00:00:00",
          "2023-04-21T00:00:00",
          "2023-04-22T00:00:00",
          "2023-04-23T00:00:00",
          "2023-04-24T00:00:00",
          "2023-04-25T00:00:00",
          "2023-04-26T00:00:00",
          "2023-04-27T00:00:00",
          "2023-04-28T00:00:00",
          "2023-04-29T00:00:00",
          "2023-04-30T00:00:00",
          "2023-05-01T00:00:00",
          "2023-05-02T00:00:00",
          "2023-05-03T00:00:00",
          "2023-05-04T00:00:00",
          "2023-05-05T00:00:00",
          "2023-05-06T00:00:00",
          "2023-05-07T00:00:00",
          "2023-05-08T00:00:00",
          "2023-05-09T00:00:00",
          "2023-05-10T00:00:00",
          "2023-05-11T00:00:00",
          "2023-05-12T00:00:00",
          "2023-05-13T00:00:00",
          "2023-05-14T00:00:00",
          "2023-05-15T00:00:00",
          "2023-05-16T00:00:00",
          "2023-05-17T00:00:00",
          "2023-05-18T00:00:00",
          "2023-05-19T00:00:00",
          "2023-05-20T00:00:00",
          "2023-05-21T00:00:00",
          "2023-05-22T00:00:00",
          "2023-05-23T00:00:00",
          "2023-05-24T00:00:00",
          "2023-05-25T00:00:00",
          "2023-05-26T00:00:00",
          "2023-05-27T00:00:00",
          "2023-05-28T00:00:00",
          "2023-05-29T00:00:00",
          "2023-05-30T00:00:00",
          "2023-05-31T00:00:00",
          "2023-06-01T00:00:00",
          "2023-06-02T00:00:00",
          "2023-06-03T00:00:00",
          "2023-06-04T00:00:00",
          "2023-06-05T00:00:00",
          "2023-06-06T00:00:00",
          "2023-06-07T00:00:00",
          "2023-06-08T00:00:00",
          "2023-06-09T00:00:00",
          "2023-06-10T00:00:00",
          "2023-06-11T00:00:00",
          "2023-06-12T00:00:00",
          "2023-06-13T00:00:00",
          "2023-06-14T00:00:00",
          "2023-06-15T00:00:00",
          "2023-06-16T00:00:00",
          "2023-06-17T00:00:00",
          "2023-06-18T00:00:00",
          "2023-06-19T00:00:00",
          "2023-06-20T00:00:00",
          "2023-06-21T00:00:00",
          "2023-06-22T00:00:00",
          "2023-06-23T00:00:00",
          "2023-06-24T00:00:00",
          "2023-06-25T00:00:00",
          "2023-06-26T00:00:00",
          "2023-06-27T00:00:00",
          "2023-06-28T00:00:00",
          "2023-06-29T00:00:00",
          "2023-06-30T00:00:00",
          "2023-07-01T00:00:00",
          "2023-07-02T00:00:00",
          "2023-07-03T00:00:00",
          "2023-07-04T00:00:00",
          "2023-07-05T00:00:00",
          "2023-07-06T00:00:00",
          "2023-07-07T00:00:00",
          "2023-07-08T00:00:00",
          "2023-07-09T00:00:00",
          "2023-07-10T00:00:00",
          "2023-07-11T00:00:00",
          "2023-07-12T00:00:00",
          "2023-07-13T00:00:00",
          "2023-07-14T00:00:00",
          "2023-07-15T00:00:00",
          "2023-07-16T00:00:00",
          "2023-07-17T00:00:00",
          "2023-07-18T00:00:00",
          "2023-07-19T00:00:00",
          "2023-07-20T00:00:00",
          "2023-07-21T00:00:00",
          "2023-07-22T00:00:00",
          "2023-07-23T00:00:00",
          "2023-07-24T00:00:00",
          "2023-07-25T00:00:00",
          "2023-07-26T00:00:00",
          "2023-07-27T00:00:00",
          "2023-07-28T00:00:00",
          "2023-07-29T00:00:00",
          "2023-07-30T00:00:00",
          "2023-07-31T00:00:00",
          "2023-08-01T00:00:00",
          "2023-08-02T00:00:00",
          "2023-08-03T00:00:00",
          "2023-08-04T00:00:00",
          "2023-08-05T00:00:00",
          "2023-08-06T00:00:00",
          "2023-08-07T00:00:00",
          "2023-08-08T00:00:00",
          "2023-08-09T00:00:00",
          "2023-08-10T00:00:00",
          "2023-08-11T00:00:00",
          "2023-08-12T00:00:00",
          "2023-08-13T00:00:00",
          "2023-08-14T00:00:00",
          "2023-08-15T00:00:00",
          "2023-08-16T00:00:00",
          "2023-08-17T00:00:00",
          "2023-08-18T00:00:00",
          "2023-08-19T00:00:00",
          "2023-08-20T00:00:00",
          "2023-08-21T00:00:00",
          "2023-08-22T00:00:00",
          "2023-08-23T00:00:00",
          "2023-08-24T00:00:00",
          "2023-08-25T00:00:00",
          "2023-08-26T00:00:00",
          "2023-08-27T00:00:00",
          "2023-08-28T00:00:00",
          "2023-08-29T00:00:00",
          "2023-08-30T00:00:00",
          "2023-08-31T00:00:00",
          "2023-09-01T00:00:00",
          "2023-09-02T00:00:00",
          "2023-09-03T00:00:00",
          "2023-09-04T00:00:00",
          "2023-09-05T00:00:00",
          "2023-09-06T00:00:00",
          "2023-09-07T00:00:00",
          "2023-09-08T00:00:00",
          "2023-09-09T00:00:00",
          "2023-09-10T00:00:00",
          "2023-09-11T00:00:00",
          "2023-09-12T00:00:00",
          "2023-09-13T00:00:00",
          "2023-09-14T00:00:00",
          "2023-09-15T00:00:00",
          "2023-09-16T00:00:00",
          "2023-09-17T00:00:00",
          "2023-09-18T00:00:00",
          "2023-09-19T00:00:00",
          "2023-09-20T00:00:00",
          "2023-09-21T00:00:00",
          "2023-09-22T00:00:00",
          "2023-09-23T00:00:00",
          "2023-09-24T00:00:00",
          "2023-09-25T00:00:00",
          "2023-09-26T00:00:00",
          "2023-09-27T00:00:00",
          "2023-09-28T00:00:00",
          "2023-09-29T00:00:00",
          "2023-09-30T00:00:00",
          "2023-10-01T00:00:00",
          "2023-10-02T00:00:00",
          "2023-10-03T00:00:00",
          "2023-10-04T00:00:00",
          "2023-10-05T00:00:00",
          "2023-10-06T00:00:00",
          "2023-10-07T00:00:00",
          "2023-10-08T00:00:00",
          "2023-10-09T00:00:00",
          "2023-10-10T00:00:00",
          "2023-10-11T00:00:00",
          "2023-10-12T00:00:00",
          "2023-10-13T00:00:00",
          "2023-10-14T00:00:00",
          "2023-10-15T00:00:00",
          "2023-10-16T00:00:00",
          "2023-10-17T00:00:00",
          "2023-10-18T00:00:00",
          "2023-10-19T00:00:00",
          "2023-10-20T00:00:00",
          "2023-10-21T00:00:00",
          "2023-10-22T00:00:00",
          "2023-10-23T00:00:00",
          "2023-10-24T00:00:00",
          "2023-10-25T00:00:00",
          "2023-10-26T00:00:00",
          "2023-10-27T00:00:00",
          "2023-10-28T00:00:00",
          "2023-10-29T00:00:00",
          "2023-10-30T00:00:00",
          "2023-10-31T00:00:00",
          "2023-11-01T00:00:00",
          "2023-11-02T00:00:00",
          "2023-11-03T00:00:00",
          "2023-11-04T00:00:00",
          "2023-11-05T00:00:00",
          "2023-11-06T00:00:00",
          "2023-11-07T00:00:00",
          "2023-11-08T00:00:00",
          "2023-11-09T00:00:00",
          "2023-11-10T00:00:00",
          "2023-11-11T00:00:00",
          "2023-11-12T00:00:00",
          "2023-11-13T00:00:00",
          "2023-11-14T00:00:00",
          "2023-11-15T00:00:00",
          "2023-11-16T00:00:00",
          "2023-11-17T00:00:00",
          "2023-11-18T00:00:00",
          "2023-11-19T00:00:00",
          "2023-11-20T00:00:00",
          "2023-11-21T00:00:00",
          "2023-11-22T00:00:00",
          "2023-11-23T00:00:00",
          "2023-11-24T00:00:00",
          "2023-11-25T00:00:00",
          "2023-11-26T00:00:00",
          "2023-11-27T00:00:00",
          "2023-11-28T00:00:00",
          "2023-11-29T00:00:00",
          "2023-11-30T00:00:00",
          "2023-12-01T00:00:00",
          "2023-12-02T00:00:00",
          "2023-12-03T00:00:00",
          "2023-12-04T00:00:00",
          "2023-12-05T00:00:00",
          "2023-12-06T00:00:00",
          "2023-12-07T00:00:00",
          "2023-12-08T00:00:00",
          "2023-12-09T00:00:00",
          "2023-12-10T00:00:00",
          "2023-12-11T00:00:00",
          "2023-12-12T00:00:00",
          "2023-12-13T00:00:00",
          "2023-12-14T00:00:00",
          "2023-12-15T00:00:00",
          "2023-12-16T00:00:00",
          "2023-12-17T00:00:00",
          "2023-12-18T00:00:00",
          "2023-12-19T00:00:00",
          "2023-12-20T00:00:00",
          "2023-12-21T00:00:00",
          "2023-12-22T00:00:00",
          "2023-12-23T00:00:00",
          "2023-12-24T00:00:00",
          "2023-12-25T00:00:00",
          "2023-12-26T00:00:00",
          "2023-12-27T00:00:00",
          "2023-12-28T00:00:00",
          "2023-12-29T00:00:00",
          "2023-12-30T00:00:00",
          "2023-12-31T00:00:00"
         ],
         "y": [
          1000,
          856.0836517709486,
          851.8472501088827,
          861.2974701846231,
          910.1085053964965,
          903.8458105439275,
          802.9886274454469,
          822.614287562752,
          893.3945200755971,
          898.535518026872,
          894.297601664648,
          849.3006584260975,
          791.4883926004784,
          781.6804775997742,
          766.0139951922206,
          748.497245898712,
          755.9129343029925,
          765.5402858500148,
          798.6965675341825,
          853.0874283922767,
          864.562255154415,
          862.8946751748274,
          813.9288170896875,
          842.8826408615031,
          821.908135909942,
          817.8429297881735,
          817.690146292313,
          807.8505082522121,
          811.4426909466697,
          779.6599738928996,
          773.6487060747887,
          796.9047403380487,
          791.8247023133808,
          831.16958402872,
          889.4722956545735,
          837.0282936683154,
          842.9958666331651,
          834.7835664317315,
          896.4638812405901,
          888.2455843931084,
          949.5051376313938,
          883.2224271379516,
          908.094262623316,
          959.2748314989052,
          957.2878961830227,
          813.8783420825455,
          838.4013211967783,
          782.2094263844715,
          883.297097830323,
          832.1373965983497,
          835.2938492153548,
          844.6040834500607,
          809.9785630209162,
          738.4866859187244,
          723.2380251521324,
          716.1276910818597,
          719.2618957607338,
          711.577762253611,
          796.1431128272092,
          758.8640993083632,
          862.5902701823957,
          796.0248436805041,
          643.1917333979877,
          613.3815328292264,
          547.1571684569087,
          518.1760609522278,
          535.0424295895119,
          554.0934138213593,
          532.9317827000486,
          532.7602982707843,
          504.1805166899132,
          488.9350078951818,
          488.44146609774214,
          481.9178167611611,
          481.3440995070985,
          480.80891504248694,
          481.6985268338018,
          482.0722572068197,
          481.925216851133,
          479.9760101052377,
          479.0034836504686,
          478.7804223123857,
          479.1904207668318,
          478.73878029506466,
          478.5892454354395,
          478.5794391041906,
          478.5744029904146,
          478.57439517588915,
          478.5743951750869,
          465.7704411784276,
          457.60332194457857,
          444.65006258723633,
          446.7758670569341,
          518.9320408171202,
          604.631532610467,
          624.6965200036643,
          654.2231429977742,
          662.0641021504606,
          687.8679646876928,
          629.3006591683077,
          577.2016092570016,
          571.8875419552705,
          573.9895646537486,
          553.9892379105156,
          554.9287195998838,
          718.485099706407,
          798.1527549659613,
          771.8876897345747,
          782.815083075712,
          918.8762711761351,
          829.848606373012,
          864.6504902357544,
          898.4511308484452,
          648.4973477671797,
          585.1115976890906,
          636.6233666320393,
          775.3863794667477,
          704.5170991333302,
          474.0665895813361,
          472.71046902112374,
          421.75116964960955,
          414.53659380873404,
          459.55973658657314,
          428.4983332331474,
          433.66747165570655,
          398.8233397061527,
          438.93622398426857,
          418.7108308350314,
          418.8154551579362,
          395.65315533173754,
          429.0192177597734,
          555.6378089214792,
          628.0898040459679,
          575.855911076783,
          455.46862000136014,
          390.32409742904434,
          413.0119283764418,
          390.09747697396364,
          346.15723104097844,
          303.79716045726815,
          307.36073808843304,
          376.0014354218828,
          362.0261898433813,
          304.2023708211395,
          304.22568098775014,
          305.920827298626,
          298.8681749095499,
          287.88033132334556,
          282.4265204042954,
          282.39253012554616,
          301.95473001125396,
          404.75126139922725,
          359.34965370414784,
          335.56968255159245,
          291.1057920823059,
          256.0123653194741,
          223.98265258217452,
          290.9685658776856,
          293.46353474135515,
          252.70489456369322,
          336.60774214195305,
          402.61009619620984,
          345.1879934965459,
          467.91768963657296,
          503.65485550980054,
          550.6374950016817,
          663.4050747893764,
          735.4069626529079,
          776.9986418334465,
          567.4062754880521,
          722.0154901850418,
          934.2910232020383,
          1013.4676056150536,
          842.0002285484298,
          817.7419553014954,
          797.6786113055537,
          875.5308234766144,
          769.912324836687,
          596.6054270010443,
          729.0390891154897,
          744.2086784983045,
          743.2109803341217,
          753.9668822462471,
          807.2242829216667,
          742.0234266906552,
          819.7378570230617,
          818.3712041153985,
          754.9269699390568,
          826.0322642998216,
          843.1677436272804,
          731.4740614024647,
          751.9154227836123,
          829.3800656301007,
          766.9553879442515,
          743.736717927693,
          749.4006014008702,
          706.642304689795,
          700.0271633474999,
          721.2690210765044,
          721.1266384069586,
          761.778862603865,
          739.8937617458171,
          665.9681554768196,
          683.1152478971977,
          637.1523260314494,
          598.9327140864966,
          584.217945620213,
          600.643984014128,
          564.2537790514646,
          568.890350466418,
          548.8503122704373,
          556.3796230147489,
          474.9762278726841,
          525.6648839222556,
          620.3817537961875,
          585.7946086560197,
          681.9793387778709,
          664.9868572369421,
          901.1695518393956,
          1115.8074237062826,
          1178.565218528522,
          1289.4178908199272,
          1390.843684170023,
          1288.6195716895506,
          1305.3375704615355,
          1197.3027600404484,
          939.447909698368,
          824.0935988775157,
          853.5187109443364,
          1005.8176367370215,
          986.4317580951713,
          1215.0093218116758,
          1319.680136172851,
          1306.9058151898837,
          1482.6533719484423,
          1706.9713529092674,
          1986.4566358118232,
          1995.113548719565,
          1801.6046075304153,
          1988.65867035368,
          1941.3322635452537,
          1634.1129216908662,
          1617.7183954373752,
          1522.4381500327083,
          1618.7656897477127,
          1732.4706091795028,
          1627.0822645673597,
          1655.0759692893855,
          1633.831428067735,
          1535.7418601556049,
          1519.6077723613498,
          1470.2671994558912,
          1485.0616395399818,
          1498.5442102728946,
          1510.6675358858802,
          1430.4056539231453,
          1431.8246605980867,
          1421.8536450316321,
          1441.5132100357673,
          1428.6658091058966,
          1445.001134826625,
          1522.1391716064097,
          1533.6191629915922,
          1552.0013350905338,
          1603.2702805159352,
          1576.285021613885,
          1610.3166618472605,
          1646.88507563068,
          1746.8134312531424,
          1938.7108015287033,
          1992.675437037125,
          2047.5360928716618,
          2126.459083599553,
          2028.2475474986795,
          1936.8445738204862,
          1918.4127384001108,
          1884.0720495160092,
          1847.53823679414,
          1832.7308242413815,
          1862.0950945526022,
          1896.94283898151,
          1881.8401579878803,
          1864.67964519082,
          1826.9235582896385,
          1784.5751222900753,
          1775.6906052379215,
          1776.2250867422524,
          1775.333026302264,
          1774.624315331293,
          1772.614001753407,
          1771.6478161503846,
          1772.0360835533006,
          1771.7785341313695,
          1771.568178269349,
          1771.4588717517527,
          1771.384371244171,
          1771.400252958963,
          1771.3587444124819,
          1771.35550756226,
          1771.3553141953964,
          1771.3553098684579,
          1771.355309253017,
          1771.355309253017,
          1826.7144591086435,
          1751.209092574116,
          1704.6278605978578,
          1723.293589826042,
          1778.7617397306476,
          1825.183316295616,
          1811.108323807504,
          1750.0401018546518,
          1737.7908695887704,
          1686.6885983985312,
          1686.0909485390243,
          1687.2070547194871,
          1758.0465819312194,
          1725.1026094235312,
          1647.0366556804092,
          1627.811214021257,
          1618.8311110912948,
          1681.668566213225,
          1798.576773077778,
          1688.592500861027,
          1773.7811449447631,
          1941.8517304801596,
          1739.903867204036,
          1732.8789833081187,
          1596.3071048858822,
          1689.877423485187,
          1603.4324231332191,
          1605.6569118146567,
          1587.4485992051518,
          1643.9322568875482,
          1639.3765653266912,
          1597.756639500095,
          1606.7191998028904,
          1556.5666240436622,
          1529.6983089482303,
          1493.2278911562744,
          1485.1370930405003,
          1513.398332073359,
          1626.3729654740487,
          1651.2654176144936,
          1890.6268502525713,
          2017.5427745272282,
          2234.508596162478,
          2016.8845059237988,
          2198.1720113185766,
          2341.502644099109,
          2604.098121292167,
          2627.787179949869,
          2609.276858519585,
          2338.686076473433,
          2282.156426921349,
          2402.171337702456,
          2397.6528588968285,
          2132.1995651959987,
          2402.972055723205,
          2398.79270570034,
          2233.4067952823966,
          2210.6754323063888,
          2110.408785462402,
          1951.3819429330035,
          2212.9310025063214,
          2262.3195548581816
         ],
         "yaxis": "y2"
        },
        {
         "hovertext": "Strike: 105.0<br>Expiry: 230228",
         "legendgroup": "markers",
         "marker": {
          "color": "red",
          "size": 10,
          "symbol": "triangle-up"
         },
         "mode": "markers",
         "name": "Entry: XYZ230228C00105000",
         "showlegend": false,
         "type": "scatter",
         "x": [
          "2023-01-01T00:00:00"
         ],
         "y": [
          105
         ],
         "yaxis": "y"
        },
        {
         "hovertext": "Strike: 105.0<br>Expiry: 230228",
         "legendgroup": "markers",
         "marker": {
          "color": "darkred",
          "size": 10,
          "symbol": "triangle-down"
         },
         "mode": "markers",
         "name": "Entry: XYZ230228C00105000",
         "showlegend": false,
         "type": "scatter",
         "x": [
          "2023-02-27T00:00:00"
         ],
         "y": [
          105
         ],
         "yaxis": "y"
        },
        {
         "hovertext": "Strike: 105.0<br>Expiry: 230331",
         "legendgroup": "markers",
         "marker": {
          "color": "red",
          "size": 10,
          "symbol": "triangle-up"
         },
         "mode": "markers",
         "name": "Entry: XYZ230331C00105000",
         "showlegend": false,
         "type": "scatter",
         "x": [
          "2023-02-27T00:00:00"
         ],
         "y": [
          105
         ],
         "yaxis": "y"
        },
        {
         "hovertext": "Strike: 105.0<br>Expiry: 230331",
         "legendgroup": "markers",
         "marker": {
          "color": "darkred",
          "size": 10,
          "symbol": "triangle-down"
         },
         "mode": "markers",
         "name": "Entry: XYZ230331C00105000",
         "showlegend": false,
         "type": "scatter",
         "x": [
          "2023-03-30T00:00:00"
         ],
         "y": [
          105
         ],
         "yaxis": "y"
        },
        {
         "hovertext": "Strike: 95.0<br>Expiry: 230430",
         "legendgroup": "markers",
         "marker": {
          "color": "red",
          "size": 10,
          "symbol": "triangle-up"
         },
         "mode": "markers",
         "name": "Entry: XYZ230430C00095000",
         "showlegend": false,
         "type": "scatter",
         "x": [
          "2023-03-30T00:00:00"
         ],
         "y": [
          95
         ],
         "yaxis": "y"
        },
        {
         "hovertext": "Strike: 95.0<br>Expiry: 230430",
         "legendgroup": "markers",
         "marker": {
          "color": "darkred",
          "size": 10,
          "symbol": "triangle-down"
         },
         "mode": "markers",
         "name": "Entry: XYZ230430C00095000",
         "showlegend": false,
         "type": "scatter",
         "x": [
          "2023-04-29T00:00:00"
         ],
         "y": [
          95
         ],
         "yaxis": "y"
        },
        {
         "hovertext": "Strike: 100.0<br>Expiry: 230531",
         "legendgroup": "markers",
         "marker": {
          "color": "red",
          "size": 10,
          "symbol": "triangle-up"
         },
         "mode": "markers",
         "name": "Entry: XYZ230531C00100000",
         "showlegend": false,
         "type": "scatter",
         "x": [
          "2023-04-29T00:00:00"
         ],
         "y": [
          100
         ],
         "yaxis": "y"
        },
        {
         "hovertext": "Strike: 100.0<br>Expiry: 230531",
         "legendgroup": "markers",
         "marker": {
          "color": "darkred",
          "size": 10,
          "symbol": "triangle-down"
         },
         "mode": "markers",
         "name": "Entry: XYZ230531C00100000",
         "showlegend": false,
         "type": "scatter",
         "x": [
          "2023-05-30T00:00:00"
         ],
         "y": [
          100
         ],
         "yaxis": "y"
        },
        {
         "hovertext": "Strike: 95.0<br>Expiry: 230630",
         "legendgroup": "markers",
         "marker": {
          "color": "red",
          "size": 10,
          "symbol": "triangle-up"
         },
         "mode": "markers",
         "name": "Entry: XYZ230630C00095000",
         "showlegend": false,
         "type": "scatter",
         "x": [
          "2023-05-30T00:00:00"
         ],
         "y": [
          95
         ],
         "yaxis": "y"
        },
        {
         "hovertext": "Strike: 95.0<br>Expiry: 230630",
         "legendgroup": "markers",
         "marker": {
          "color": "darkred",
          "size": 10,
          "symbol": "triangle-down"
         },
         "mode": "markers",
         "name": "Entry: XYZ230630C00095000",
         "showlegend": false,
         "type": "scatter",
         "x": [
          "2023-06-29T00:00:00"
         ],
         "y": [
          95
         ],
         "yaxis": "y"
        },
        {
         "hovertext": "Strike: 105.0<br>Expiry: 230731",
         "legendgroup": "markers",
         "marker": {
          "color": "red",
          "size": 10,
          "symbol": "triangle-up"
         },
         "mode": "markers",
         "name": "Entry: XYZ230731C00105000",
         "showlegend": false,
         "type": "scatter",
         "x": [
          "2023-06-29T00:00:00"
         ],
         "y": [
          105
         ],
         "yaxis": "y"
        },
        {
         "hovertext": "Strike: 105.0<br>Expiry: 230731",
         "legendgroup": "markers",
         "marker": {
          "color": "darkred",
          "size": 10,
          "symbol": "triangle-down"
         },
         "mode": "markers",
         "name": "Entry: XYZ230731C00105000",
         "showlegend": false,
         "type": "scatter",
         "x": [
          "2023-07-30T00:00:00"
         ],
         "y": [
          105
         ],
         "yaxis": "y"
        },
        {
         "hovertext": "Strike: 100.0<br>Expiry: 230831",
         "legendgroup": "markers",
         "marker": {
          "color": "red",
          "size": 10,
          "symbol": "triangle-up"
         },
         "mode": "markers",
         "name": "Entry: XYZ230831C00100000",
         "showlegend": false,
         "type": "scatter",
         "x": [
          "2023-07-30T00:00:00"
         ],
         "y": [
          100
         ],
         "yaxis": "y"
        },
        {
         "hovertext": "Strike: 100.0<br>Expiry: 230831",
         "legendgroup": "markers",
         "marker": {
          "color": "darkred",
          "size": 10,
          "symbol": "triangle-down"
         },
         "mode": "markers",
         "name": "Entry: XYZ230831C00100000",
         "showlegend": false,
         "type": "scatter",
         "x": [
          "2023-08-30T00:00:00"
         ],
         "y": [
          100
         ],
         "yaxis": "y"
        },
        {
         "hovertext": "Strike: 115.0<br>Expiry: 230930",
         "legendgroup": "markers",
         "marker": {
          "color": "red",
          "size": 10,
          "symbol": "triangle-up"
         },
         "mode": "markers",
         "name": "Entry: XYZ230930C00115000",
         "showlegend": false,
         "type": "scatter",
         "x": [
          "2023-08-30T00:00:00"
         ],
         "y": [
          115
         ],
         "yaxis": "y"
        },
        {
         "hovertext": "Strike: 115.0<br>Expiry: 230930",
         "legendgroup": "markers",
         "marker": {
          "color": "darkred",
          "size": 10,
          "symbol": "triangle-down"
         },
         "mode": "markers",
         "name": "Entry: XYZ230930C00115000",
         "showlegend": false,
         "type": "scatter",
         "x": [
          "2023-09-29T00:00:00"
         ],
         "y": [
          115
         ],
         "yaxis": "y"
        },
        {
         "hovertext": "Strike: 125.0<br>Expiry: 231031",
         "legendgroup": "markers",
         "marker": {
          "color": "red",
          "size": 10,
          "symbol": "triangle-up"
         },
         "mode": "markers",
         "name": "Entry: XYZ231031C00125000",
         "showlegend": false,
         "type": "scatter",
         "x": [
          "2023-09-29T00:00:00"
         ],
         "y": [
          125
         ],
         "yaxis": "y"
        },
        {
         "hovertext": "Strike: 125.0<br>Expiry: 231031",
         "legendgroup": "markers",
         "marker": {
          "color": "darkred",
          "size": 10,
          "symbol": "triangle-down"
         },
         "mode": "markers",
         "name": "Entry: XYZ231031C00125000",
         "showlegend": false,
         "type": "scatter",
         "x": [
          "2023-10-30T00:00:00"
         ],
         "y": [
          125
         ],
         "yaxis": "y"
        },
        {
         "hovertext": "Strike: 110.0<br>Expiry: 231130",
         "legendgroup": "markers",
         "marker": {
          "color": "red",
          "size": 10,
          "symbol": "triangle-up"
         },
         "mode": "markers",
         "name": "Entry: XYZ231130C00110000",
         "showlegend": false,
         "type": "scatter",
         "x": [
          "2023-10-30T00:00:00"
         ],
         "y": [
          110
         ],
         "yaxis": "y"
        },
        {
         "hovertext": "Strike: 110.0<br>Expiry: 231130",
         "legendgroup": "markers",
         "marker": {
          "color": "darkred",
          "size": 10,
          "symbol": "triangle-down"
         },
         "mode": "markers",
         "name": "Entry: XYZ231130C00110000",
         "showlegend": false,
         "type": "scatter",
         "x": [
          "2023-11-29T00:00:00"
         ],
         "y": [
          110
         ],
         "yaxis": "y"
        },
        {
         "hovertext": "Strike: 115.0<br>Expiry: 231231",
         "legendgroup": "markers",
         "marker": {
          "color": "red",
          "size": 10,
          "symbol": "triangle-up"
         },
         "mode": "markers",
         "name": "Entry: XYZ231231C00115000",
         "showlegend": false,
         "type": "scatter",
         "x": [
          "2023-11-29T00:00:00"
         ],
         "y": [
          115
         ],
         "yaxis": "y"
        },
        {
         "hovertext": "Strike: 115.0<br>Expiry: 231231",
         "legendgroup": "markers",
         "marker": {
          "color": "darkred",
          "size": 10,
          "symbol": "triangle-down"
         },
         "mode": "markers",
         "name": "Entry: XYZ231231C00115000",
         "showlegend": false,
         "type": "scatter",
         "x": [
          "2023-12-30T00:00:00"
         ],
         "y": [
          115
         ],
         "yaxis": "y"
        },
        {
         "hovertext": "Strike: 125.0<br>Expiry: 240131",
         "legendgroup": "markers",
         "marker": {
          "color": "red",
          "size": 10,
          "symbol": "triangle-up"
         },
         "mode": "markers",
         "name": "Entry: XYZ240131C00125000",
         "showlegend": false,
         "type": "scatter",
         "x": [
          "2023-12-30T00:00:00"
         ],
         "y": [
          125
         ],
         "yaxis": "y"
        }
       ],
       "layout": {
        "legend": {
         "orientation": "h",
         "x": 0,
         "y": 1
        },
        "template": {
         "data": {
          "bar": [
           {
            "error_x": {
             "color": "#2a3f5f"
            },
            "error_y": {
             "color": "#2a3f5f"
            },
            "marker": {
             "line": {
              "color": "#E5ECF6",
              "width": 0.5
             },
             "pattern": {
              "fillmode": "overlay",
              "size": 10,
              "solidity": 0.2
             }
            },
            "type": "bar"
           }
          ],
          "barpolar": [
           {
            "marker": {
             "line": {
              "color": "#E5ECF6",
              "width": 0.5
             },
             "pattern": {
              "fillmode": "overlay",
              "size": 10,
              "solidity": 0.2
             }
            },
            "type": "barpolar"
           }
          ],
          "carpet": [
           {
            "aaxis": {
             "endlinecolor": "#2a3f5f",
             "gridcolor": "white",
             "linecolor": "white",
             "minorgridcolor": "white",
             "startlinecolor": "#2a3f5f"
            },
            "baxis": {
             "endlinecolor": "#2a3f5f",
             "gridcolor": "white",
             "linecolor": "white",
             "minorgridcolor": "white",
             "startlinecolor": "#2a3f5f"
            },
            "type": "carpet"
           }
          ],
          "choropleth": [
           {
            "colorbar": {
             "outlinewidth": 0,
             "ticks": ""
            },
            "type": "choropleth"
           }
          ],
          "contour": [
           {
            "colorbar": {
             "outlinewidth": 0,
             "ticks": ""
            },
            "colorscale": [
             [
              0,
              "#0d0887"
             ],
             [
              0.1111111111111111,
              "#46039f"
             ],
             [
              0.2222222222222222,
              "#7201a8"
             ],
             [
              0.3333333333333333,
              "#9c179e"
             ],
             [
              0.4444444444444444,
              "#bd3786"
             ],
             [
              0.5555555555555556,
              "#d8576b"
             ],
             [
              0.6666666666666666,
              "#ed7953"
             ],
             [
              0.7777777777777778,
              "#fb9f3a"
             ],
             [
              0.8888888888888888,
              "#fdca26"
             ],
             [
              1,
              "#f0f921"
             ]
            ],
            "type": "contour"
           }
          ],
          "contourcarpet": [
           {
            "colorbar": {
             "outlinewidth": 0,
             "ticks": ""
            },
            "type": "contourcarpet"
           }
          ],
          "heatmap": [
           {
            "colorbar": {
             "outlinewidth": 0,
             "ticks": ""
            },
            "colorscale": [
             [
              0,
              "#0d0887"
             ],
             [
              0.1111111111111111,
              "#46039f"
             ],
             [
              0.2222222222222222,
              "#7201a8"
             ],
             [
              0.3333333333333333,
              "#9c179e"
             ],
             [
              0.4444444444444444,
              "#bd3786"
             ],
             [
              0.5555555555555556,
              "#d8576b"
             ],
             [
              0.6666666666666666,
              "#ed7953"
             ],
             [
              0.7777777777777778,
              "#fb9f3a"
             ],
             [
              0.8888888888888888,
              "#fdca26"
             ],
             [
              1,
              "#f0f921"
             ]
            ],
            "type": "heatmap"
           }
          ],
          "heatmapgl": [
           {
            "colorbar": {
             "outlinewidth": 0,
             "ticks": ""
            },
            "colorscale": [
             [
              0,
              "#0d0887"
             ],
             [
              0.1111111111111111,
              "#46039f"
             ],
             [
              0.2222222222222222,
              "#7201a8"
             ],
             [
              0.3333333333333333,
              "#9c179e"
             ],
             [
              0.4444444444444444,
              "#bd3786"
             ],
             [
              0.5555555555555556,
              "#d8576b"
             ],
             [
              0.6666666666666666,
              "#ed7953"
             ],
             [
              0.7777777777777778,
              "#fb9f3a"
             ],
             [
              0.8888888888888888,
              "#fdca26"
             ],
             [
              1,
              "#f0f921"
             ]
            ],
            "type": "heatmapgl"
           }
          ],
          "histogram": [
           {
            "marker": {
             "pattern": {
              "fillmode": "overlay",
              "size": 10,
              "solidity": 0.2
             }
            },
            "type": "histogram"
           }
          ],
          "histogram2d": [
           {
            "colorbar": {
             "outlinewidth": 0,
             "ticks": ""
            },
            "colorscale": [
             [
              0,
              "#0d0887"
             ],
             [
              0.1111111111111111,
              "#46039f"
             ],
             [
              0.2222222222222222,
              "#7201a8"
             ],
             [
              0.3333333333333333,
              "#9c179e"
             ],
             [
              0.4444444444444444,
              "#bd3786"
             ],
             [
              0.5555555555555556,
              "#d8576b"
             ],
             [
              0.6666666666666666,
              "#ed7953"
             ],
             [
              0.7777777777777778,
              "#fb9f3a"
             ],
             [
              0.8888888888888888,
              "#fdca26"
             ],
             [
              1,
              "#f0f921"
             ]
            ],
            "type": "histogram2d"
           }
          ],
          "histogram2dcontour": [
           {
            "colorbar": {
             "outlinewidth": 0,
             "ticks": ""
            },
            "colorscale": [
             [
              0,
              "#0d0887"
             ],
             [
              0.1111111111111111,
              "#46039f"
             ],
             [
              0.2222222222222222,
              "#7201a8"
             ],
             [
              0.3333333333333333,
              "#9c179e"
             ],
             [
              0.4444444444444444,
              "#bd3786"
             ],
             [
              0.5555555555555556,
              "#d8576b"
             ],
             [
              0.6666666666666666,
              "#ed7953"
             ],
             [
              0.7777777777777778,
              "#fb9f3a"
             ],
             [
              0.8888888888888888,
              "#fdca26"
             ],
             [
              1,
              "#f0f921"
             ]
            ],
            "type": "histogram2dcontour"
           }
          ],
          "mesh3d": [
           {
            "colorbar": {
             "outlinewidth": 0,
             "ticks": ""
            },
            "type": "mesh3d"
           }
          ],
          "parcoords": [
           {
            "line": {
             "colorbar": {
              "outlinewidth": 0,
              "ticks": ""
             }
            },
            "type": "parcoords"
           }
          ],
          "pie": [
           {
            "automargin": true,
            "type": "pie"
           }
          ],
          "scatter": [
           {
            "fillpattern": {
             "fillmode": "overlay",
             "size": 10,
             "solidity": 0.2
            },
            "type": "scatter"
           }
          ],
          "scatter3d": [
           {
            "line": {
             "colorbar": {
              "outlinewidth": 0,
              "ticks": ""
             }
            },
            "marker": {
             "colorbar": {
              "outlinewidth": 0,
              "ticks": ""
             }
            },
            "type": "scatter3d"
           }
          ],
          "scattercarpet": [
           {
            "marker": {
             "colorbar": {
              "outlinewidth": 0,
              "ticks": ""
             }
            },
            "type": "scattercarpet"
           }
          ],
          "scattergeo": [
           {
            "marker": {
             "colorbar": {
              "outlinewidth": 0,
              "ticks": ""
             }
            },
            "type": "scattergeo"
           }
          ],
          "scattergl": [
           {
            "marker": {
             "colorbar": {
              "outlinewidth": 0,
              "ticks": ""
             }
            },
            "type": "scattergl"
           }
          ],
          "scattermapbox": [
           {
            "marker": {
             "colorbar": {
              "outlinewidth": 0,
              "ticks": ""
             }
            },
            "type": "scattermapbox"
           }
          ],
          "scatterpolar": [
           {
            "marker": {
             "colorbar": {
              "outlinewidth": 0,
              "ticks": ""
             }
            },
            "type": "scatterpolar"
           }
          ],
          "scatterpolargl": [
           {
            "marker": {
             "colorbar": {
              "outlinewidth": 0,
              "ticks": ""
             }
            },
            "type": "scatterpolargl"
           }
          ],
          "scatterternary": [
           {
            "marker": {
             "colorbar": {
              "outlinewidth": 0,
              "ticks": ""
             }
            },
            "type": "scatterternary"
           }
          ],
          "surface": [
           {
            "colorbar": {
             "outlinewidth": 0,
             "ticks": ""
            },
            "colorscale": [
             [
              0,
              "#0d0887"
             ],
             [
              0.1111111111111111,
              "#46039f"
             ],
             [
              0.2222222222222222,
              "#7201a8"
             ],
             [
              0.3333333333333333,
              "#9c179e"
             ],
             [
              0.4444444444444444,
              "#bd3786"
             ],
             [
              0.5555555555555556,
              "#d8576b"
             ],
             [
              0.6666666666666666,
              "#ed7953"
             ],
             [
              0.7777777777777778,
              "#fb9f3a"
             ],
             [
              0.8888888888888888,
              "#fdca26"
             ],
             [
              1,
              "#f0f921"
             ]
            ],
            "type": "surface"
           }
          ],
          "table": [
           {
            "cells": {
             "fill": {
              "color": "#EBF0F8"
             },
             "line": {
              "color": "white"
             }
            },
            "header": {
             "fill": {
              "color": "#C8D4E3"
             },
             "line": {
              "color": "white"
             }
            },
            "type": "table"
           }
          ]
         },
         "layout": {
          "annotationdefaults": {
           "arrowcolor": "#2a3f5f",
           "arrowhead": 0,
           "arrowwidth": 1
          },
          "autotypenumbers": "strict",
          "coloraxis": {
           "colorbar": {
            "outlinewidth": 0,
            "ticks": ""
           }
          },
          "colorscale": {
           "diverging": [
            [
             0,
             "#8e0152"
            ],
            [
             0.1,
             "#c51b7d"
            ],
            [
             0.2,
             "#de77ae"
            ],
            [
             0.3,
             "#f1b6da"
            ],
            [
             0.4,
             "#fde0ef"
            ],
            [
             0.5,
             "#f7f7f7"
            ],
            [
             0.6,
             "#e6f5d0"
            ],
            [
             0.7,
             "#b8e186"
            ],
            [
             0.8,
             "#7fbc41"
            ],
            [
             0.9,
             "#4d9221"
            ],
            [
             1,
             "#276419"
            ]
           ],
           "sequential": [
            [
             0,
             "#0d0887"
            ],
            [
             0.1111111111111111,
             "#46039f"
            ],
            [
             0.2222222222222222,
             "#7201a8"
            ],
            [
             0.3333333333333333,
             "#9c179e"
            ],
            [
             0.4444444444444444,
             "#bd3786"
            ],
            [
             0.5555555555555556,
             "#d8576b"
            ],
            [
             0.6666666666666666,
             "#ed7953"
            ],
            [
             0.7777777777777778,
             "#fb9f3a"
            ],
            [
             0.8888888888888888,
             "#fdca26"
            ],
            [
             1,
             "#f0f921"
            ]
           ],
           "sequentialminus": [
            [
             0,
             "#0d0887"
            ],
            [
             0.1111111111111111,
             "#46039f"
            ],
            [
             0.2222222222222222,
             "#7201a8"
            ],
            [
             0.3333333333333333,
             "#9c179e"
            ],
            [
             0.4444444444444444,
             "#bd3786"
            ],
            [
             0.5555555555555556,
             "#d8576b"
            ],
            [
             0.6666666666666666,
             "#ed7953"
            ],
            [
             0.7777777777777778,
             "#fb9f3a"
            ],
            [
             0.8888888888888888,
             "#fdca26"
            ],
            [
             1,
             "#f0f921"
            ]
           ]
          },
          "colorway": [
           "#636efa",
           "#EF553B",
           "#00cc96",
           "#ab63fa",
           "#FFA15A",
           "#19d3f3",
           "#FF6692",
           "#B6E880",
           "#FF97FF",
           "#FECB52"
          ],
          "font": {
           "color": "#2a3f5f"
          },
          "geo": {
           "bgcolor": "white",
           "lakecolor": "white",
           "landcolor": "#E5ECF6",
           "showlakes": true,
           "showland": true,
           "subunitcolor": "white"
          },
          "hoverlabel": {
           "align": "left"
          },
          "hovermode": "closest",
          "mapbox": {
           "style": "light"
          },
          "paper_bgcolor": "white",
          "plot_bgcolor": "#E5ECF6",
          "polar": {
           "angularaxis": {
            "gridcolor": "white",
            "linecolor": "white",
            "ticks": ""
           },
           "bgcolor": "#E5ECF6",
           "radialaxis": {
            "gridcolor": "white",
            "linecolor": "white",
            "ticks": ""
           }
          },
          "scene": {
           "xaxis": {
            "backgroundcolor": "#E5ECF6",
            "gridcolor": "white",
            "gridwidth": 2,
            "linecolor": "white",
            "showbackground": true,
            "ticks": "",
            "zerolinecolor": "white"
           },
           "yaxis": {
            "backgroundcolor": "#E5ECF6",
            "gridcolor": "white",
            "gridwidth": 2,
            "linecolor": "white",
            "showbackground": true,
            "ticks": "",
            "zerolinecolor": "white"
           },
           "zaxis": {
            "backgroundcolor": "#E5ECF6",
            "gridcolor": "white",
            "gridwidth": 2,
            "linecolor": "white",
            "showbackground": true,
            "ticks": "",
            "zerolinecolor": "white"
           }
          },
          "shapedefaults": {
           "line": {
            "color": "#2a3f5f"
           }
          },
          "ternary": {
           "aaxis": {
            "gridcolor": "white",
            "linecolor": "white",
            "ticks": ""
           },
           "baxis": {
            "gridcolor": "white",
            "linecolor": "white",
            "ticks": ""
           },
           "bgcolor": "#E5ECF6",
           "caxis": {
            "gridcolor": "white",
            "linecolor": "white",
            "ticks": ""
           }
          },
          "title": {
           "x": 0.05
          },
          "xaxis": {
           "automargin": true,
           "gridcolor": "white",
           "linecolor": "white",
           "ticks": "",
           "title": {
            "standoff": 15
           },
           "zerolinecolor": "white",
           "zerolinewidth": 2
          },
          "yaxis": {
           "automargin": true,
           "gridcolor": "white",
           "linecolor": "white",
           "ticks": "",
           "title": {
            "standoff": 15
           },
           "zerolinecolor": "white",
           "zerolinewidth": 2
          }
         }
        },
        "title": {
         "text": "Stock Price, Portfolio Value, and Entry Trades"
        },
        "xaxis": {
         "tickformat": "%y-%m-%d",
         "title": {
          "text": "Date"
         }
        },
        "yaxis": {
         "tickfont": {
          "color": "blue"
         },
         "title": {
          "font": {
           "color": "blue"
          },
          "text": "Stock Price"
         }
        },
        "yaxis2": {
         "overlaying": "y",
         "side": "right",
         "tickfont": {
          "color": "green"
         },
         "title": {
          "font": {
           "color": "green"
          },
          "text": "Portfolio Value"
         }
        }
       }
      }
     },
     "metadata": {},
     "output_type": "display_data"
    }
   ],
   "source": [
    "# Long call, rollover before 2 days, roll to ATM, 30 days+\n",
    "n_option_legs = 1\n",
    "entry_position = 1\n",
    "find_options_by: FindOptionsBy = {\n",
    "    \"option_type\": \"call\",\n",
    "    \"dte_gt\": 29,\n",
    "    \"dte_lt\": 61,\n",
    "    \"sort_by_delta_near\": 0.5,\n",
    "}\n",
    "rollover_criteria: ShouldRolloverCriteria = {\"dte_lt\": 2}\n",
    "\n",
    "s1 = create_rollover_strategy(\n",
    "    n_option_legs,\n",
    "    entry_position,\n",
    "    find_options_by,\n",
    "    rollover_criteria,\n",
    ")\n",
    "demo(s1)"
   ]
  },
  {
   "cell_type": "code",
   "execution_count": 5,
   "metadata": {},
   "outputs": [
    {
     "name": "stderr",
     "output_type": "stream",
     "text": [
      "/Users/cw/Documents/github/option-backtest/src/option_backtest/backtest_event.py:403: FutureWarning:\n",
      "\n",
      "'M' is deprecated and will be removed in a future version, please use 'ME' instead.\n",
      "\n",
      "INFO:option_backtest.backtest_event:Rollover date=230101, price=101.59, delta=0.43, None -> XYZ230228C00105000\n",
      "INFO:option_backtest.market:Executed trade: XYZ230228C00105000 @ 2.92 * 1, Option position: 1, Cash: 707.79\n",
      "INFO:option_backtest.backtest_event:No rollover needed on 2023-01-02 00:00:00\n",
      "INFO:option_backtest.backtest_event:No rollover needed on 2023-01-03 00:00:00\n",
      "INFO:option_backtest.backtest_event:No rollover needed on 2023-01-04 00:00:00\n",
      "INFO:option_backtest.backtest_event:No rollover needed on 2023-01-05 00:00:00\n",
      "INFO:option_backtest.backtest_event:No rollover needed on 2023-01-06 00:00:00\n",
      "INFO:option_backtest.backtest_event:No rollover needed on 2023-01-07 00:00:00\n",
      "INFO:option_backtest.backtest_event:No rollover needed on 2023-01-08 00:00:00\n",
      "INFO:option_backtest.backtest_event:No rollover needed on 2023-01-09 00:00:00\n",
      "INFO:option_backtest.backtest_event:No rollover needed on 2023-01-10 00:00:00\n",
      "INFO:option_backtest.backtest_event:No rollover needed on 2023-01-11 00:00:00\n",
      "INFO:option_backtest.backtest_event:No rollover needed on 2023-01-12 00:00:00\n",
      "INFO:option_backtest.backtest_event:No rollover needed on 2023-01-13 00:00:00\n",
      "INFO:option_backtest.backtest_event:No rollover needed on 2023-01-14 00:00:00\n",
      "INFO:option_backtest.backtest_event:No rollover needed on 2023-01-15 00:00:00\n",
      "INFO:option_backtest.backtest_event:No rollover needed on 2023-01-16 00:00:00\n",
      "INFO:option_backtest.backtest_event:No rollover needed on 2023-01-17 00:00:00\n",
      "INFO:option_backtest.backtest_event:No rollover needed on 2023-01-18 00:00:00\n",
      "INFO:option_backtest.backtest_event:No rollover needed on 2023-01-19 00:00:00\n",
      "INFO:option_backtest.backtest_event:No rollover needed on 2023-01-20 00:00:00\n",
      "INFO:option_backtest.backtest_event:No rollover needed on 2023-01-21 00:00:00\n",
      "INFO:option_backtest.backtest_event:No rollover needed on 2023-01-22 00:00:00\n",
      "INFO:option_backtest.backtest_event:No rollover needed on 2023-01-23 00:00:00\n",
      "INFO:option_backtest.backtest_event:No rollover needed on 2023-01-24 00:00:00\n",
      "INFO:option_backtest.backtest_event:No rollover needed on 2023-01-25 00:00:00\n",
      "INFO:option_backtest.backtest_event:No rollover needed on 2023-01-26 00:00:00\n",
      "INFO:option_backtest.backtest_event:No rollover needed on 2023-01-27 00:00:00\n",
      "INFO:option_backtest.backtest_event:No rollover needed on 2023-01-28 00:00:00\n",
      "INFO:option_backtest.backtest_event:No rollover needed on 2023-01-29 00:00:00\n",
      "INFO:option_backtest.backtest_event:No rollover needed on 2023-01-30 00:00:00\n",
      "INFO:option_backtest.backtest_event:No rollover needed on 2023-01-31 00:00:00\n",
      "INFO:option_backtest.backtest_event:No rollover needed on 2023-02-01 00:00:00\n",
      "INFO:option_backtest.backtest_event:No rollover needed on 2023-02-02 00:00:00\n",
      "INFO:option_backtest.backtest_event:No rollover needed on 2023-02-03 00:00:00\n",
      "INFO:option_backtest.backtest_event:No rollover needed on 2023-02-04 00:00:00\n",
      "INFO:option_backtest.backtest_event:No rollover needed on 2023-02-05 00:00:00\n",
      "INFO:option_backtest.backtest_event:No rollover needed on 2023-02-06 00:00:00\n",
      "INFO:option_backtest.backtest_event:No rollover needed on 2023-02-07 00:00:00\n",
      "INFO:option_backtest.backtest_event:No rollover needed on 2023-02-08 00:00:00\n",
      "INFO:option_backtest.backtest_event:No rollover needed on 2023-02-09 00:00:00\n",
      "INFO:option_backtest.backtest_event:No rollover needed on 2023-02-10 00:00:00\n",
      "INFO:option_backtest.backtest_event:No rollover needed on 2023-02-11 00:00:00\n",
      "INFO:option_backtest.backtest_event:No rollover needed on 2023-02-12 00:00:00\n",
      "INFO:option_backtest.backtest_event:No rollover needed on 2023-02-13 00:00:00\n",
      "INFO:option_backtest.backtest_event:No rollover needed on 2023-02-14 00:00:00\n",
      "INFO:option_backtest.backtest_event:No rollover needed on 2023-02-15 00:00:00\n",
      "INFO:option_backtest.backtest_event:No rollover needed on 2023-02-16 00:00:00\n",
      "INFO:option_backtest.backtest_event:No rollover needed on 2023-02-17 00:00:00\n",
      "INFO:option_backtest.backtest_event:No rollover needed on 2023-02-18 00:00:00\n",
      "INFO:option_backtest.backtest_event:No rollover needed on 2023-02-19 00:00:00\n",
      "INFO:option_backtest.backtest_event:No rollover needed on 2023-02-20 00:00:00\n",
      "INFO:option_backtest.backtest_event:No rollover needed on 2023-02-21 00:00:00\n",
      "INFO:option_backtest.backtest_event:No rollover needed on 2023-02-22 00:00:00\n",
      "INFO:option_backtest.backtest_event:No rollover needed on 2023-02-23 00:00:00\n",
      "INFO:option_backtest.backtest_event:Rollover date=230224, price=101.86, delta=0.39, XYZ230228C00105000 -> XYZ230331C00105000\n",
      "INFO:option_backtest.market:Executed trade: XYZ230228C00105000 @ 0.15 * -1, Option position: 0, Cash: 723.24\n",
      "INFO:option_backtest.market:Executed trade: XYZ230331C00105000 @ 2.01 * 1, Option position: 1, Cash: 522.44\n",
      "INFO:option_backtest.backtest_event:No rollover needed on 2023-02-25 00:00:00\n",
      "INFO:option_backtest.backtest_event:No rollover needed on 2023-02-26 00:00:00\n",
      "INFO:option_backtest.backtest_event:No rollover needed on 2023-02-27 00:00:00\n",
      "INFO:option_backtest.backtest_event:No rollover needed on 2023-02-28 00:00:00\n",
      "INFO:option_backtest.backtest_event:No rollover needed on 2023-03-01 00:00:00\n",
      "INFO:option_backtest.backtest_event:No rollover needed on 2023-03-02 00:00:00\n",
      "INFO:option_backtest.backtest_event:No rollover needed on 2023-03-03 00:00:00\n",
      "INFO:option_backtest.backtest_event:No rollover needed on 2023-03-04 00:00:00\n",
      "INFO:option_backtest.backtest_event:No rollover needed on 2023-03-05 00:00:00\n",
      "INFO:option_backtest.backtest_event:No rollover needed on 2023-03-06 00:00:00\n",
      "INFO:option_backtest.backtest_event:No rollover needed on 2023-03-07 00:00:00\n",
      "INFO:option_backtest.backtest_event:No rollover needed on 2023-03-08 00:00:00\n",
      "INFO:option_backtest.backtest_event:No rollover needed on 2023-03-09 00:00:00\n",
      "INFO:option_backtest.backtest_event:No rollover needed on 2023-03-10 00:00:00\n",
      "INFO:option_backtest.backtest_event:No rollover needed on 2023-03-11 00:00:00\n",
      "INFO:option_backtest.backtest_event:No rollover needed on 2023-03-12 00:00:00\n",
      "INFO:option_backtest.backtest_event:No rollover needed on 2023-03-13 00:00:00\n",
      "INFO:option_backtest.backtest_event:No rollover needed on 2023-03-14 00:00:00\n",
      "INFO:option_backtest.backtest_event:No rollover needed on 2023-03-15 00:00:00\n",
      "INFO:option_backtest.backtest_event:No rollover needed on 2023-03-16 00:00:00\n",
      "INFO:option_backtest.backtest_event:No rollover needed on 2023-03-17 00:00:00\n",
      "INFO:option_backtest.backtest_event:No rollover needed on 2023-03-18 00:00:00\n",
      "INFO:option_backtest.backtest_event:No rollover needed on 2023-03-19 00:00:00\n",
      "INFO:option_backtest.backtest_event:No rollover needed on 2023-03-20 00:00:00\n",
      "INFO:option_backtest.backtest_event:No rollover needed on 2023-03-21 00:00:00\n",
      "INFO:option_backtest.backtest_event:No rollover needed on 2023-03-22 00:00:00\n",
      "INFO:option_backtest.backtest_event:No rollover needed on 2023-03-23 00:00:00\n",
      "INFO:option_backtest.backtest_event:No rollover needed on 2023-03-24 00:00:00\n",
      "INFO:option_backtest.backtest_event:No rollover needed on 2023-03-25 00:00:00\n",
      "INFO:option_backtest.backtest_event:No rollover needed on 2023-03-26 00:00:00\n",
      "INFO:option_backtest.backtest_event:Rollover date=230327, price=95.43, delta=0.58, XYZ230331C00105000 -> XYZ230430C00095000\n",
      "INFO:option_backtest.market:Executed trade: XYZ230331C00105000 @ 0.00 * -1, Option position: 0, Cash: 522.45\n",
      "INFO:option_backtest.market:Executed trade: XYZ230430C00095000 @ 3.35 * 1, Option position: 1, Cash: 187.79\n",
      "INFO:option_backtest.backtest_event:No rollover needed on 2023-03-28 00:00:00\n",
      "INFO:option_backtest.backtest_event:No rollover needed on 2023-03-29 00:00:00\n",
      "INFO:option_backtest.backtest_event:No rollover needed on 2023-03-30 00:00:00\n",
      "INFO:option_backtest.backtest_event:No rollover needed on 2023-03-31 00:00:00\n",
      "INFO:option_backtest.backtest_event:No rollover needed on 2023-04-01 00:00:00\n",
      "INFO:option_backtest.backtest_event:No rollover needed on 2023-04-02 00:00:00\n",
      "INFO:option_backtest.backtest_event:No rollover needed on 2023-04-03 00:00:00\n",
      "INFO:option_backtest.backtest_event:No rollover needed on 2023-04-04 00:00:00\n",
      "INFO:option_backtest.backtest_event:No rollover needed on 2023-04-05 00:00:00\n",
      "INFO:option_backtest.backtest_event:No rollover needed on 2023-04-06 00:00:00\n",
      "INFO:option_backtest.backtest_event:No rollover needed on 2023-04-07 00:00:00\n",
      "INFO:option_backtest.backtest_event:No rollover needed on 2023-04-08 00:00:00\n",
      "INFO:option_backtest.backtest_event:No rollover needed on 2023-04-09 00:00:00\n",
      "INFO:option_backtest.backtest_event:No rollover needed on 2023-04-10 00:00:00\n",
      "INFO:option_backtest.backtest_event:No rollover needed on 2023-04-11 00:00:00\n",
      "INFO:option_backtest.backtest_event:No rollover needed on 2023-04-12 00:00:00\n",
      "INFO:option_backtest.backtest_event:No rollover needed on 2023-04-13 00:00:00\n",
      "INFO:option_backtest.backtest_event:No rollover needed on 2023-04-14 00:00:00\n",
      "INFO:option_backtest.backtest_event:No rollover needed on 2023-04-15 00:00:00\n",
      "INFO:option_backtest.backtest_event:No rollover needed on 2023-04-16 00:00:00\n",
      "INFO:option_backtest.backtest_event:No rollover needed on 2023-04-17 00:00:00\n",
      "INFO:option_backtest.backtest_event:No rollover needed on 2023-04-18 00:00:00\n",
      "INFO:option_backtest.backtest_event:No rollover needed on 2023-04-19 00:00:00\n",
      "INFO:option_backtest.backtest_event:No rollover needed on 2023-04-20 00:00:00\n",
      "INFO:option_backtest.backtest_event:No rollover needed on 2023-04-21 00:00:00\n",
      "INFO:option_backtest.backtest_event:No rollover needed on 2023-04-22 00:00:00\n",
      "INFO:option_backtest.backtest_event:No rollover needed on 2023-04-23 00:00:00\n",
      "INFO:option_backtest.backtest_event:No rollover needed on 2023-04-24 00:00:00\n",
      "INFO:option_backtest.backtest_event:No rollover needed on 2023-04-25 00:00:00\n",
      "INFO:option_backtest.backtest_event:Rollover date=230426, price=98.91, delta=0.49, XYZ230430C00095000 -> XYZ230531C00100000\n",
      "INFO:option_backtest.market:Executed trade: XYZ230430C00095000 @ 4.04 * -1, Option position: 0, Cash: 591.89\n",
      "INFO:option_backtest.market:Executed trade: XYZ230531C00100000 @ 2.75 * 1, Option position: 1, Cash: 316.56\n",
      "INFO:option_backtest.backtest_event:No rollover needed on 2023-04-27 00:00:00\n",
      "INFO:option_backtest.backtest_event:No rollover needed on 2023-04-28 00:00:00\n",
      "INFO:option_backtest.backtest_event:No rollover needed on 2023-04-29 00:00:00\n",
      "INFO:option_backtest.backtest_event:No rollover needed on 2023-04-30 00:00:00\n",
      "INFO:option_backtest.backtest_event:No rollover needed on 2023-05-01 00:00:00\n",
      "INFO:option_backtest.backtest_event:No rollover needed on 2023-05-02 00:00:00\n",
      "INFO:option_backtest.backtest_event:No rollover needed on 2023-05-03 00:00:00\n",
      "INFO:option_backtest.backtest_event:No rollover needed on 2023-05-04 00:00:00\n",
      "INFO:option_backtest.backtest_event:No rollover needed on 2023-05-05 00:00:00\n",
      "INFO:option_backtest.backtest_event:No rollover needed on 2023-05-06 00:00:00\n",
      "INFO:option_backtest.backtest_event:No rollover needed on 2023-05-07 00:00:00\n",
      "INFO:option_backtest.backtest_event:No rollover needed on 2023-05-08 00:00:00\n",
      "INFO:option_backtest.backtest_event:No rollover needed on 2023-05-09 00:00:00\n",
      "INFO:option_backtest.backtest_event:No rollover needed on 2023-05-10 00:00:00\n",
      "INFO:option_backtest.backtest_event:No rollover needed on 2023-05-11 00:00:00\n",
      "INFO:option_backtest.backtest_event:No rollover needed on 2023-05-12 00:00:00\n",
      "INFO:option_backtest.backtest_event:No rollover needed on 2023-05-13 00:00:00\n",
      "INFO:option_backtest.backtest_event:No rollover needed on 2023-05-14 00:00:00\n",
      "INFO:option_backtest.backtest_event:No rollover needed on 2023-05-15 00:00:00\n",
      "INFO:option_backtest.backtest_event:No rollover needed on 2023-05-16 00:00:00\n",
      "INFO:option_backtest.backtest_event:No rollover needed on 2023-05-17 00:00:00\n",
      "INFO:option_backtest.backtest_event:No rollover needed on 2023-05-18 00:00:00\n",
      "INFO:option_backtest.backtest_event:No rollover needed on 2023-05-19 00:00:00\n",
      "INFO:option_backtest.backtest_event:No rollover needed on 2023-05-20 00:00:00\n",
      "INFO:option_backtest.backtest_event:No rollover needed on 2023-05-21 00:00:00\n",
      "INFO:option_backtest.backtest_event:No rollover needed on 2023-05-22 00:00:00\n",
      "INFO:option_backtest.backtest_event:No rollover needed on 2023-05-23 00:00:00\n",
      "INFO:option_backtest.backtest_event:No rollover needed on 2023-05-24 00:00:00\n",
      "INFO:option_backtest.backtest_event:No rollover needed on 2023-05-25 00:00:00\n",
      "INFO:option_backtest.backtest_event:No rollover needed on 2023-05-26 00:00:00\n",
      "INFO:option_backtest.backtest_event:Rollover date=230527, price=97.15, delta=0.40, XYZ230531C00100000 -> XYZ230630C00100000\n",
      "INFO:option_backtest.market:Executed trade: XYZ230531C00100000 @ 0.16 * -1, Option position: 0, Cash: 333.04\n",
      "INFO:option_backtest.market:Executed trade: XYZ230630C00100000 @ 1.92 * 1, Option position: 1, Cash: 141.15\n",
      "INFO:option_backtest.backtest_event:No rollover needed on 2023-05-28 00:00:00\n",
      "INFO:option_backtest.backtest_event:No rollover needed on 2023-05-29 00:00:00\n",
      "INFO:option_backtest.backtest_event:No rollover needed on 2023-05-30 00:00:00\n",
      "INFO:option_backtest.backtest_event:No rollover needed on 2023-05-31 00:00:00\n",
      "INFO:option_backtest.backtest_event:No rollover needed on 2023-06-01 00:00:00\n",
      "INFO:option_backtest.backtest_event:No rollover needed on 2023-06-02 00:00:00\n",
      "INFO:option_backtest.backtest_event:No rollover needed on 2023-06-03 00:00:00\n",
      "INFO:option_backtest.backtest_event:No rollover needed on 2023-06-04 00:00:00\n",
      "INFO:option_backtest.backtest_event:No rollover needed on 2023-06-05 00:00:00\n",
      "INFO:option_backtest.backtest_event:No rollover needed on 2023-06-06 00:00:00\n",
      "INFO:option_backtest.backtest_event:No rollover needed on 2023-06-07 00:00:00\n",
      "INFO:option_backtest.backtest_event:No rollover needed on 2023-06-08 00:00:00\n",
      "INFO:option_backtest.backtest_event:No rollover needed on 2023-06-09 00:00:00\n",
      "INFO:option_backtest.backtest_event:No rollover needed on 2023-06-10 00:00:00\n",
      "INFO:option_backtest.backtest_event:No rollover needed on 2023-06-11 00:00:00\n",
      "INFO:option_backtest.backtest_event:No rollover needed on 2023-06-12 00:00:00\n",
      "INFO:option_backtest.backtest_event:No rollover needed on 2023-06-13 00:00:00\n",
      "INFO:option_backtest.backtest_event:No rollover needed on 2023-06-14 00:00:00\n",
      "INFO:option_backtest.backtest_event:No rollover needed on 2023-06-15 00:00:00\n",
      "INFO:option_backtest.backtest_event:No rollover needed on 2023-06-16 00:00:00\n",
      "INFO:option_backtest.backtest_event:No rollover needed on 2023-06-17 00:00:00\n",
      "INFO:option_backtest.backtest_event:No rollover needed on 2023-06-18 00:00:00\n",
      "INFO:option_backtest.backtest_event:No rollover needed on 2023-06-19 00:00:00\n",
      "INFO:option_backtest.backtest_event:No rollover needed on 2023-06-20 00:00:00\n",
      "INFO:option_backtest.backtest_event:No rollover needed on 2023-06-21 00:00:00\n",
      "INFO:option_backtest.backtest_event:No rollover needed on 2023-06-22 00:00:00\n",
      "INFO:option_backtest.backtest_event:No rollover needed on 2023-06-23 00:00:00\n",
      "INFO:option_backtest.backtest_event:No rollover needed on 2023-06-24 00:00:00\n",
      "INFO:option_backtest.backtest_event:No rollover needed on 2023-06-25 00:00:00\n",
      "INFO:option_backtest.backtest_event:Rollover date=230626, price=103.12, delta=0.46, XYZ230630C00100000 -> XYZ230731C00105000\n",
      "INFO:option_backtest.market:Executed trade: XYZ230630C00100000 @ 3.33 * -1, Option position: 0, Cash: 474.35\n",
      "INFO:option_backtest.market:Executed trade: XYZ230731C00105000 @ 2.54 * 1, Option position: 1, Cash: 220.14\n",
      "INFO:option_backtest.backtest_event:No rollover needed on 2023-06-27 00:00:00\n",
      "INFO:option_backtest.backtest_event:No rollover needed on 2023-06-28 00:00:00\n",
      "INFO:option_backtest.backtest_event:No rollover needed on 2023-06-29 00:00:00\n",
      "INFO:option_backtest.backtest_event:No rollover needed on 2023-06-30 00:00:00\n",
      "INFO:option_backtest.backtest_event:No rollover needed on 2023-07-01 00:00:00\n",
      "INFO:option_backtest.backtest_event:No rollover needed on 2023-07-02 00:00:00\n",
      "INFO:option_backtest.backtest_event:No rollover needed on 2023-07-03 00:00:00\n",
      "INFO:option_backtest.backtest_event:No rollover needed on 2023-07-04 00:00:00\n",
      "INFO:option_backtest.backtest_event:No rollover needed on 2023-07-05 00:00:00\n",
      "INFO:option_backtest.backtest_event:No rollover needed on 2023-07-06 00:00:00\n",
      "INFO:option_backtest.backtest_event:No rollover needed on 2023-07-07 00:00:00\n",
      "INFO:option_backtest.backtest_event:No rollover needed on 2023-07-08 00:00:00\n",
      "INFO:option_backtest.backtest_event:No rollover needed on 2023-07-09 00:00:00\n",
      "INFO:option_backtest.backtest_event:No rollover needed on 2023-07-10 00:00:00\n",
      "INFO:option_backtest.backtest_event:No rollover needed on 2023-07-11 00:00:00\n",
      "INFO:option_backtest.backtest_event:No rollover needed on 2023-07-12 00:00:00\n",
      "INFO:option_backtest.backtest_event:No rollover needed on 2023-07-13 00:00:00\n",
      "INFO:option_backtest.backtest_event:No rollover needed on 2023-07-14 00:00:00\n",
      "INFO:option_backtest.backtest_event:No rollover needed on 2023-07-15 00:00:00\n",
      "INFO:option_backtest.backtest_event:No rollover needed on 2023-07-16 00:00:00\n",
      "INFO:option_backtest.backtest_event:No rollover needed on 2023-07-17 00:00:00\n",
      "INFO:option_backtest.backtest_event:No rollover needed on 2023-07-18 00:00:00\n",
      "INFO:option_backtest.backtest_event:No rollover needed on 2023-07-19 00:00:00\n",
      "INFO:option_backtest.backtest_event:No rollover needed on 2023-07-20 00:00:00\n",
      "INFO:option_backtest.backtest_event:No rollover needed on 2023-07-21 00:00:00\n",
      "INFO:option_backtest.backtest_event:No rollover needed on 2023-07-22 00:00:00\n",
      "INFO:option_backtest.backtest_event:No rollover needed on 2023-07-23 00:00:00\n",
      "INFO:option_backtest.backtest_event:No rollover needed on 2023-07-24 00:00:00\n",
      "INFO:option_backtest.backtest_event:No rollover needed on 2023-07-25 00:00:00\n",
      "INFO:option_backtest.backtest_event:No rollover needed on 2023-07-26 00:00:00\n",
      "INFO:option_backtest.backtest_event:Rollover date=230727, price=103.60, delta=0.48, XYZ230731C00105000 -> XYZ230831C00105000\n",
      "INFO:option_backtest.market:Executed trade: XYZ230731C00105000 @ 0.52 * -1, Option position: 0, Cash: 272.06\n",
      "INFO:option_backtest.market:Executed trade: XYZ230831C00105000 @ 2.77 * 1, Option position: 1, Cash: -4.52\n",
      "INFO:option_backtest.backtest_event:No rollover needed on 2023-07-28 00:00:00\n",
      "INFO:option_backtest.backtest_event:No rollover needed on 2023-07-29 00:00:00\n",
      "INFO:option_backtest.backtest_event:No rollover needed on 2023-07-30 00:00:00\n",
      "INFO:option_backtest.backtest_event:No rollover needed on 2023-07-31 00:00:00\n",
      "INFO:option_backtest.backtest_event:No rollover needed on 2023-08-01 00:00:00\n",
      "INFO:option_backtest.backtest_event:No rollover needed on 2023-08-02 00:00:00\n",
      "INFO:option_backtest.backtest_event:No rollover needed on 2023-08-03 00:00:00\n",
      "INFO:option_backtest.backtest_event:No rollover needed on 2023-08-04 00:00:00\n",
      "INFO:option_backtest.backtest_event:No rollover needed on 2023-08-05 00:00:00\n",
      "INFO:option_backtest.backtest_event:No rollover needed on 2023-08-06 00:00:00\n",
      "INFO:option_backtest.backtest_event:No rollover needed on 2023-08-07 00:00:00\n",
      "INFO:option_backtest.backtest_event:No rollover needed on 2023-08-08 00:00:00\n",
      "INFO:option_backtest.backtest_event:No rollover needed on 2023-08-09 00:00:00\n",
      "INFO:option_backtest.backtest_event:No rollover needed on 2023-08-10 00:00:00\n",
      "INFO:option_backtest.backtest_event:No rollover needed on 2023-08-11 00:00:00\n",
      "INFO:option_backtest.backtest_event:No rollover needed on 2023-08-12 00:00:00\n",
      "INFO:option_backtest.backtest_event:No rollover needed on 2023-08-13 00:00:00\n",
      "INFO:option_backtest.backtest_event:No rollover needed on 2023-08-14 00:00:00\n",
      "INFO:option_backtest.backtest_event:No rollover needed on 2023-08-15 00:00:00\n",
      "INFO:option_backtest.backtest_event:No rollover needed on 2023-08-16 00:00:00\n",
      "INFO:option_backtest.backtest_event:No rollover needed on 2023-08-17 00:00:00\n",
      "INFO:option_backtest.backtest_event:No rollover needed on 2023-08-18 00:00:00\n",
      "INFO:option_backtest.backtest_event:No rollover needed on 2023-08-19 00:00:00\n",
      "INFO:option_backtest.backtest_event:No rollover needed on 2023-08-20 00:00:00\n",
      "INFO:option_backtest.backtest_event:No rollover needed on 2023-08-21 00:00:00\n",
      "INFO:option_backtest.backtest_event:No rollover needed on 2023-08-22 00:00:00\n",
      "INFO:option_backtest.backtest_event:No rollover needed on 2023-08-23 00:00:00\n",
      "INFO:option_backtest.backtest_event:No rollover needed on 2023-08-24 00:00:00\n",
      "INFO:option_backtest.backtest_event:No rollover needed on 2023-08-25 00:00:00\n",
      "INFO:option_backtest.backtest_event:No rollover needed on 2023-08-26 00:00:00\n",
      "INFO:option_backtest.backtest_event:Rollover date=230827, price=116.46, delta=0.39, XYZ230831C00105000 -> XYZ230930C00120000\n",
      "INFO:option_backtest.market:Executed trade: XYZ230831C00105000 @ 11.54 * -1, Option position: 0, Cash: 1149.85\n",
      "INFO:option_backtest.market:Executed trade: XYZ230930C00120000 @ 2.26 * 1, Option position: 1, Cash: 924.19\n",
      "INFO:option_backtest.backtest_event:No rollover needed on 2023-08-28 00:00:00\n",
      "INFO:option_backtest.backtest_event:No rollover needed on 2023-08-29 00:00:00\n",
      "INFO:option_backtest.backtest_event:No rollover needed on 2023-08-30 00:00:00\n",
      "INFO:option_backtest.backtest_event:No rollover needed on 2023-08-31 00:00:00\n",
      "INFO:option_backtest.backtest_event:No rollover needed on 2023-09-01 00:00:00\n",
      "INFO:option_backtest.backtest_event:No rollover needed on 2023-09-02 00:00:00\n",
      "INFO:option_backtest.backtest_event:No rollover needed on 2023-09-03 00:00:00\n",
      "INFO:option_backtest.backtest_event:No rollover needed on 2023-09-04 00:00:00\n",
      "INFO:option_backtest.backtest_event:No rollover needed on 2023-09-05 00:00:00\n",
      "INFO:option_backtest.backtest_event:No rollover needed on 2023-09-06 00:00:00\n",
      "INFO:option_backtest.backtest_event:No rollover needed on 2023-09-07 00:00:00\n",
      "INFO:option_backtest.backtest_event:No rollover needed on 2023-09-08 00:00:00\n",
      "INFO:option_backtest.backtest_event:No rollover needed on 2023-09-09 00:00:00\n",
      "INFO:option_backtest.backtest_event:No rollover needed on 2023-09-10 00:00:00\n",
      "INFO:option_backtest.backtest_event:No rollover needed on 2023-09-11 00:00:00\n",
      "INFO:option_backtest.backtest_event:No rollover needed on 2023-09-12 00:00:00\n",
      "INFO:option_backtest.backtest_event:No rollover needed on 2023-09-13 00:00:00\n",
      "INFO:option_backtest.backtest_event:No rollover needed on 2023-09-14 00:00:00\n",
      "INFO:option_backtest.backtest_event:No rollover needed on 2023-09-15 00:00:00\n",
      "INFO:option_backtest.backtest_event:No rollover needed on 2023-09-16 00:00:00\n",
      "INFO:option_backtest.backtest_event:No rollover needed on 2023-09-17 00:00:00\n",
      "INFO:option_backtest.backtest_event:No rollover needed on 2023-09-18 00:00:00\n",
      "INFO:option_backtest.backtest_event:No rollover needed on 2023-09-19 00:00:00\n",
      "INFO:option_backtest.backtest_event:No rollover needed on 2023-09-20 00:00:00\n",
      "INFO:option_backtest.backtest_event:No rollover needed on 2023-09-21 00:00:00\n",
      "INFO:option_backtest.backtest_event:No rollover needed on 2023-09-22 00:00:00\n",
      "INFO:option_backtest.backtest_event:No rollover needed on 2023-09-23 00:00:00\n",
      "INFO:option_backtest.backtest_event:No rollover needed on 2023-09-24 00:00:00\n",
      "INFO:option_backtest.backtest_event:No rollover needed on 2023-09-25 00:00:00\n",
      "INFO:option_backtest.backtest_event:Rollover date=230926, price=119.44, delta=0.53, XYZ230930C00120000 -> XYZ231031C00120000\n",
      "INFO:option_backtest.market:Executed trade: XYZ230930C00120000 @ 0.99 * -1, Option position: 0, Cash: 1022.86\n",
      "INFO:option_backtest.market:Executed trade: XYZ231031C00120000 @ 3.69 * 1, Option position: 1, Cash: 654.27\n",
      "INFO:option_backtest.backtest_event:No rollover needed on 2023-09-27 00:00:00\n",
      "INFO:option_backtest.backtest_event:No rollover needed on 2023-09-28 00:00:00\n",
      "INFO:option_backtest.backtest_event:No rollover needed on 2023-09-29 00:00:00\n",
      "INFO:option_backtest.backtest_event:No rollover needed on 2023-09-30 00:00:00\n",
      "INFO:option_backtest.backtest_event:No rollover needed on 2023-10-01 00:00:00\n",
      "INFO:option_backtest.backtest_event:No rollover needed on 2023-10-02 00:00:00\n",
      "INFO:option_backtest.backtest_event:No rollover needed on 2023-10-03 00:00:00\n",
      "INFO:option_backtest.backtest_event:No rollover needed on 2023-10-04 00:00:00\n",
      "INFO:option_backtest.backtest_event:No rollover needed on 2023-10-05 00:00:00\n",
      "INFO:option_backtest.backtest_event:No rollover needed on 2023-10-06 00:00:00\n",
      "INFO:option_backtest.backtest_event:No rollover needed on 2023-10-07 00:00:00\n",
      "INFO:option_backtest.backtest_event:No rollover needed on 2023-10-08 00:00:00\n",
      "INFO:option_backtest.backtest_event:No rollover needed on 2023-10-09 00:00:00\n",
      "INFO:option_backtest.backtest_event:No rollover needed on 2023-10-10 00:00:00\n",
      "INFO:option_backtest.backtest_event:No rollover needed on 2023-10-11 00:00:00\n",
      "INFO:option_backtest.backtest_event:No rollover needed on 2023-10-12 00:00:00\n",
      "INFO:option_backtest.backtest_event:No rollover needed on 2023-10-13 00:00:00\n",
      "INFO:option_backtest.backtest_event:No rollover needed on 2023-10-14 00:00:00\n",
      "INFO:option_backtest.backtest_event:No rollover needed on 2023-10-15 00:00:00\n",
      "INFO:option_backtest.backtest_event:No rollover needed on 2023-10-16 00:00:00\n",
      "INFO:option_backtest.backtest_event:No rollover needed on 2023-10-17 00:00:00\n",
      "INFO:option_backtest.backtest_event:No rollover needed on 2023-10-18 00:00:00\n",
      "INFO:option_backtest.backtest_event:No rollover needed on 2023-10-19 00:00:00\n",
      "INFO:option_backtest.backtest_event:No rollover needed on 2023-10-20 00:00:00\n",
      "INFO:option_backtest.backtest_event:No rollover needed on 2023-10-21 00:00:00\n",
      "INFO:option_backtest.backtest_event:No rollover needed on 2023-10-22 00:00:00\n",
      "INFO:option_backtest.backtest_event:No rollover needed on 2023-10-23 00:00:00\n",
      "INFO:option_backtest.backtest_event:No rollover needed on 2023-10-24 00:00:00\n",
      "INFO:option_backtest.backtest_event:No rollover needed on 2023-10-25 00:00:00\n",
      "INFO:option_backtest.backtest_event:No rollover needed on 2023-10-26 00:00:00\n",
      "INFO:option_backtest.backtest_event:Rollover date=231027, price=109.53, delta=0.53, XYZ231031C00120000 -> XYZ231130C00110000\n",
      "INFO:option_backtest.market:Executed trade: XYZ231031C00120000 @ 0.00 * -1, Option position: 0, Cash: 654.29\n",
      "INFO:option_backtest.market:Executed trade: XYZ231130C00110000 @ 3.34 * 1, Option position: 1, Cash: 320.18\n",
      "INFO:option_backtest.backtest_event:No rollover needed on 2023-10-28 00:00:00\n",
      "INFO:option_backtest.backtest_event:No rollover needed on 2023-10-29 00:00:00\n",
      "INFO:option_backtest.backtest_event:No rollover needed on 2023-10-30 00:00:00\n",
      "INFO:option_backtest.backtest_event:No rollover needed on 2023-10-31 00:00:00\n",
      "INFO:option_backtest.backtest_event:No rollover needed on 2023-11-01 00:00:00\n",
      "INFO:option_backtest.backtest_event:No rollover needed on 2023-11-02 00:00:00\n",
      "INFO:option_backtest.backtest_event:No rollover needed on 2023-11-03 00:00:00\n",
      "INFO:option_backtest.backtest_event:No rollover needed on 2023-11-04 00:00:00\n",
      "INFO:option_backtest.backtest_event:No rollover needed on 2023-11-05 00:00:00\n",
      "INFO:option_backtest.backtest_event:No rollover needed on 2023-11-06 00:00:00\n",
      "INFO:option_backtest.backtest_event:No rollover needed on 2023-11-07 00:00:00\n",
      "INFO:option_backtest.backtest_event:No rollover needed on 2023-11-08 00:00:00\n",
      "INFO:option_backtest.backtest_event:No rollover needed on 2023-11-09 00:00:00\n",
      "INFO:option_backtest.backtest_event:No rollover needed on 2023-11-10 00:00:00\n",
      "INFO:option_backtest.backtest_event:No rollover needed on 2023-11-11 00:00:00\n",
      "INFO:option_backtest.backtest_event:No rollover needed on 2023-11-12 00:00:00\n",
      "INFO:option_backtest.backtest_event:No rollover needed on 2023-11-13 00:00:00\n",
      "INFO:option_backtest.backtest_event:No rollover needed on 2023-11-14 00:00:00\n",
      "INFO:option_backtest.backtest_event:No rollover needed on 2023-11-15 00:00:00\n",
      "INFO:option_backtest.backtest_event:No rollover needed on 2023-11-16 00:00:00\n",
      "INFO:option_backtest.backtest_event:No rollover needed on 2023-11-17 00:00:00\n",
      "INFO:option_backtest.backtest_event:No rollover needed on 2023-11-18 00:00:00\n",
      "INFO:option_backtest.backtest_event:No rollover needed on 2023-11-19 00:00:00\n",
      "INFO:option_backtest.backtest_event:No rollover needed on 2023-11-20 00:00:00\n",
      "INFO:option_backtest.backtest_event:No rollover needed on 2023-11-21 00:00:00\n",
      "INFO:option_backtest.backtest_event:No rollover needed on 2023-11-22 00:00:00\n",
      "INFO:option_backtest.backtest_event:No rollover needed on 2023-11-23 00:00:00\n",
      "INFO:option_backtest.backtest_event:No rollover needed on 2023-11-24 00:00:00\n",
      "INFO:option_backtest.backtest_event:No rollover needed on 2023-11-25 00:00:00\n",
      "INFO:option_backtest.backtest_event:Rollover date=231126, price=110.24, delta=0.56, XYZ231130C00110000 -> XYZ231231C00110000\n",
      "INFO:option_backtest.market:Executed trade: XYZ231130C00110000 @ 1.28 * -1, Option position: 0, Cash: 447.70\n",
      "INFO:option_backtest.market:Executed trade: XYZ231231C00110000 @ 3.78 * 1, Option position: 1, Cash: 69.22\n",
      "INFO:option_backtest.backtest_event:No rollover needed on 2023-11-27 00:00:00\n",
      "INFO:option_backtest.backtest_event:No rollover needed on 2023-11-28 00:00:00\n",
      "INFO:option_backtest.backtest_event:No rollover needed on 2023-11-29 00:00:00\n",
      "INFO:option_backtest.backtest_event:No rollover needed on 2023-11-30 00:00:00\n",
      "INFO:option_backtest.backtest_event:No rollover needed on 2023-12-01 00:00:00\n",
      "INFO:option_backtest.backtest_event:No rollover needed on 2023-12-02 00:00:00\n",
      "INFO:option_backtest.backtest_event:No rollover needed on 2023-12-03 00:00:00\n",
      "INFO:option_backtest.backtest_event:No rollover needed on 2023-12-04 00:00:00\n",
      "INFO:option_backtest.backtest_event:No rollover needed on 2023-12-05 00:00:00\n",
      "INFO:option_backtest.backtest_event:No rollover needed on 2023-12-06 00:00:00\n",
      "INFO:option_backtest.backtest_event:No rollover needed on 2023-12-07 00:00:00\n",
      "INFO:option_backtest.backtest_event:No rollover needed on 2023-12-08 00:00:00\n",
      "INFO:option_backtest.backtest_event:No rollover needed on 2023-12-09 00:00:00\n",
      "INFO:option_backtest.backtest_event:No rollover needed on 2023-12-10 00:00:00\n",
      "INFO:option_backtest.backtest_event:No rollover needed on 2023-12-11 00:00:00\n",
      "INFO:option_backtest.backtest_event:No rollover needed on 2023-12-12 00:00:00\n",
      "INFO:option_backtest.backtest_event:No rollover needed on 2023-12-13 00:00:00\n",
      "INFO:option_backtest.backtest_event:No rollover needed on 2023-12-14 00:00:00\n",
      "INFO:option_backtest.backtest_event:No rollover needed on 2023-12-15 00:00:00\n",
      "INFO:option_backtest.backtest_event:No rollover needed on 2023-12-16 00:00:00\n",
      "INFO:option_backtest.backtest_event:No rollover needed on 2023-12-17 00:00:00\n",
      "INFO:option_backtest.backtest_event:No rollover needed on 2023-12-18 00:00:00\n",
      "INFO:option_backtest.backtest_event:No rollover needed on 2023-12-19 00:00:00\n",
      "INFO:option_backtest.backtest_event:No rollover needed on 2023-12-20 00:00:00\n",
      "INFO:option_backtest.backtest_event:No rollover needed on 2023-12-21 00:00:00\n",
      "INFO:option_backtest.backtest_event:No rollover needed on 2023-12-22 00:00:00\n",
      "INFO:option_backtest.backtest_event:No rollover needed on 2023-12-23 00:00:00\n",
      "INFO:option_backtest.backtest_event:No rollover needed on 2023-12-24 00:00:00\n",
      "INFO:option_backtest.backtest_event:No rollover needed on 2023-12-25 00:00:00\n",
      "INFO:option_backtest.backtest_event:No rollover needed on 2023-12-26 00:00:00\n",
      "INFO:option_backtest.backtest_event:Rollover date=231227, price=122.61, delta=0.45, XYZ231231C00110000 -> XYZ240131C00125000\n",
      "INFO:option_backtest.market:Executed trade: XYZ231231C00110000 @ 12.70 * -1, Option position: 0, Cash: 1338.90\n",
      "INFO:option_backtest.market:Executed trade: XYZ240131C00125000 @ 2.96 * 1, Option position: 1, Cash: 1043.37\n",
      "INFO:option_backtest.backtest_event:No rollover needed on 2023-12-28 00:00:00\n",
      "INFO:option_backtest.backtest_event:No rollover needed on 2023-12-29 00:00:00\n",
      "INFO:option_backtest.backtest_event:No rollover needed on 2023-12-30 00:00:00\n",
      "INFO:option_backtest.backtest_event:No rollover needed on 2023-12-31 00:00:00\n"
     ]
    },
    {
     "name": "stdout",
     "output_type": "stream",
     "text": [
      "Metrics:\n",
      "Total Return: 0.3736\n",
      "Sharpe Ratio: -1.2769\n",
      "Max Drawdown: -0.8781\n",
      "Volatility: 2.1355\n"
     ]
    },
    {
     "data": {
      "application/vnd.plotly.v1+json": {
       "config": {
        "plotlyServerURL": "https://plot.ly"
       },
       "data": [
        {
         "line": {
          "color": "blue"
         },
         "name": "Stock Price",
         "type": "scatter",
         "x": [
          "2023-01-01T00:00:00",
          "2023-01-02T00:00:00",
          "2023-01-03T00:00:00",
          "2023-01-04T00:00:00",
          "2023-01-05T00:00:00",
          "2023-01-06T00:00:00",
          "2023-01-07T00:00:00",
          "2023-01-08T00:00:00",
          "2023-01-09T00:00:00",
          "2023-01-10T00:00:00",
          "2023-01-11T00:00:00",
          "2023-01-12T00:00:00",
          "2023-01-13T00:00:00",
          "2023-01-14T00:00:00",
          "2023-01-15T00:00:00",
          "2023-01-16T00:00:00",
          "2023-01-17T00:00:00",
          "2023-01-18T00:00:00",
          "2023-01-19T00:00:00",
          "2023-01-20T00:00:00",
          "2023-01-21T00:00:00",
          "2023-01-22T00:00:00",
          "2023-01-23T00:00:00",
          "2023-01-24T00:00:00",
          "2023-01-25T00:00:00",
          "2023-01-26T00:00:00",
          "2023-01-27T00:00:00",
          "2023-01-28T00:00:00",
          "2023-01-29T00:00:00",
          "2023-01-30T00:00:00",
          "2023-01-31T00:00:00",
          "2023-02-01T00:00:00",
          "2023-02-02T00:00:00",
          "2023-02-03T00:00:00",
          "2023-02-04T00:00:00",
          "2023-02-05T00:00:00",
          "2023-02-06T00:00:00",
          "2023-02-07T00:00:00",
          "2023-02-08T00:00:00",
          "2023-02-09T00:00:00",
          "2023-02-10T00:00:00",
          "2023-02-11T00:00:00",
          "2023-02-12T00:00:00",
          "2023-02-13T00:00:00",
          "2023-02-14T00:00:00",
          "2023-02-15T00:00:00",
          "2023-02-16T00:00:00",
          "2023-02-17T00:00:00",
          "2023-02-18T00:00:00",
          "2023-02-19T00:00:00",
          "2023-02-20T00:00:00",
          "2023-02-21T00:00:00",
          "2023-02-22T00:00:00",
          "2023-02-23T00:00:00",
          "2023-02-24T00:00:00",
          "2023-02-25T00:00:00",
          "2023-02-26T00:00:00",
          "2023-02-27T00:00:00",
          "2023-02-28T00:00:00",
          "2023-03-01T00:00:00",
          "2023-03-02T00:00:00",
          "2023-03-03T00:00:00",
          "2023-03-04T00:00:00",
          "2023-03-05T00:00:00",
          "2023-03-06T00:00:00",
          "2023-03-07T00:00:00",
          "2023-03-08T00:00:00",
          "2023-03-09T00:00:00",
          "2023-03-10T00:00:00",
          "2023-03-11T00:00:00",
          "2023-03-12T00:00:00",
          "2023-03-13T00:00:00",
          "2023-03-14T00:00:00",
          "2023-03-15T00:00:00",
          "2023-03-16T00:00:00",
          "2023-03-17T00:00:00",
          "2023-03-18T00:00:00",
          "2023-03-19T00:00:00",
          "2023-03-20T00:00:00",
          "2023-03-21T00:00:00",
          "2023-03-22T00:00:00",
          "2023-03-23T00:00:00",
          "2023-03-24T00:00:00",
          "2023-03-25T00:00:00",
          "2023-03-26T00:00:00",
          "2023-03-27T00:00:00",
          "2023-03-28T00:00:00",
          "2023-03-29T00:00:00",
          "2023-03-30T00:00:00",
          "2023-03-31T00:00:00",
          "2023-04-01T00:00:00",
          "2023-04-02T00:00:00",
          "2023-04-03T00:00:00",
          "2023-04-04T00:00:00",
          "2023-04-05T00:00:00",
          "2023-04-06T00:00:00",
          "2023-04-07T00:00:00",
          "2023-04-08T00:00:00",
          "2023-04-09T00:00:00",
          "2023-04-10T00:00:00",
          "2023-04-11T00:00:00",
          "2023-04-12T00:00:00",
          "2023-04-13T00:00:00",
          "2023-04-14T00:00:00",
          "2023-04-15T00:00:00",
          "2023-04-16T00:00:00",
          "2023-04-17T00:00:00",
          "2023-04-18T00:00:00",
          "2023-04-19T00:00:00",
          "2023-04-20T00:00:00",
          "2023-04-21T00:00:00",
          "2023-04-22T00:00:00",
          "2023-04-23T00:00:00",
          "2023-04-24T00:00:00",
          "2023-04-25T00:00:00",
          "2023-04-26T00:00:00",
          "2023-04-27T00:00:00",
          "2023-04-28T00:00:00",
          "2023-04-29T00:00:00",
          "2023-04-30T00:00:00",
          "2023-05-01T00:00:00",
          "2023-05-02T00:00:00",
          "2023-05-03T00:00:00",
          "2023-05-04T00:00:00",
          "2023-05-05T00:00:00",
          "2023-05-06T00:00:00",
          "2023-05-07T00:00:00",
          "2023-05-08T00:00:00",
          "2023-05-09T00:00:00",
          "2023-05-10T00:00:00",
          "2023-05-11T00:00:00",
          "2023-05-12T00:00:00",
          "2023-05-13T00:00:00",
          "2023-05-14T00:00:00",
          "2023-05-15T00:00:00",
          "2023-05-16T00:00:00",
          "2023-05-17T00:00:00",
          "2023-05-18T00:00:00",
          "2023-05-19T00:00:00",
          "2023-05-20T00:00:00",
          "2023-05-21T00:00:00",
          "2023-05-22T00:00:00",
          "2023-05-23T00:00:00",
          "2023-05-24T00:00:00",
          "2023-05-25T00:00:00",
          "2023-05-26T00:00:00",
          "2023-05-27T00:00:00",
          "2023-05-28T00:00:00",
          "2023-05-29T00:00:00",
          "2023-05-30T00:00:00",
          "2023-05-31T00:00:00",
          "2023-06-01T00:00:00",
          "2023-06-02T00:00:00",
          "2023-06-03T00:00:00",
          "2023-06-04T00:00:00",
          "2023-06-05T00:00:00",
          "2023-06-06T00:00:00",
          "2023-06-07T00:00:00",
          "2023-06-08T00:00:00",
          "2023-06-09T00:00:00",
          "2023-06-10T00:00:00",
          "2023-06-11T00:00:00",
          "2023-06-12T00:00:00",
          "2023-06-13T00:00:00",
          "2023-06-14T00:00:00",
          "2023-06-15T00:00:00",
          "2023-06-16T00:00:00",
          "2023-06-17T00:00:00",
          "2023-06-18T00:00:00",
          "2023-06-19T00:00:00",
          "2023-06-20T00:00:00",
          "2023-06-21T00:00:00",
          "2023-06-22T00:00:00",
          "2023-06-23T00:00:00",
          "2023-06-24T00:00:00",
          "2023-06-25T00:00:00",
          "2023-06-26T00:00:00",
          "2023-06-27T00:00:00",
          "2023-06-28T00:00:00",
          "2023-06-29T00:00:00",
          "2023-06-30T00:00:00",
          "2023-07-01T00:00:00",
          "2023-07-02T00:00:00",
          "2023-07-03T00:00:00",
          "2023-07-04T00:00:00",
          "2023-07-05T00:00:00",
          "2023-07-06T00:00:00",
          "2023-07-07T00:00:00",
          "2023-07-08T00:00:00",
          "2023-07-09T00:00:00",
          "2023-07-10T00:00:00",
          "2023-07-11T00:00:00",
          "2023-07-12T00:00:00",
          "2023-07-13T00:00:00",
          "2023-07-14T00:00:00",
          "2023-07-15T00:00:00",
          "2023-07-16T00:00:00",
          "2023-07-17T00:00:00",
          "2023-07-18T00:00:00",
          "2023-07-19T00:00:00",
          "2023-07-20T00:00:00",
          "2023-07-21T00:00:00",
          "2023-07-22T00:00:00",
          "2023-07-23T00:00:00",
          "2023-07-24T00:00:00",
          "2023-07-25T00:00:00",
          "2023-07-26T00:00:00",
          "2023-07-27T00:00:00",
          "2023-07-28T00:00:00",
          "2023-07-29T00:00:00",
          "2023-07-30T00:00:00",
          "2023-07-31T00:00:00",
          "2023-08-01T00:00:00",
          "2023-08-02T00:00:00",
          "2023-08-03T00:00:00",
          "2023-08-04T00:00:00",
          "2023-08-05T00:00:00",
          "2023-08-06T00:00:00",
          "2023-08-07T00:00:00",
          "2023-08-08T00:00:00",
          "2023-08-09T00:00:00",
          "2023-08-10T00:00:00",
          "2023-08-11T00:00:00",
          "2023-08-12T00:00:00",
          "2023-08-13T00:00:00",
          "2023-08-14T00:00:00",
          "2023-08-15T00:00:00",
          "2023-08-16T00:00:00",
          "2023-08-17T00:00:00",
          "2023-08-18T00:00:00",
          "2023-08-19T00:00:00",
          "2023-08-20T00:00:00",
          "2023-08-21T00:00:00",
          "2023-08-22T00:00:00",
          "2023-08-23T00:00:00",
          "2023-08-24T00:00:00",
          "2023-08-25T00:00:00",
          "2023-08-26T00:00:00",
          "2023-08-27T00:00:00",
          "2023-08-28T00:00:00",
          "2023-08-29T00:00:00",
          "2023-08-30T00:00:00",
          "2023-08-31T00:00:00",
          "2023-09-01T00:00:00",
          "2023-09-02T00:00:00",
          "2023-09-03T00:00:00",
          "2023-09-04T00:00:00",
          "2023-09-05T00:00:00",
          "2023-09-06T00:00:00",
          "2023-09-07T00:00:00",
          "2023-09-08T00:00:00",
          "2023-09-09T00:00:00",
          "2023-09-10T00:00:00",
          "2023-09-11T00:00:00",
          "2023-09-12T00:00:00",
          "2023-09-13T00:00:00",
          "2023-09-14T00:00:00",
          "2023-09-15T00:00:00",
          "2023-09-16T00:00:00",
          "2023-09-17T00:00:00",
          "2023-09-18T00:00:00",
          "2023-09-19T00:00:00",
          "2023-09-20T00:00:00",
          "2023-09-21T00:00:00",
          "2023-09-22T00:00:00",
          "2023-09-23T00:00:00",
          "2023-09-24T00:00:00",
          "2023-09-25T00:00:00",
          "2023-09-26T00:00:00",
          "2023-09-27T00:00:00",
          "2023-09-28T00:00:00",
          "2023-09-29T00:00:00",
          "2023-09-30T00:00:00",
          "2023-10-01T00:00:00",
          "2023-10-02T00:00:00",
          "2023-10-03T00:00:00",
          "2023-10-04T00:00:00",
          "2023-10-05T00:00:00",
          "2023-10-06T00:00:00",
          "2023-10-07T00:00:00",
          "2023-10-08T00:00:00",
          "2023-10-09T00:00:00",
          "2023-10-10T00:00:00",
          "2023-10-11T00:00:00",
          "2023-10-12T00:00:00",
          "2023-10-13T00:00:00",
          "2023-10-14T00:00:00",
          "2023-10-15T00:00:00",
          "2023-10-16T00:00:00",
          "2023-10-17T00:00:00",
          "2023-10-18T00:00:00",
          "2023-10-19T00:00:00",
          "2023-10-20T00:00:00",
          "2023-10-21T00:00:00",
          "2023-10-22T00:00:00",
          "2023-10-23T00:00:00",
          "2023-10-24T00:00:00",
          "2023-10-25T00:00:00",
          "2023-10-26T00:00:00",
          "2023-10-27T00:00:00",
          "2023-10-28T00:00:00",
          "2023-10-29T00:00:00",
          "2023-10-30T00:00:00",
          "2023-10-31T00:00:00",
          "2023-11-01T00:00:00",
          "2023-11-02T00:00:00",
          "2023-11-03T00:00:00",
          "2023-11-04T00:00:00",
          "2023-11-05T00:00:00",
          "2023-11-06T00:00:00",
          "2023-11-07T00:00:00",
          "2023-11-08T00:00:00",
          "2023-11-09T00:00:00",
          "2023-11-10T00:00:00",
          "2023-11-11T00:00:00",
          "2023-11-12T00:00:00",
          "2023-11-13T00:00:00",
          "2023-11-14T00:00:00",
          "2023-11-15T00:00:00",
          "2023-11-16T00:00:00",
          "2023-11-17T00:00:00",
          "2023-11-18T00:00:00",
          "2023-11-19T00:00:00",
          "2023-11-20T00:00:00",
          "2023-11-21T00:00:00",
          "2023-11-22T00:00:00",
          "2023-11-23T00:00:00",
          "2023-11-24T00:00:00",
          "2023-11-25T00:00:00",
          "2023-11-26T00:00:00",
          "2023-11-27T00:00:00",
          "2023-11-28T00:00:00",
          "2023-11-29T00:00:00",
          "2023-11-30T00:00:00",
          "2023-12-01T00:00:00",
          "2023-12-02T00:00:00",
          "2023-12-03T00:00:00",
          "2023-12-04T00:00:00",
          "2023-12-05T00:00:00",
          "2023-12-06T00:00:00",
          "2023-12-07T00:00:00",
          "2023-12-08T00:00:00",
          "2023-12-09T00:00:00",
          "2023-12-10T00:00:00",
          "2023-12-11T00:00:00",
          "2023-12-12T00:00:00",
          "2023-12-13T00:00:00",
          "2023-12-14T00:00:00",
          "2023-12-15T00:00:00",
          "2023-12-16T00:00:00",
          "2023-12-17T00:00:00",
          "2023-12-18T00:00:00",
          "2023-12-19T00:00:00",
          "2023-12-20T00:00:00",
          "2023-12-21T00:00:00",
          "2023-12-22T00:00:00",
          "2023-12-23T00:00:00",
          "2023-12-24T00:00:00",
          "2023-12-25T00:00:00",
          "2023-12-26T00:00:00",
          "2023-12-27T00:00:00",
          "2023-12-28T00:00:00",
          "2023-12-29T00:00:00",
          "2023-12-30T00:00:00",
          "2023-12-31T00:00:00"
         ],
         "y": [
          101.58703723307146,
          97.58104729868172,
          97.54290951330049,
          98.0040698234551,
          99.6760328819523,
          99.60362515424418,
          95.97499495649625,
          97.00436240476354,
          99.63323273008189,
          99.9014688284568,
          99.8927974351194,
          98.5577152680344,
          96.23221746948474,
          95.8466059425809,
          95.0309019268386,
          93.84122657635442,
          94.6267362888312,
          95.483956875353,
          97.47638109696857,
          99.7355608532352,
          100.23673352977568,
          100.31873316641442,
          98.74109953962946,
          99.95055350690366,
          99.35370525054506,
          99.35255799833853,
          99.5019121793774,
          99.27781784632715,
          99.58117867913728,
          98.36129772895418,
          98.23466023402796,
          99.50375855321666,
          99.4665626675987,
          101.09085987051832,
          102.8634723344832,
          101.60307153970844,
          101.9451085087366,
          101.87273964226324,
          103.61467503181116,
          103.58055800957251,
          104.98177493852484,
          103.781211382569,
          104.46612294126972,
          105.56550492484168,
          105.6687752371236,
          102.77136200651064,
          103.6241050207684,
          102.23014982301106,
          104.96546662140248,
          104.09834685050274,
          104.38820644710522,
          104.80238205721442,
          104.303374323325,
          102.342703323111,
          101.86180574951224,
          101.78864252555717,
          102.82794719192113,
          103.00646646354056,
          104.84158738543331,
          104.239611734376,
          106.1986880927533,
          105.16268138169735,
          101.99124042026142,
          101.2881991908272,
          98.94204023435366,
          97.4126975280346,
          98.70790965272616,
          99.84987630822216,
          99.01590473841776,
          99.22602353859816,
          97.43407667625254,
          95.65972415708649,
          95.87634715662938,
          94.2123917099093,
          94.2867264040768,
          94.35575748813253,
          95.2989410791074,
          95.9014908210654,
          96.27934077939108,
          95.56355733132324,
          94.72345571231268,
          94.6089617455104,
          96.38147748768114,
          95.88024879092924,
          94.97820853168996,
          95.42845424066296,
          93.9408413109486,
          93.41592138902182,
          94.05728897376515,
          93.8996538845141,
          93.83717956089176,
          93.67236823180504,
          93.83165399085352,
          95.33087112743448,
          96.82088207614008,
          97.20398154421687,
          97.70678088288544,
          97.8937388332021,
          98.31709271736251,
          97.60184405173868,
          96.94393818852492,
          96.95863107218396,
          97.08244958672417,
          96.88762637525484,
          96.9989260253976,
          99.19779924638348,
          100.17554500535176,
          99.93685180678982,
          100.11315483722665,
          101.61008363830442,
          100.71651759314432,
          101.12033094687848,
          101.50161828323144,
          98.92448982956344,
          98.29246258632848,
          98.9131920694173,
          100.36838010167234,
          99.68050934345364,
          97.38583701164312,
          97.4755677234284,
          96.2204735745796,
          96.14100529172497,
          97.53016711752068,
          96.83981776944218,
          97.12525581240118,
          96.24235320144612,
          97.55058654482832,
          97.15110429343984,
          97.30741337905803,
          96.78777328825932,
          97.888627255528,
          100.62884230280812,
          101.89150593197498,
          101.19294001151052,
          99.12309383948354,
          97.68795954132648,
          98.4760758045744,
          98.06523683186931,
          96.85973123784429,
          94.78113276845448,
          95.3962220202916,
          98.52637653049516,
          98.37773498554562,
          96.22134388162743,
          96.62059846705108,
          97.15082012683617,
          97.1479753683686,
          96.598109283139,
          94.44691673084576,
          93.65668797057424,
          94.16815085880278,
          96.1127302626283,
          95.44032642721136,
          95.11617926363752,
          94.38039540141176,
          93.768330962124,
          93.16407063477848,
          94.71195418425424,
          94.87226928580765,
          94.18690854409412,
          95.85183883797151,
          96.97857547917302,
          96.20023262585958,
          98.05736641670904,
          98.59431029009627,
          99.23991791036823,
          100.59266067562348,
          101.4221276009788,
          101.90221448555698,
          99.68533860573068,
          101.40230315978994,
          103.60549693905848,
          104.42444570365292,
          102.72304295376762,
          102.5025393621317,
          102.32357207452652,
          103.12382570002892,
          102.08655964994892,
          100.3721308692759,
          101.7157600970339,
          102.24112578201505,
          102.34821636321982,
          102.74215304474454,
          104.03693296907272,
          102.72343634864202,
          104.52474243251366,
          104.61832295806752,
          103.4356563129947,
          105.00373201782295,
          105.43149979066662,
          103.3300143294761,
          103.93289412481646,
          105.5524895960583,
          104.53012873465168,
          104.20476466245006,
          104.47366894408349,
          103.71605639795224,
          103.73900567514336,
          104.38106826828562,
          104.55103723329236,
          105.48181548810902,
          105.25644451117176,
          103.9321569539275,
          104.53559083239568,
          103.69754252267327,
          102.8086298166141,
          102.57552766069637,
          103.60199044823668,
          102.4491593292893,
          103.36867990915822,
          101.44425611548768,
          101.64974033364014,
          100.397196534915,
          101.34055857100424,
          102.85039038904353,
          102.43395878425852,
          103.8435988519469,
          103.6917217489558,
          106.63999020177909,
          109.04558680245076,
          109.74552438589784,
          110.92928806682076,
          111.99547983638531,
          110.97982731774962,
          111.17868459766576,
          110.10247732424207,
          107.4439997823443,
          106.23946384409275,
          106.60965509115326,
          108.2573939502784,
          108.0912683483524,
          110.44479139049876,
          111.51885484398592,
          111.41215299355932,
          113.19134485532696,
          115.4545344867218,
          118.26920805416074,
          118.37559682490458,
          116.4603309755298,
          118.3506991000173,
          117.89726646234766,
          114.8449084094164,
          114.65760818490747,
          112.81579436902148,
          114.91909214642456,
          116.94627207749105,
          115.31319259344151,
          115.91746451052649,
          115.67505777086592,
          113.96432254495971,
          113.77333722434224,
          112.80832482004422,
          113.3264321342282,
          113.79143822911296,
          114.2094214134123,
          112.51367421538924,
          112.74947500980784,
          112.6877842971718,
          113.39402729418975,
          113.28575837838952,
          113.88372398047228,
          115.58832845865491,
          115.95137988607642,
          116.40789111232336,
          117.30009254390478,
          117.07477848274898,
          117.668018270714,
          118.2390953698352,
          119.44426333442416,
          121.4609598274984,
          122.02786671335988,
          122.5995045229593,
          124.3787100422039,
          122.45349584880869,
          120.18584373822767,
          119.77764615382804,
          118.72691865697934,
          117.27969996795038,
          116.67476735645054,
          118.44481074708392,
          120.03858596960596,
          119.70623610487992,
          119.2515505747731,
          117.60831004836564,
          113.69084529248804,
          111.46448892514952,
          112.13882025404271,
          112.15630663028256,
          112.22941213264816,
          111.0069951883693,
          109.31588117082872,
          111.1743172323697,
          111.12620936124628,
          110.91555299656694,
          110.82316941325612,
          110.33924959366328,
          111.71783972517656,
          110.57106051513246,
          109.91638114983805,
          109.52835580484236,
          110.6709789604592,
          107.97652297834776,
          109.12034536327596,
          110.27334918018174,
          108.9574932685515,
          108.08898776559592,
          108.63240874086726,
          109.8614350935465,
          110.80282901114128,
          110.67711721637244,
          109.69657464644597,
          109.59334941262289,
          108.6861002597917,
          108.82428720814237,
          109.00098052348784,
          110.50319316372035,
          110.04916141833932,
          108.60754786447175,
          108.33401377186432,
          108.3048620214786,
          109.85165312077083,
          111.93962252184532,
          110.31841382251228,
          111.84090515744889,
          114.12469369575768,
          111.63277947736424,
          111.68386824201168,
          109.56470486762232,
          111.39814567072445,
          110.23530312424748,
          110.54803135609733,
          110.5490080968642,
          111.57010340798878,
          111.59688762130946,
          110.57364387262412,
          111.00169156076193,
          109.53378824920811,
          108.6348953357538,
          106.9028856123641,
          106.57284835545433,
          108.4872467872004,
          112.50679631868395,
          113.26297209389396,
          117.62326801822086,
          119.44470937580336,
          122.11761927243587,
          119.60796856983976,
          121.83153551817712,
          123.46206889378917,
          126.2444201532504,
          126.51926781677908,
          126.36285086625696,
          123.61954869361978,
          123.0733675331438,
          124.35346616259368,
          124.34200899576106,
          121.6452499002868,
          124.45845609568347,
          124.444409747082,
          122.80876761903647,
          122.6095448439507,
          121.63060610667826,
          120.06192150943468,
          122.70526884240488,
          123.89113716768168
         ],
         "yaxis": "y"
        },
        {
         "line": {
          "color": "green"
         },
         "name": "Portfolio Value",
         "type": "scatter",
         "x": [
          "2023-01-01T00:00:00",
          "2023-01-02T00:00:00",
          "2023-01-03T00:00:00",
          "2023-01-04T00:00:00",
          "2023-01-05T00:00:00",
          "2023-01-06T00:00:00",
          "2023-01-07T00:00:00",
          "2023-01-08T00:00:00",
          "2023-01-09T00:00:00",
          "2023-01-10T00:00:00",
          "2023-01-11T00:00:00",
          "2023-01-12T00:00:00",
          "2023-01-13T00:00:00",
          "2023-01-14T00:00:00",
          "2023-01-15T00:00:00",
          "2023-01-16T00:00:00",
          "2023-01-17T00:00:00",
          "2023-01-18T00:00:00",
          "2023-01-19T00:00:00",
          "2023-01-20T00:00:00",
          "2023-01-21T00:00:00",
          "2023-01-22T00:00:00",
          "2023-01-23T00:00:00",
          "2023-01-24T00:00:00",
          "2023-01-25T00:00:00",
          "2023-01-26T00:00:00",
          "2023-01-27T00:00:00",
          "2023-01-28T00:00:00",
          "2023-01-29T00:00:00",
          "2023-01-30T00:00:00",
          "2023-01-31T00:00:00",
          "2023-02-01T00:00:00",
          "2023-02-02T00:00:00",
          "2023-02-03T00:00:00",
          "2023-02-04T00:00:00",
          "2023-02-05T00:00:00",
          "2023-02-06T00:00:00",
          "2023-02-07T00:00:00",
          "2023-02-08T00:00:00",
          "2023-02-09T00:00:00",
          "2023-02-10T00:00:00",
          "2023-02-11T00:00:00",
          "2023-02-12T00:00:00",
          "2023-02-13T00:00:00",
          "2023-02-14T00:00:00",
          "2023-02-15T00:00:00",
          "2023-02-16T00:00:00",
          "2023-02-17T00:00:00",
          "2023-02-18T00:00:00",
          "2023-02-19T00:00:00",
          "2023-02-20T00:00:00",
          "2023-02-21T00:00:00",
          "2023-02-22T00:00:00",
          "2023-02-23T00:00:00",
          "2023-02-24T00:00:00",
          "2023-02-25T00:00:00",
          "2023-02-26T00:00:00",
          "2023-02-27T00:00:00",
          "2023-02-28T00:00:00",
          "2023-03-01T00:00:00",
          "2023-03-02T00:00:00",
          "2023-03-03T00:00:00",
          "2023-03-04T00:00:00",
          "2023-03-05T00:00:00",
          "2023-03-06T00:00:00",
          "2023-03-07T00:00:00",
          "2023-03-08T00:00:00",
          "2023-03-09T00:00:00",
          "2023-03-10T00:00:00",
          "2023-03-11T00:00:00",
          "2023-03-12T00:00:00",
          "2023-03-13T00:00:00",
          "2023-03-14T00:00:00",
          "2023-03-15T00:00:00",
          "2023-03-16T00:00:00",
          "2023-03-17T00:00:00",
          "2023-03-18T00:00:00",
          "2023-03-19T00:00:00",
          "2023-03-20T00:00:00",
          "2023-03-21T00:00:00",
          "2023-03-22T00:00:00",
          "2023-03-23T00:00:00",
          "2023-03-24T00:00:00",
          "2023-03-25T00:00:00",
          "2023-03-26T00:00:00",
          "2023-03-27T00:00:00",
          "2023-03-28T00:00:00",
          "2023-03-29T00:00:00",
          "2023-03-30T00:00:00",
          "2023-03-31T00:00:00",
          "2023-04-01T00:00:00",
          "2023-04-02T00:00:00",
          "2023-04-03T00:00:00",
          "2023-04-04T00:00:00",
          "2023-04-05T00:00:00",
          "2023-04-06T00:00:00",
          "2023-04-07T00:00:00",
          "2023-04-08T00:00:00",
          "2023-04-09T00:00:00",
          "2023-04-10T00:00:00",
          "2023-04-11T00:00:00",
          "2023-04-12T00:00:00",
          "2023-04-13T00:00:00",
          "2023-04-14T00:00:00",
          "2023-04-15T00:00:00",
          "2023-04-16T00:00:00",
          "2023-04-17T00:00:00",
          "2023-04-18T00:00:00",
          "2023-04-19T00:00:00",
          "2023-04-20T00:00:00",
          "2023-04-21T00:00:00",
          "2023-04-22T00:00:00",
          "2023-04-23T00:00:00",
          "2023-04-24T00:00:00",
          "2023-04-25T00:00:00",
          "2023-04-26T00:00:00",
          "2023-04-27T00:00:00",
          "2023-04-28T00:00:00",
          "2023-04-29T00:00:00",
          "2023-04-30T00:00:00",
          "2023-05-01T00:00:00",
          "2023-05-02T00:00:00",
          "2023-05-03T00:00:00",
          "2023-05-04T00:00:00",
          "2023-05-05T00:00:00",
          "2023-05-06T00:00:00",
          "2023-05-07T00:00:00",
          "2023-05-08T00:00:00",
          "2023-05-09T00:00:00",
          "2023-05-10T00:00:00",
          "2023-05-11T00:00:00",
          "2023-05-12T00:00:00",
          "2023-05-13T00:00:00",
          "2023-05-14T00:00:00",
          "2023-05-15T00:00:00",
          "2023-05-16T00:00:00",
          "2023-05-17T00:00:00",
          "2023-05-18T00:00:00",
          "2023-05-19T00:00:00",
          "2023-05-20T00:00:00",
          "2023-05-21T00:00:00",
          "2023-05-22T00:00:00",
          "2023-05-23T00:00:00",
          "2023-05-24T00:00:00",
          "2023-05-25T00:00:00",
          "2023-05-26T00:00:00",
          "2023-05-27T00:00:00",
          "2023-05-28T00:00:00",
          "2023-05-29T00:00:00",
          "2023-05-30T00:00:00",
          "2023-05-31T00:00:00",
          "2023-06-01T00:00:00",
          "2023-06-02T00:00:00",
          "2023-06-03T00:00:00",
          "2023-06-04T00:00:00",
          "2023-06-05T00:00:00",
          "2023-06-06T00:00:00",
          "2023-06-07T00:00:00",
          "2023-06-08T00:00:00",
          "2023-06-09T00:00:00",
          "2023-06-10T00:00:00",
          "2023-06-11T00:00:00",
          "2023-06-12T00:00:00",
          "2023-06-13T00:00:00",
          "2023-06-14T00:00:00",
          "2023-06-15T00:00:00",
          "2023-06-16T00:00:00",
          "2023-06-17T00:00:00",
          "2023-06-18T00:00:00",
          "2023-06-19T00:00:00",
          "2023-06-20T00:00:00",
          "2023-06-21T00:00:00",
          "2023-06-22T00:00:00",
          "2023-06-23T00:00:00",
          "2023-06-24T00:00:00",
          "2023-06-25T00:00:00",
          "2023-06-26T00:00:00",
          "2023-06-27T00:00:00",
          "2023-06-28T00:00:00",
          "2023-06-29T00:00:00",
          "2023-06-30T00:00:00",
          "2023-07-01T00:00:00",
          "2023-07-02T00:00:00",
          "2023-07-03T00:00:00",
          "2023-07-04T00:00:00",
          "2023-07-05T00:00:00",
          "2023-07-06T00:00:00",
          "2023-07-07T00:00:00",
          "2023-07-08T00:00:00",
          "2023-07-09T00:00:00",
          "2023-07-10T00:00:00",
          "2023-07-11T00:00:00",
          "2023-07-12T00:00:00",
          "2023-07-13T00:00:00",
          "2023-07-14T00:00:00",
          "2023-07-15T00:00:00",
          "2023-07-16T00:00:00",
          "2023-07-17T00:00:00",
          "2023-07-18T00:00:00",
          "2023-07-19T00:00:00",
          "2023-07-20T00:00:00",
          "2023-07-21T00:00:00",
          "2023-07-22T00:00:00",
          "2023-07-23T00:00:00",
          "2023-07-24T00:00:00",
          "2023-07-25T00:00:00",
          "2023-07-26T00:00:00",
          "2023-07-27T00:00:00",
          "2023-07-28T00:00:00",
          "2023-07-29T00:00:00",
          "2023-07-30T00:00:00",
          "2023-07-31T00:00:00",
          "2023-08-01T00:00:00",
          "2023-08-02T00:00:00",
          "2023-08-03T00:00:00",
          "2023-08-04T00:00:00",
          "2023-08-05T00:00:00",
          "2023-08-06T00:00:00",
          "2023-08-07T00:00:00",
          "2023-08-08T00:00:00",
          "2023-08-09T00:00:00",
          "2023-08-10T00:00:00",
          "2023-08-11T00:00:00",
          "2023-08-12T00:00:00",
          "2023-08-13T00:00:00",
          "2023-08-14T00:00:00",
          "2023-08-15T00:00:00",
          "2023-08-16T00:00:00",
          "2023-08-17T00:00:00",
          "2023-08-18T00:00:00",
          "2023-08-19T00:00:00",
          "2023-08-20T00:00:00",
          "2023-08-21T00:00:00",
          "2023-08-22T00:00:00",
          "2023-08-23T00:00:00",
          "2023-08-24T00:00:00",
          "2023-08-25T00:00:00",
          "2023-08-26T00:00:00",
          "2023-08-27T00:00:00",
          "2023-08-28T00:00:00",
          "2023-08-29T00:00:00",
          "2023-08-30T00:00:00",
          "2023-08-31T00:00:00",
          "2023-09-01T00:00:00",
          "2023-09-02T00:00:00",
          "2023-09-03T00:00:00",
          "2023-09-04T00:00:00",
          "2023-09-05T00:00:00",
          "2023-09-06T00:00:00",
          "2023-09-07T00:00:00",
          "2023-09-08T00:00:00",
          "2023-09-09T00:00:00",
          "2023-09-10T00:00:00",
          "2023-09-11T00:00:00",
          "2023-09-12T00:00:00",
          "2023-09-13T00:00:00",
          "2023-09-14T00:00:00",
          "2023-09-15T00:00:00",
          "2023-09-16T00:00:00",
          "2023-09-17T00:00:00",
          "2023-09-18T00:00:00",
          "2023-09-19T00:00:00",
          "2023-09-20T00:00:00",
          "2023-09-21T00:00:00",
          "2023-09-22T00:00:00",
          "2023-09-23T00:00:00",
          "2023-09-24T00:00:00",
          "2023-09-25T00:00:00",
          "2023-09-26T00:00:00",
          "2023-09-27T00:00:00",
          "2023-09-28T00:00:00",
          "2023-09-29T00:00:00",
          "2023-09-30T00:00:00",
          "2023-10-01T00:00:00",
          "2023-10-02T00:00:00",
          "2023-10-03T00:00:00",
          "2023-10-04T00:00:00",
          "2023-10-05T00:00:00",
          "2023-10-06T00:00:00",
          "2023-10-07T00:00:00",
          "2023-10-08T00:00:00",
          "2023-10-09T00:00:00",
          "2023-10-10T00:00:00",
          "2023-10-11T00:00:00",
          "2023-10-12T00:00:00",
          "2023-10-13T00:00:00",
          "2023-10-14T00:00:00",
          "2023-10-15T00:00:00",
          "2023-10-16T00:00:00",
          "2023-10-17T00:00:00",
          "2023-10-18T00:00:00",
          "2023-10-19T00:00:00",
          "2023-10-20T00:00:00",
          "2023-10-21T00:00:00",
          "2023-10-22T00:00:00",
          "2023-10-23T00:00:00",
          "2023-10-24T00:00:00",
          "2023-10-25T00:00:00",
          "2023-10-26T00:00:00",
          "2023-10-27T00:00:00",
          "2023-10-28T00:00:00",
          "2023-10-29T00:00:00",
          "2023-10-30T00:00:00",
          "2023-10-31T00:00:00",
          "2023-11-01T00:00:00",
          "2023-11-02T00:00:00",
          "2023-11-03T00:00:00",
          "2023-11-04T00:00:00",
          "2023-11-05T00:00:00",
          "2023-11-06T00:00:00",
          "2023-11-07T00:00:00",
          "2023-11-08T00:00:00",
          "2023-11-09T00:00:00",
          "2023-11-10T00:00:00",
          "2023-11-11T00:00:00",
          "2023-11-12T00:00:00",
          "2023-11-13T00:00:00",
          "2023-11-14T00:00:00",
          "2023-11-15T00:00:00",
          "2023-11-16T00:00:00",
          "2023-11-17T00:00:00",
          "2023-11-18T00:00:00",
          "2023-11-19T00:00:00",
          "2023-11-20T00:00:00",
          "2023-11-21T00:00:00",
          "2023-11-22T00:00:00",
          "2023-11-23T00:00:00",
          "2023-11-24T00:00:00",
          "2023-11-25T00:00:00",
          "2023-11-26T00:00:00",
          "2023-11-27T00:00:00",
          "2023-11-28T00:00:00",
          "2023-11-29T00:00:00",
          "2023-11-30T00:00:00",
          "2023-12-01T00:00:00",
          "2023-12-02T00:00:00",
          "2023-12-03T00:00:00",
          "2023-12-04T00:00:00",
          "2023-12-05T00:00:00",
          "2023-12-06T00:00:00",
          "2023-12-07T00:00:00",
          "2023-12-08T00:00:00",
          "2023-12-09T00:00:00",
          "2023-12-10T00:00:00",
          "2023-12-11T00:00:00",
          "2023-12-12T00:00:00",
          "2023-12-13T00:00:00",
          "2023-12-14T00:00:00",
          "2023-12-15T00:00:00",
          "2023-12-16T00:00:00",
          "2023-12-17T00:00:00",
          "2023-12-18T00:00:00",
          "2023-12-19T00:00:00",
          "2023-12-20T00:00:00",
          "2023-12-21T00:00:00",
          "2023-12-22T00:00:00",
          "2023-12-23T00:00:00",
          "2023-12-24T00:00:00",
          "2023-12-25T00:00:00",
          "2023-12-26T00:00:00",
          "2023-12-27T00:00:00",
          "2023-12-28T00:00:00",
          "2023-12-29T00:00:00",
          "2023-12-30T00:00:00",
          "2023-12-31T00:00:00"
         ],
         "y": [
          1000,
          856.0836517709486,
          851.8472501088827,
          861.2974701846231,
          910.1085053964965,
          903.8458105439275,
          802.9886274454469,
          822.614287562752,
          893.3945200755971,
          898.535518026872,
          894.297601664648,
          849.3006584260975,
          791.4883926004784,
          781.6804775997742,
          766.0139951922206,
          748.497245898712,
          755.9129343029925,
          765.5402858500148,
          798.6965675341825,
          853.0874283922767,
          864.562255154415,
          862.8946751748274,
          813.9288170896875,
          842.8826408615031,
          821.908135909942,
          817.8429297881735,
          817.690146292313,
          807.8505082522121,
          811.4426909466697,
          779.6599738928996,
          773.6487060747887,
          796.9047403380487,
          791.8247023133808,
          831.16958402872,
          889.4722956545735,
          837.0282936683154,
          842.9958666331651,
          834.7835664317315,
          896.4638812405901,
          888.2455843931084,
          949.5051376313938,
          883.2224271379516,
          908.094262623316,
          959.2748314989052,
          957.2878961830227,
          813.8783420825455,
          838.4013211967783,
          782.2094263844715,
          883.297097830323,
          832.1373965983497,
          835.2938492153548,
          844.6040834500607,
          809.9785630209162,
          738.4866859187244,
          723.2380251521324,
          715.4747657120386,
          752.9425087838949,
          755.4466997664439,
          840.012050340042,
          802.733036821196,
          906.4592076952285,
          839.893781193337,
          687.0606709108206,
          657.2504703420593,
          591.0261059697416,
          562.0449984650606,
          578.9113671023448,
          597.9623513341921,
          576.8007202128815,
          576.6292357836172,
          548.049454202746,
          532.8039454080147,
          532.310403610575,
          525.786754273994,
          525.2130370199314,
          524.6778525553198,
          525.5674643466347,
          525.9411947196526,
          525.7941543639658,
          523.8449476180706,
          522.8724211633015,
          522.6493598252185,
          523.0593582796646,
          522.6077178078975,
          522.4581829482725,
          522.4483766170235,
          438.20754576715944,
          408.46531526622886,
          433.83739605978536,
          421.033442063126,
          412.866322829277,
          399.9130634719347,
          402.0388679416326,
          474.1950417018186,
          559.8945334951655,
          579.9595208883628,
          609.4861438824727,
          617.3271030351591,
          643.1309655723912,
          584.5636600530061,
          532.4646101417,
          527.1505428399689,
          529.252565538447,
          509.2522387952141,
          510.19172048458233,
          673.7481005911054,
          753.4157558506597,
          727.1506906192732,
          738.0780839604105,
          874.1392720608336,
          785.1116072577104,
          819.9134911204529,
          853.7141317331437,
          603.7603486518781,
          540.374598573789,
          591.8863675167377,
          664.1015384726711,
          620.7941709615678,
          508.2373954522649,
          506.88127489205255,
          455.92197552053835,
          448.70739967966284,
          493.73054245750194,
          462.6691391040762,
          467.83827752663535,
          432.9941455770815,
          473.10702985519737,
          452.8816367059602,
          452.986261028865,
          429.82396120266634,
          463.1900236307022,
          589.808614792408,
          662.2606099168966,
          610.0267169477117,
          489.63942587228894,
          424.49490329997315,
          447.1827342473706,
          424.26828284489244,
          380.32803691190725,
          337.96796632819695,
          341.53154395936184,
          410.1722412928116,
          396.1969957143101,
          338.3731766920683,
          338.39648685867894,
          340.0916331695548,
          333.0389807804787,
          307.49552873238264,
          237.6872119733415,
          216.01336444918948,
          223.59627644919746,
          272.388061161132,
          247.72627730751273,
          234.7501635396535,
          213.35788415716036,
          197.61302506520428,
          184.3940352981406,
          208.76608597997955,
          208.1418201661288,
          190.90184455064832,
          222.28847297210683,
          249.57324855633357,
          221.38612916323643,
          275.6417867096817,
          290.7240650313314,
          312.5031288669243,
          376.1861431795213,
          419.5794904356087,
          444.05682884002454,
          302.6096106810288,
          393.6473923680511,
          552.52880173734,
          617.5015189113142,
          464.61743417979187,
          438.2939862440297,
          414.71568848099616,
          474.34652827870013,
          424.8481157122173,
          359.321349871246,
          400.45939892012916,
          415.62898830294387,
          414.6312901387612,
          425.3871920508866,
          478.64459272630614,
          413.4437364952946,
          491.15816682770105,
          489.791513920038,
          426.3472797436963,
          497.452574104461,
          514.5880534319199,
          402.8943712071042,
          423.33573258825174,
          500.8003754347401,
          438.37569774889096,
          415.1570277323325,
          420.82091120550956,
          378.06261449443446,
          371.44747315213937,
          392.68933088114386,
          392.5469482115981,
          433.19917240850447,
          411.31407155045656,
          337.38846528145905,
          354.53555770183715,
          308.57263583608886,
          270.35302389113605,
          255.63825542485236,
          272.0642938187675,
          215.01711799633958,
          250.31006597532814,
          165.83737974916934,
          168.33009227635094,
          121.85673080113253,
          147.28981256982385,
          199.72742299493567,
          177.07663709090886,
          232.68747887095407,
          219.47052749993452,
          376.20338191447706,
          539.8001118085781,
          588.9436956660968,
          681.5733121605329,
          769.7659893547916,
          675.4279013269277,
          687.5601819811318,
          589.475236099815,
          375.6618054563598,
          287.5945879122762,
          303.5103104705025,
          414.0004077035778,
          393.77294179607196,
          585.0190417747478,
          679.1301941939646,
          664.580150209252,
          833.4390579797948,
          1055.715227465877,
          1334.899647319312,
          1343.4541603472874,
          1149.846556144305,
          1225.511883537567,
          1198.3228321708468,
          1077.037844099843,
          1066.1818759570872,
          1014.6605810248659,
          1063.3479013135416,
          1126.963675879938,
          1064.1798019442242,
          1077.5466495638548,
          1063.7544579678854,
          1012.1557469334491,
          1003.0045049731322,
          980.2076415268077,
          984.761115454699,
          988.6532201949021,
          991.8284400228165,
          959.7467573830372,
          958.826228469756,
          954.2182600048131,
          958.8217491353507,
          953.2106122960383,
          956.2081907367902,
          978.8100406013485,
          979.4688726649704,
          982.0360279461036,
          996.1285868972249,
          980.7196199300216,
          986.2703788137261,
          991.6170091239239,
          1022.8598239913838,
          1131.7651940978026,
          1160.9141934012487,
          1191.7305684454875,
          1310.114587287997,
          1168.9122858800333,
          1023.9248602758779,
          994.8013601488321,
          934.5449585867102,
          863.8702494881572,
          834.0816733568823,
          900.4652243230155,
          973.0654931183537,
          947.7626633271982,
          916.8995329008148,
          835.8157697728736,
          716.8311188009623,
          681.5595460743702,
          685.3792669107054,
          682.0887801335564,
          679.4142924445833,
          667.091871879978,
          658.7315474249594,
          663.5739146094768,
          661.3935046265276,
          659.014317208814,
          657.4373293005056,
          655.7266791016245,
          656.7418236255257,
          654.7720967132285,
          654.3661668607506,
          654.2850596280385,
          711.9065228849405,
          567.1613244544124,
          615.6217242862926,
          670.9808741419192,
          595.475507607392,
          548.8942756311336,
          567.5600048593179,
          623.0281547639233,
          669.4497313288917,
          655.3747388407796,
          594.3065168879276,
          582.0572846220462,
          530.955013431807,
          530.3573635723002,
          531.4734697527631,
          602.3129969644953,
          569.3690244568072,
          491.3030707136852,
          472.0776290545328,
          463.0975261245706,
          525.9349812465008,
          642.8431881110538,
          532.858915894303,
          618.0475599780391,
          786.1181455134354,
          584.170282237312,
          577.1453983413946,
          440.57351991915795,
          534.1438385184629,
          447.69883816649497,
          459.7165791066776,
          453.8739548384084,
          509.39028101378244,
          505.0306289757619,
          437.14564070275986,
          456.1249239762579,
          367.51201099878915,
          316.7240794285743,
          238.0212940710142,
          220.47989442560382,
          290.921210168131,
          513.5843394909533,
          560.2061320705564,
          911.6417320877848,
          1074.790049539823,
          1328.191423575891,
          1082.372020709322,
          1294.0974147467036,
          1452.124948338963,
          1726.6825081363882,
          1751.8551331757499,
          1733.9819052899393,
          1457.826163680662,
          1400.9925213308725,
          1526.4849826650525,
          1523.1070028232953,
          1251.442402125199,
          1530.3434522735988,
          1526.7529621589151,
          1361.0093770386388,
          1338.9039714714772,
          1291.0497663766182,
          1227.4407669877066,
          1324.24920040053,
          1373.63775275239
         ],
         "yaxis": "y2"
        },
        {
         "hovertext": "Strike: 105.0<br>Expiry: 230228",
         "legendgroup": "markers",
         "marker": {
          "color": "red",
          "size": 10,
          "symbol": "triangle-up"
         },
         "mode": "markers",
         "name": "Entry: XYZ230228C00105000",
         "showlegend": false,
         "type": "scatter",
         "x": [
          "2023-01-01T00:00:00"
         ],
         "y": [
          105
         ],
         "yaxis": "y"
        },
        {
         "hovertext": "Strike: 105.0<br>Expiry: 230228",
         "legendgroup": "markers",
         "marker": {
          "color": "darkred",
          "size": 10,
          "symbol": "triangle-down"
         },
         "mode": "markers",
         "name": "Entry: XYZ230228C00105000",
         "showlegend": false,
         "type": "scatter",
         "x": [
          "2023-02-24T00:00:00"
         ],
         "y": [
          105
         ],
         "yaxis": "y"
        },
        {
         "hovertext": "Strike: 105.0<br>Expiry: 230331",
         "legendgroup": "markers",
         "marker": {
          "color": "red",
          "size": 10,
          "symbol": "triangle-up"
         },
         "mode": "markers",
         "name": "Entry: XYZ230331C00105000",
         "showlegend": false,
         "type": "scatter",
         "x": [
          "2023-02-24T00:00:00"
         ],
         "y": [
          105
         ],
         "yaxis": "y"
        },
        {
         "hovertext": "Strike: 105.0<br>Expiry: 230331",
         "legendgroup": "markers",
         "marker": {
          "color": "darkred",
          "size": 10,
          "symbol": "triangle-down"
         },
         "mode": "markers",
         "name": "Entry: XYZ230331C00105000",
         "showlegend": false,
         "type": "scatter",
         "x": [
          "2023-03-27T00:00:00"
         ],
         "y": [
          105
         ],
         "yaxis": "y"
        },
        {
         "hovertext": "Strike: 95.0<br>Expiry: 230430",
         "legendgroup": "markers",
         "marker": {
          "color": "red",
          "size": 10,
          "symbol": "triangle-up"
         },
         "mode": "markers",
         "name": "Entry: XYZ230430C00095000",
         "showlegend": false,
         "type": "scatter",
         "x": [
          "2023-03-27T00:00:00"
         ],
         "y": [
          95
         ],
         "yaxis": "y"
        },
        {
         "hovertext": "Strike: 95.0<br>Expiry: 230430",
         "legendgroup": "markers",
         "marker": {
          "color": "darkred",
          "size": 10,
          "symbol": "triangle-down"
         },
         "mode": "markers",
         "name": "Entry: XYZ230430C00095000",
         "showlegend": false,
         "type": "scatter",
         "x": [
          "2023-04-26T00:00:00"
         ],
         "y": [
          95
         ],
         "yaxis": "y"
        },
        {
         "hovertext": "Strike: 100.0<br>Expiry: 230531",
         "legendgroup": "markers",
         "marker": {
          "color": "red",
          "size": 10,
          "symbol": "triangle-up"
         },
         "mode": "markers",
         "name": "Entry: XYZ230531C00100000",
         "showlegend": false,
         "type": "scatter",
         "x": [
          "2023-04-26T00:00:00"
         ],
         "y": [
          100
         ],
         "yaxis": "y"
        },
        {
         "hovertext": "Strike: 100.0<br>Expiry: 230531",
         "legendgroup": "markers",
         "marker": {
          "color": "darkred",
          "size": 10,
          "symbol": "triangle-down"
         },
         "mode": "markers",
         "name": "Entry: XYZ230531C00100000",
         "showlegend": false,
         "type": "scatter",
         "x": [
          "2023-05-27T00:00:00"
         ],
         "y": [
          100
         ],
         "yaxis": "y"
        },
        {
         "hovertext": "Strike: 100.0<br>Expiry: 230630",
         "legendgroup": "markers",
         "marker": {
          "color": "red",
          "size": 10,
          "symbol": "triangle-up"
         },
         "mode": "markers",
         "name": "Entry: XYZ230630C00100000",
         "showlegend": false,
         "type": "scatter",
         "x": [
          "2023-05-27T00:00:00"
         ],
         "y": [
          100
         ],
         "yaxis": "y"
        },
        {
         "hovertext": "Strike: 100.0<br>Expiry: 230630",
         "legendgroup": "markers",
         "marker": {
          "color": "darkred",
          "size": 10,
          "symbol": "triangle-down"
         },
         "mode": "markers",
         "name": "Entry: XYZ230630C00100000",
         "showlegend": false,
         "type": "scatter",
         "x": [
          "2023-06-26T00:00:00"
         ],
         "y": [
          100
         ],
         "yaxis": "y"
        },
        {
         "hovertext": "Strike: 105.0<br>Expiry: 230731",
         "legendgroup": "markers",
         "marker": {
          "color": "red",
          "size": 10,
          "symbol": "triangle-up"
         },
         "mode": "markers",
         "name": "Entry: XYZ230731C00105000",
         "showlegend": false,
         "type": "scatter",
         "x": [
          "2023-06-26T00:00:00"
         ],
         "y": [
          105
         ],
         "yaxis": "y"
        },
        {
         "hovertext": "Strike: 105.0<br>Expiry: 230731",
         "legendgroup": "markers",
         "marker": {
          "color": "darkred",
          "size": 10,
          "symbol": "triangle-down"
         },
         "mode": "markers",
         "name": "Entry: XYZ230731C00105000",
         "showlegend": false,
         "type": "scatter",
         "x": [
          "2023-07-27T00:00:00"
         ],
         "y": [
          105
         ],
         "yaxis": "y"
        },
        {
         "hovertext": "Strike: 105.0<br>Expiry: 230831",
         "legendgroup": "markers",
         "marker": {
          "color": "red",
          "size": 10,
          "symbol": "triangle-up"
         },
         "mode": "markers",
         "name": "Entry: XYZ230831C00105000",
         "showlegend": false,
         "type": "scatter",
         "x": [
          "2023-07-27T00:00:00"
         ],
         "y": [
          105
         ],
         "yaxis": "y"
        },
        {
         "hovertext": "Strike: 105.0<br>Expiry: 230831",
         "legendgroup": "markers",
         "marker": {
          "color": "darkred",
          "size": 10,
          "symbol": "triangle-down"
         },
         "mode": "markers",
         "name": "Entry: XYZ230831C00105000",
         "showlegend": false,
         "type": "scatter",
         "x": [
          "2023-08-27T00:00:00"
         ],
         "y": [
          105
         ],
         "yaxis": "y"
        },
        {
         "hovertext": "Strike: 120.0<br>Expiry: 230930",
         "legendgroup": "markers",
         "marker": {
          "color": "red",
          "size": 10,
          "symbol": "triangle-up"
         },
         "mode": "markers",
         "name": "Entry: XYZ230930C00120000",
         "showlegend": false,
         "type": "scatter",
         "x": [
          "2023-08-27T00:00:00"
         ],
         "y": [
          120
         ],
         "yaxis": "y"
        },
        {
         "hovertext": "Strike: 120.0<br>Expiry: 230930",
         "legendgroup": "markers",
         "marker": {
          "color": "darkred",
          "size": 10,
          "symbol": "triangle-down"
         },
         "mode": "markers",
         "name": "Entry: XYZ230930C00120000",
         "showlegend": false,
         "type": "scatter",
         "x": [
          "2023-09-26T00:00:00"
         ],
         "y": [
          120
         ],
         "yaxis": "y"
        },
        {
         "hovertext": "Strike: 120.0<br>Expiry: 231031",
         "legendgroup": "markers",
         "marker": {
          "color": "red",
          "size": 10,
          "symbol": "triangle-up"
         },
         "mode": "markers",
         "name": "Entry: XYZ231031C00120000",
         "showlegend": false,
         "type": "scatter",
         "x": [
          "2023-09-26T00:00:00"
         ],
         "y": [
          120
         ],
         "yaxis": "y"
        },
        {
         "hovertext": "Strike: 120.0<br>Expiry: 231031",
         "legendgroup": "markers",
         "marker": {
          "color": "darkred",
          "size": 10,
          "symbol": "triangle-down"
         },
         "mode": "markers",
         "name": "Entry: XYZ231031C00120000",
         "showlegend": false,
         "type": "scatter",
         "x": [
          "2023-10-27T00:00:00"
         ],
         "y": [
          120
         ],
         "yaxis": "y"
        },
        {
         "hovertext": "Strike: 110.0<br>Expiry: 231130",
         "legendgroup": "markers",
         "marker": {
          "color": "red",
          "size": 10,
          "symbol": "triangle-up"
         },
         "mode": "markers",
         "name": "Entry: XYZ231130C00110000",
         "showlegend": false,
         "type": "scatter",
         "x": [
          "2023-10-27T00:00:00"
         ],
         "y": [
          110
         ],
         "yaxis": "y"
        },
        {
         "hovertext": "Strike: 110.0<br>Expiry: 231130",
         "legendgroup": "markers",
         "marker": {
          "color": "darkred",
          "size": 10,
          "symbol": "triangle-down"
         },
         "mode": "markers",
         "name": "Entry: XYZ231130C00110000",
         "showlegend": false,
         "type": "scatter",
         "x": [
          "2023-11-26T00:00:00"
         ],
         "y": [
          110
         ],
         "yaxis": "y"
        },
        {
         "hovertext": "Strike: 110.0<br>Expiry: 231231",
         "legendgroup": "markers",
         "marker": {
          "color": "red",
          "size": 10,
          "symbol": "triangle-up"
         },
         "mode": "markers",
         "name": "Entry: XYZ231231C00110000",
         "showlegend": false,
         "type": "scatter",
         "x": [
          "2023-11-26T00:00:00"
         ],
         "y": [
          110
         ],
         "yaxis": "y"
        },
        {
         "hovertext": "Strike: 110.0<br>Expiry: 231231",
         "legendgroup": "markers",
         "marker": {
          "color": "darkred",
          "size": 10,
          "symbol": "triangle-down"
         },
         "mode": "markers",
         "name": "Entry: XYZ231231C00110000",
         "showlegend": false,
         "type": "scatter",
         "x": [
          "2023-12-27T00:00:00"
         ],
         "y": [
          110
         ],
         "yaxis": "y"
        },
        {
         "hovertext": "Strike: 125.0<br>Expiry: 240131",
         "legendgroup": "markers",
         "marker": {
          "color": "red",
          "size": 10,
          "symbol": "triangle-up"
         },
         "mode": "markers",
         "name": "Entry: XYZ240131C00125000",
         "showlegend": false,
         "type": "scatter",
         "x": [
          "2023-12-27T00:00:00"
         ],
         "y": [
          125
         ],
         "yaxis": "y"
        }
       ],
       "layout": {
        "legend": {
         "orientation": "h",
         "x": 0,
         "y": 1
        },
        "template": {
         "data": {
          "bar": [
           {
            "error_x": {
             "color": "#2a3f5f"
            },
            "error_y": {
             "color": "#2a3f5f"
            },
            "marker": {
             "line": {
              "color": "#E5ECF6",
              "width": 0.5
             },
             "pattern": {
              "fillmode": "overlay",
              "size": 10,
              "solidity": 0.2
             }
            },
            "type": "bar"
           }
          ],
          "barpolar": [
           {
            "marker": {
             "line": {
              "color": "#E5ECF6",
              "width": 0.5
             },
             "pattern": {
              "fillmode": "overlay",
              "size": 10,
              "solidity": 0.2
             }
            },
            "type": "barpolar"
           }
          ],
          "carpet": [
           {
            "aaxis": {
             "endlinecolor": "#2a3f5f",
             "gridcolor": "white",
             "linecolor": "white",
             "minorgridcolor": "white",
             "startlinecolor": "#2a3f5f"
            },
            "baxis": {
             "endlinecolor": "#2a3f5f",
             "gridcolor": "white",
             "linecolor": "white",
             "minorgridcolor": "white",
             "startlinecolor": "#2a3f5f"
            },
            "type": "carpet"
           }
          ],
          "choropleth": [
           {
            "colorbar": {
             "outlinewidth": 0,
             "ticks": ""
            },
            "type": "choropleth"
           }
          ],
          "contour": [
           {
            "colorbar": {
             "outlinewidth": 0,
             "ticks": ""
            },
            "colorscale": [
             [
              0,
              "#0d0887"
             ],
             [
              0.1111111111111111,
              "#46039f"
             ],
             [
              0.2222222222222222,
              "#7201a8"
             ],
             [
              0.3333333333333333,
              "#9c179e"
             ],
             [
              0.4444444444444444,
              "#bd3786"
             ],
             [
              0.5555555555555556,
              "#d8576b"
             ],
             [
              0.6666666666666666,
              "#ed7953"
             ],
             [
              0.7777777777777778,
              "#fb9f3a"
             ],
             [
              0.8888888888888888,
              "#fdca26"
             ],
             [
              1,
              "#f0f921"
             ]
            ],
            "type": "contour"
           }
          ],
          "contourcarpet": [
           {
            "colorbar": {
             "outlinewidth": 0,
             "ticks": ""
            },
            "type": "contourcarpet"
           }
          ],
          "heatmap": [
           {
            "colorbar": {
             "outlinewidth": 0,
             "ticks": ""
            },
            "colorscale": [
             [
              0,
              "#0d0887"
             ],
             [
              0.1111111111111111,
              "#46039f"
             ],
             [
              0.2222222222222222,
              "#7201a8"
             ],
             [
              0.3333333333333333,
              "#9c179e"
             ],
             [
              0.4444444444444444,
              "#bd3786"
             ],
             [
              0.5555555555555556,
              "#d8576b"
             ],
             [
              0.6666666666666666,
              "#ed7953"
             ],
             [
              0.7777777777777778,
              "#fb9f3a"
             ],
             [
              0.8888888888888888,
              "#fdca26"
             ],
             [
              1,
              "#f0f921"
             ]
            ],
            "type": "heatmap"
           }
          ],
          "heatmapgl": [
           {
            "colorbar": {
             "outlinewidth": 0,
             "ticks": ""
            },
            "colorscale": [
             [
              0,
              "#0d0887"
             ],
             [
              0.1111111111111111,
              "#46039f"
             ],
             [
              0.2222222222222222,
              "#7201a8"
             ],
             [
              0.3333333333333333,
              "#9c179e"
             ],
             [
              0.4444444444444444,
              "#bd3786"
             ],
             [
              0.5555555555555556,
              "#d8576b"
             ],
             [
              0.6666666666666666,
              "#ed7953"
             ],
             [
              0.7777777777777778,
              "#fb9f3a"
             ],
             [
              0.8888888888888888,
              "#fdca26"
             ],
             [
              1,
              "#f0f921"
             ]
            ],
            "type": "heatmapgl"
           }
          ],
          "histogram": [
           {
            "marker": {
             "pattern": {
              "fillmode": "overlay",
              "size": 10,
              "solidity": 0.2
             }
            },
            "type": "histogram"
           }
          ],
          "histogram2d": [
           {
            "colorbar": {
             "outlinewidth": 0,
             "ticks": ""
            },
            "colorscale": [
             [
              0,
              "#0d0887"
             ],
             [
              0.1111111111111111,
              "#46039f"
             ],
             [
              0.2222222222222222,
              "#7201a8"
             ],
             [
              0.3333333333333333,
              "#9c179e"
             ],
             [
              0.4444444444444444,
              "#bd3786"
             ],
             [
              0.5555555555555556,
              "#d8576b"
             ],
             [
              0.6666666666666666,
              "#ed7953"
             ],
             [
              0.7777777777777778,
              "#fb9f3a"
             ],
             [
              0.8888888888888888,
              "#fdca26"
             ],
             [
              1,
              "#f0f921"
             ]
            ],
            "type": "histogram2d"
           }
          ],
          "histogram2dcontour": [
           {
            "colorbar": {
             "outlinewidth": 0,
             "ticks": ""
            },
            "colorscale": [
             [
              0,
              "#0d0887"
             ],
             [
              0.1111111111111111,
              "#46039f"
             ],
             [
              0.2222222222222222,
              "#7201a8"
             ],
             [
              0.3333333333333333,
              "#9c179e"
             ],
             [
              0.4444444444444444,
              "#bd3786"
             ],
             [
              0.5555555555555556,
              "#d8576b"
             ],
             [
              0.6666666666666666,
              "#ed7953"
             ],
             [
              0.7777777777777778,
              "#fb9f3a"
             ],
             [
              0.8888888888888888,
              "#fdca26"
             ],
             [
              1,
              "#f0f921"
             ]
            ],
            "type": "histogram2dcontour"
           }
          ],
          "mesh3d": [
           {
            "colorbar": {
             "outlinewidth": 0,
             "ticks": ""
            },
            "type": "mesh3d"
           }
          ],
          "parcoords": [
           {
            "line": {
             "colorbar": {
              "outlinewidth": 0,
              "ticks": ""
             }
            },
            "type": "parcoords"
           }
          ],
          "pie": [
           {
            "automargin": true,
            "type": "pie"
           }
          ],
          "scatter": [
           {
            "fillpattern": {
             "fillmode": "overlay",
             "size": 10,
             "solidity": 0.2
            },
            "type": "scatter"
           }
          ],
          "scatter3d": [
           {
            "line": {
             "colorbar": {
              "outlinewidth": 0,
              "ticks": ""
             }
            },
            "marker": {
             "colorbar": {
              "outlinewidth": 0,
              "ticks": ""
             }
            },
            "type": "scatter3d"
           }
          ],
          "scattercarpet": [
           {
            "marker": {
             "colorbar": {
              "outlinewidth": 0,
              "ticks": ""
             }
            },
            "type": "scattercarpet"
           }
          ],
          "scattergeo": [
           {
            "marker": {
             "colorbar": {
              "outlinewidth": 0,
              "ticks": ""
             }
            },
            "type": "scattergeo"
           }
          ],
          "scattergl": [
           {
            "marker": {
             "colorbar": {
              "outlinewidth": 0,
              "ticks": ""
             }
            },
            "type": "scattergl"
           }
          ],
          "scattermapbox": [
           {
            "marker": {
             "colorbar": {
              "outlinewidth": 0,
              "ticks": ""
             }
            },
            "type": "scattermapbox"
           }
          ],
          "scatterpolar": [
           {
            "marker": {
             "colorbar": {
              "outlinewidth": 0,
              "ticks": ""
             }
            },
            "type": "scatterpolar"
           }
          ],
          "scatterpolargl": [
           {
            "marker": {
             "colorbar": {
              "outlinewidth": 0,
              "ticks": ""
             }
            },
            "type": "scatterpolargl"
           }
          ],
          "scatterternary": [
           {
            "marker": {
             "colorbar": {
              "outlinewidth": 0,
              "ticks": ""
             }
            },
            "type": "scatterternary"
           }
          ],
          "surface": [
           {
            "colorbar": {
             "outlinewidth": 0,
             "ticks": ""
            },
            "colorscale": [
             [
              0,
              "#0d0887"
             ],
             [
              0.1111111111111111,
              "#46039f"
             ],
             [
              0.2222222222222222,
              "#7201a8"
             ],
             [
              0.3333333333333333,
              "#9c179e"
             ],
             [
              0.4444444444444444,
              "#bd3786"
             ],
             [
              0.5555555555555556,
              "#d8576b"
             ],
             [
              0.6666666666666666,
              "#ed7953"
             ],
             [
              0.7777777777777778,
              "#fb9f3a"
             ],
             [
              0.8888888888888888,
              "#fdca26"
             ],
             [
              1,
              "#f0f921"
             ]
            ],
            "type": "surface"
           }
          ],
          "table": [
           {
            "cells": {
             "fill": {
              "color": "#EBF0F8"
             },
             "line": {
              "color": "white"
             }
            },
            "header": {
             "fill": {
              "color": "#C8D4E3"
             },
             "line": {
              "color": "white"
             }
            },
            "type": "table"
           }
          ]
         },
         "layout": {
          "annotationdefaults": {
           "arrowcolor": "#2a3f5f",
           "arrowhead": 0,
           "arrowwidth": 1
          },
          "autotypenumbers": "strict",
          "coloraxis": {
           "colorbar": {
            "outlinewidth": 0,
            "ticks": ""
           }
          },
          "colorscale": {
           "diverging": [
            [
             0,
             "#8e0152"
            ],
            [
             0.1,
             "#c51b7d"
            ],
            [
             0.2,
             "#de77ae"
            ],
            [
             0.3,
             "#f1b6da"
            ],
            [
             0.4,
             "#fde0ef"
            ],
            [
             0.5,
             "#f7f7f7"
            ],
            [
             0.6,
             "#e6f5d0"
            ],
            [
             0.7,
             "#b8e186"
            ],
            [
             0.8,
             "#7fbc41"
            ],
            [
             0.9,
             "#4d9221"
            ],
            [
             1,
             "#276419"
            ]
           ],
           "sequential": [
            [
             0,
             "#0d0887"
            ],
            [
             0.1111111111111111,
             "#46039f"
            ],
            [
             0.2222222222222222,
             "#7201a8"
            ],
            [
             0.3333333333333333,
             "#9c179e"
            ],
            [
             0.4444444444444444,
             "#bd3786"
            ],
            [
             0.5555555555555556,
             "#d8576b"
            ],
            [
             0.6666666666666666,
             "#ed7953"
            ],
            [
             0.7777777777777778,
             "#fb9f3a"
            ],
            [
             0.8888888888888888,
             "#fdca26"
            ],
            [
             1,
             "#f0f921"
            ]
           ],
           "sequentialminus": [
            [
             0,
             "#0d0887"
            ],
            [
             0.1111111111111111,
             "#46039f"
            ],
            [
             0.2222222222222222,
             "#7201a8"
            ],
            [
             0.3333333333333333,
             "#9c179e"
            ],
            [
             0.4444444444444444,
             "#bd3786"
            ],
            [
             0.5555555555555556,
             "#d8576b"
            ],
            [
             0.6666666666666666,
             "#ed7953"
            ],
            [
             0.7777777777777778,
             "#fb9f3a"
            ],
            [
             0.8888888888888888,
             "#fdca26"
            ],
            [
             1,
             "#f0f921"
            ]
           ]
          },
          "colorway": [
           "#636efa",
           "#EF553B",
           "#00cc96",
           "#ab63fa",
           "#FFA15A",
           "#19d3f3",
           "#FF6692",
           "#B6E880",
           "#FF97FF",
           "#FECB52"
          ],
          "font": {
           "color": "#2a3f5f"
          },
          "geo": {
           "bgcolor": "white",
           "lakecolor": "white",
           "landcolor": "#E5ECF6",
           "showlakes": true,
           "showland": true,
           "subunitcolor": "white"
          },
          "hoverlabel": {
           "align": "left"
          },
          "hovermode": "closest",
          "mapbox": {
           "style": "light"
          },
          "paper_bgcolor": "white",
          "plot_bgcolor": "#E5ECF6",
          "polar": {
           "angularaxis": {
            "gridcolor": "white",
            "linecolor": "white",
            "ticks": ""
           },
           "bgcolor": "#E5ECF6",
           "radialaxis": {
            "gridcolor": "white",
            "linecolor": "white",
            "ticks": ""
           }
          },
          "scene": {
           "xaxis": {
            "backgroundcolor": "#E5ECF6",
            "gridcolor": "white",
            "gridwidth": 2,
            "linecolor": "white",
            "showbackground": true,
            "ticks": "",
            "zerolinecolor": "white"
           },
           "yaxis": {
            "backgroundcolor": "#E5ECF6",
            "gridcolor": "white",
            "gridwidth": 2,
            "linecolor": "white",
            "showbackground": true,
            "ticks": "",
            "zerolinecolor": "white"
           },
           "zaxis": {
            "backgroundcolor": "#E5ECF6",
            "gridcolor": "white",
            "gridwidth": 2,
            "linecolor": "white",
            "showbackground": true,
            "ticks": "",
            "zerolinecolor": "white"
           }
          },
          "shapedefaults": {
           "line": {
            "color": "#2a3f5f"
           }
          },
          "ternary": {
           "aaxis": {
            "gridcolor": "white",
            "linecolor": "white",
            "ticks": ""
           },
           "baxis": {
            "gridcolor": "white",
            "linecolor": "white",
            "ticks": ""
           },
           "bgcolor": "#E5ECF6",
           "caxis": {
            "gridcolor": "white",
            "linecolor": "white",
            "ticks": ""
           }
          },
          "title": {
           "x": 0.05
          },
          "xaxis": {
           "automargin": true,
           "gridcolor": "white",
           "linecolor": "white",
           "ticks": "",
           "title": {
            "standoff": 15
           },
           "zerolinecolor": "white",
           "zerolinewidth": 2
          },
          "yaxis": {
           "automargin": true,
           "gridcolor": "white",
           "linecolor": "white",
           "ticks": "",
           "title": {
            "standoff": 15
           },
           "zerolinecolor": "white",
           "zerolinewidth": 2
          }
         }
        },
        "title": {
         "text": "Stock Price, Portfolio Value, and Entry Trades"
        },
        "xaxis": {
         "tickformat": "%y-%m-%d",
         "title": {
          "text": "Date"
         }
        },
        "yaxis": {
         "tickfont": {
          "color": "blue"
         },
         "title": {
          "font": {
           "color": "blue"
          },
          "text": "Stock Price"
         }
        },
        "yaxis2": {
         "overlaying": "y",
         "side": "right",
         "tickfont": {
          "color": "green"
         },
         "title": {
          "font": {
           "color": "green"
          },
          "text": "Portfolio Value"
         }
        }
       }
      }
     },
     "metadata": {},
     "output_type": "display_data"
    }
   ],
   "source": [
    "# Short call, rollover before 2 days, roll to ATM, 30 days+\n",
    "n_option_legs = 1\n",
    "entry_position = 1\n",
    "find_options_by: FindOptionsBy = {\n",
    "    \"option_type\": \"call\",\n",
    "    \"dte_gt\": 29,\n",
    "    \"dte_lt\": 61,\n",
    "    \"sort_by_delta_near\": 0.5,\n",
    "}\n",
    "rollover_criteria: ShouldRolloverCriteria = {\"dte_lt\": 5}\n",
    "\n",
    "strategy = create_rollover_strategy(\n",
    "    n_option_legs,\n",
    "    entry_position,\n",
    "    find_options_by,\n",
    "    rollover_criteria,\n",
    ")\n",
    "demo(strategy)"
   ]
  }
 ],
 "metadata": {
  "kernelspec": {
   "display_name": "Python 3",
   "language": "python",
   "name": "python3"
  },
  "language_info": {
   "codemirror_mode": {
    "name": "ipython",
    "version": 3
   },
   "file_extension": ".py",
   "mimetype": "text/x-python",
   "name": "python",
   "nbconvert_exporter": "python",
   "pygments_lexer": "ipython3",
   "version": "3.12.3"
  }
 },
 "nbformat": 4,
 "nbformat_minor": 2
}
