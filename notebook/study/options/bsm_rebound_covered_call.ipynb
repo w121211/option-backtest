{
 "cells": [
  {
   "cell_type": "code",
   "execution_count": 4,
   "metadata": {},
   "outputs": [
    {
     "name": "stderr",
     "output_type": "stream",
     "text": [
      "/tmp/ipykernel_53004/951402896.py:21: RuntimeWarning: divide by zero encountered in scalar divide\n",
      "  d1 = (np.log(S / K) + (r + 0.5 * sigma**2) * T) / (sigma * np.sqrt(T))\n",
      "/tmp/ipykernel_53004/951402896.py:21: RuntimeWarning: invalid value encountered in scalar divide\n",
      "  d1 = (np.log(S / K) + (r + 0.5 * sigma**2) * T) / (sigma * np.sqrt(T))\n"
     ]
    },
    {
     "data": {
      "text/plain": [
       "{Timestamp('2023-01-01 00:00:00'): [<__main__.Option at 0xffff50fdefe0>,\n",
       "  <__main__.Option at 0xffff50fdf160>,\n",
       "  <__main__.Option at 0xffff50fdf0d0>,\n",
       "  <__main__.Option at 0xffff50fdf100>,\n",
       "  <__main__.Option at 0xffff50fdf040>,\n",
       "  <__main__.Option at 0xffff50fdc040>,\n",
       "  <__main__.Option at 0xffff50fdc100>,\n",
       "  <__main__.Option at 0xffff50fdc130>],\n",
       " Timestamp('2023-01-31 00:00:00'): [<__main__.Option at 0xffff50fdc1c0>,\n",
       "  <__main__.Option at 0xffff50fdc070>,\n",
       "  <__main__.Option at 0xffff50fdc280>,\n",
       "  <__main__.Option at 0xffff50fddcf0>,\n",
       "  <__main__.Option at 0xffff50fde140>,\n",
       "  <__main__.Option at 0xffff50fde350>,\n",
       "  <__main__.Option at 0xffff50fde3e0>,\n",
       "  <__main__.Option at 0xffff3a38cbe0>],\n",
       " Timestamp('2023-03-02 00:00:00'): [<__main__.Option at 0xffff3a38cc40>,\n",
       "  <__main__.Option at 0xffff3a38cca0>,\n",
       "  <__main__.Option at 0xffff3a38cd00>,\n",
       "  <__main__.Option at 0xffff3a38cd60>,\n",
       "  <__main__.Option at 0xffff3a38cdc0>,\n",
       "  <__main__.Option at 0xffff3a38ce20>,\n",
       "  <__main__.Option at 0xffff3a38ce80>,\n",
       "  <__main__.Option at 0xffff3a38cee0>]}"
      ]
     },
     "execution_count": 4,
     "metadata": {},
     "output_type": "execute_result"
    }
   ],
   "source": [
    "from dataclasses import dataclass, field\n",
    "\n",
    "import numpy as np\n",
    "import pandas as pd\n",
    "from scipy.stats import norm\n",
    "\n",
    "\n",
    "def bsm_price(S, K, T, r, sigma, option_type=\"call\"):\n",
    "    \"\"\"\n",
    "    Calculate the Black-Scholes-Merton option price.\n",
    "\n",
    "    Parameters:\n",
    "    - S: Current stock price\n",
    "    - K: Strike price\n",
    "    - T: Time to expiration in years\n",
    "    - r: Risk-free interest rate\n",
    "    - sigma: Volatility of the underlying asset\n",
    "    - option_type: The type of option (\"call\" or \"put\")\n",
    "\n",
    "    Returns:\n",
    "    - Option price\n",
    "    \"\"\"\n",
    "    d1 = (np.log(S / K) + (r + 0.5 * sigma**2) * T) / (sigma * np.sqrt(T))\n",
    "    d2 = d1 - sigma * np.sqrt(T)\n",
    "\n",
    "    if option_type == \"call\":\n",
    "        option_price = S * norm.cdf(d1) - K * np.exp(-r * T) * norm.cdf(d2)\n",
    "    else:  # put\n",
    "        option_price = K * np.exp(-r * T) * norm.cdf(-d2) - S * norm.cdf(-d1)\n",
    "    return option_price\n",
    "\n",
    "\n",
    "@dataclass\n",
    "class Option:\n",
    "    strike: float\n",
    "    expiration_date: datetime\n",
    "    option_type: Literal[\"call\", \"put\"]\n",
    "    exercised: bool = field(default=False, init=False)\n",
    "\n",
    "\n",
    "class Portfolio:\n",
    "    def __init__(self):\n",
    "        self.options = []\n",
    "        self.cash = 0\n",
    "        self.stock_positions = 0\n",
    "\n",
    "    def add_option(self, option):\n",
    "        self.options.append(option)\n",
    "\n",
    "    def remove_option(self, option):\n",
    "        self.options.remove(option)\n",
    "\n",
    "    def exercise_option(self, option, stock_price):\n",
    "        if option.option_type == \"call\":\n",
    "            self.stock_positions -= 1\n",
    "        self.cash += option.strike - stock_price\n",
    "        option.exercised = True\n",
    "\n",
    "    def update_portfolio(self, stock_price):\n",
    "        for option in self.options[:]:\n",
    "            if option.expiration_date <= pd.Timestamp.now() and not option.exercised:\n",
    "                # Decide to exercise or let expire based on strategy, simplified here\n",
    "                if (option.option_type == \"call\" and stock_price > option.strike) or (\n",
    "                    option.option_type == \"put\" and stock_price < option.strike\n",
    "                ):\n",
    "                    self.exercise_option(option, stock_price)\n",
    "                self.remove_option(option)\n",
    "\n",
    "\n",
    "def backtest(\n",
    "    start_date, end_date, initial_cash, strategy_function, option_chain, stock_prices\n",
    "):\n",
    "    portfolio = Portfolio()\n",
    "    portfolio.cash = initial_cash\n",
    "\n",
    "    current_date = start_date\n",
    "    while current_date <= end_date:\n",
    "        # Update portfolio for any expired or exercised options\n",
    "        if stock_prices.get(current_date) is not None:\n",
    "            portfolio.update_portfolio(stock_prices[current_date])\n",
    "\n",
    "        # Generate orders from the strategy\n",
    "        orders = strategy_function(\n",
    "            portfolio, option_chain[current_date], stock_prices[current_date]\n",
    "        )\n",
    "\n",
    "        # Process orders\n",
    "        for order in orders:\n",
    "            if order[\"action\"] == \"buy\":\n",
    "                portfolio.cash -= order[\"option\"].premium\n",
    "                portfolio.add_option(order[\"option\"])\n",
    "            elif order[\"action\"] == \"sell\":\n",
    "                # This is simplified; would need to check if portfolio contains the option, etc.\n",
    "                portfolio.cash += order[\"option\"].premium\n",
    "                portfolio.remove_option(order[\"option\"])\n",
    "\n",
    "        current_date += pd.Timedelta(days=1)\n",
    "\n",
    "    return portfolio\n",
    "\n",
    "\n",
    "def generate_option_chain(S, r, sigma, strike_range, dte_range, current_date):\n",
    "    \"\"\"\n",
    "    Generate an option chain using the BSM model.\n",
    "\n",
    "    Parameters:\n",
    "    - S: Current stock price\n",
    "    - r: Risk-free interest rate\n",
    "    - sigma: Volatility of the underlying asset\n",
    "    - strike_range: A tuple of (min_strike, max_strike)\n",
    "    - dte_range: A tuple of (min_days_to_expire, max_days_to_expire)\n",
    "    - current_date: The current date for calculating T (time to expiration)\n",
    "\n",
    "    Returns:\n",
    "    - A dictionary with expiration dates as keys and lists of Option objects as values\n",
    "    \"\"\"\n",
    "    option_chain = {}\n",
    "    strike_prices = np.arange(\n",
    "        strike_range[0], strike_range[1], 5\n",
    "    )  # Adjust step for finer granularity\n",
    "    expiration_dates = pd.date_range(current_date, periods=dte_range[1], freq=\"D\")[\n",
    "        :: dte_range[0]\n",
    "    ]\n",
    "\n",
    "    for expiration_date in expiration_dates:\n",
    "        T = (expiration_date - current_date).days / 365.0\n",
    "        options_list = []\n",
    "        for strike in strike_prices:\n",
    "            call_price = bsm_price(S, strike, T, r, sigma, \"call\")\n",
    "            put_price = bsm_price(S, strike, T, r, sigma, \"put\")\n",
    "            options_list.append(Option(strike, call_price, expiration_date, \"call\"))\n",
    "            options_list.append(Option(strike, put_price, expiration_date, \"put\"))\n",
    "        option_chain[expiration_date] = options_list\n",
    "\n",
    "    return option_chain\n",
    "\n",
    "\n",
    "# Define a sample strategy function\n",
    "def sample_strategy(portfolio, option_chain, stock_price):\n",
    "    orders = []\n",
    "    # Example: Buy an option if certain conditions are met, this is a placeholder\n",
    "    if stock_price < 100:\n",
    "        for option in option_chain:\n",
    "            if option.strike < 105 and not option.exercised:\n",
    "                orders.append({\"action\": \"buy\", \"option\": option})\n",
    "                break\n",
    "    return orders\n",
    "\n",
    "\n",
    "# Example usage\n",
    "# Assume option_chain and stock_prices are dictionaries with dates as keys\n",
    "# option_chain = {pd.Timestamp('2023-01-01'): [Option(100, 10, pd.Timestamp('2023-03-01'))], ...}\n",
    "# stock_prices = {pd.Timestamp('2023-01-01'): 100, ...}\n",
    "# portfolio = backtest(pd.Timestamp('2023-01-01'), pd.Timestamp('2023-12-31'), 10000, sample_strategy, option_chain, stock_prices)\n",
    "\n",
    "# 假設的股票價格、無風險利率和波動率\n",
    "S = 100  # 當前股票價格\n",
    "r = 0.02  # 無風險利率\n",
    "sigma = 0.20  # 波動率\n",
    "\n",
    "# 使用者定義的行使價範圍和到期日範圍\n",
    "strike_range = (90, 110)  # 行使價範圍\n",
    "dte_range = (30, 90)  # 到期日範圍，每30天一個到期日，最遠到90天\n",
    "\n",
    "# 當前日期\n",
    "current_date = pd.Timestamp(\"2023-01-01\")\n",
    "\n",
    "# 生成選擇權鏈\n",
    "option_chain = generate_option_chain(S, r, sigma, strike_range, dte_range, current_date)\n",
    "option_chain"
   ]
  },
  {
   "cell_type": "code",
   "execution_count": 2,
   "metadata": {},
   "outputs": [
    {
     "name": "stdout",
     "output_type": "stream",
     "text": [
      "Final Cash: 9910\n",
      "Stock Positions: 0\n",
      "Options Held:\n"
     ]
    }
   ],
   "source": [
    "import pandas as pd\n",
    "from datetime import timedelta\n",
    "\n",
    "# Define a simplified Option class and Portfolio class from the previous example here\n",
    "\n",
    "# Mock stock prices for three months\n",
    "date_range = pd.date_range(start=\"2023-01-01\", end=\"2023-03-31\")\n",
    "stock_prices = {\n",
    "    date: 100 + i % 10 for i, date in enumerate(date_range)\n",
    "}  # Simplified stock price fluctuation\n",
    "\n",
    "# Mock option chain: one call option available at the start of each month\n",
    "option_chain = {\n",
    "    pd.Timestamp(\"2023-01-01\"): [\n",
    "        Option(\n",
    "            strike=105,\n",
    "            premium=2,\n",
    "            expiration_date=pd.Timestamp(\"2023-01-31\"),\n",
    "            option_type=\"call\",\n",
    "        )\n",
    "    ],\n",
    "    pd.Timestamp(\"2023-02-01\"): [\n",
    "        Option(\n",
    "            strike=105,\n",
    "            premium=2,\n",
    "            expiration_date=pd.Timestamp(\"2023-02-28\"),\n",
    "            option_type=\"call\",\n",
    "        )\n",
    "    ],\n",
    "    pd.Timestamp(\"2023-03-01\"): [\n",
    "        Option(\n",
    "            strike=105,\n",
    "            premium=2,\n",
    "            expiration_date=pd.Timestamp(\"2023-03-31\"),\n",
    "            option_type=\"call\",\n",
    "        )\n",
    "    ],\n",
    "}\n",
    "\n",
    "# Adjust the option chain dictionary to have an entry for each day (simplification for the example)\n",
    "for date in date_range:\n",
    "    if date not in option_chain:\n",
    "        option_chain[date] = option_chain.get(date.replace(day=1), [])\n",
    "\n",
    "\n",
    "def simple_call_buy_strategy(portfolio, option_chain, stock_price):\n",
    "    orders = []\n",
    "    # Buy a call option at the start of the month if the stock price is below $105\n",
    "    if stock_price < 105 and len(option_chain) > 0:\n",
    "        # Assuming only one option available for simplicity\n",
    "        option = option_chain[0]\n",
    "        orders.append({\"action\": \"buy\", \"option\": option})\n",
    "    return orders\n",
    "\n",
    "\n",
    "# Running the backtest from 2023-01-01 to 2023-03-31 with an initial cash of $10000\n",
    "portfolio = backtest(\n",
    "    pd.Timestamp(\"2023-01-01\"),\n",
    "    pd.Timestamp(\"2023-03-31\"),\n",
    "    10000,\n",
    "    simple_call_buy_strategy,\n",
    "    option_chain,\n",
    "    stock_prices,\n",
    ")\n",
    "\n",
    "# Print the final portfolio status\n",
    "print(f\"Final Cash: {portfolio.cash}\")\n",
    "print(f\"Stock Positions: {portfolio.stock_positions}\")\n",
    "print(\"Options Held:\")\n",
    "for option in portfolio.options:\n",
    "    print(\n",
    "        f\"Strike: {option.strike}, Premium: {option.premium}, Expiration: {option.expiration_date}, Exercised: {option.exercised}\"\n",
    "    )"
   ]
  },
  {
   "cell_type": "code",
   "execution_count": 2,
   "metadata": {},
   "outputs": [
    {
     "data": {
      "text/html": [
       "<div>\n",
       "<style scoped>\n",
       "    .dataframe tbody tr th:only-of-type {\n",
       "        vertical-align: middle;\n",
       "    }\n",
       "\n",
       "    .dataframe tbody tr th {\n",
       "        vertical-align: top;\n",
       "    }\n",
       "\n",
       "    .dataframe thead th {\n",
       "        text-align: right;\n",
       "    }\n",
       "</style>\n",
       "<table border=\"1\" class=\"dataframe\">\n",
       "  <thead>\n",
       "    <tr style=\"text-align: right;\">\n",
       "      <th></th>\n",
       "      <th>Strike Price</th>\n",
       "      <th>Expiry (Days)</th>\n",
       "      <th>Total Return</th>\n",
       "    </tr>\n",
       "  </thead>\n",
       "  <tbody>\n",
       "    <tr>\n",
       "      <th>0</th>\n",
       "      <td>700</td>\n",
       "      <td>30</td>\n",
       "      <td>0.000609</td>\n",
       "    </tr>\n",
       "    <tr>\n",
       "      <th>1</th>\n",
       "      <td>700</td>\n",
       "      <td>60</td>\n",
       "      <td>0.001404</td>\n",
       "    </tr>\n",
       "    <tr>\n",
       "      <th>2</th>\n",
       "      <td>700</td>\n",
       "      <td>90</td>\n",
       "      <td>0.002718</td>\n",
       "    </tr>\n",
       "    <tr>\n",
       "      <th>3</th>\n",
       "      <td>700</td>\n",
       "      <td>120</td>\n",
       "      <td>0.004547</td>\n",
       "    </tr>\n",
       "    <tr>\n",
       "      <th>4</th>\n",
       "      <td>700</td>\n",
       "      <td>240</td>\n",
       "      <td>0.014616</td>\n",
       "    </tr>\n",
       "    <tr>\n",
       "      <th>5</th>\n",
       "      <td>700</td>\n",
       "      <td>360</td>\n",
       "      <td>0.026056</td>\n",
       "    </tr>\n",
       "    <tr>\n",
       "      <th>6</th>\n",
       "      <td>800</td>\n",
       "      <td>30</td>\n",
       "      <td>0.001348</td>\n",
       "    </tr>\n",
       "    <tr>\n",
       "      <th>7</th>\n",
       "      <td>800</td>\n",
       "      <td>60</td>\n",
       "      <td>0.005236</td>\n",
       "    </tr>\n",
       "    <tr>\n",
       "      <th>8</th>\n",
       "      <td>800</td>\n",
       "      <td>90</td>\n",
       "      <td>0.010200</td>\n",
       "    </tr>\n",
       "    <tr>\n",
       "      <th>9</th>\n",
       "      <td>800</td>\n",
       "      <td>120</td>\n",
       "      <td>0.015416</td>\n",
       "    </tr>\n",
       "    <tr>\n",
       "      <th>10</th>\n",
       "      <td>800</td>\n",
       "      <td>240</td>\n",
       "      <td>0.035420</td>\n",
       "    </tr>\n",
       "    <tr>\n",
       "      <th>11</th>\n",
       "      <td>800</td>\n",
       "      <td>360</td>\n",
       "      <td>0.053150</td>\n",
       "    </tr>\n",
       "    <tr>\n",
       "      <th>12</th>\n",
       "      <td>850</td>\n",
       "      <td>30</td>\n",
       "      <td>0.004413</td>\n",
       "    </tr>\n",
       "    <tr>\n",
       "      <th>13</th>\n",
       "      <td>850</td>\n",
       "      <td>60</td>\n",
       "      <td>0.012423</td>\n",
       "    </tr>\n",
       "    <tr>\n",
       "      <th>14</th>\n",
       "      <td>850</td>\n",
       "      <td>90</td>\n",
       "      <td>0.020218</td>\n",
       "    </tr>\n",
       "    <tr>\n",
       "      <th>15</th>\n",
       "      <td>850</td>\n",
       "      <td>120</td>\n",
       "      <td>0.027473</td>\n",
       "    </tr>\n",
       "    <tr>\n",
       "      <th>16</th>\n",
       "      <td>850</td>\n",
       "      <td>240</td>\n",
       "      <td>0.052180</td>\n",
       "    </tr>\n",
       "    <tr>\n",
       "      <th>17</th>\n",
       "      <td>850</td>\n",
       "      <td>360</td>\n",
       "      <td>0.072445</td>\n",
       "    </tr>\n",
       "    <tr>\n",
       "      <th>18</th>\n",
       "      <td>900</td>\n",
       "      <td>30</td>\n",
       "      <td>0.014030</td>\n",
       "    </tr>\n",
       "    <tr>\n",
       "      <th>19</th>\n",
       "      <td>900</td>\n",
       "      <td>60</td>\n",
       "      <td>0.026500</td>\n",
       "    </tr>\n",
       "    <tr>\n",
       "      <th>20</th>\n",
       "      <td>900</td>\n",
       "      <td>90</td>\n",
       "      <td>0.036694</td>\n",
       "    </tr>\n",
       "    <tr>\n",
       "      <th>21</th>\n",
       "      <td>900</td>\n",
       "      <td>120</td>\n",
       "      <td>0.045528</td>\n",
       "    </tr>\n",
       "    <tr>\n",
       "      <th>22</th>\n",
       "      <td>900</td>\n",
       "      <td>240</td>\n",
       "      <td>0.073640</td>\n",
       "    </tr>\n",
       "    <tr>\n",
       "      <th>23</th>\n",
       "      <td>900</td>\n",
       "      <td>360</td>\n",
       "      <td>0.095699</td>\n",
       "    </tr>\n",
       "    <tr>\n",
       "      <th>24</th>\n",
       "      <td>950</td>\n",
       "      <td>30</td>\n",
       "      <td>0.034700</td>\n",
       "    </tr>\n",
       "    <tr>\n",
       "      <th>25</th>\n",
       "      <td>950</td>\n",
       "      <td>60</td>\n",
       "      <td>0.049280</td>\n",
       "    </tr>\n",
       "    <tr>\n",
       "      <th>26</th>\n",
       "      <td>950</td>\n",
       "      <td>90</td>\n",
       "      <td>0.060542</td>\n",
       "    </tr>\n",
       "    <tr>\n",
       "      <th>27</th>\n",
       "      <td>950</td>\n",
       "      <td>120</td>\n",
       "      <td>0.070081</td>\n",
       "    </tr>\n",
       "    <tr>\n",
       "      <th>28</th>\n",
       "      <td>950</td>\n",
       "      <td>240</td>\n",
       "      <td>0.099805</td>\n",
       "    </tr>\n",
       "    <tr>\n",
       "      <th>29</th>\n",
       "      <td>950</td>\n",
       "      <td>360</td>\n",
       "      <td>0.122812</td>\n",
       "    </tr>\n",
       "    <tr>\n",
       "      <th>30</th>\n",
       "      <td>1000</td>\n",
       "      <td>30</td>\n",
       "      <td>0.015192</td>\n",
       "    </tr>\n",
       "    <tr>\n",
       "      <th>31</th>\n",
       "      <td>1000</td>\n",
       "      <td>60</td>\n",
       "      <td>0.028358</td>\n",
       "    </tr>\n",
       "    <tr>\n",
       "      <th>32</th>\n",
       "      <td>1000</td>\n",
       "      <td>90</td>\n",
       "      <td>0.039075</td>\n",
       "    </tr>\n",
       "    <tr>\n",
       "      <th>33</th>\n",
       "      <td>1000</td>\n",
       "      <td>120</td>\n",
       "      <td>0.048346</td>\n",
       "    </tr>\n",
       "    <tr>\n",
       "      <th>34</th>\n",
       "      <td>1000</td>\n",
       "      <td>240</td>\n",
       "      <td>0.077817</td>\n",
       "    </tr>\n",
       "    <tr>\n",
       "      <th>35</th>\n",
       "      <td>1000</td>\n",
       "      <td>360</td>\n",
       "      <td>0.100935</td>\n",
       "    </tr>\n",
       "    <tr>\n",
       "      <th>36</th>\n",
       "      <td>1100</td>\n",
       "      <td>30</td>\n",
       "      <td>0.001711</td>\n",
       "    </tr>\n",
       "    <tr>\n",
       "      <th>37</th>\n",
       "      <td>1100</td>\n",
       "      <td>60</td>\n",
       "      <td>0.007452</td>\n",
       "    </tr>\n",
       "    <tr>\n",
       "      <th>38</th>\n",
       "      <td>1100</td>\n",
       "      <td>90</td>\n",
       "      <td>0.014159</td>\n",
       "    </tr>\n",
       "    <tr>\n",
       "      <th>39</th>\n",
       "      <td>1100</td>\n",
       "      <td>120</td>\n",
       "      <td>0.020898</td>\n",
       "    </tr>\n",
       "    <tr>\n",
       "      <th>40</th>\n",
       "      <td>1100</td>\n",
       "      <td>240</td>\n",
       "      <td>0.045599</td>\n",
       "    </tr>\n",
       "    <tr>\n",
       "      <th>41</th>\n",
       "      <td>1100</td>\n",
       "      <td>360</td>\n",
       "      <td>0.066866</td>\n",
       "    </tr>\n",
       "  </tbody>\n",
       "</table>\n",
       "</div>"
      ],
      "text/plain": [
       "    Strike Price  Expiry (Days)  Total Return\n",
       "0            700             30      0.000609\n",
       "1            700             60      0.001404\n",
       "2            700             90      0.002718\n",
       "3            700            120      0.004547\n",
       "4            700            240      0.014616\n",
       "5            700            360      0.026056\n",
       "6            800             30      0.001348\n",
       "7            800             60      0.005236\n",
       "8            800             90      0.010200\n",
       "9            800            120      0.015416\n",
       "10           800            240      0.035420\n",
       "11           800            360      0.053150\n",
       "12           850             30      0.004413\n",
       "13           850             60      0.012423\n",
       "14           850             90      0.020218\n",
       "15           850            120      0.027473\n",
       "16           850            240      0.052180\n",
       "17           850            360      0.072445\n",
       "18           900             30      0.014030\n",
       "19           900             60      0.026500\n",
       "20           900             90      0.036694\n",
       "21           900            120      0.045528\n",
       "22           900            240      0.073640\n",
       "23           900            360      0.095699\n",
       "24           950             30      0.034700\n",
       "25           950             60      0.049280\n",
       "26           950             90      0.060542\n",
       "27           950            120      0.070081\n",
       "28           950            240      0.099805\n",
       "29           950            360      0.122812\n",
       "30          1000             30      0.015192\n",
       "31          1000             60      0.028358\n",
       "32          1000             90      0.039075\n",
       "33          1000            120      0.048346\n",
       "34          1000            240      0.077817\n",
       "35          1000            360      0.100935\n",
       "36          1100             30      0.001711\n",
       "37          1100             60      0.007452\n",
       "38          1100             90      0.014159\n",
       "39          1100            120      0.020898\n",
       "40          1100            240      0.045599\n",
       "41          1100            360      0.066866"
      ]
     },
     "execution_count": 2,
     "metadata": {},
     "output_type": "execute_result"
    }
   ],
   "source": [
    "import numpy as np\n",
    "import pandas as pd\n",
    "from scipy.stats import norm\n",
    "\n",
    "\n",
    "def bsm_call(S, K, T, r, sigma):\n",
    "    \"\"\"\n",
    "    Black-Scholes-Merton model to calculate European call option price.\n",
    "    \"\"\"\n",
    "    d1 = (np.log(S / K) + (r + 0.5 * sigma**2) * T) / (sigma * np.sqrt(T))\n",
    "    d2 = d1 - sigma * np.sqrt(T)\n",
    "    call = S * norm.cdf(d1) - K * np.exp(-r * T) * norm.cdf(d2)\n",
    "    return call\n",
    "\n",
    "\n",
    "def calculate_call_prices(stock_prices, K, T_years, r, sigma):\n",
    "    \"\"\"\n",
    "    Calculate call prices for a given set of parameters.\n",
    "\n",
    "    Parameters:\n",
    "    - stock_prices: list of stock prices\n",
    "    - K: strike price\n",
    "    - T_years: time to expiry in years\n",
    "    - r: risk-free interest rate\n",
    "    - sigma: volatility of the stock\n",
    "\n",
    "    Returns:\n",
    "    - DataFrame containing the call prices.\n",
    "    \"\"\"\n",
    "    days = np.arange(len(stock_prices))\n",
    "    call_prices = [\n",
    "        bsm_call(S, K, T_years - day / 365, r, sigma)\n",
    "        for day, S in zip(days, stock_prices)\n",
    "    ]\n",
    "    return pd.DataFrame({\"day\": days, \"call_price\": call_prices})\n",
    "\n",
    "\n",
    "def calculate_metrics(call_prices_df):\n",
    "    \"\"\"\n",
    "    Calculate various performance metrics based on call prices.\n",
    "\n",
    "    Parameters:\n",
    "    - call_prices_df: DataFrame with call prices.\n",
    "\n",
    "    Returns:\n",
    "    - A dictionary containing various performance metrics.\n",
    "    \"\"\"\n",
    "    call_prices = call_prices_df[\"call_price\"]\n",
    "    returns = np.diff(call_prices) / call_prices[:-1]\n",
    "\n",
    "    total_return = (call_prices.iloc[-1] - call_prices.iloc[0]) / call_prices.iloc[0]\n",
    "    volatility = np.std(returns, ddof=1) * np.sqrt(252)\n",
    "    # downside_risk = np.sqrt(np.mean([min(0, r) ** 2 for r in returns]) * 252)\n",
    "    sharpe_ratio = np.mean(returns) / np.std(returns, ddof=1) * np.sqrt(252)\n",
    "\n",
    "    cumulative_returns = np.cumprod(1 + returns) - 1\n",
    "    max_drawdown = np.max(\n",
    "        np.maximum.accumulate(cumulative_returns) - cumulative_returns\n",
    "    )\n",
    "    max_drawup = np.max(cumulative_returns - np.minimum.accumulate(cumulative_returns))\n",
    "\n",
    "    return {\n",
    "        \"total_return\": total_return,\n",
    "        \"volatility\": volatility,\n",
    "        # \"downside_risk\": downside_risk,\n",
    "        \"sharpe_ratio\": sharpe_ratio,\n",
    "        \"max_drawdown\": max_drawdown,\n",
    "        \"max_drawup\": max_drawup,\n",
    "    }\n",
    "\n",
    "\n",
    "def calculate_covered_call_return(stock_prices, call_prices, K):\n",
    "    \"\"\"\n",
    "    Calculate the return of a covered call strategy.\n",
    "\n",
    "    Parameters:\n",
    "    - stock_prices: list of stock prices\n",
    "    - call_prices: DataFrame with call prices\n",
    "    - K: strike price of the call option\n",
    "\n",
    "    Returns:\n",
    "    - A float, the total return of the covered call strategy.\n",
    "    \"\"\"\n",
    "    # Assume we sell the call option at the beginning and hold until expiry\n",
    "    initial_call_price = call_prices[\"call_price\"].iloc[0]\n",
    "\n",
    "    # Final stock price\n",
    "    final_stock_price = stock_prices[-1]\n",
    "\n",
    "    # If stock price at expiry is higher than the strike price,\n",
    "    # the call is exercised and we sell at the strike price.\n",
    "    # Otherwise, we sell at the market price.\n",
    "    final_return = initial_call_price + min(final_stock_price, K) - stock_prices[0]\n",
    "\n",
    "    # Calculate the total return as a percentage of the initial stock price\n",
    "    total_return = final_return / stock_prices[0]\n",
    "\n",
    "    return total_return\n",
    "\n",
    "\n",
    "# Simulation parameters\n",
    "stock_prices = [950, 870, 830, 800, 840, 880, 840, 900, 940, 950]\n",
    "# stock_prices = [900, 870, 830, 800, 840, 880, 840, 900, 940, 950]\n",
    "days = list(range(0, len(stock_prices)))\n",
    "r = 0.01  # Risk-free interest rate\n",
    "sigma = 0.3  # Volatility\n",
    "\n",
    "strike_range = [700, 800, 850, 900, 950, 1000, 1100]\n",
    "expiry_range = [30, 60, 90, 120, 240, 360]  # Expiry dates range in days\n",
    "\n",
    "\n",
    "# Apply the strategy to each combination of strike price and expiry\n",
    "covered_call_results = []\n",
    "\n",
    "for K in strike_range:\n",
    "    for T in expiry_range:\n",
    "        T_years = T / 365\n",
    "        call_prices_df = calculate_call_prices(stock_prices, K, T_years, r, sigma)\n",
    "        total_return = calculate_covered_call_return(stock_prices, call_prices_df, K)\n",
    "        covered_call_results.append([K, T, total_return])\n",
    "\n",
    "# Create a DataFrame to display the results\n",
    "covered_call_results_df = pd.DataFrame(\n",
    "    covered_call_results,\n",
    "    columns=[\n",
    "        \"Strike Price\",\n",
    "        \"Expiry (Days)\",\n",
    "        \"Total Return\",\n",
    "    ],\n",
    ")\n",
    "\n",
    "covered_call_results_df"
   ]
  },
  {
   "cell_type": "code",
   "execution_count": null,
   "metadata": {},
   "outputs": [],
   "source": [
    "請參考以下code，寫一個選擇權的 backtest engine，可以參考以下流程\n",
    "\n",
    "for each day t:\n",
    "    檢查 current porfolio，例如選擇權若已到期，需要處理行權、結算\n",
    "    orders <- strategy(porfolio, option chain at t, stock at t)\n",
    "    process orders, update portfolio\n",
    "\n",
    "strategy function 可以是一個 input argument，但需要定義好這個 function 該長怎樣\n",
    "\n",
    "\n",
    "```\n",
    "def calculate_daily_returns(\n",
    "    stock_prices, option_premium, K, option_exercised, exercise_day\n",
    "):\n",
    "    \"\"\"\n",
    "    Calculate daily portfolio returns for a covered call strategy.\n",
    "\n",
    "    Parameters:\n",
    "    - stock_prices: List of stock prices.\n",
    "    - option_premium: Premium received from selling the call option.\n",
    "    - K: Strike price of the call option.\n",
    "    - option_exercised: Boolean indicating if the option was exercised.\n",
    "    - exercise_day: Day on which the option was exercised.\n",
    "\n",
    "    Returns:\n",
    "    - List of daily returns.\n",
    "    \"\"\"\n",
    "    daily_returns = []\n",
    "    daily_values = []\n",
    "    portfolio_value_previous = (\n",
    "        stock_prices[0] + option_premium\n",
    "    )  # Initial portfolio value includes option premium\n",
    "    n_days = len(stock_prices)\n",
    "\n",
    "    for i in range(1, n_days):\n",
    "        # Calculate new portfolio value\n",
    "        if option_exercised and i == exercise_day:\n",
    "            # If option is exercised, stock is sold at strike price K\n",
    "            portfolio_value = (\n",
    "                K * n_days + option_premium\n",
    "            )  # Assuming 1 stock for simplicity\n",
    "        else:\n",
    "            portfolio_value = stock_prices[i] + option_premium\n",
    "\n",
    "        daily_values.append(portfolio_value)\n",
    "\n",
    "        # Update previous portfolio value\n",
    "        portfolio_value_previous = portfolio_value\n",
    "\n",
    "    # Calculate daily return\n",
    "    # Use daily_values and numpy or pandas to calculate\n",
    "\n",
    "    return daily_returns\n",
    "```"
   ]
  },
  {
   "cell_type": "code",
   "execution_count": 11,
   "metadata": {},
   "outputs": [
    {
     "data": {
      "application/vnd.plotly.v1+json": {
       "config": {
        "plotlyServerURL": "https://plot.ly"
       },
       "data": [
        {
         "hoverinfo": "text+y",
         "mode": "markers",
         "name": "Total Return",
         "text": [
          "Strike: 700.0, Expiry: 30.0 days",
          "Strike: 700.0, Expiry: 60.0 days",
          "Strike: 700.0, Expiry: 90.0 days",
          "Strike: 700.0, Expiry: 120.0 days",
          "Strike: 700.0, Expiry: 240.0 days",
          "Strike: 700.0, Expiry: 360.0 days",
          "Strike: 800.0, Expiry: 30.0 days",
          "Strike: 800.0, Expiry: 60.0 days",
          "Strike: 800.0, Expiry: 90.0 days",
          "Strike: 800.0, Expiry: 120.0 days",
          "Strike: 800.0, Expiry: 240.0 days",
          "Strike: 800.0, Expiry: 360.0 days",
          "Strike: 850.0, Expiry: 30.0 days",
          "Strike: 850.0, Expiry: 60.0 days",
          "Strike: 850.0, Expiry: 90.0 days",
          "Strike: 850.0, Expiry: 120.0 days",
          "Strike: 850.0, Expiry: 240.0 days",
          "Strike: 850.0, Expiry: 360.0 days",
          "Strike: 900.0, Expiry: 30.0 days",
          "Strike: 900.0, Expiry: 60.0 days",
          "Strike: 900.0, Expiry: 90.0 days",
          "Strike: 900.0, Expiry: 120.0 days",
          "Strike: 900.0, Expiry: 240.0 days",
          "Strike: 900.0, Expiry: 360.0 days",
          "Strike: 950.0, Expiry: 30.0 days",
          "Strike: 950.0, Expiry: 60.0 days",
          "Strike: 950.0, Expiry: 90.0 days",
          "Strike: 950.0, Expiry: 120.0 days",
          "Strike: 950.0, Expiry: 240.0 days",
          "Strike: 950.0, Expiry: 360.0 days",
          "Strike: 1000.0, Expiry: 30.0 days",
          "Strike: 1000.0, Expiry: 60.0 days",
          "Strike: 1000.0, Expiry: 90.0 days",
          "Strike: 1000.0, Expiry: 120.0 days",
          "Strike: 1000.0, Expiry: 240.0 days",
          "Strike: 1000.0, Expiry: 360.0 days",
          "Strike: 1100.0, Expiry: 30.0 days",
          "Strike: 1100.0, Expiry: 60.0 days",
          "Strike: 1100.0, Expiry: 90.0 days",
          "Strike: 1100.0, Expiry: 120.0 days",
          "Strike: 1100.0, Expiry: 240.0 days",
          "Strike: 1100.0, Expiry: 360.0 days"
         ],
         "type": "scatter",
         "x": [
          700,
          700,
          700,
          700,
          700,
          700,
          800,
          800,
          800,
          800,
          800,
          800,
          850,
          850,
          850,
          850,
          850,
          850,
          900,
          900,
          900,
          900,
          900,
          900,
          950,
          950,
          950,
          950,
          950,
          950,
          1000,
          1000,
          1000,
          1000,
          1000,
          1000,
          1100,
          1100,
          1100,
          1100,
          1100,
          1100
         ],
         "xaxis": "x",
         "y": [
          0.24821783297023634,
          0.2440670109910012,
          0.23688447126819903,
          0.2290378359696943,
          0.20243003322067335,
          0.18396662042752912,
          0.45600041090790894,
          0.39475132723255363,
          0.3532025679238744,
          0.32357115362274913,
          0.256554681732826,
          0.22196647422097918,
          0.6500483911542071,
          0.5010344735807304,
          0.4267579218504473,
          0.3799433453842318,
          0.2858305299262443,
          0.24175913894392376,
          0.8924068137590326,
          0.6213073185434871,
          0.5070708456889468,
          0.4402472137836218,
          0.31598228094068276,
          0.26181036901673826,
          1.1193518423851636,
          0.7460348482505815,
          0.5906355231651504,
          0.5026821001207764,
          0.34661357142169913,
          0.2819554704671113,
          1.2423706595536548,
          0.8645265372457136,
          0.6739255737790226,
          0.5655452226151234,
          0.37738553927944307,
          0.30205912375457866,
          0.9751331619801024,
          1.0453033128638014,
          0.8274932095735879,
          0.6868334543379211,
          0.4382838215014205,
          0.3417297160000439
         ],
         "yaxis": "y"
        },
        {
         "hoverinfo": "text+y",
         "mode": "markers",
         "name": "Volatility",
         "text": [
          "Strike: 700.0, Expiry: 30.0 days",
          "Strike: 700.0, Expiry: 60.0 days",
          "Strike: 700.0, Expiry: 90.0 days",
          "Strike: 700.0, Expiry: 120.0 days",
          "Strike: 700.0, Expiry: 240.0 days",
          "Strike: 700.0, Expiry: 360.0 days",
          "Strike: 800.0, Expiry: 30.0 days",
          "Strike: 800.0, Expiry: 60.0 days",
          "Strike: 800.0, Expiry: 90.0 days",
          "Strike: 800.0, Expiry: 120.0 days",
          "Strike: 800.0, Expiry: 240.0 days",
          "Strike: 800.0, Expiry: 360.0 days",
          "Strike: 850.0, Expiry: 30.0 days",
          "Strike: 850.0, Expiry: 60.0 days",
          "Strike: 850.0, Expiry: 90.0 days",
          "Strike: 850.0, Expiry: 120.0 days",
          "Strike: 850.0, Expiry: 240.0 days",
          "Strike: 850.0, Expiry: 360.0 days",
          "Strike: 900.0, Expiry: 30.0 days",
          "Strike: 900.0, Expiry: 60.0 days",
          "Strike: 900.0, Expiry: 90.0 days",
          "Strike: 900.0, Expiry: 120.0 days",
          "Strike: 900.0, Expiry: 240.0 days",
          "Strike: 900.0, Expiry: 360.0 days",
          "Strike: 950.0, Expiry: 30.0 days",
          "Strike: 950.0, Expiry: 60.0 days",
          "Strike: 950.0, Expiry: 90.0 days",
          "Strike: 950.0, Expiry: 120.0 days",
          "Strike: 950.0, Expiry: 240.0 days",
          "Strike: 950.0, Expiry: 360.0 days",
          "Strike: 1000.0, Expiry: 30.0 days",
          "Strike: 1000.0, Expiry: 60.0 days",
          "Strike: 1000.0, Expiry: 90.0 days",
          "Strike: 1000.0, Expiry: 120.0 days",
          "Strike: 1000.0, Expiry: 240.0 days",
          "Strike: 1000.0, Expiry: 360.0 days",
          "Strike: 1100.0, Expiry: 30.0 days",
          "Strike: 1100.0, Expiry: 60.0 days",
          "Strike: 1100.0, Expiry: 90.0 days",
          "Strike: 1100.0, Expiry: 120.0 days",
          "Strike: 1100.0, Expiry: 240.0 days",
          "Strike: 1100.0, Expiry: 360.0 days"
         ],
         "type": "scatter",
         "x": [
          700,
          700,
          700,
          700,
          700,
          700,
          800,
          800,
          800,
          800,
          800,
          800,
          850,
          850,
          850,
          850,
          850,
          850,
          900,
          900,
          900,
          900,
          900,
          900,
          950,
          950,
          950,
          950,
          950,
          950,
          1000,
          1000,
          1000,
          1000,
          1000,
          1000,
          1100,
          1100,
          1100,
          1100,
          1100,
          1100
         ],
         "xaxis": "x2",
         "y": [
          4.329426662540606,
          4.0843235753510125,
          3.839963959790142,
          3.6305893012723556,
          3.061622699238742,
          2.722393135769169,
          9.393522594371325,
          7.015671264939464,
          5.91428502522645,
          5.238342540870023,
          3.9108036979016685,
          3.299904104623726,
          14.369128223893517,
          9.115123827598554,
          7.236999006512247,
          6.201905969139456,
          4.370243148247421,
          3.6004137432303462,
          21.88138264544042,
          11.654878368292225,
          8.732017491887602,
          7.254608391331685,
          4.846006677991425,
          3.9054436084150406,
          33.07412441998735,
          14.651753805346273,
          10.386625207690889,
          8.384791123133988,
          5.333885390067479,
          4.213066363507321,
          49.67354739931229,
          18.13514675721085,
          12.191843428578602,
          9.583078463272074,
          5.830460002437312,
          4.521747055233894,
          109.42856898502488,
          26.740792781768498,
          16.23726843136627,
          12.15770356420907,
          6.839438194774251,
          5.137748637715787
         ],
         "yaxis": "y2"
        },
        {
         "hoverinfo": "text+y",
         "mode": "markers",
         "name": "Sharpe Ratio",
         "text": [
          "Strike: 700.0, Expiry: 30.0 days",
          "Strike: 700.0, Expiry: 60.0 days",
          "Strike: 700.0, Expiry: 90.0 days",
          "Strike: 700.0, Expiry: 120.0 days",
          "Strike: 700.0, Expiry: 240.0 days",
          "Strike: 700.0, Expiry: 360.0 days",
          "Strike: 800.0, Expiry: 30.0 days",
          "Strike: 800.0, Expiry: 60.0 days",
          "Strike: 800.0, Expiry: 90.0 days",
          "Strike: 800.0, Expiry: 120.0 days",
          "Strike: 800.0, Expiry: 240.0 days",
          "Strike: 800.0, Expiry: 360.0 days",
          "Strike: 850.0, Expiry: 30.0 days",
          "Strike: 850.0, Expiry: 60.0 days",
          "Strike: 850.0, Expiry: 90.0 days",
          "Strike: 850.0, Expiry: 120.0 days",
          "Strike: 850.0, Expiry: 240.0 days",
          "Strike: 850.0, Expiry: 360.0 days",
          "Strike: 900.0, Expiry: 30.0 days",
          "Strike: 900.0, Expiry: 60.0 days",
          "Strike: 900.0, Expiry: 90.0 days",
          "Strike: 900.0, Expiry: 120.0 days",
          "Strike: 900.0, Expiry: 240.0 days",
          "Strike: 900.0, Expiry: 360.0 days",
          "Strike: 950.0, Expiry: 30.0 days",
          "Strike: 950.0, Expiry: 60.0 days",
          "Strike: 950.0, Expiry: 90.0 days",
          "Strike: 950.0, Expiry: 120.0 days",
          "Strike: 950.0, Expiry: 240.0 days",
          "Strike: 950.0, Expiry: 360.0 days",
          "Strike: 1000.0, Expiry: 30.0 days",
          "Strike: 1000.0, Expiry: 60.0 days",
          "Strike: 1000.0, Expiry: 90.0 days",
          "Strike: 1000.0, Expiry: 120.0 days",
          "Strike: 1000.0, Expiry: 240.0 days",
          "Strike: 1000.0, Expiry: 360.0 days",
          "Strike: 1100.0, Expiry: 30.0 days",
          "Strike: 1100.0, Expiry: 60.0 days",
          "Strike: 1100.0, Expiry: 90.0 days",
          "Strike: 1100.0, Expiry: 120.0 days",
          "Strike: 1100.0, Expiry: 240.0 days",
          "Strike: 1100.0, Expiry: 360.0 days"
         ],
         "type": "scatter",
         "x": [
          700,
          700,
          700,
          700,
          700,
          700,
          800,
          800,
          800,
          800,
          800,
          800,
          850,
          850,
          850,
          850,
          850,
          850,
          900,
          900,
          900,
          900,
          900,
          900,
          950,
          950,
          950,
          950,
          950,
          950,
          1000,
          1000,
          1000,
          1000,
          1000,
          1000,
          1100,
          1100,
          1100,
          1100,
          1100,
          1100
         ],
         "xaxis": "x3",
         "y": [
          3.2720166425403647,
          3.239907924458236,
          3.196431098788522,
          3.153006761589952,
          3.016588952428638,
          2.9266009897448106,
          4.6904224425776855,
          4.154761671482057,
          3.8726063334636334,
          3.689801968074873,
          3.311802190135992,
          3.1304222964500434,
          5.81464990927564,
          4.7553868734520295,
          4.282287946230761,
          4.000690191189406,
          3.469861346444415,
          3.236136657363341,
          6.9588913261201215,
          5.388924861612637,
          4.711614464868104,
          4.323914219688097,
          3.6307757207478146,
          3.34256331258346,
          7.893549198070493,
          6.010735396105335,
          5.142473077135616,
          4.649685832860369,
          3.792220450031256,
          3.4487035667782036,
          8.4984841553519,
          6.588644743872032,
          5.561381046754388,
          4.9706517657982365,
          3.9524394381656833,
          3.5538072080791085,
          8.792229000008282,
          7.545265933047536,
          6.330329221960253,
          5.579271858812963,
          4.2644597803278215,
          3.7588720244096305
         ],
         "yaxis": "y3"
        },
        {
         "hoverinfo": "text+y",
         "mode": "markers",
         "name": "Max Drawdown",
         "text": [
          "Strike: 700.0, Expiry: 30.0 days",
          "Strike: 700.0, Expiry: 60.0 days",
          "Strike: 700.0, Expiry: 90.0 days",
          "Strike: 700.0, Expiry: 120.0 days",
          "Strike: 700.0, Expiry: 240.0 days",
          "Strike: 700.0, Expiry: 360.0 days",
          "Strike: 800.0, Expiry: 30.0 days",
          "Strike: 800.0, Expiry: 60.0 days",
          "Strike: 800.0, Expiry: 90.0 days",
          "Strike: 800.0, Expiry: 120.0 days",
          "Strike: 800.0, Expiry: 240.0 days",
          "Strike: 800.0, Expiry: 360.0 days",
          "Strike: 850.0, Expiry: 30.0 days",
          "Strike: 850.0, Expiry: 60.0 days",
          "Strike: 850.0, Expiry: 90.0 days",
          "Strike: 850.0, Expiry: 120.0 days",
          "Strike: 850.0, Expiry: 240.0 days",
          "Strike: 850.0, Expiry: 360.0 days",
          "Strike: 900.0, Expiry: 30.0 days",
          "Strike: 900.0, Expiry: 60.0 days",
          "Strike: 900.0, Expiry: 90.0 days",
          "Strike: 900.0, Expiry: 120.0 days",
          "Strike: 900.0, Expiry: 240.0 days",
          "Strike: 900.0, Expiry: 360.0 days",
          "Strike: 950.0, Expiry: 30.0 days",
          "Strike: 950.0, Expiry: 60.0 days",
          "Strike: 950.0, Expiry: 90.0 days",
          "Strike: 950.0, Expiry: 120.0 days",
          "Strike: 950.0, Expiry: 240.0 days",
          "Strike: 950.0, Expiry: 360.0 days",
          "Strike: 1000.0, Expiry: 30.0 days",
          "Strike: 1000.0, Expiry: 60.0 days",
          "Strike: 1000.0, Expiry: 90.0 days",
          "Strike: 1000.0, Expiry: 120.0 days",
          "Strike: 1000.0, Expiry: 240.0 days",
          "Strike: 1000.0, Expiry: 360.0 days",
          "Strike: 1100.0, Expiry: 30.0 days",
          "Strike: 1100.0, Expiry: 60.0 days",
          "Strike: 1100.0, Expiry: 90.0 days",
          "Strike: 1100.0, Expiry: 120.0 days",
          "Strike: 1100.0, Expiry: 240.0 days",
          "Strike: 1100.0, Expiry: 360.0 days"
         ],
         "type": "scatter",
         "x": [
          700,
          700,
          700,
          700,
          700,
          700,
          800,
          800,
          800,
          800,
          800,
          800,
          850,
          850,
          850,
          850,
          850,
          850,
          900,
          900,
          900,
          900,
          900,
          900,
          950,
          950,
          950,
          950,
          950,
          950,
          1000,
          1000,
          1000,
          1000,
          1000,
          1000,
          1100,
          1100,
          1100,
          1100,
          1100,
          1100
         ],
         "xaxis": "x4",
         "y": [
          0.3433002236162298,
          0.32560630943581936,
          0.3095985207357046,
          0.29624656774558744,
          0.2596690823157083,
          0.23692397090862882,
          0.4849509469880289,
          0.426662447516452,
          0.39103297609818355,
          0.3654129320256988,
          0.30451541793195736,
          0.27078788335985915,
          0.5076108249235818,
          0.45957627211576635,
          0.4224171580611218,
          0.3940852356925474,
          0.32486693907448505,
          0.2865015002876039,
          0.48346776252849055,
          0.4752804345934696,
          0.4448367288880445,
          0.41719397024794114,
          0.3434263199226938,
          0.30123557661505185,
          0.4285915395418367,
          0.4751014866433878,
          0.4582556851424352,
          0.4345243197647475,
          0.36007673448087685,
          0.3149388649306717,
          0.36219798326151487,
          0.46256928790993557,
          0.46363745763939856,
          0.446394039745139,
          0.37480919866191853,
          0.3276017269655992,
          0.239459513704272,
          0.41573059060554196,
          0.4560058313777231,
          0.4563163374617709,
          0.3988211496634486,
          0.3499036448254197
         ],
         "yaxis": "y4"
        }
       ],
       "layout": {
        "annotations": [
         {
          "font": {
           "size": 16
          },
          "showarrow": false,
          "text": "Total Return",
          "x": 0.225,
          "xanchor": "center",
          "xref": "paper",
          "y": 1,
          "yanchor": "bottom",
          "yref": "paper"
         },
         {
          "font": {
           "size": 16
          },
          "showarrow": false,
          "text": "Volatility",
          "x": 0.775,
          "xanchor": "center",
          "xref": "paper",
          "y": 1,
          "yanchor": "bottom",
          "yref": "paper"
         },
         {
          "font": {
           "size": 16
          },
          "showarrow": false,
          "text": "Sharpe Ratio",
          "x": 0.225,
          "xanchor": "center",
          "xref": "paper",
          "y": 0.375,
          "yanchor": "bottom",
          "yref": "paper"
         },
         {
          "font": {
           "size": 16
          },
          "showarrow": false,
          "text": "Max Drawdown",
          "x": 0.775,
          "xanchor": "center",
          "xref": "paper",
          "y": 0.375,
          "yanchor": "bottom",
          "yref": "paper"
         }
        ],
        "height": 800,
        "hovermode": "closest",
        "template": {
         "data": {
          "bar": [
           {
            "error_x": {
             "color": "#2a3f5f"
            },
            "error_y": {
             "color": "#2a3f5f"
            },
            "marker": {
             "line": {
              "color": "#E5ECF6",
              "width": 0.5
             },
             "pattern": {
              "fillmode": "overlay",
              "size": 10,
              "solidity": 0.2
             }
            },
            "type": "bar"
           }
          ],
          "barpolar": [
           {
            "marker": {
             "line": {
              "color": "#E5ECF6",
              "width": 0.5
             },
             "pattern": {
              "fillmode": "overlay",
              "size": 10,
              "solidity": 0.2
             }
            },
            "type": "barpolar"
           }
          ],
          "carpet": [
           {
            "aaxis": {
             "endlinecolor": "#2a3f5f",
             "gridcolor": "white",
             "linecolor": "white",
             "minorgridcolor": "white",
             "startlinecolor": "#2a3f5f"
            },
            "baxis": {
             "endlinecolor": "#2a3f5f",
             "gridcolor": "white",
             "linecolor": "white",
             "minorgridcolor": "white",
             "startlinecolor": "#2a3f5f"
            },
            "type": "carpet"
           }
          ],
          "choropleth": [
           {
            "colorbar": {
             "outlinewidth": 0,
             "ticks": ""
            },
            "type": "choropleth"
           }
          ],
          "contour": [
           {
            "colorbar": {
             "outlinewidth": 0,
             "ticks": ""
            },
            "colorscale": [
             [
              0,
              "#0d0887"
             ],
             [
              0.1111111111111111,
              "#46039f"
             ],
             [
              0.2222222222222222,
              "#7201a8"
             ],
             [
              0.3333333333333333,
              "#9c179e"
             ],
             [
              0.4444444444444444,
              "#bd3786"
             ],
             [
              0.5555555555555556,
              "#d8576b"
             ],
             [
              0.6666666666666666,
              "#ed7953"
             ],
             [
              0.7777777777777778,
              "#fb9f3a"
             ],
             [
              0.8888888888888888,
              "#fdca26"
             ],
             [
              1,
              "#f0f921"
             ]
            ],
            "type": "contour"
           }
          ],
          "contourcarpet": [
           {
            "colorbar": {
             "outlinewidth": 0,
             "ticks": ""
            },
            "type": "contourcarpet"
           }
          ],
          "heatmap": [
           {
            "colorbar": {
             "outlinewidth": 0,
             "ticks": ""
            },
            "colorscale": [
             [
              0,
              "#0d0887"
             ],
             [
              0.1111111111111111,
              "#46039f"
             ],
             [
              0.2222222222222222,
              "#7201a8"
             ],
             [
              0.3333333333333333,
              "#9c179e"
             ],
             [
              0.4444444444444444,
              "#bd3786"
             ],
             [
              0.5555555555555556,
              "#d8576b"
             ],
             [
              0.6666666666666666,
              "#ed7953"
             ],
             [
              0.7777777777777778,
              "#fb9f3a"
             ],
             [
              0.8888888888888888,
              "#fdca26"
             ],
             [
              1,
              "#f0f921"
             ]
            ],
            "type": "heatmap"
           }
          ],
          "heatmapgl": [
           {
            "colorbar": {
             "outlinewidth": 0,
             "ticks": ""
            },
            "colorscale": [
             [
              0,
              "#0d0887"
             ],
             [
              0.1111111111111111,
              "#46039f"
             ],
             [
              0.2222222222222222,
              "#7201a8"
             ],
             [
              0.3333333333333333,
              "#9c179e"
             ],
             [
              0.4444444444444444,
              "#bd3786"
             ],
             [
              0.5555555555555556,
              "#d8576b"
             ],
             [
              0.6666666666666666,
              "#ed7953"
             ],
             [
              0.7777777777777778,
              "#fb9f3a"
             ],
             [
              0.8888888888888888,
              "#fdca26"
             ],
             [
              1,
              "#f0f921"
             ]
            ],
            "type": "heatmapgl"
           }
          ],
          "histogram": [
           {
            "marker": {
             "pattern": {
              "fillmode": "overlay",
              "size": 10,
              "solidity": 0.2
             }
            },
            "type": "histogram"
           }
          ],
          "histogram2d": [
           {
            "colorbar": {
             "outlinewidth": 0,
             "ticks": ""
            },
            "colorscale": [
             [
              0,
              "#0d0887"
             ],
             [
              0.1111111111111111,
              "#46039f"
             ],
             [
              0.2222222222222222,
              "#7201a8"
             ],
             [
              0.3333333333333333,
              "#9c179e"
             ],
             [
              0.4444444444444444,
              "#bd3786"
             ],
             [
              0.5555555555555556,
              "#d8576b"
             ],
             [
              0.6666666666666666,
              "#ed7953"
             ],
             [
              0.7777777777777778,
              "#fb9f3a"
             ],
             [
              0.8888888888888888,
              "#fdca26"
             ],
             [
              1,
              "#f0f921"
             ]
            ],
            "type": "histogram2d"
           }
          ],
          "histogram2dcontour": [
           {
            "colorbar": {
             "outlinewidth": 0,
             "ticks": ""
            },
            "colorscale": [
             [
              0,
              "#0d0887"
             ],
             [
              0.1111111111111111,
              "#46039f"
             ],
             [
              0.2222222222222222,
              "#7201a8"
             ],
             [
              0.3333333333333333,
              "#9c179e"
             ],
             [
              0.4444444444444444,
              "#bd3786"
             ],
             [
              0.5555555555555556,
              "#d8576b"
             ],
             [
              0.6666666666666666,
              "#ed7953"
             ],
             [
              0.7777777777777778,
              "#fb9f3a"
             ],
             [
              0.8888888888888888,
              "#fdca26"
             ],
             [
              1,
              "#f0f921"
             ]
            ],
            "type": "histogram2dcontour"
           }
          ],
          "mesh3d": [
           {
            "colorbar": {
             "outlinewidth": 0,
             "ticks": ""
            },
            "type": "mesh3d"
           }
          ],
          "parcoords": [
           {
            "line": {
             "colorbar": {
              "outlinewidth": 0,
              "ticks": ""
             }
            },
            "type": "parcoords"
           }
          ],
          "pie": [
           {
            "automargin": true,
            "type": "pie"
           }
          ],
          "scatter": [
           {
            "fillpattern": {
             "fillmode": "overlay",
             "size": 10,
             "solidity": 0.2
            },
            "type": "scatter"
           }
          ],
          "scatter3d": [
           {
            "line": {
             "colorbar": {
              "outlinewidth": 0,
              "ticks": ""
             }
            },
            "marker": {
             "colorbar": {
              "outlinewidth": 0,
              "ticks": ""
             }
            },
            "type": "scatter3d"
           }
          ],
          "scattercarpet": [
           {
            "marker": {
             "colorbar": {
              "outlinewidth": 0,
              "ticks": ""
             }
            },
            "type": "scattercarpet"
           }
          ],
          "scattergeo": [
           {
            "marker": {
             "colorbar": {
              "outlinewidth": 0,
              "ticks": ""
             }
            },
            "type": "scattergeo"
           }
          ],
          "scattergl": [
           {
            "marker": {
             "colorbar": {
              "outlinewidth": 0,
              "ticks": ""
             }
            },
            "type": "scattergl"
           }
          ],
          "scattermapbox": [
           {
            "marker": {
             "colorbar": {
              "outlinewidth": 0,
              "ticks": ""
             }
            },
            "type": "scattermapbox"
           }
          ],
          "scatterpolar": [
           {
            "marker": {
             "colorbar": {
              "outlinewidth": 0,
              "ticks": ""
             }
            },
            "type": "scatterpolar"
           }
          ],
          "scatterpolargl": [
           {
            "marker": {
             "colorbar": {
              "outlinewidth": 0,
              "ticks": ""
             }
            },
            "type": "scatterpolargl"
           }
          ],
          "scatterternary": [
           {
            "marker": {
             "colorbar": {
              "outlinewidth": 0,
              "ticks": ""
             }
            },
            "type": "scatterternary"
           }
          ],
          "surface": [
           {
            "colorbar": {
             "outlinewidth": 0,
             "ticks": ""
            },
            "colorscale": [
             [
              0,
              "#0d0887"
             ],
             [
              0.1111111111111111,
              "#46039f"
             ],
             [
              0.2222222222222222,
              "#7201a8"
             ],
             [
              0.3333333333333333,
              "#9c179e"
             ],
             [
              0.4444444444444444,
              "#bd3786"
             ],
             [
              0.5555555555555556,
              "#d8576b"
             ],
             [
              0.6666666666666666,
              "#ed7953"
             ],
             [
              0.7777777777777778,
              "#fb9f3a"
             ],
             [
              0.8888888888888888,
              "#fdca26"
             ],
             [
              1,
              "#f0f921"
             ]
            ],
            "type": "surface"
           }
          ],
          "table": [
           {
            "cells": {
             "fill": {
              "color": "#EBF0F8"
             },
             "line": {
              "color": "white"
             }
            },
            "header": {
             "fill": {
              "color": "#C8D4E3"
             },
             "line": {
              "color": "white"
             }
            },
            "type": "table"
           }
          ]
         },
         "layout": {
          "annotationdefaults": {
           "arrowcolor": "#2a3f5f",
           "arrowhead": 0,
           "arrowwidth": 1
          },
          "autotypenumbers": "strict",
          "coloraxis": {
           "colorbar": {
            "outlinewidth": 0,
            "ticks": ""
           }
          },
          "colorscale": {
           "diverging": [
            [
             0,
             "#8e0152"
            ],
            [
             0.1,
             "#c51b7d"
            ],
            [
             0.2,
             "#de77ae"
            ],
            [
             0.3,
             "#f1b6da"
            ],
            [
             0.4,
             "#fde0ef"
            ],
            [
             0.5,
             "#f7f7f7"
            ],
            [
             0.6,
             "#e6f5d0"
            ],
            [
             0.7,
             "#b8e186"
            ],
            [
             0.8,
             "#7fbc41"
            ],
            [
             0.9,
             "#4d9221"
            ],
            [
             1,
             "#276419"
            ]
           ],
           "sequential": [
            [
             0,
             "#0d0887"
            ],
            [
             0.1111111111111111,
             "#46039f"
            ],
            [
             0.2222222222222222,
             "#7201a8"
            ],
            [
             0.3333333333333333,
             "#9c179e"
            ],
            [
             0.4444444444444444,
             "#bd3786"
            ],
            [
             0.5555555555555556,
             "#d8576b"
            ],
            [
             0.6666666666666666,
             "#ed7953"
            ],
            [
             0.7777777777777778,
             "#fb9f3a"
            ],
            [
             0.8888888888888888,
             "#fdca26"
            ],
            [
             1,
             "#f0f921"
            ]
           ],
           "sequentialminus": [
            [
             0,
             "#0d0887"
            ],
            [
             0.1111111111111111,
             "#46039f"
            ],
            [
             0.2222222222222222,
             "#7201a8"
            ],
            [
             0.3333333333333333,
             "#9c179e"
            ],
            [
             0.4444444444444444,
             "#bd3786"
            ],
            [
             0.5555555555555556,
             "#d8576b"
            ],
            [
             0.6666666666666666,
             "#ed7953"
            ],
            [
             0.7777777777777778,
             "#fb9f3a"
            ],
            [
             0.8888888888888888,
             "#fdca26"
            ],
            [
             1,
             "#f0f921"
            ]
           ]
          },
          "colorway": [
           "#636efa",
           "#EF553B",
           "#00cc96",
           "#ab63fa",
           "#FFA15A",
           "#19d3f3",
           "#FF6692",
           "#B6E880",
           "#FF97FF",
           "#FECB52"
          ],
          "font": {
           "color": "#2a3f5f"
          },
          "geo": {
           "bgcolor": "white",
           "lakecolor": "white",
           "landcolor": "#E5ECF6",
           "showlakes": true,
           "showland": true,
           "subunitcolor": "white"
          },
          "hoverlabel": {
           "align": "left"
          },
          "hovermode": "closest",
          "mapbox": {
           "style": "light"
          },
          "paper_bgcolor": "white",
          "plot_bgcolor": "#E5ECF6",
          "polar": {
           "angularaxis": {
            "gridcolor": "white",
            "linecolor": "white",
            "ticks": ""
           },
           "bgcolor": "#E5ECF6",
           "radialaxis": {
            "gridcolor": "white",
            "linecolor": "white",
            "ticks": ""
           }
          },
          "scene": {
           "xaxis": {
            "backgroundcolor": "#E5ECF6",
            "gridcolor": "white",
            "gridwidth": 2,
            "linecolor": "white",
            "showbackground": true,
            "ticks": "",
            "zerolinecolor": "white"
           },
           "yaxis": {
            "backgroundcolor": "#E5ECF6",
            "gridcolor": "white",
            "gridwidth": 2,
            "linecolor": "white",
            "showbackground": true,
            "ticks": "",
            "zerolinecolor": "white"
           },
           "zaxis": {
            "backgroundcolor": "#E5ECF6",
            "gridcolor": "white",
            "gridwidth": 2,
            "linecolor": "white",
            "showbackground": true,
            "ticks": "",
            "zerolinecolor": "white"
           }
          },
          "shapedefaults": {
           "line": {
            "color": "#2a3f5f"
           }
          },
          "ternary": {
           "aaxis": {
            "gridcolor": "white",
            "linecolor": "white",
            "ticks": ""
           },
           "baxis": {
            "gridcolor": "white",
            "linecolor": "white",
            "ticks": ""
           },
           "bgcolor": "#E5ECF6",
           "caxis": {
            "gridcolor": "white",
            "linecolor": "white",
            "ticks": ""
           }
          },
          "title": {
           "x": 0.05
          },
          "xaxis": {
           "automargin": true,
           "gridcolor": "white",
           "linecolor": "white",
           "ticks": "",
           "title": {
            "standoff": 15
           },
           "zerolinecolor": "white",
           "zerolinewidth": 2
          },
          "yaxis": {
           "automargin": true,
           "gridcolor": "white",
           "linecolor": "white",
           "ticks": "",
           "title": {
            "standoff": 15
           },
           "zerolinecolor": "white",
           "zerolinewidth": 2
          }
         }
        },
        "title": {
         "text": "Option Performance Metrics by Strike Price with Strike and Expiry Details"
        },
        "width": 1200,
        "xaxis": {
         "anchor": "y",
         "domain": [
          0,
          0.45
         ]
        },
        "xaxis2": {
         "anchor": "y2",
         "domain": [
          0.55,
          1
         ]
        },
        "xaxis3": {
         "anchor": "y3",
         "domain": [
          0,
          0.45
         ]
        },
        "xaxis4": {
         "anchor": "y4",
         "domain": [
          0.55,
          1
         ]
        },
        "yaxis": {
         "anchor": "x",
         "domain": [
          0.625,
          1
         ]
        },
        "yaxis2": {
         "anchor": "x2",
         "domain": [
          0.625,
          1
         ]
        },
        "yaxis3": {
         "anchor": "x3",
         "domain": [
          0,
          0.375
         ]
        },
        "yaxis4": {
         "anchor": "x4",
         "domain": [
          0,
          0.375
         ]
        }
       }
      },
      "text/html": [
       "<div>                            <div id=\"f7411a17-c151-4f83-b33e-51ed5454e8c1\" class=\"plotly-graph-div\" style=\"height:800px; width:1200px;\"></div>            <script type=\"text/javascript\">                require([\"plotly\"], function(Plotly) {                    window.PLOTLYENV=window.PLOTLYENV || {};                                    if (document.getElementById(\"f7411a17-c151-4f83-b33e-51ed5454e8c1\")) {                    Plotly.newPlot(                        \"f7411a17-c151-4f83-b33e-51ed5454e8c1\",                        [{\"hoverinfo\":\"text+y\",\"mode\":\"markers\",\"name\":\"Total Return\",\"text\":[\"Strike: 700.0, Expiry: 30.0 days\",\"Strike: 700.0, Expiry: 60.0 days\",\"Strike: 700.0, Expiry: 90.0 days\",\"Strike: 700.0, Expiry: 120.0 days\",\"Strike: 700.0, Expiry: 240.0 days\",\"Strike: 700.0, Expiry: 360.0 days\",\"Strike: 800.0, Expiry: 30.0 days\",\"Strike: 800.0, Expiry: 60.0 days\",\"Strike: 800.0, Expiry: 90.0 days\",\"Strike: 800.0, Expiry: 120.0 days\",\"Strike: 800.0, Expiry: 240.0 days\",\"Strike: 800.0, Expiry: 360.0 days\",\"Strike: 850.0, Expiry: 30.0 days\",\"Strike: 850.0, Expiry: 60.0 days\",\"Strike: 850.0, Expiry: 90.0 days\",\"Strike: 850.0, Expiry: 120.0 days\",\"Strike: 850.0, Expiry: 240.0 days\",\"Strike: 850.0, Expiry: 360.0 days\",\"Strike: 900.0, Expiry: 30.0 days\",\"Strike: 900.0, Expiry: 60.0 days\",\"Strike: 900.0, Expiry: 90.0 days\",\"Strike: 900.0, Expiry: 120.0 days\",\"Strike: 900.0, Expiry: 240.0 days\",\"Strike: 900.0, Expiry: 360.0 days\",\"Strike: 950.0, Expiry: 30.0 days\",\"Strike: 950.0, Expiry: 60.0 days\",\"Strike: 950.0, Expiry: 90.0 days\",\"Strike: 950.0, Expiry: 120.0 days\",\"Strike: 950.0, Expiry: 240.0 days\",\"Strike: 950.0, Expiry: 360.0 days\",\"Strike: 1000.0, Expiry: 30.0 days\",\"Strike: 1000.0, Expiry: 60.0 days\",\"Strike: 1000.0, Expiry: 90.0 days\",\"Strike: 1000.0, Expiry: 120.0 days\",\"Strike: 1000.0, Expiry: 240.0 days\",\"Strike: 1000.0, Expiry: 360.0 days\",\"Strike: 1100.0, Expiry: 30.0 days\",\"Strike: 1100.0, Expiry: 60.0 days\",\"Strike: 1100.0, Expiry: 90.0 days\",\"Strike: 1100.0, Expiry: 120.0 days\",\"Strike: 1100.0, Expiry: 240.0 days\",\"Strike: 1100.0, Expiry: 360.0 days\"],\"x\":[700,700,700,700,700,700,800,800,800,800,800,800,850,850,850,850,850,850,900,900,900,900,900,900,950,950,950,950,950,950,1000,1000,1000,1000,1000,1000,1100,1100,1100,1100,1100,1100],\"y\":[0.24821783297023634,0.2440670109910012,0.23688447126819903,0.2290378359696943,0.20243003322067335,0.18396662042752912,0.45600041090790894,0.39475132723255363,0.3532025679238744,0.32357115362274913,0.256554681732826,0.22196647422097918,0.6500483911542071,0.5010344735807304,0.4267579218504473,0.3799433453842318,0.2858305299262443,0.24175913894392376,0.8924068137590326,0.6213073185434871,0.5070708456889468,0.4402472137836218,0.31598228094068276,0.26181036901673826,1.1193518423851636,0.7460348482505815,0.5906355231651504,0.5026821001207764,0.34661357142169913,0.2819554704671113,1.2423706595536548,0.8645265372457136,0.6739255737790226,0.5655452226151234,0.37738553927944307,0.30205912375457866,0.9751331619801024,1.0453033128638014,0.8274932095735879,0.6868334543379211,0.4382838215014205,0.3417297160000439],\"type\":\"scatter\",\"xaxis\":\"x\",\"yaxis\":\"y\"},{\"hoverinfo\":\"text+y\",\"mode\":\"markers\",\"name\":\"Volatility\",\"text\":[\"Strike: 700.0, Expiry: 30.0 days\",\"Strike: 700.0, Expiry: 60.0 days\",\"Strike: 700.0, Expiry: 90.0 days\",\"Strike: 700.0, Expiry: 120.0 days\",\"Strike: 700.0, Expiry: 240.0 days\",\"Strike: 700.0, Expiry: 360.0 days\",\"Strike: 800.0, Expiry: 30.0 days\",\"Strike: 800.0, Expiry: 60.0 days\",\"Strike: 800.0, Expiry: 90.0 days\",\"Strike: 800.0, Expiry: 120.0 days\",\"Strike: 800.0, Expiry: 240.0 days\",\"Strike: 800.0, Expiry: 360.0 days\",\"Strike: 850.0, Expiry: 30.0 days\",\"Strike: 850.0, Expiry: 60.0 days\",\"Strike: 850.0, Expiry: 90.0 days\",\"Strike: 850.0, Expiry: 120.0 days\",\"Strike: 850.0, Expiry: 240.0 days\",\"Strike: 850.0, Expiry: 360.0 days\",\"Strike: 900.0, Expiry: 30.0 days\",\"Strike: 900.0, Expiry: 60.0 days\",\"Strike: 900.0, Expiry: 90.0 days\",\"Strike: 900.0, Expiry: 120.0 days\",\"Strike: 900.0, Expiry: 240.0 days\",\"Strike: 900.0, Expiry: 360.0 days\",\"Strike: 950.0, Expiry: 30.0 days\",\"Strike: 950.0, Expiry: 60.0 days\",\"Strike: 950.0, Expiry: 90.0 days\",\"Strike: 950.0, Expiry: 120.0 days\",\"Strike: 950.0, Expiry: 240.0 days\",\"Strike: 950.0, Expiry: 360.0 days\",\"Strike: 1000.0, Expiry: 30.0 days\",\"Strike: 1000.0, Expiry: 60.0 days\",\"Strike: 1000.0, Expiry: 90.0 days\",\"Strike: 1000.0, Expiry: 120.0 days\",\"Strike: 1000.0, Expiry: 240.0 days\",\"Strike: 1000.0, Expiry: 360.0 days\",\"Strike: 1100.0, Expiry: 30.0 days\",\"Strike: 1100.0, Expiry: 60.0 days\",\"Strike: 1100.0, Expiry: 90.0 days\",\"Strike: 1100.0, Expiry: 120.0 days\",\"Strike: 1100.0, Expiry: 240.0 days\",\"Strike: 1100.0, Expiry: 360.0 days\"],\"x\":[700,700,700,700,700,700,800,800,800,800,800,800,850,850,850,850,850,850,900,900,900,900,900,900,950,950,950,950,950,950,1000,1000,1000,1000,1000,1000,1100,1100,1100,1100,1100,1100],\"y\":[4.329426662540606,4.0843235753510125,3.839963959790142,3.6305893012723556,3.061622699238742,2.722393135769169,9.393522594371325,7.015671264939464,5.91428502522645,5.238342540870023,3.9108036979016685,3.299904104623726,14.369128223893517,9.115123827598554,7.236999006512247,6.201905969139456,4.370243148247421,3.6004137432303462,21.88138264544042,11.654878368292225,8.732017491887602,7.254608391331685,4.846006677991425,3.9054436084150406,33.07412441998735,14.651753805346273,10.386625207690889,8.384791123133988,5.333885390067479,4.213066363507321,49.67354739931229,18.13514675721085,12.191843428578602,9.583078463272074,5.830460002437312,4.521747055233894,109.42856898502488,26.740792781768498,16.23726843136627,12.15770356420907,6.839438194774251,5.137748637715787],\"type\":\"scatter\",\"xaxis\":\"x2\",\"yaxis\":\"y2\"},{\"hoverinfo\":\"text+y\",\"mode\":\"markers\",\"name\":\"Sharpe Ratio\",\"text\":[\"Strike: 700.0, Expiry: 30.0 days\",\"Strike: 700.0, Expiry: 60.0 days\",\"Strike: 700.0, Expiry: 90.0 days\",\"Strike: 700.0, Expiry: 120.0 days\",\"Strike: 700.0, Expiry: 240.0 days\",\"Strike: 700.0, Expiry: 360.0 days\",\"Strike: 800.0, Expiry: 30.0 days\",\"Strike: 800.0, Expiry: 60.0 days\",\"Strike: 800.0, Expiry: 90.0 days\",\"Strike: 800.0, Expiry: 120.0 days\",\"Strike: 800.0, Expiry: 240.0 days\",\"Strike: 800.0, Expiry: 360.0 days\",\"Strike: 850.0, Expiry: 30.0 days\",\"Strike: 850.0, Expiry: 60.0 days\",\"Strike: 850.0, Expiry: 90.0 days\",\"Strike: 850.0, Expiry: 120.0 days\",\"Strike: 850.0, Expiry: 240.0 days\",\"Strike: 850.0, Expiry: 360.0 days\",\"Strike: 900.0, Expiry: 30.0 days\",\"Strike: 900.0, Expiry: 60.0 days\",\"Strike: 900.0, Expiry: 90.0 days\",\"Strike: 900.0, Expiry: 120.0 days\",\"Strike: 900.0, Expiry: 240.0 days\",\"Strike: 900.0, Expiry: 360.0 days\",\"Strike: 950.0, Expiry: 30.0 days\",\"Strike: 950.0, Expiry: 60.0 days\",\"Strike: 950.0, Expiry: 90.0 days\",\"Strike: 950.0, Expiry: 120.0 days\",\"Strike: 950.0, Expiry: 240.0 days\",\"Strike: 950.0, Expiry: 360.0 days\",\"Strike: 1000.0, Expiry: 30.0 days\",\"Strike: 1000.0, Expiry: 60.0 days\",\"Strike: 1000.0, Expiry: 90.0 days\",\"Strike: 1000.0, Expiry: 120.0 days\",\"Strike: 1000.0, Expiry: 240.0 days\",\"Strike: 1000.0, Expiry: 360.0 days\",\"Strike: 1100.0, Expiry: 30.0 days\",\"Strike: 1100.0, Expiry: 60.0 days\",\"Strike: 1100.0, Expiry: 90.0 days\",\"Strike: 1100.0, Expiry: 120.0 days\",\"Strike: 1100.0, Expiry: 240.0 days\",\"Strike: 1100.0, Expiry: 360.0 days\"],\"x\":[700,700,700,700,700,700,800,800,800,800,800,800,850,850,850,850,850,850,900,900,900,900,900,900,950,950,950,950,950,950,1000,1000,1000,1000,1000,1000,1100,1100,1100,1100,1100,1100],\"y\":[3.2720166425403647,3.239907924458236,3.196431098788522,3.153006761589952,3.016588952428638,2.9266009897448106,4.6904224425776855,4.154761671482057,3.8726063334636334,3.689801968074873,3.311802190135992,3.1304222964500434,5.81464990927564,4.7553868734520295,4.282287946230761,4.000690191189406,3.469861346444415,3.236136657363341,6.9588913261201215,5.388924861612637,4.711614464868104,4.323914219688097,3.6307757207478146,3.34256331258346,7.893549198070493,6.010735396105335,5.142473077135616,4.649685832860369,3.792220450031256,3.4487035667782036,8.4984841553519,6.588644743872032,5.561381046754388,4.9706517657982365,3.9524394381656833,3.5538072080791085,8.792229000008282,7.545265933047536,6.330329221960253,5.579271858812963,4.2644597803278215,3.7588720244096305],\"type\":\"scatter\",\"xaxis\":\"x3\",\"yaxis\":\"y3\"},{\"hoverinfo\":\"text+y\",\"mode\":\"markers\",\"name\":\"Max Drawdown\",\"text\":[\"Strike: 700.0, Expiry: 30.0 days\",\"Strike: 700.0, Expiry: 60.0 days\",\"Strike: 700.0, Expiry: 90.0 days\",\"Strike: 700.0, Expiry: 120.0 days\",\"Strike: 700.0, Expiry: 240.0 days\",\"Strike: 700.0, Expiry: 360.0 days\",\"Strike: 800.0, Expiry: 30.0 days\",\"Strike: 800.0, Expiry: 60.0 days\",\"Strike: 800.0, Expiry: 90.0 days\",\"Strike: 800.0, Expiry: 120.0 days\",\"Strike: 800.0, Expiry: 240.0 days\",\"Strike: 800.0, Expiry: 360.0 days\",\"Strike: 850.0, Expiry: 30.0 days\",\"Strike: 850.0, Expiry: 60.0 days\",\"Strike: 850.0, Expiry: 90.0 days\",\"Strike: 850.0, Expiry: 120.0 days\",\"Strike: 850.0, Expiry: 240.0 days\",\"Strike: 850.0, Expiry: 360.0 days\",\"Strike: 900.0, Expiry: 30.0 days\",\"Strike: 900.0, Expiry: 60.0 days\",\"Strike: 900.0, Expiry: 90.0 days\",\"Strike: 900.0, Expiry: 120.0 days\",\"Strike: 900.0, Expiry: 240.0 days\",\"Strike: 900.0, Expiry: 360.0 days\",\"Strike: 950.0, Expiry: 30.0 days\",\"Strike: 950.0, Expiry: 60.0 days\",\"Strike: 950.0, Expiry: 90.0 days\",\"Strike: 950.0, Expiry: 120.0 days\",\"Strike: 950.0, Expiry: 240.0 days\",\"Strike: 950.0, Expiry: 360.0 days\",\"Strike: 1000.0, Expiry: 30.0 days\",\"Strike: 1000.0, Expiry: 60.0 days\",\"Strike: 1000.0, Expiry: 90.0 days\",\"Strike: 1000.0, Expiry: 120.0 days\",\"Strike: 1000.0, Expiry: 240.0 days\",\"Strike: 1000.0, Expiry: 360.0 days\",\"Strike: 1100.0, Expiry: 30.0 days\",\"Strike: 1100.0, Expiry: 60.0 days\",\"Strike: 1100.0, Expiry: 90.0 days\",\"Strike: 1100.0, Expiry: 120.0 days\",\"Strike: 1100.0, Expiry: 240.0 days\",\"Strike: 1100.0, Expiry: 360.0 days\"],\"x\":[700,700,700,700,700,700,800,800,800,800,800,800,850,850,850,850,850,850,900,900,900,900,900,900,950,950,950,950,950,950,1000,1000,1000,1000,1000,1000,1100,1100,1100,1100,1100,1100],\"y\":[0.3433002236162298,0.32560630943581936,0.3095985207357046,0.29624656774558744,0.2596690823157083,0.23692397090862882,0.4849509469880289,0.426662447516452,0.39103297609818355,0.3654129320256988,0.30451541793195736,0.27078788335985915,0.5076108249235818,0.45957627211576635,0.4224171580611218,0.3940852356925474,0.32486693907448505,0.2865015002876039,0.48346776252849055,0.4752804345934696,0.4448367288880445,0.41719397024794114,0.3434263199226938,0.30123557661505185,0.4285915395418367,0.4751014866433878,0.4582556851424352,0.4345243197647475,0.36007673448087685,0.3149388649306717,0.36219798326151487,0.46256928790993557,0.46363745763939856,0.446394039745139,0.37480919866191853,0.3276017269655992,0.239459513704272,0.41573059060554196,0.4560058313777231,0.4563163374617709,0.3988211496634486,0.3499036448254197],\"type\":\"scatter\",\"xaxis\":\"x4\",\"yaxis\":\"y4\"}],                        {\"template\":{\"data\":{\"histogram2dcontour\":[{\"type\":\"histogram2dcontour\",\"colorbar\":{\"outlinewidth\":0,\"ticks\":\"\"},\"colorscale\":[[0.0,\"#0d0887\"],[0.1111111111111111,\"#46039f\"],[0.2222222222222222,\"#7201a8\"],[0.3333333333333333,\"#9c179e\"],[0.4444444444444444,\"#bd3786\"],[0.5555555555555556,\"#d8576b\"],[0.6666666666666666,\"#ed7953\"],[0.7777777777777778,\"#fb9f3a\"],[0.8888888888888888,\"#fdca26\"],[1.0,\"#f0f921\"]]}],\"choropleth\":[{\"type\":\"choropleth\",\"colorbar\":{\"outlinewidth\":0,\"ticks\":\"\"}}],\"histogram2d\":[{\"type\":\"histogram2d\",\"colorbar\":{\"outlinewidth\":0,\"ticks\":\"\"},\"colorscale\":[[0.0,\"#0d0887\"],[0.1111111111111111,\"#46039f\"],[0.2222222222222222,\"#7201a8\"],[0.3333333333333333,\"#9c179e\"],[0.4444444444444444,\"#bd3786\"],[0.5555555555555556,\"#d8576b\"],[0.6666666666666666,\"#ed7953\"],[0.7777777777777778,\"#fb9f3a\"],[0.8888888888888888,\"#fdca26\"],[1.0,\"#f0f921\"]]}],\"heatmap\":[{\"type\":\"heatmap\",\"colorbar\":{\"outlinewidth\":0,\"ticks\":\"\"},\"colorscale\":[[0.0,\"#0d0887\"],[0.1111111111111111,\"#46039f\"],[0.2222222222222222,\"#7201a8\"],[0.3333333333333333,\"#9c179e\"],[0.4444444444444444,\"#bd3786\"],[0.5555555555555556,\"#d8576b\"],[0.6666666666666666,\"#ed7953\"],[0.7777777777777778,\"#fb9f3a\"],[0.8888888888888888,\"#fdca26\"],[1.0,\"#f0f921\"]]}],\"heatmapgl\":[{\"type\":\"heatmapgl\",\"colorbar\":{\"outlinewidth\":0,\"ticks\":\"\"},\"colorscale\":[[0.0,\"#0d0887\"],[0.1111111111111111,\"#46039f\"],[0.2222222222222222,\"#7201a8\"],[0.3333333333333333,\"#9c179e\"],[0.4444444444444444,\"#bd3786\"],[0.5555555555555556,\"#d8576b\"],[0.6666666666666666,\"#ed7953\"],[0.7777777777777778,\"#fb9f3a\"],[0.8888888888888888,\"#fdca26\"],[1.0,\"#f0f921\"]]}],\"contourcarpet\":[{\"type\":\"contourcarpet\",\"colorbar\":{\"outlinewidth\":0,\"ticks\":\"\"}}],\"contour\":[{\"type\":\"contour\",\"colorbar\":{\"outlinewidth\":0,\"ticks\":\"\"},\"colorscale\":[[0.0,\"#0d0887\"],[0.1111111111111111,\"#46039f\"],[0.2222222222222222,\"#7201a8\"],[0.3333333333333333,\"#9c179e\"],[0.4444444444444444,\"#bd3786\"],[0.5555555555555556,\"#d8576b\"],[0.6666666666666666,\"#ed7953\"],[0.7777777777777778,\"#fb9f3a\"],[0.8888888888888888,\"#fdca26\"],[1.0,\"#f0f921\"]]}],\"surface\":[{\"type\":\"surface\",\"colorbar\":{\"outlinewidth\":0,\"ticks\":\"\"},\"colorscale\":[[0.0,\"#0d0887\"],[0.1111111111111111,\"#46039f\"],[0.2222222222222222,\"#7201a8\"],[0.3333333333333333,\"#9c179e\"],[0.4444444444444444,\"#bd3786\"],[0.5555555555555556,\"#d8576b\"],[0.6666666666666666,\"#ed7953\"],[0.7777777777777778,\"#fb9f3a\"],[0.8888888888888888,\"#fdca26\"],[1.0,\"#f0f921\"]]}],\"mesh3d\":[{\"type\":\"mesh3d\",\"colorbar\":{\"outlinewidth\":0,\"ticks\":\"\"}}],\"scatter\":[{\"fillpattern\":{\"fillmode\":\"overlay\",\"size\":10,\"solidity\":0.2},\"type\":\"scatter\"}],\"parcoords\":[{\"type\":\"parcoords\",\"line\":{\"colorbar\":{\"outlinewidth\":0,\"ticks\":\"\"}}}],\"scatterpolargl\":[{\"type\":\"scatterpolargl\",\"marker\":{\"colorbar\":{\"outlinewidth\":0,\"ticks\":\"\"}}}],\"bar\":[{\"error_x\":{\"color\":\"#2a3f5f\"},\"error_y\":{\"color\":\"#2a3f5f\"},\"marker\":{\"line\":{\"color\":\"#E5ECF6\",\"width\":0.5},\"pattern\":{\"fillmode\":\"overlay\",\"size\":10,\"solidity\":0.2}},\"type\":\"bar\"}],\"scattergeo\":[{\"type\":\"scattergeo\",\"marker\":{\"colorbar\":{\"outlinewidth\":0,\"ticks\":\"\"}}}],\"scatterpolar\":[{\"type\":\"scatterpolar\",\"marker\":{\"colorbar\":{\"outlinewidth\":0,\"ticks\":\"\"}}}],\"histogram\":[{\"marker\":{\"pattern\":{\"fillmode\":\"overlay\",\"size\":10,\"solidity\":0.2}},\"type\":\"histogram\"}],\"scattergl\":[{\"type\":\"scattergl\",\"marker\":{\"colorbar\":{\"outlinewidth\":0,\"ticks\":\"\"}}}],\"scatter3d\":[{\"type\":\"scatter3d\",\"line\":{\"colorbar\":{\"outlinewidth\":0,\"ticks\":\"\"}},\"marker\":{\"colorbar\":{\"outlinewidth\":0,\"ticks\":\"\"}}}],\"scattermapbox\":[{\"type\":\"scattermapbox\",\"marker\":{\"colorbar\":{\"outlinewidth\":0,\"ticks\":\"\"}}}],\"scatterternary\":[{\"type\":\"scatterternary\",\"marker\":{\"colorbar\":{\"outlinewidth\":0,\"ticks\":\"\"}}}],\"scattercarpet\":[{\"type\":\"scattercarpet\",\"marker\":{\"colorbar\":{\"outlinewidth\":0,\"ticks\":\"\"}}}],\"carpet\":[{\"aaxis\":{\"endlinecolor\":\"#2a3f5f\",\"gridcolor\":\"white\",\"linecolor\":\"white\",\"minorgridcolor\":\"white\",\"startlinecolor\":\"#2a3f5f\"},\"baxis\":{\"endlinecolor\":\"#2a3f5f\",\"gridcolor\":\"white\",\"linecolor\":\"white\",\"minorgridcolor\":\"white\",\"startlinecolor\":\"#2a3f5f\"},\"type\":\"carpet\"}],\"table\":[{\"cells\":{\"fill\":{\"color\":\"#EBF0F8\"},\"line\":{\"color\":\"white\"}},\"header\":{\"fill\":{\"color\":\"#C8D4E3\"},\"line\":{\"color\":\"white\"}},\"type\":\"table\"}],\"barpolar\":[{\"marker\":{\"line\":{\"color\":\"#E5ECF6\",\"width\":0.5},\"pattern\":{\"fillmode\":\"overlay\",\"size\":10,\"solidity\":0.2}},\"type\":\"barpolar\"}],\"pie\":[{\"automargin\":true,\"type\":\"pie\"}]},\"layout\":{\"autotypenumbers\":\"strict\",\"colorway\":[\"#636efa\",\"#EF553B\",\"#00cc96\",\"#ab63fa\",\"#FFA15A\",\"#19d3f3\",\"#FF6692\",\"#B6E880\",\"#FF97FF\",\"#FECB52\"],\"font\":{\"color\":\"#2a3f5f\"},\"hovermode\":\"closest\",\"hoverlabel\":{\"align\":\"left\"},\"paper_bgcolor\":\"white\",\"plot_bgcolor\":\"#E5ECF6\",\"polar\":{\"bgcolor\":\"#E5ECF6\",\"angularaxis\":{\"gridcolor\":\"white\",\"linecolor\":\"white\",\"ticks\":\"\"},\"radialaxis\":{\"gridcolor\":\"white\",\"linecolor\":\"white\",\"ticks\":\"\"}},\"ternary\":{\"bgcolor\":\"#E5ECF6\",\"aaxis\":{\"gridcolor\":\"white\",\"linecolor\":\"white\",\"ticks\":\"\"},\"baxis\":{\"gridcolor\":\"white\",\"linecolor\":\"white\",\"ticks\":\"\"},\"caxis\":{\"gridcolor\":\"white\",\"linecolor\":\"white\",\"ticks\":\"\"}},\"coloraxis\":{\"colorbar\":{\"outlinewidth\":0,\"ticks\":\"\"}},\"colorscale\":{\"sequential\":[[0.0,\"#0d0887\"],[0.1111111111111111,\"#46039f\"],[0.2222222222222222,\"#7201a8\"],[0.3333333333333333,\"#9c179e\"],[0.4444444444444444,\"#bd3786\"],[0.5555555555555556,\"#d8576b\"],[0.6666666666666666,\"#ed7953\"],[0.7777777777777778,\"#fb9f3a\"],[0.8888888888888888,\"#fdca26\"],[1.0,\"#f0f921\"]],\"sequentialminus\":[[0.0,\"#0d0887\"],[0.1111111111111111,\"#46039f\"],[0.2222222222222222,\"#7201a8\"],[0.3333333333333333,\"#9c179e\"],[0.4444444444444444,\"#bd3786\"],[0.5555555555555556,\"#d8576b\"],[0.6666666666666666,\"#ed7953\"],[0.7777777777777778,\"#fb9f3a\"],[0.8888888888888888,\"#fdca26\"],[1.0,\"#f0f921\"]],\"diverging\":[[0,\"#8e0152\"],[0.1,\"#c51b7d\"],[0.2,\"#de77ae\"],[0.3,\"#f1b6da\"],[0.4,\"#fde0ef\"],[0.5,\"#f7f7f7\"],[0.6,\"#e6f5d0\"],[0.7,\"#b8e186\"],[0.8,\"#7fbc41\"],[0.9,\"#4d9221\"],[1,\"#276419\"]]},\"xaxis\":{\"gridcolor\":\"white\",\"linecolor\":\"white\",\"ticks\":\"\",\"title\":{\"standoff\":15},\"zerolinecolor\":\"white\",\"automargin\":true,\"zerolinewidth\":2},\"yaxis\":{\"gridcolor\":\"white\",\"linecolor\":\"white\",\"ticks\":\"\",\"title\":{\"standoff\":15},\"zerolinecolor\":\"white\",\"automargin\":true,\"zerolinewidth\":2},\"scene\":{\"xaxis\":{\"backgroundcolor\":\"#E5ECF6\",\"gridcolor\":\"white\",\"linecolor\":\"white\",\"showbackground\":true,\"ticks\":\"\",\"zerolinecolor\":\"white\",\"gridwidth\":2},\"yaxis\":{\"backgroundcolor\":\"#E5ECF6\",\"gridcolor\":\"white\",\"linecolor\":\"white\",\"showbackground\":true,\"ticks\":\"\",\"zerolinecolor\":\"white\",\"gridwidth\":2},\"zaxis\":{\"backgroundcolor\":\"#E5ECF6\",\"gridcolor\":\"white\",\"linecolor\":\"white\",\"showbackground\":true,\"ticks\":\"\",\"zerolinecolor\":\"white\",\"gridwidth\":2}},\"shapedefaults\":{\"line\":{\"color\":\"#2a3f5f\"}},\"annotationdefaults\":{\"arrowcolor\":\"#2a3f5f\",\"arrowhead\":0,\"arrowwidth\":1},\"geo\":{\"bgcolor\":\"white\",\"landcolor\":\"#E5ECF6\",\"subunitcolor\":\"white\",\"showland\":true,\"showlakes\":true,\"lakecolor\":\"white\"},\"title\":{\"x\":0.05},\"mapbox\":{\"style\":\"light\"}}},\"xaxis\":{\"anchor\":\"y\",\"domain\":[0.0,0.45]},\"yaxis\":{\"anchor\":\"x\",\"domain\":[0.625,1.0]},\"xaxis2\":{\"anchor\":\"y2\",\"domain\":[0.55,1.0]},\"yaxis2\":{\"anchor\":\"x2\",\"domain\":[0.625,1.0]},\"xaxis3\":{\"anchor\":\"y3\",\"domain\":[0.0,0.45]},\"yaxis3\":{\"anchor\":\"x3\",\"domain\":[0.0,0.375]},\"xaxis4\":{\"anchor\":\"y4\",\"domain\":[0.55,1.0]},\"yaxis4\":{\"anchor\":\"x4\",\"domain\":[0.0,0.375]},\"annotations\":[{\"font\":{\"size\":16},\"showarrow\":false,\"text\":\"Total Return\",\"x\":0.225,\"xanchor\":\"center\",\"xref\":\"paper\",\"y\":1.0,\"yanchor\":\"bottom\",\"yref\":\"paper\"},{\"font\":{\"size\":16},\"showarrow\":false,\"text\":\"Volatility\",\"x\":0.775,\"xanchor\":\"center\",\"xref\":\"paper\",\"y\":1.0,\"yanchor\":\"bottom\",\"yref\":\"paper\"},{\"font\":{\"size\":16},\"showarrow\":false,\"text\":\"Sharpe Ratio\",\"x\":0.225,\"xanchor\":\"center\",\"xref\":\"paper\",\"y\":0.375,\"yanchor\":\"bottom\",\"yref\":\"paper\"},{\"font\":{\"size\":16},\"showarrow\":false,\"text\":\"Max Drawdown\",\"x\":0.775,\"xanchor\":\"center\",\"xref\":\"paper\",\"y\":0.375,\"yanchor\":\"bottom\",\"yref\":\"paper\"}],\"title\":{\"text\":\"Option Performance Metrics by Strike Price with Strike and Expiry Details\"},\"height\":800,\"width\":1200,\"hovermode\":\"closest\"},                        {\"responsive\": true}                    ).then(function(){\n",
       "                            \n",
       "var gd = document.getElementById('f7411a17-c151-4f83-b33e-51ed5454e8c1');\n",
       "var x = new MutationObserver(function (mutations, observer) {{\n",
       "        var display = window.getComputedStyle(gd).display;\n",
       "        if (!display || display === 'none') {{\n",
       "            console.log([gd, 'removed!']);\n",
       "            Plotly.purge(gd);\n",
       "            observer.disconnect();\n",
       "        }}\n",
       "}});\n",
       "\n",
       "// Listen for the removal of the full notebook cells\n",
       "var notebookContainer = gd.closest('#notebook-container');\n",
       "if (notebookContainer) {{\n",
       "    x.observe(notebookContainer, {childList: true});\n",
       "}}\n",
       "\n",
       "// Listen for the clearing of the current output cell\n",
       "var outputEl = gd.closest('.output');\n",
       "if (outputEl) {{\n",
       "    x.observe(outputEl, {childList: true});\n",
       "}}\n",
       "\n",
       "                        })                };                });            </script>        </div>"
      ]
     },
     "metadata": {},
     "output_type": "display_data"
    }
   ],
   "source": [
    "from plotly.subplots import make_subplots\n",
    "import plotly.graph_objects as go\n",
    "\n",
    "# Assuming results_df is already populated with the data from the previous step\n",
    "\n",
    "# Initialize subplot\n",
    "fig = make_subplots(\n",
    "    rows=2,\n",
    "    cols=2,\n",
    "    subplot_titles=(\"Total Return\", \"Volatility\", \"Sharpe Ratio\", \"Max Drawdown\"),\n",
    ")\n",
    "\n",
    "\n",
    "# Custom function to create hover text\n",
    "def create_hover_text(row):\n",
    "    return f\"Strike: {row['Strike Price']}, Expiry: {row['Expiry (Days)']} days\"\n",
    "\n",
    "\n",
    "# Add traces with hoverinfo\n",
    "metrics = [\"Total Return\", \"Volatility\", \"Sharpe Ratio\", \"Max Drawdown\"]\n",
    "positions = [(1, 1), (1, 2), (2, 1), (2, 2)]\n",
    "\n",
    "for metric, pos in zip(metrics, positions):\n",
    "    fig.add_trace(\n",
    "        go.Scatter(\n",
    "            x=results_df[\"Strike Price\"],\n",
    "            y=results_df[metric],\n",
    "            mode=\"markers\",\n",
    "            name=metric,\n",
    "            text=results_df.apply(create_hover_text, axis=1),\n",
    "            hoverinfo=\"text+y\",\n",
    "        ),\n",
    "        row=pos[0],\n",
    "        col=pos[1],\n",
    "    )\n",
    "\n",
    "# Update layout for readability\n",
    "fig.update_layout(\n",
    "    height=800,\n",
    "    width=1200,\n",
    "    title_text=\"Option Performance Metrics by Strike Price with Strike and Expiry Details\",\n",
    "    hovermode=\"closest\",\n",
    ")\n",
    "\n",
    "fig.show()"
   ]
  }
 ],
 "metadata": {
  "kernelspec": {
   "display_name": "Python 3",
   "language": "python",
   "name": "python3"
  },
  "language_info": {
   "codemirror_mode": {
    "name": "ipython",
    "version": 3
   },
   "file_extension": ".py",
   "mimetype": "text/x-python",
   "name": "python",
   "nbconvert_exporter": "python",
   "pygments_lexer": "ipython3",
   "version": "3.10.13"
  }
 },
 "nbformat": 4,
 "nbformat_minor": 2
}
