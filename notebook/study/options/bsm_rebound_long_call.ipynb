{
 "cells": [
  {
   "cell_type": "markdown",
   "metadata": {},
   "source": [
    "NVDA 股價大跌 5%，我看好他會在 1 個月內反彈回來，有什麼選擇權策略適合？\n"
   ]
  },
  {
   "cell_type": "code",
   "execution_count": 1,
   "metadata": {},
   "outputs": [
    {
     "name": "stdout",
     "output_type": "stream",
     "text": [
      "The theoretical price of the call option is: $2.23\n"
     ]
    }
   ],
   "source": [
    "import numpy as np\n",
    "from scipy.stats import norm\n",
    "\n",
    "\n",
    "def black_scholes_merton(S, K, T, r, sigma, option_type=\"call\"):\n",
    "    \"\"\"\n",
    "    根據BSM模型計算歐式選擇權的理論價格。\n",
    "\n",
    "    參數:\n",
    "    S : float - 股票的當前價格\n",
    "    K : float - 行使價格\n",
    "    T : float - 到期時間（以年為單位）\n",
    "    r : float - 無風險利率（以小數表示，如0.01表示1%）\n",
    "    sigma : float - 股票價格的波動率（以小數表示，如0.2表示20%）\n",
    "    option_type : str - 選擇權類型 ('call' 或 'put')\n",
    "\n",
    "    返回:\n",
    "    float - 選擇權的理論價格\n",
    "    \"\"\"\n",
    "    # 檢查選擇權類型是否有效\n",
    "    if option_type not in [\"call\", \"put\"]:\n",
    "        raise ValueError(\"Option type must be 'call' or 'put'\")\n",
    "\n",
    "    # 計算d1和d2\n",
    "    d1 = (np.log(S / K) + (r + 0.5 * sigma**2) * T) / (sigma * np.sqrt(T))\n",
    "    d2 = d1 - sigma * np.sqrt(T)\n",
    "\n",
    "    # 根據選擇權類型計算價格\n",
    "    if option_type == \"call\":\n",
    "        option_price = S * norm.cdf(d1) - K * np.exp(-r * T) * norm.cdf(d2)\n",
    "    else:\n",
    "        option_price = K * np.exp(-r * T) * norm.cdf(-d2) - S * norm.cdf(-d1)\n",
    "\n",
    "    return option_price\n",
    "\n",
    "\n",
    "# 假設參數\n",
    "S = 250  # 當前NVDA股票價格\n",
    "K = 260  # 行使價格\n",
    "T = 1 / 12  # 到期時間，假設為1個月\n",
    "r = 0.01  # 無風險利率（1%）\n",
    "sigma = 0.2  # 波動率（20%）\n",
    "option_type = \"call\"  # 看漲期權\n",
    "\n",
    "# 計算選擇權價格\n",
    "option_price = black_scholes_merton(S, K, T, r, sigma, option_type)\n",
    "print(f\"The theoretical price of the {option_type} option is: ${option_price:.2f}\")"
   ]
  },
  {
   "cell_type": "code",
   "execution_count": 36,
   "metadata": {},
   "outputs": [
    {
     "data": {
      "application/vnd.plotly.v1+json": {
       "config": {
        "plotlyServerURL": "https://plot.ly"
       },
       "data": [
        {
         "mode": "lines",
         "name": "Stock Price",
         "type": "scatter",
         "x": [
          1,
          2,
          3,
          4,
          5,
          6,
          7,
          8,
          9,
          10
         ],
         "xaxis": "x",
         "y": [
          950,
          870,
          830,
          800,
          840,
          880,
          840,
          900,
          940,
          950
         ],
         "yaxis": "y"
        },
        {
         "mode": "lines",
         "name": "K=850",
         "type": "scatter",
         "x": [
          1,
          2,
          3,
          4,
          5,
          6,
          7,
          8,
          9,
          10
         ],
         "xaxis": "x2",
         "y": [
          104.29315014562872,
          41.185593376204565,
          20.368322463629454,
          10.360575817250037,
          24.761837184358455,
          47.69291962702982,
          24.761837184358455,
          62.087511293925445,
          95.303873121935,
          104.29315014562872
         ],
         "yaxis": "y2"
        },
        {
         "mode": "lines",
         "name": "K=900",
         "type": "scatter",
         "x": [
          1,
          2,
          3,
          4,
          5,
          6,
          7,
          8,
          9,
          10
         ],
         "xaxis": "x2",
         "y": [
          63.51474610582329,
          18.12766000357402,
          7.167510947708848,
          2.9994008312267795,
          9.251191551748661,
          22.054883004746046,
          9.251191551748661,
          31.448093967140608,
          56.20465742822137,
          63.51474610582329
         ],
         "yaxis": "y2"
        },
        {
         "mode": "lines",
         "name": "K=940",
         "type": "scatter",
         "x": [
          1,
          2,
          3,
          4,
          5,
          6,
          7,
          8,
          9,
          10
         ],
         "xaxis": "x2",
         "y": [
          38.29982173385008,
          8.091317370054185,
          2.6367577275083818,
          0.9371817223710046,
          3.5812916261910743,
          10.286002324378728,
          3.5812916261910743,
          15.926469299470057,
          32.845787032346834,
          38.29982173385008
         ],
         "yaxis": "y2"
        },
        {
         "mode": "lines",
         "name": "K=950",
         "type": "scatter",
         "x": [
          1,
          2,
          3,
          4,
          5,
          6,
          7,
          8,
          9,
          10
         ],
         "xaxis": "x2",
         "y": [
          33.19521029864836,
          6.47653804223566,
          2.0084384172216616,
          0.6849661917899112,
          2.7635717800839075,
          8.327554545526965,
          2.7635717800839075,
          13.175004360056022,
          28.227361776266378,
          33.19521029864836
         ],
         "yaxis": "y2"
        },
        {
         "mode": "lines",
         "name": "K=960",
         "type": "scatter",
         "x": [
          1,
          2,
          3,
          4,
          5,
          6,
          7,
          8,
          9,
          10
         ],
         "xaxis": "x2",
         "y": [
          28.574243775612217,
          5.141234753458789,
          1.5166836864192348,
          0.4962685377714191,
          2.114356111486501,
          6.687199011684129,
          2.114356111486501,
          10.813548602246243,
          24.087045036343227,
          28.574243775612217
         ],
         "yaxis": "y2"
        },
        {
         "mode": "lines",
         "name": "K=1000",
         "type": "scatter",
         "x": [
          1,
          2,
          3,
          4,
          5,
          6,
          7,
          8,
          9,
          10
         ],
         "xaxis": "x2",
         "y": [
          14.629819302727753,
          1.8822691718208162,
          0.4536793411076623,
          0.12573801504346438,
          0.666619622386122,
          2.5660930235922024,
          0.666619622386122,
          4.538957640294797,
          11.88720474774442,
          14.629819302727753
         ],
         "yaxis": "y2"
        },
        {
         "mode": "lines",
         "name": "T=0 months",
         "type": "scatter",
         "x": [
          1,
          2,
          3,
          4,
          5,
          6,
          7,
          8,
          9,
          10
         ],
         "xaxis": "x3",
         "y": [
          56.16680257211726,
          9.951714446358011,
          2.3305005838656854,
          0.5498029414122563,
          3.510729446613837,
          13.31654060545435,
          3.510729446613837,
          22.16706861079973,
          48.19088471311147,
          56.16680257211726
         ],
         "yaxis": "y3"
        },
        {
         "mode": "lines",
         "name": "T=1 months",
         "type": "scatter",
         "x": [
          1,
          2,
          3,
          4,
          5,
          6,
          7,
          8,
          9,
          10
         ],
         "xaxis": "x3",
         "y": [
          63.51474610582329,
          18.12766000357402,
          7.167510947708848,
          2.9994008312267795,
          9.251191551748661,
          22.054883004746046,
          9.251191551748661,
          31.448093967140608,
          56.20465742822137,
          63.51474610582329
         ],
         "yaxis": "y3"
        },
        {
         "mode": "lines",
         "name": "T=2 months",
         "type": "scatter",
         "x": [
          1,
          2,
          3,
          4,
          5,
          6,
          7,
          8,
          9,
          10
         ],
         "xaxis": "x3",
         "y": [
          75.46701604222119,
          30.412017872505146,
          16.484236250665703,
          9.52971643299162,
          19.440367321274152,
          34.79550617828107,
          19.440367321274152,
          44.66360179604527,
          68.64797381178676,
          75.46701604222119
         ],
         "yaxis": "y3"
        },
        {
         "mode": "lines",
         "name": "T=3 months",
         "type": "scatter",
         "x": [
          1,
          2,
          3,
          4,
          5,
          6,
          7,
          8,
          9,
          10
         ],
         "xaxis": "x3",
         "y": [
          85.23093986453443,
          40.117822397640964,
          24.663404424280714,
          16.11959771551568,
          28.079705320992844,
          44.73482087939033,
          28.079705320992844,
          54.87062944002207,
          78.6150016029485,
          85.23093986453443
         ],
         "yaxis": "y3"
        }
       ],
       "layout": {
        "height": 800,
        "template": {
         "data": {
          "bar": [
           {
            "error_x": {
             "color": "#2a3f5f"
            },
            "error_y": {
             "color": "#2a3f5f"
            },
            "marker": {
             "line": {
              "color": "#E5ECF6",
              "width": 0.5
             },
             "pattern": {
              "fillmode": "overlay",
              "size": 10,
              "solidity": 0.2
             }
            },
            "type": "bar"
           }
          ],
          "barpolar": [
           {
            "marker": {
             "line": {
              "color": "#E5ECF6",
              "width": 0.5
             },
             "pattern": {
              "fillmode": "overlay",
              "size": 10,
              "solidity": 0.2
             }
            },
            "type": "barpolar"
           }
          ],
          "carpet": [
           {
            "aaxis": {
             "endlinecolor": "#2a3f5f",
             "gridcolor": "white",
             "linecolor": "white",
             "minorgridcolor": "white",
             "startlinecolor": "#2a3f5f"
            },
            "baxis": {
             "endlinecolor": "#2a3f5f",
             "gridcolor": "white",
             "linecolor": "white",
             "minorgridcolor": "white",
             "startlinecolor": "#2a3f5f"
            },
            "type": "carpet"
           }
          ],
          "choropleth": [
           {
            "colorbar": {
             "outlinewidth": 0,
             "ticks": ""
            },
            "type": "choropleth"
           }
          ],
          "contour": [
           {
            "colorbar": {
             "outlinewidth": 0,
             "ticks": ""
            },
            "colorscale": [
             [
              0,
              "#0d0887"
             ],
             [
              0.1111111111111111,
              "#46039f"
             ],
             [
              0.2222222222222222,
              "#7201a8"
             ],
             [
              0.3333333333333333,
              "#9c179e"
             ],
             [
              0.4444444444444444,
              "#bd3786"
             ],
             [
              0.5555555555555556,
              "#d8576b"
             ],
             [
              0.6666666666666666,
              "#ed7953"
             ],
             [
              0.7777777777777778,
              "#fb9f3a"
             ],
             [
              0.8888888888888888,
              "#fdca26"
             ],
             [
              1,
              "#f0f921"
             ]
            ],
            "type": "contour"
           }
          ],
          "contourcarpet": [
           {
            "colorbar": {
             "outlinewidth": 0,
             "ticks": ""
            },
            "type": "contourcarpet"
           }
          ],
          "heatmap": [
           {
            "colorbar": {
             "outlinewidth": 0,
             "ticks": ""
            },
            "colorscale": [
             [
              0,
              "#0d0887"
             ],
             [
              0.1111111111111111,
              "#46039f"
             ],
             [
              0.2222222222222222,
              "#7201a8"
             ],
             [
              0.3333333333333333,
              "#9c179e"
             ],
             [
              0.4444444444444444,
              "#bd3786"
             ],
             [
              0.5555555555555556,
              "#d8576b"
             ],
             [
              0.6666666666666666,
              "#ed7953"
             ],
             [
              0.7777777777777778,
              "#fb9f3a"
             ],
             [
              0.8888888888888888,
              "#fdca26"
             ],
             [
              1,
              "#f0f921"
             ]
            ],
            "type": "heatmap"
           }
          ],
          "heatmapgl": [
           {
            "colorbar": {
             "outlinewidth": 0,
             "ticks": ""
            },
            "colorscale": [
             [
              0,
              "#0d0887"
             ],
             [
              0.1111111111111111,
              "#46039f"
             ],
             [
              0.2222222222222222,
              "#7201a8"
             ],
             [
              0.3333333333333333,
              "#9c179e"
             ],
             [
              0.4444444444444444,
              "#bd3786"
             ],
             [
              0.5555555555555556,
              "#d8576b"
             ],
             [
              0.6666666666666666,
              "#ed7953"
             ],
             [
              0.7777777777777778,
              "#fb9f3a"
             ],
             [
              0.8888888888888888,
              "#fdca26"
             ],
             [
              1,
              "#f0f921"
             ]
            ],
            "type": "heatmapgl"
           }
          ],
          "histogram": [
           {
            "marker": {
             "pattern": {
              "fillmode": "overlay",
              "size": 10,
              "solidity": 0.2
             }
            },
            "type": "histogram"
           }
          ],
          "histogram2d": [
           {
            "colorbar": {
             "outlinewidth": 0,
             "ticks": ""
            },
            "colorscale": [
             [
              0,
              "#0d0887"
             ],
             [
              0.1111111111111111,
              "#46039f"
             ],
             [
              0.2222222222222222,
              "#7201a8"
             ],
             [
              0.3333333333333333,
              "#9c179e"
             ],
             [
              0.4444444444444444,
              "#bd3786"
             ],
             [
              0.5555555555555556,
              "#d8576b"
             ],
             [
              0.6666666666666666,
              "#ed7953"
             ],
             [
              0.7777777777777778,
              "#fb9f3a"
             ],
             [
              0.8888888888888888,
              "#fdca26"
             ],
             [
              1,
              "#f0f921"
             ]
            ],
            "type": "histogram2d"
           }
          ],
          "histogram2dcontour": [
           {
            "colorbar": {
             "outlinewidth": 0,
             "ticks": ""
            },
            "colorscale": [
             [
              0,
              "#0d0887"
             ],
             [
              0.1111111111111111,
              "#46039f"
             ],
             [
              0.2222222222222222,
              "#7201a8"
             ],
             [
              0.3333333333333333,
              "#9c179e"
             ],
             [
              0.4444444444444444,
              "#bd3786"
             ],
             [
              0.5555555555555556,
              "#d8576b"
             ],
             [
              0.6666666666666666,
              "#ed7953"
             ],
             [
              0.7777777777777778,
              "#fb9f3a"
             ],
             [
              0.8888888888888888,
              "#fdca26"
             ],
             [
              1,
              "#f0f921"
             ]
            ],
            "type": "histogram2dcontour"
           }
          ],
          "mesh3d": [
           {
            "colorbar": {
             "outlinewidth": 0,
             "ticks": ""
            },
            "type": "mesh3d"
           }
          ],
          "parcoords": [
           {
            "line": {
             "colorbar": {
              "outlinewidth": 0,
              "ticks": ""
             }
            },
            "type": "parcoords"
           }
          ],
          "pie": [
           {
            "automargin": true,
            "type": "pie"
           }
          ],
          "scatter": [
           {
            "fillpattern": {
             "fillmode": "overlay",
             "size": 10,
             "solidity": 0.2
            },
            "type": "scatter"
           }
          ],
          "scatter3d": [
           {
            "line": {
             "colorbar": {
              "outlinewidth": 0,
              "ticks": ""
             }
            },
            "marker": {
             "colorbar": {
              "outlinewidth": 0,
              "ticks": ""
             }
            },
            "type": "scatter3d"
           }
          ],
          "scattercarpet": [
           {
            "marker": {
             "colorbar": {
              "outlinewidth": 0,
              "ticks": ""
             }
            },
            "type": "scattercarpet"
           }
          ],
          "scattergeo": [
           {
            "marker": {
             "colorbar": {
              "outlinewidth": 0,
              "ticks": ""
             }
            },
            "type": "scattergeo"
           }
          ],
          "scattergl": [
           {
            "marker": {
             "colorbar": {
              "outlinewidth": 0,
              "ticks": ""
             }
            },
            "type": "scattergl"
           }
          ],
          "scattermapbox": [
           {
            "marker": {
             "colorbar": {
              "outlinewidth": 0,
              "ticks": ""
             }
            },
            "type": "scattermapbox"
           }
          ],
          "scatterpolar": [
           {
            "marker": {
             "colorbar": {
              "outlinewidth": 0,
              "ticks": ""
             }
            },
            "type": "scatterpolar"
           }
          ],
          "scatterpolargl": [
           {
            "marker": {
             "colorbar": {
              "outlinewidth": 0,
              "ticks": ""
             }
            },
            "type": "scatterpolargl"
           }
          ],
          "scatterternary": [
           {
            "marker": {
             "colorbar": {
              "outlinewidth": 0,
              "ticks": ""
             }
            },
            "type": "scatterternary"
           }
          ],
          "surface": [
           {
            "colorbar": {
             "outlinewidth": 0,
             "ticks": ""
            },
            "colorscale": [
             [
              0,
              "#0d0887"
             ],
             [
              0.1111111111111111,
              "#46039f"
             ],
             [
              0.2222222222222222,
              "#7201a8"
             ],
             [
              0.3333333333333333,
              "#9c179e"
             ],
             [
              0.4444444444444444,
              "#bd3786"
             ],
             [
              0.5555555555555556,
              "#d8576b"
             ],
             [
              0.6666666666666666,
              "#ed7953"
             ],
             [
              0.7777777777777778,
              "#fb9f3a"
             ],
             [
              0.8888888888888888,
              "#fdca26"
             ],
             [
              1,
              "#f0f921"
             ]
            ],
            "type": "surface"
           }
          ],
          "table": [
           {
            "cells": {
             "fill": {
              "color": "#EBF0F8"
             },
             "line": {
              "color": "white"
             }
            },
            "header": {
             "fill": {
              "color": "#C8D4E3"
             },
             "line": {
              "color": "white"
             }
            },
            "type": "table"
           }
          ]
         },
         "layout": {
          "annotationdefaults": {
           "arrowcolor": "#2a3f5f",
           "arrowhead": 0,
           "arrowwidth": 1
          },
          "autotypenumbers": "strict",
          "coloraxis": {
           "colorbar": {
            "outlinewidth": 0,
            "ticks": ""
           }
          },
          "colorscale": {
           "diverging": [
            [
             0,
             "#8e0152"
            ],
            [
             0.1,
             "#c51b7d"
            ],
            [
             0.2,
             "#de77ae"
            ],
            [
             0.3,
             "#f1b6da"
            ],
            [
             0.4,
             "#fde0ef"
            ],
            [
             0.5,
             "#f7f7f7"
            ],
            [
             0.6,
             "#e6f5d0"
            ],
            [
             0.7,
             "#b8e186"
            ],
            [
             0.8,
             "#7fbc41"
            ],
            [
             0.9,
             "#4d9221"
            ],
            [
             1,
             "#276419"
            ]
           ],
           "sequential": [
            [
             0,
             "#0d0887"
            ],
            [
             0.1111111111111111,
             "#46039f"
            ],
            [
             0.2222222222222222,
             "#7201a8"
            ],
            [
             0.3333333333333333,
             "#9c179e"
            ],
            [
             0.4444444444444444,
             "#bd3786"
            ],
            [
             0.5555555555555556,
             "#d8576b"
            ],
            [
             0.6666666666666666,
             "#ed7953"
            ],
            [
             0.7777777777777778,
             "#fb9f3a"
            ],
            [
             0.8888888888888888,
             "#fdca26"
            ],
            [
             1,
             "#f0f921"
            ]
           ],
           "sequentialminus": [
            [
             0,
             "#0d0887"
            ],
            [
             0.1111111111111111,
             "#46039f"
            ],
            [
             0.2222222222222222,
             "#7201a8"
            ],
            [
             0.3333333333333333,
             "#9c179e"
            ],
            [
             0.4444444444444444,
             "#bd3786"
            ],
            [
             0.5555555555555556,
             "#d8576b"
            ],
            [
             0.6666666666666666,
             "#ed7953"
            ],
            [
             0.7777777777777778,
             "#fb9f3a"
            ],
            [
             0.8888888888888888,
             "#fdca26"
            ],
            [
             1,
             "#f0f921"
            ]
           ]
          },
          "colorway": [
           "#636efa",
           "#EF553B",
           "#00cc96",
           "#ab63fa",
           "#FFA15A",
           "#19d3f3",
           "#FF6692",
           "#B6E880",
           "#FF97FF",
           "#FECB52"
          ],
          "font": {
           "color": "#2a3f5f"
          },
          "geo": {
           "bgcolor": "white",
           "lakecolor": "white",
           "landcolor": "#E5ECF6",
           "showlakes": true,
           "showland": true,
           "subunitcolor": "white"
          },
          "hoverlabel": {
           "align": "left"
          },
          "hovermode": "closest",
          "mapbox": {
           "style": "light"
          },
          "paper_bgcolor": "white",
          "plot_bgcolor": "#E5ECF6",
          "polar": {
           "angularaxis": {
            "gridcolor": "white",
            "linecolor": "white",
            "ticks": ""
           },
           "bgcolor": "#E5ECF6",
           "radialaxis": {
            "gridcolor": "white",
            "linecolor": "white",
            "ticks": ""
           }
          },
          "scene": {
           "xaxis": {
            "backgroundcolor": "#E5ECF6",
            "gridcolor": "white",
            "gridwidth": 2,
            "linecolor": "white",
            "showbackground": true,
            "ticks": "",
            "zerolinecolor": "white"
           },
           "yaxis": {
            "backgroundcolor": "#E5ECF6",
            "gridcolor": "white",
            "gridwidth": 2,
            "linecolor": "white",
            "showbackground": true,
            "ticks": "",
            "zerolinecolor": "white"
           },
           "zaxis": {
            "backgroundcolor": "#E5ECF6",
            "gridcolor": "white",
            "gridwidth": 2,
            "linecolor": "white",
            "showbackground": true,
            "ticks": "",
            "zerolinecolor": "white"
           }
          },
          "shapedefaults": {
           "line": {
            "color": "#2a3f5f"
           }
          },
          "ternary": {
           "aaxis": {
            "gridcolor": "white",
            "linecolor": "white",
            "ticks": ""
           },
           "baxis": {
            "gridcolor": "white",
            "linecolor": "white",
            "ticks": ""
           },
           "bgcolor": "#E5ECF6",
           "caxis": {
            "gridcolor": "white",
            "linecolor": "white",
            "ticks": ""
           }
          },
          "title": {
           "x": 0.05
          },
          "xaxis": {
           "automargin": true,
           "gridcolor": "white",
           "linecolor": "white",
           "ticks": "",
           "title": {
            "standoff": 15
           },
           "zerolinecolor": "white",
           "zerolinewidth": 2
          },
          "yaxis": {
           "automargin": true,
           "gridcolor": "white",
           "linecolor": "white",
           "ticks": "",
           "title": {
            "standoff": 15
           },
           "zerolinecolor": "white",
           "zerolinewidth": 2
          }
         }
        },
        "title": {
         "text": "Stock and Call Option Prices Over Time"
        },
        "width": 800,
        "xaxis": {
         "anchor": "y",
         "domain": [
          0,
          1
         ],
         "matches": "x3",
         "showticklabels": false,
         "title": {
          "text": "Time (Days)"
         }
        },
        "xaxis2": {
         "anchor": "y2",
         "domain": [
          0,
          1
         ],
         "matches": "x3",
         "showticklabels": false
        },
        "xaxis3": {
         "anchor": "y3",
         "domain": [
          0,
          1
         ]
        },
        "yaxis": {
         "anchor": "x",
         "domain": [
          0.7333333333333334,
          1
         ],
         "title": {
          "text": "Stock Price"
         }
        },
        "yaxis2": {
         "anchor": "x2",
         "domain": [
          0.3666666666666667,
          0.6333333333333333
         ],
         "title": {
          "text": "Call Price (T=1 month)"
         }
        },
        "yaxis3": {
         "anchor": "x3",
         "domain": [
          0,
          0.26666666666666666
         ],
         "title": {
          "text": "Call Price (K=900)"
         }
        }
       }
      },
      "text/html": [
       "<div>                            <div id=\"132b662f-ce3d-4b33-b5f6-52c258775a2d\" class=\"plotly-graph-div\" style=\"height:800px; width:800px;\"></div>            <script type=\"text/javascript\">                require([\"plotly\"], function(Plotly) {                    window.PLOTLYENV=window.PLOTLYENV || {};                                    if (document.getElementById(\"132b662f-ce3d-4b33-b5f6-52c258775a2d\")) {                    Plotly.newPlot(                        \"132b662f-ce3d-4b33-b5f6-52c258775a2d\",                        [{\"mode\":\"lines\",\"name\":\"Stock Price\",\"x\":[1,2,3,4,5,6,7,8,9,10],\"y\":[950,870,830,800,840,880,840,900,940,950],\"type\":\"scatter\",\"xaxis\":\"x\",\"yaxis\":\"y\"},{\"mode\":\"lines\",\"name\":\"K=850\",\"x\":[1,2,3,4,5,6,7,8,9,10],\"y\":[104.29315014562872,41.185593376204565,20.368322463629454,10.360575817250037,24.761837184358455,47.69291962702982,24.761837184358455,62.087511293925445,95.303873121935,104.29315014562872],\"type\":\"scatter\",\"xaxis\":\"x2\",\"yaxis\":\"y2\"},{\"mode\":\"lines\",\"name\":\"K=900\",\"x\":[1,2,3,4,5,6,7,8,9,10],\"y\":[63.51474610582329,18.12766000357402,7.167510947708848,2.9994008312267795,9.251191551748661,22.054883004746046,9.251191551748661,31.448093967140608,56.20465742822137,63.51474610582329],\"type\":\"scatter\",\"xaxis\":\"x2\",\"yaxis\":\"y2\"},{\"mode\":\"lines\",\"name\":\"K=940\",\"x\":[1,2,3,4,5,6,7,8,9,10],\"y\":[38.29982173385008,8.091317370054185,2.6367577275083818,0.9371817223710046,3.5812916261910743,10.286002324378728,3.5812916261910743,15.926469299470057,32.845787032346834,38.29982173385008],\"type\":\"scatter\",\"xaxis\":\"x2\",\"yaxis\":\"y2\"},{\"mode\":\"lines\",\"name\":\"K=950\",\"x\":[1,2,3,4,5,6,7,8,9,10],\"y\":[33.19521029864836,6.47653804223566,2.0084384172216616,0.6849661917899112,2.7635717800839075,8.327554545526965,2.7635717800839075,13.175004360056022,28.227361776266378,33.19521029864836],\"type\":\"scatter\",\"xaxis\":\"x2\",\"yaxis\":\"y2\"},{\"mode\":\"lines\",\"name\":\"K=960\",\"x\":[1,2,3,4,5,6,7,8,9,10],\"y\":[28.574243775612217,5.141234753458789,1.5166836864192348,0.4962685377714191,2.114356111486501,6.687199011684129,2.114356111486501,10.813548602246243,24.087045036343227,28.574243775612217],\"type\":\"scatter\",\"xaxis\":\"x2\",\"yaxis\":\"y2\"},{\"mode\":\"lines\",\"name\":\"K=1000\",\"x\":[1,2,3,4,5,6,7,8,9,10],\"y\":[14.629819302727753,1.8822691718208162,0.4536793411076623,0.12573801504346438,0.666619622386122,2.5660930235922024,0.666619622386122,4.538957640294797,11.88720474774442,14.629819302727753],\"type\":\"scatter\",\"xaxis\":\"x2\",\"yaxis\":\"y2\"},{\"mode\":\"lines\",\"name\":\"T=0 months\",\"x\":[1,2,3,4,5,6,7,8,9,10],\"y\":[56.16680257211726,9.951714446358011,2.3305005838656854,0.5498029414122563,3.510729446613837,13.31654060545435,3.510729446613837,22.16706861079973,48.19088471311147,56.16680257211726],\"type\":\"scatter\",\"xaxis\":\"x3\",\"yaxis\":\"y3\"},{\"mode\":\"lines\",\"name\":\"T=1 months\",\"x\":[1,2,3,4,5,6,7,8,9,10],\"y\":[63.51474610582329,18.12766000357402,7.167510947708848,2.9994008312267795,9.251191551748661,22.054883004746046,9.251191551748661,31.448093967140608,56.20465742822137,63.51474610582329],\"type\":\"scatter\",\"xaxis\":\"x3\",\"yaxis\":\"y3\"},{\"mode\":\"lines\",\"name\":\"T=2 months\",\"x\":[1,2,3,4,5,6,7,8,9,10],\"y\":[75.46701604222119,30.412017872505146,16.484236250665703,9.52971643299162,19.440367321274152,34.79550617828107,19.440367321274152,44.66360179604527,68.64797381178676,75.46701604222119],\"type\":\"scatter\",\"xaxis\":\"x3\",\"yaxis\":\"y3\"},{\"mode\":\"lines\",\"name\":\"T=3 months\",\"x\":[1,2,3,4,5,6,7,8,9,10],\"y\":[85.23093986453443,40.117822397640964,24.663404424280714,16.11959771551568,28.079705320992844,44.73482087939033,28.079705320992844,54.87062944002207,78.6150016029485,85.23093986453443],\"type\":\"scatter\",\"xaxis\":\"x3\",\"yaxis\":\"y3\"}],                        {\"template\":{\"data\":{\"histogram2dcontour\":[{\"type\":\"histogram2dcontour\",\"colorbar\":{\"outlinewidth\":0,\"ticks\":\"\"},\"colorscale\":[[0.0,\"#0d0887\"],[0.1111111111111111,\"#46039f\"],[0.2222222222222222,\"#7201a8\"],[0.3333333333333333,\"#9c179e\"],[0.4444444444444444,\"#bd3786\"],[0.5555555555555556,\"#d8576b\"],[0.6666666666666666,\"#ed7953\"],[0.7777777777777778,\"#fb9f3a\"],[0.8888888888888888,\"#fdca26\"],[1.0,\"#f0f921\"]]}],\"choropleth\":[{\"type\":\"choropleth\",\"colorbar\":{\"outlinewidth\":0,\"ticks\":\"\"}}],\"histogram2d\":[{\"type\":\"histogram2d\",\"colorbar\":{\"outlinewidth\":0,\"ticks\":\"\"},\"colorscale\":[[0.0,\"#0d0887\"],[0.1111111111111111,\"#46039f\"],[0.2222222222222222,\"#7201a8\"],[0.3333333333333333,\"#9c179e\"],[0.4444444444444444,\"#bd3786\"],[0.5555555555555556,\"#d8576b\"],[0.6666666666666666,\"#ed7953\"],[0.7777777777777778,\"#fb9f3a\"],[0.8888888888888888,\"#fdca26\"],[1.0,\"#f0f921\"]]}],\"heatmap\":[{\"type\":\"heatmap\",\"colorbar\":{\"outlinewidth\":0,\"ticks\":\"\"},\"colorscale\":[[0.0,\"#0d0887\"],[0.1111111111111111,\"#46039f\"],[0.2222222222222222,\"#7201a8\"],[0.3333333333333333,\"#9c179e\"],[0.4444444444444444,\"#bd3786\"],[0.5555555555555556,\"#d8576b\"],[0.6666666666666666,\"#ed7953\"],[0.7777777777777778,\"#fb9f3a\"],[0.8888888888888888,\"#fdca26\"],[1.0,\"#f0f921\"]]}],\"heatmapgl\":[{\"type\":\"heatmapgl\",\"colorbar\":{\"outlinewidth\":0,\"ticks\":\"\"},\"colorscale\":[[0.0,\"#0d0887\"],[0.1111111111111111,\"#46039f\"],[0.2222222222222222,\"#7201a8\"],[0.3333333333333333,\"#9c179e\"],[0.4444444444444444,\"#bd3786\"],[0.5555555555555556,\"#d8576b\"],[0.6666666666666666,\"#ed7953\"],[0.7777777777777778,\"#fb9f3a\"],[0.8888888888888888,\"#fdca26\"],[1.0,\"#f0f921\"]]}],\"contourcarpet\":[{\"type\":\"contourcarpet\",\"colorbar\":{\"outlinewidth\":0,\"ticks\":\"\"}}],\"contour\":[{\"type\":\"contour\",\"colorbar\":{\"outlinewidth\":0,\"ticks\":\"\"},\"colorscale\":[[0.0,\"#0d0887\"],[0.1111111111111111,\"#46039f\"],[0.2222222222222222,\"#7201a8\"],[0.3333333333333333,\"#9c179e\"],[0.4444444444444444,\"#bd3786\"],[0.5555555555555556,\"#d8576b\"],[0.6666666666666666,\"#ed7953\"],[0.7777777777777778,\"#fb9f3a\"],[0.8888888888888888,\"#fdca26\"],[1.0,\"#f0f921\"]]}],\"surface\":[{\"type\":\"surface\",\"colorbar\":{\"outlinewidth\":0,\"ticks\":\"\"},\"colorscale\":[[0.0,\"#0d0887\"],[0.1111111111111111,\"#46039f\"],[0.2222222222222222,\"#7201a8\"],[0.3333333333333333,\"#9c179e\"],[0.4444444444444444,\"#bd3786\"],[0.5555555555555556,\"#d8576b\"],[0.6666666666666666,\"#ed7953\"],[0.7777777777777778,\"#fb9f3a\"],[0.8888888888888888,\"#fdca26\"],[1.0,\"#f0f921\"]]}],\"mesh3d\":[{\"type\":\"mesh3d\",\"colorbar\":{\"outlinewidth\":0,\"ticks\":\"\"}}],\"scatter\":[{\"fillpattern\":{\"fillmode\":\"overlay\",\"size\":10,\"solidity\":0.2},\"type\":\"scatter\"}],\"parcoords\":[{\"type\":\"parcoords\",\"line\":{\"colorbar\":{\"outlinewidth\":0,\"ticks\":\"\"}}}],\"scatterpolargl\":[{\"type\":\"scatterpolargl\",\"marker\":{\"colorbar\":{\"outlinewidth\":0,\"ticks\":\"\"}}}],\"bar\":[{\"error_x\":{\"color\":\"#2a3f5f\"},\"error_y\":{\"color\":\"#2a3f5f\"},\"marker\":{\"line\":{\"color\":\"#E5ECF6\",\"width\":0.5},\"pattern\":{\"fillmode\":\"overlay\",\"size\":10,\"solidity\":0.2}},\"type\":\"bar\"}],\"scattergeo\":[{\"type\":\"scattergeo\",\"marker\":{\"colorbar\":{\"outlinewidth\":0,\"ticks\":\"\"}}}],\"scatterpolar\":[{\"type\":\"scatterpolar\",\"marker\":{\"colorbar\":{\"outlinewidth\":0,\"ticks\":\"\"}}}],\"histogram\":[{\"marker\":{\"pattern\":{\"fillmode\":\"overlay\",\"size\":10,\"solidity\":0.2}},\"type\":\"histogram\"}],\"scattergl\":[{\"type\":\"scattergl\",\"marker\":{\"colorbar\":{\"outlinewidth\":0,\"ticks\":\"\"}}}],\"scatter3d\":[{\"type\":\"scatter3d\",\"line\":{\"colorbar\":{\"outlinewidth\":0,\"ticks\":\"\"}},\"marker\":{\"colorbar\":{\"outlinewidth\":0,\"ticks\":\"\"}}}],\"scattermapbox\":[{\"type\":\"scattermapbox\",\"marker\":{\"colorbar\":{\"outlinewidth\":0,\"ticks\":\"\"}}}],\"scatterternary\":[{\"type\":\"scatterternary\",\"marker\":{\"colorbar\":{\"outlinewidth\":0,\"ticks\":\"\"}}}],\"scattercarpet\":[{\"type\":\"scattercarpet\",\"marker\":{\"colorbar\":{\"outlinewidth\":0,\"ticks\":\"\"}}}],\"carpet\":[{\"aaxis\":{\"endlinecolor\":\"#2a3f5f\",\"gridcolor\":\"white\",\"linecolor\":\"white\",\"minorgridcolor\":\"white\",\"startlinecolor\":\"#2a3f5f\"},\"baxis\":{\"endlinecolor\":\"#2a3f5f\",\"gridcolor\":\"white\",\"linecolor\":\"white\",\"minorgridcolor\":\"white\",\"startlinecolor\":\"#2a3f5f\"},\"type\":\"carpet\"}],\"table\":[{\"cells\":{\"fill\":{\"color\":\"#EBF0F8\"},\"line\":{\"color\":\"white\"}},\"header\":{\"fill\":{\"color\":\"#C8D4E3\"},\"line\":{\"color\":\"white\"}},\"type\":\"table\"}],\"barpolar\":[{\"marker\":{\"line\":{\"color\":\"#E5ECF6\",\"width\":0.5},\"pattern\":{\"fillmode\":\"overlay\",\"size\":10,\"solidity\":0.2}},\"type\":\"barpolar\"}],\"pie\":[{\"automargin\":true,\"type\":\"pie\"}]},\"layout\":{\"autotypenumbers\":\"strict\",\"colorway\":[\"#636efa\",\"#EF553B\",\"#00cc96\",\"#ab63fa\",\"#FFA15A\",\"#19d3f3\",\"#FF6692\",\"#B6E880\",\"#FF97FF\",\"#FECB52\"],\"font\":{\"color\":\"#2a3f5f\"},\"hovermode\":\"closest\",\"hoverlabel\":{\"align\":\"left\"},\"paper_bgcolor\":\"white\",\"plot_bgcolor\":\"#E5ECF6\",\"polar\":{\"bgcolor\":\"#E5ECF6\",\"angularaxis\":{\"gridcolor\":\"white\",\"linecolor\":\"white\",\"ticks\":\"\"},\"radialaxis\":{\"gridcolor\":\"white\",\"linecolor\":\"white\",\"ticks\":\"\"}},\"ternary\":{\"bgcolor\":\"#E5ECF6\",\"aaxis\":{\"gridcolor\":\"white\",\"linecolor\":\"white\",\"ticks\":\"\"},\"baxis\":{\"gridcolor\":\"white\",\"linecolor\":\"white\",\"ticks\":\"\"},\"caxis\":{\"gridcolor\":\"white\",\"linecolor\":\"white\",\"ticks\":\"\"}},\"coloraxis\":{\"colorbar\":{\"outlinewidth\":0,\"ticks\":\"\"}},\"colorscale\":{\"sequential\":[[0.0,\"#0d0887\"],[0.1111111111111111,\"#46039f\"],[0.2222222222222222,\"#7201a8\"],[0.3333333333333333,\"#9c179e\"],[0.4444444444444444,\"#bd3786\"],[0.5555555555555556,\"#d8576b\"],[0.6666666666666666,\"#ed7953\"],[0.7777777777777778,\"#fb9f3a\"],[0.8888888888888888,\"#fdca26\"],[1.0,\"#f0f921\"]],\"sequentialminus\":[[0.0,\"#0d0887\"],[0.1111111111111111,\"#46039f\"],[0.2222222222222222,\"#7201a8\"],[0.3333333333333333,\"#9c179e\"],[0.4444444444444444,\"#bd3786\"],[0.5555555555555556,\"#d8576b\"],[0.6666666666666666,\"#ed7953\"],[0.7777777777777778,\"#fb9f3a\"],[0.8888888888888888,\"#fdca26\"],[1.0,\"#f0f921\"]],\"diverging\":[[0,\"#8e0152\"],[0.1,\"#c51b7d\"],[0.2,\"#de77ae\"],[0.3,\"#f1b6da\"],[0.4,\"#fde0ef\"],[0.5,\"#f7f7f7\"],[0.6,\"#e6f5d0\"],[0.7,\"#b8e186\"],[0.8,\"#7fbc41\"],[0.9,\"#4d9221\"],[1,\"#276419\"]]},\"xaxis\":{\"gridcolor\":\"white\",\"linecolor\":\"white\",\"ticks\":\"\",\"title\":{\"standoff\":15},\"zerolinecolor\":\"white\",\"automargin\":true,\"zerolinewidth\":2},\"yaxis\":{\"gridcolor\":\"white\",\"linecolor\":\"white\",\"ticks\":\"\",\"title\":{\"standoff\":15},\"zerolinecolor\":\"white\",\"automargin\":true,\"zerolinewidth\":2},\"scene\":{\"xaxis\":{\"backgroundcolor\":\"#E5ECF6\",\"gridcolor\":\"white\",\"linecolor\":\"white\",\"showbackground\":true,\"ticks\":\"\",\"zerolinecolor\":\"white\",\"gridwidth\":2},\"yaxis\":{\"backgroundcolor\":\"#E5ECF6\",\"gridcolor\":\"white\",\"linecolor\":\"white\",\"showbackground\":true,\"ticks\":\"\",\"zerolinecolor\":\"white\",\"gridwidth\":2},\"zaxis\":{\"backgroundcolor\":\"#E5ECF6\",\"gridcolor\":\"white\",\"linecolor\":\"white\",\"showbackground\":true,\"ticks\":\"\",\"zerolinecolor\":\"white\",\"gridwidth\":2}},\"shapedefaults\":{\"line\":{\"color\":\"#2a3f5f\"}},\"annotationdefaults\":{\"arrowcolor\":\"#2a3f5f\",\"arrowhead\":0,\"arrowwidth\":1},\"geo\":{\"bgcolor\":\"white\",\"landcolor\":\"#E5ECF6\",\"subunitcolor\":\"white\",\"showland\":true,\"showlakes\":true,\"lakecolor\":\"white\"},\"title\":{\"x\":0.05},\"mapbox\":{\"style\":\"light\"}}},\"xaxis\":{\"anchor\":\"y\",\"domain\":[0.0,1.0],\"matches\":\"x3\",\"showticklabels\":false,\"title\":{\"text\":\"Time (Days)\"}},\"yaxis\":{\"anchor\":\"x\",\"domain\":[0.7333333333333334,1.0],\"title\":{\"text\":\"Stock Price\"}},\"xaxis2\":{\"anchor\":\"y2\",\"domain\":[0.0,1.0],\"matches\":\"x3\",\"showticklabels\":false},\"yaxis2\":{\"anchor\":\"x2\",\"domain\":[0.3666666666666667,0.6333333333333333],\"title\":{\"text\":\"Call Price (T=1 month)\"}},\"xaxis3\":{\"anchor\":\"y3\",\"domain\":[0.0,1.0]},\"yaxis3\":{\"anchor\":\"x3\",\"domain\":[0.0,0.26666666666666666],\"title\":{\"text\":\"Call Price (K=900)\"}},\"title\":{\"text\":\"Stock and Call Option Prices Over Time\"},\"width\":800,\"height\":800},                        {\"responsive\": true}                    ).then(function(){\n",
       "                            \n",
       "var gd = document.getElementById('132b662f-ce3d-4b33-b5f6-52c258775a2d');\n",
       "var x = new MutationObserver(function (mutations, observer) {{\n",
       "        var display = window.getComputedStyle(gd).display;\n",
       "        if (!display || display === 'none') {{\n",
       "            console.log([gd, 'removed!']);\n",
       "            Plotly.purge(gd);\n",
       "            observer.disconnect();\n",
       "        }}\n",
       "}});\n",
       "\n",
       "// Listen for the removal of the full notebook cells\n",
       "var notebookContainer = gd.closest('#notebook-container');\n",
       "if (notebookContainer) {{\n",
       "    x.observe(notebookContainer, {childList: true});\n",
       "}}\n",
       "\n",
       "// Listen for the clearing of the current output cell\n",
       "var outputEl = gd.closest('.output');\n",
       "if (outputEl) {{\n",
       "    x.observe(outputEl, {childList: true});\n",
       "}}\n",
       "\n",
       "                        })                };                });            </script>        </div>"
      ]
     },
     "metadata": {},
     "output_type": "display_data"
    }
   ],
   "source": [
    "\"\"\" 假設 Spot price (S) 從 950 跌至 800 附近,然後又快速回彈至 950 \"\"\"\n",
    "\n",
    "import pandas as pd\n",
    "import plotly.graph_objects as go\n",
    "from plotly.subplots import make_subplots\n",
    "\n",
    "stock_prices = [950, 870, 830, 800, 840, 880, 840, 900, 940, 950]\n",
    "days = list(range(1, len(stock_prices) + 1))\n",
    "\n",
    "stock_data = pd.DataFrame({\"Day\": days, \"Stock Price\": stock_prices})\n",
    "\n",
    "import plotly.graph_objects as go\n",
    "from plotly.subplots import make_subplots\n",
    "\n",
    "# 設定行使價格和到期時間\n",
    "K_values = [850, 900, 940, 950, 960, 1000]\n",
    "T_values = [1 / 24, 1 / 12, 2 / 12, 3 / 12]\n",
    "\n",
    "# 計算選擇權價格\n",
    "option_prices = {}\n",
    "for K in K_values:\n",
    "    for T in T_values:\n",
    "        option_prices[(K, T)] = [\n",
    "            black_scholes_merton(S, K, T, r, sigma) for S in stock_prices\n",
    "        ]\n",
    "\n",
    "# 創建子圖\n",
    "fig = make_subplots(rows=3, cols=1, shared_xaxes=True, vertical_spacing=0.1)\n",
    "\n",
    "# 股票價格隨時間變化的線圖\n",
    "fig.add_trace(\n",
    "    go.Scatter(x=days, y=stock_prices, mode=\"lines\", name=\"Stock Price\"), row=1, col=1\n",
    ")\n",
    "\n",
    "# 固定到期時間,不同行使價格的選擇權價格線圖\n",
    "fixed_T = T_values[1] * 12\n",
    "for K in K_values:\n",
    "    fig.add_trace(\n",
    "        go.Scatter(\n",
    "            x=days, y=option_prices[(K, T_values[1])], mode=\"lines\", name=f\"K={K}\"\n",
    "        ),\n",
    "        row=2,\n",
    "        col=1,\n",
    "    )\n",
    "\n",
    "# 固定行使價格,不同到期時間的選擇權價格線圖\n",
    "fixed_K = K_values[1]\n",
    "for T in T_values:\n",
    "    fig.add_trace(\n",
    "        go.Scatter(\n",
    "            x=days,\n",
    "            y=option_prices[(K_values[1], T)],\n",
    "            mode=\"lines\",\n",
    "            name=f\"T={T*12:.0f} months\",\n",
    "        ),\n",
    "        row=3,\n",
    "        col=1,\n",
    "    )\n",
    "\n",
    "# 更新圖表佈局\n",
    "fig.update_layout(\n",
    "    title=\"Stock and Call Option Prices Over Time\",\n",
    "    xaxis=dict(title=\"Time (Days)\"),\n",
    "    yaxis=dict(title=\"Stock Price\"),\n",
    "    yaxis2=dict(title=f\"Call Price (T={fixed_T:.0f} month)\"),\n",
    "    yaxis3=dict(title=f\"Call Price (K={fixed_K})\"),\n",
    "    width=800,\n",
    "    height=800,\n",
    ")\n",
    "\n",
    "fig.show()"
   ]
  },
  {
   "cell_type": "code",
   "execution_count": 31,
   "metadata": {},
   "outputs": [
    {
     "name": "stdout",
     "output_type": "stream",
     "text": [
      "Best long call strategies:\n"
     ]
    },
    {
     "data": {
      "text/html": [
       "<div>\n",
       "<style scoped>\n",
       "    .dataframe tbody tr th:only-of-type {\n",
       "        vertical-align: middle;\n",
       "    }\n",
       "\n",
       "    .dataframe tbody tr th {\n",
       "        vertical-align: top;\n",
       "    }\n",
       "\n",
       "    .dataframe thead th {\n",
       "        text-align: right;\n",
       "    }\n",
       "</style>\n",
       "<table border=\"1\" class=\"dataframe\">\n",
       "  <thead>\n",
       "    <tr style=\"text-align: right;\">\n",
       "      <th></th>\n",
       "      <th>Strike</th>\n",
       "      <th>Expiry</th>\n",
       "      <th>Call_Price</th>\n",
       "      <th>Target_Call_Price</th>\n",
       "      <th>Leverage</th>\n",
       "      <th>Delta</th>\n",
       "      <th>Expected_Return</th>\n",
       "    </tr>\n",
       "  </thead>\n",
       "  <tbody>\n",
       "    <tr>\n",
       "      <th>14</th>\n",
       "      <td>1000</td>\n",
       "      <td>90.0</td>\n",
       "      <td>37.120818</td>\n",
       "      <td>84.193236</td>\n",
       "      <td>-0.046830</td>\n",
       "      <td>0.400024</td>\n",
       "      <td>126.81%</td>\n",
       "    </tr>\n",
       "    <tr>\n",
       "      <th>9</th>\n",
       "      <td>950</td>\n",
       "      <td>30.0</td>\n",
       "      <td>32.964668</td>\n",
       "      <td>98.589223</td>\n",
       "      <td>-0.103595</td>\n",
       "      <td>0.520959</td>\n",
       "      <td>199.08%</td>\n",
       "    </tr>\n",
       "    <tr>\n",
       "      <th>10</th>\n",
       "      <td>950</td>\n",
       "      <td>60.0</td>\n",
       "      <td>46.816360</td>\n",
       "      <td>108.322997</td>\n",
       "      <td>-0.105183</td>\n",
       "      <td>0.529627</td>\n",
       "      <td>131.38%</td>\n",
       "    </tr>\n",
       "    <tr>\n",
       "      <th>11</th>\n",
       "      <td>950</td>\n",
       "      <td>90.0</td>\n",
       "      <td>57.514429</td>\n",
       "      <td>117.512671</td>\n",
       "      <td>-0.106444</td>\n",
       "      <td>0.536268</td>\n",
       "      <td>104.32%</td>\n",
       "    </tr>\n",
       "    <tr>\n",
       "      <th>7</th>\n",
       "      <td>900</td>\n",
       "      <td>60.0</td>\n",
       "      <td>75.174574</td>\n",
       "      <td>150.749260</td>\n",
       "      <td>-0.174956</td>\n",
       "      <td>0.698065</td>\n",
       "      <td>100.53%</td>\n",
       "    </tr>\n",
       "    <tr>\n",
       "      <th>8</th>\n",
       "      <td>900</td>\n",
       "      <td>90.0</td>\n",
       "      <td>84.859288</td>\n",
       "      <td>156.891813</td>\n",
       "      <td>-0.176914</td>\n",
       "      <td>0.675078</td>\n",
       "      <td>84.88%</td>\n",
       "    </tr>\n",
       "  </tbody>\n",
       "</table>\n",
       "</div>"
      ],
      "text/plain": [
       "    Strike  Expiry  Call_Price  Target_Call_Price  Leverage     Delta  \\\n",
       "14    1000    90.0   37.120818          84.193236 -0.046830  0.400024   \n",
       "9      950    30.0   32.964668          98.589223 -0.103595  0.520959   \n",
       "10     950    60.0   46.816360         108.322997 -0.105183  0.529627   \n",
       "11     950    90.0   57.514429         117.512671 -0.106444  0.536268   \n",
       "7      900    60.0   75.174574         150.749260 -0.174956  0.698065   \n",
       "8      900    90.0   84.859288         156.891813 -0.176914  0.675078   \n",
       "\n",
       "   Expected_Return  \n",
       "14         126.81%  \n",
       "9          199.08%  \n",
       "10         131.38%  \n",
       "11         104.32%  \n",
       "7          100.53%  \n",
       "8           84.88%  "
      ]
     },
     "execution_count": 31,
     "metadata": {},
     "output_type": "execute_result"
    }
   ],
   "source": [
    "import numpy as np\n",
    "import pandas as pd\n",
    "from scipy.stats import norm\n",
    "\n",
    "\n",
    "def bsm_call(S, K, T, r, sigma):\n",
    "    d1 = (np.log(S / K) + (r + 0.5 * sigma**2) * T) / (sigma * np.sqrt(T))\n",
    "    d2 = d1 - sigma * np.sqrt(T)\n",
    "    call = S * norm.cdf(d1) - K * np.exp(-r * T) * norm.cdf(d2)\n",
    "    return call\n",
    "\n",
    "\n",
    "def evaluate_calls(\n",
    "    stock_prices, days, target_price, r, sigma, strike_range, expiry_range\n",
    "):\n",
    "    S = stock_prices[-1]\n",
    "    T_values = [t / 365 for t in expiry_range]\n",
    "\n",
    "    results = []\n",
    "    for K in strike_range:\n",
    "        for T in T_values:\n",
    "            call_price = bsm_call(S, K, T, r, sigma)\n",
    "            target_call_price = bsm_call(target_price, K, T - days[-1] / 365, r, sigma)\n",
    "\n",
    "            leverage = (target_price / K - 1) / (call_price / S - 1)\n",
    "            delta = norm.cdf(\n",
    "                (np.log(S / K) + (r + 0.5 * sigma**2) * T) / (sigma * np.sqrt(T))\n",
    "            )\n",
    "            expected_return = target_call_price / call_price - 1\n",
    "\n",
    "            results.append(\n",
    "                [\n",
    "                    K,\n",
    "                    T * 365,\n",
    "                    call_price,\n",
    "                    target_call_price,\n",
    "                    leverage,\n",
    "                    delta,\n",
    "                    expected_return,\n",
    "                ]\n",
    "            )\n",
    "\n",
    "    columns = [\n",
    "        \"Strike\",\n",
    "        \"Expiry\",\n",
    "        \"Call_Price\",\n",
    "        \"Target_Call_Price\",\n",
    "        \"Leverage\",\n",
    "        \"Delta\",\n",
    "        \"Expected_Return\",\n",
    "    ]\n",
    "    df = pd.DataFrame(results, columns=columns)\n",
    "\n",
    "    df = df[(df[\"Delta\"] >= 0.4) & (df[\"Delta\"] <= 0.7)]\n",
    "    df = df.sort_values(by=[\"Leverage\", \"Expected_Return\"], ascending=False)\n",
    "    df[\"Expected_Return\"] = df[\"Expected_Return\"].apply(lambda x: f\"{x:.2%}\")\n",
    "\n",
    "    return df\n",
    "\n",
    "\n",
    "# 模擬參數\n",
    "stock_prices = [950, 870, 830, 800, 840, 880, 840, 900, 940, 950]\n",
    "days = list(range(0, len(stock_prices)))\n",
    "target_price = 1045  # 預期價格漲10%\n",
    "r = 0.01  # 無風險利率\n",
    "sigma = 0.3  # 波動率\n",
    "\n",
    "strike_range = [800, 850, 900, 950, 1000]\n",
    "expiry_range = [30, 60, 90]  # 到期日範圍(天)\n",
    "\n",
    "best_strategies = evaluate_calls(\n",
    "    stock_prices, days, target_price, r, sigma, strike_range, expiry_range\n",
    ")\n",
    "print(\"Best long call strategies:\")\n",
    "# print(best_strategies.head(5))\n",
    "best_strategies"
   ]
  },
  {
   "cell_type": "code",
   "execution_count": 32,
   "metadata": {},
   "outputs": [
    {
     "name": "stdout",
     "output_type": "stream",
     "text": [
      "Call prices by day:\n"
     ]
    },
    {
     "data": {
      "text/html": [
       "<div>\n",
       "<style scoped>\n",
       "    .dataframe tbody tr th:only-of-type {\n",
       "        vertical-align: middle;\n",
       "    }\n",
       "\n",
       "    .dataframe tbody tr th {\n",
       "        vertical-align: top;\n",
       "    }\n",
       "\n",
       "    .dataframe thead th {\n",
       "        text-align: right;\n",
       "    }\n",
       "</style>\n",
       "<table border=\"1\" class=\"dataframe\">\n",
       "  <thead>\n",
       "    <tr style=\"text-align: right;\">\n",
       "      <th></th>\n",
       "      <th></th>\n",
       "      <th>0</th>\n",
       "      <th>1</th>\n",
       "      <th>2</th>\n",
       "      <th>3</th>\n",
       "      <th>4</th>\n",
       "      <th>5</th>\n",
       "      <th>6</th>\n",
       "      <th>7</th>\n",
       "      <th>8</th>\n",
       "      <th>9</th>\n",
       "    </tr>\n",
       "    <tr>\n",
       "      <th>Strike</th>\n",
       "      <th>Expiry</th>\n",
       "      <th></th>\n",
       "      <th></th>\n",
       "      <th></th>\n",
       "      <th></th>\n",
       "      <th></th>\n",
       "      <th></th>\n",
       "      <th></th>\n",
       "      <th></th>\n",
       "      <th></th>\n",
       "      <th></th>\n",
       "    </tr>\n",
       "  </thead>\n",
       "  <tbody>\n",
       "    <tr>\n",
       "      <th rowspan=\"6\" valign=\"top\">800</th>\n",
       "      <th>30</th>\n",
       "      <td>151.280259</td>\n",
       "      <td>76.492254</td>\n",
       "      <td>45.018169</td>\n",
       "      <td>26.320949</td>\n",
       "      <td>51.307335</td>\n",
       "      <td>84.072059</td>\n",
       "      <td>50.434446</td>\n",
       "      <td>102.087214</td>\n",
       "      <td>140.795896</td>\n",
       "      <td>150.632641</td>\n",
       "    </tr>\n",
       "    <tr>\n",
       "      <th>60</th>\n",
       "      <td>154.973918</td>\n",
       "      <td>85.429030</td>\n",
       "      <td>56.446764</td>\n",
       "      <td>38.412412</td>\n",
       "      <td>62.466012</td>\n",
       "      <td>92.294898</td>\n",
       "      <td>61.808491</td>\n",
       "      <td>108.588707</td>\n",
       "      <td>144.451434</td>\n",
       "      <td>153.696418</td>\n",
       "    </tr>\n",
       "    <tr>\n",
       "      <th>90</th>\n",
       "      <td>159.689694</td>\n",
       "      <td>93.329452</td>\n",
       "      <td>65.438940</td>\n",
       "      <td>47.606042</td>\n",
       "      <td>71.378713</td>\n",
       "      <td>99.932844</td>\n",
       "      <td>70.830639</td>\n",
       "      <td>115.390930</td>\n",
       "      <td>149.432590</td>\n",
       "      <td>158.229717</td>\n",
       "    </tr>\n",
       "    <tr>\n",
       "      <th>120</th>\n",
       "      <td>164.645435</td>\n",
       "      <td>100.390225</td>\n",
       "      <td>73.109930</td>\n",
       "      <td>55.346564</td>\n",
       "      <td>79.021249</td>\n",
       "      <td>106.861711</td>\n",
       "      <td>78.541225</td>\n",
       "      <td>121.826203</td>\n",
       "      <td>154.668129</td>\n",
       "      <td>163.153750</td>\n",
       "    </tr>\n",
       "    <tr>\n",
       "      <th>240</th>\n",
       "      <td>183.649099</td>\n",
       "      <td>123.511155</td>\n",
       "      <td>97.164959</td>\n",
       "      <td>79.332202</td>\n",
       "      <td>103.092881</td>\n",
       "      <td>129.814668</td>\n",
       "      <td>102.746316</td>\n",
       "      <td>143.931294</td>\n",
       "      <td>174.448342</td>\n",
       "      <td>182.300360</td>\n",
       "    </tr>\n",
       "    <tr>\n",
       "      <th>360</th>\n",
       "      <td>200.492162</td>\n",
       "      <td>141.993779</td>\n",
       "      <td>115.858445</td>\n",
       "      <td>97.829655</td>\n",
       "      <td>121.850089</td>\n",
       "      <td>148.283382</td>\n",
       "      <td>121.564435</td>\n",
       "      <td>162.117951</td>\n",
       "      <td>191.710041</td>\n",
       "      <td>199.296506</td>\n",
       "    </tr>\n",
       "    <tr>\n",
       "      <th rowspan=\"6\" valign=\"top\">850</th>\n",
       "      <th>30</th>\n",
       "      <td>104.192737</td>\n",
       "      <td>40.493912</td>\n",
       "      <td>19.214424</td>\n",
       "      <td>9.065249</td>\n",
       "      <td>22.537021</td>\n",
       "      <td>45.069251</td>\n",
       "      <td>21.470005</td>\n",
       "      <td>58.912689</td>\n",
       "      <td>93.062220</td>\n",
       "      <td>102.162549</td>\n",
       "    </tr>\n",
       "    <tr>\n",
       "      <th>60</th>\n",
       "      <td>111.801696</td>\n",
       "      <td>52.884617</td>\n",
       "      <td>31.382252</td>\n",
       "      <td>19.358741</td>\n",
       "      <td>35.362758</td>\n",
       "      <td>57.694576</td>\n",
       "      <td>34.632972</td>\n",
       "      <td>70.591184</td>\n",
       "      <td>101.332261</td>\n",
       "      <td>109.499771</td>\n",
       "    </tr>\n",
       "    <tr>\n",
       "      <th>90</th>\n",
       "      <td>119.206638</td>\n",
       "      <td>62.512197</td>\n",
       "      <td>40.800117</td>\n",
       "      <td>27.861130</td>\n",
       "      <td>45.092098</td>\n",
       "      <td>67.464259</td>\n",
       "      <td>44.500657</td>\n",
       "      <td>80.037265</td>\n",
       "      <td>109.308620</td>\n",
       "      <td>117.037586</td>\n",
       "    </tr>\n",
       "    <tr>\n",
       "      <th>120</th>\n",
       "      <td>126.099728</td>\n",
       "      <td>70.686346</td>\n",
       "      <td>48.784245</td>\n",
       "      <td>35.250122</td>\n",
       "      <td>53.276633</td>\n",
       "      <td>75.741598</td>\n",
       "      <td>52.765483</td>\n",
       "      <td>88.162469</td>\n",
       "      <td>116.610536</td>\n",
       "      <td>124.084784</td>\n",
       "    </tr>\n",
       "    <tr>\n",
       "      <th>240</th>\n",
       "      <td>149.571006</td>\n",
       "      <td>96.210007</td>\n",
       "      <td>73.683017</td>\n",
       "      <td>58.820860</td>\n",
       "      <td>78.619345</td>\n",
       "      <td>101.530856</td>\n",
       "      <td>78.257210</td>\n",
       "      <td>113.808611</td>\n",
       "      <td>140.943296</td>\n",
       "      <td>147.987069</td>\n",
       "    </tr>\n",
       "    <tr>\n",
       "      <th>360</th>\n",
       "      <td>168.823100</td>\n",
       "      <td>115.990844</td>\n",
       "      <td>92.966813</td>\n",
       "      <td>77.349146</td>\n",
       "      <td>98.154835</td>\n",
       "      <td>121.486110</td>\n",
       "      <td>97.858083</td>\n",
       "      <td>133.814084</td>\n",
       "      <td>160.578512</td>\n",
       "      <td>167.481429</td>\n",
       "    </tr>\n",
       "    <tr>\n",
       "      <th rowspan=\"6\" valign=\"top\">900</th>\n",
       "      <th>30</th>\n",
       "      <td>63.328206</td>\n",
       "      <td>17.448345</td>\n",
       "      <td>6.384161</td>\n",
       "      <td>2.349798</td>\n",
       "      <td>7.611499</td>\n",
       "      <td>19.233544</td>\n",
       "      <td>6.857308</td>\n",
       "      <td>27.308558</td>\n",
       "      <td>51.987387</td>\n",
       "      <td>59.099270</td>\n",
       "    </tr>\n",
       "    <tr>\n",
       "      <th>60</th>\n",
       "      <td>75.174574</td>\n",
       "      <td>29.763161</td>\n",
       "      <td>15.667113</td>\n",
       "      <td>8.683361</td>\n",
       "      <td>17.941245</td>\n",
       "      <td>32.637557</td>\n",
       "      <td>17.308936</td>\n",
       "      <td>41.649632</td>\n",
       "      <td>65.367829</td>\n",
       "      <td>71.908775</td>\n",
       "    </tr>\n",
       "    <tr>\n",
       "      <th>90</th>\n",
       "      <td>84.859288</td>\n",
       "      <td>39.456476</td>\n",
       "      <td>23.836376</td>\n",
       "      <td>15.218500</td>\n",
       "      <td>26.673913</td>\n",
       "      <td>42.838880</td>\n",
       "      <td>26.129935</td>\n",
       "      <td>52.291437</td>\n",
       "      <td>75.763552</td>\n",
       "      <td>82.116302</td>\n",
       "    </tr>\n",
       "    <tr>\n",
       "      <th>120</th>\n",
       "      <td>93.251308</td>\n",
       "      <td>47.729282</td>\n",
       "      <td>31.118745</td>\n",
       "      <td>21.415826</td>\n",
       "      <td>34.325726</td>\n",
       "      <td>51.430515</td>\n",
       "      <td>33.841984</td>\n",
       "      <td>61.172306</td>\n",
       "      <td>84.575995</td>\n",
       "      <td>90.839957</td>\n",
       "    </tr>\n",
       "    <tr>\n",
       "      <th>240</th>\n",
       "      <td>119.957703</td>\n",
       "      <td>73.690058</td>\n",
       "      <td>54.908459</td>\n",
       "      <td>42.842013</td>\n",
       "      <td>58.911457</td>\n",
       "      <td>78.061978</td>\n",
       "      <td>58.554273</td>\n",
       "      <td>88.475723</td>\n",
       "      <td>112.034565</td>\n",
       "      <td>118.207250</td>\n",
       "    </tr>\n",
       "    <tr>\n",
       "      <th>360</th>\n",
       "      <td>140.914474</td>\n",
       "      <td>93.880286</td>\n",
       "      <td>73.904046</td>\n",
       "      <td>60.584428</td>\n",
       "      <td>78.326092</td>\n",
       "      <td>98.605651</td>\n",
       "      <td>78.029420</td>\n",
       "      <td>109.425227</td>\n",
       "      <td>133.278724</td>\n",
       "      <td>139.469113</td>\n",
       "    </tr>\n",
       "    <tr>\n",
       "      <th rowspan=\"6\" valign=\"top\">950</th>\n",
       "      <th>30</th>\n",
       "      <td>32.964668</td>\n",
       "      <td>6.031135</td>\n",
       "      <td>1.649791</td>\n",
       "      <td>0.463317</td>\n",
       "      <td>1.963954</td>\n",
       "      <td>6.371444</td>\n",
       "      <td>1.629402</td>\n",
       "      <td>9.781764</td>\n",
       "      <td>23.292710</td>\n",
       "      <td>27.532428</td>\n",
       "    </tr>\n",
       "    <tr>\n",
       "      <th>60</th>\n",
       "      <td>46.816360</td>\n",
       "      <td>15.220690</td>\n",
       "      <td>7.046911</td>\n",
       "      <td>3.488946</td>\n",
       "      <td>8.175673</td>\n",
       "      <td>16.672245</td>\n",
       "      <td>7.732080</td>\n",
       "      <td>22.199735</td>\n",
       "      <td>38.451337</td>\n",
       "      <td>43.115068</td>\n",
       "    </tr>\n",
       "    <tr>\n",
       "      <th>90</th>\n",
       "      <td>57.514429</td>\n",
       "      <td>23.500748</td>\n",
       "      <td>13.090697</td>\n",
       "      <td>7.794634</td>\n",
       "      <td>14.815549</td>\n",
       "      <td>25.606603</td>\n",
       "      <td>14.378992</td>\n",
       "      <td>32.172953</td>\n",
       "      <td>49.659388</td>\n",
       "      <td>54.516952</td>\n",
       "    </tr>\n",
       "    <tr>\n",
       "      <th>120</th>\n",
       "      <td>66.576502</td>\n",
       "      <td>30.958725</td>\n",
       "      <td>19.028621</td>\n",
       "      <td>12.455957</td>\n",
       "      <td>21.187918</td>\n",
       "      <td>33.504401</td>\n",
       "      <td>20.773960</td>\n",
       "      <td>40.731610</td>\n",
       "      <td>59.001287</td>\n",
       "      <td>63.986703</td>\n",
       "    </tr>\n",
       "    <tr>\n",
       "      <th>240</th>\n",
       "      <td>94.814589</td>\n",
       "      <td>55.570031</td>\n",
       "      <td>40.272996</td>\n",
       "      <td>30.707572</td>\n",
       "      <td>43.441405</td>\n",
       "      <td>59.073655</td>\n",
       "      <td>43.106055</td>\n",
       "      <td>67.700273</td>\n",
       "      <td>87.692295</td>\n",
       "      <td>92.980526</td>\n",
       "    </tr>\n",
       "    <tr>\n",
       "      <th>360</th>\n",
       "      <td>116.671570</td>\n",
       "      <td>75.356019</td>\n",
       "      <td>58.263530</td>\n",
       "      <td>47.062403</td>\n",
       "      <td>61.979569</td>\n",
       "      <td>79.360818</td>\n",
       "      <td>61.692550</td>\n",
       "      <td>88.724209</td>\n",
       "      <td>109.692883</td>\n",
       "      <td>115.168876</td>\n",
       "    </tr>\n",
       "    <tr>\n",
       "      <th rowspan=\"6\" valign=\"top\">1000</th>\n",
       "      <th>30</th>\n",
       "      <td>14.431985</td>\n",
       "      <td>1.675460</td>\n",
       "      <td>0.336039</td>\n",
       "      <td>0.071022</td>\n",
       "      <td>0.391523</td>\n",
       "      <td>1.633379</td>\n",
       "      <td>0.291530</td>\n",
       "      <td>2.671616</td>\n",
       "      <td>8.105673</td>\n",
       "      <td>9.933092</td>\n",
       "    </tr>\n",
       "    <tr>\n",
       "      <th>60</th>\n",
       "      <td>26.939837</td>\n",
       "      <td>7.097201</td>\n",
       "      <td>2.874676</td>\n",
       "      <td>1.267086</td>\n",
       "      <td>3.366442</td>\n",
       "      <td>7.710393</td>\n",
       "      <td>3.106406</td>\n",
       "      <td>10.695913</td>\n",
       "      <td>20.558362</td>\n",
       "      <td>23.500059</td>\n",
       "    </tr>\n",
       "    <tr>\n",
       "      <th>90</th>\n",
       "      <td>37.120818</td>\n",
       "      <td>13.247955</td>\n",
       "      <td>6.788457</td>\n",
       "      <td>3.764422</td>\n",
       "      <td>7.759151</td>\n",
       "      <td>14.446618</td>\n",
       "      <td>7.447238</td>\n",
       "      <td>18.675454</td>\n",
       "      <td>30.786771</td>\n",
       "      <td>34.239529</td>\n",
       "    </tr>\n",
       "    <tr>\n",
       "      <th>120</th>\n",
       "      <td>45.928854</td>\n",
       "      <td>19.338110</td>\n",
       "      <td>11.191670</td>\n",
       "      <td>6.963514</td>\n",
       "      <td>12.569931</td>\n",
       "      <td>20.988866</td>\n",
       "      <td>12.244848</td>\n",
       "      <td>26.075546</td>\n",
       "      <td>39.628168</td>\n",
       "      <td>43.398854</td>\n",
       "    </tr>\n",
       "    <tr>\n",
       "      <th>240</th>\n",
       "      <td>73.926326</td>\n",
       "      <td>41.315588</td>\n",
       "      <td>29.119627</td>\n",
       "      <td>21.698203</td>\n",
       "      <td>31.573252</td>\n",
       "      <td>44.060075</td>\n",
       "      <td>31.271405</td>\n",
       "      <td>51.052087</td>\n",
       "      <td>67.657355</td>\n",
       "      <td>72.091889</td>\n",
       "    </tr>\n",
       "    <tr>\n",
       "      <th>360</th>\n",
       "      <td>95.888087</td>\n",
       "      <td>60.039918</td>\n",
       "      <td>45.597379</td>\n",
       "      <td>36.295319</td>\n",
       "      <td>48.680771</td>\n",
       "      <td>63.389921</td>\n",
       "      <td>48.410786</td>\n",
       "      <td>71.390113</td>\n",
       "      <td>89.590396</td>\n",
       "      <td>94.373349</td>\n",
       "    </tr>\n",
       "  </tbody>\n",
       "</table>\n",
       "</div>"
      ],
      "text/plain": [
       "                        0           1           2          3           4  \\\n",
       "Strike Expiry                                                              \n",
       "800    30      151.280259   76.492254   45.018169  26.320949   51.307335   \n",
       "       60      154.973918   85.429030   56.446764  38.412412   62.466012   \n",
       "       90      159.689694   93.329452   65.438940  47.606042   71.378713   \n",
       "       120     164.645435  100.390225   73.109930  55.346564   79.021249   \n",
       "       240     183.649099  123.511155   97.164959  79.332202  103.092881   \n",
       "       360     200.492162  141.993779  115.858445  97.829655  121.850089   \n",
       "850    30      104.192737   40.493912   19.214424   9.065249   22.537021   \n",
       "       60      111.801696   52.884617   31.382252  19.358741   35.362758   \n",
       "       90      119.206638   62.512197   40.800117  27.861130   45.092098   \n",
       "       120     126.099728   70.686346   48.784245  35.250122   53.276633   \n",
       "       240     149.571006   96.210007   73.683017  58.820860   78.619345   \n",
       "       360     168.823100  115.990844   92.966813  77.349146   98.154835   \n",
       "900    30       63.328206   17.448345    6.384161   2.349798    7.611499   \n",
       "       60       75.174574   29.763161   15.667113   8.683361   17.941245   \n",
       "       90       84.859288   39.456476   23.836376  15.218500   26.673913   \n",
       "       120      93.251308   47.729282   31.118745  21.415826   34.325726   \n",
       "       240     119.957703   73.690058   54.908459  42.842013   58.911457   \n",
       "       360     140.914474   93.880286   73.904046  60.584428   78.326092   \n",
       "950    30       32.964668    6.031135    1.649791   0.463317    1.963954   \n",
       "       60       46.816360   15.220690    7.046911   3.488946    8.175673   \n",
       "       90       57.514429   23.500748   13.090697   7.794634   14.815549   \n",
       "       120      66.576502   30.958725   19.028621  12.455957   21.187918   \n",
       "       240      94.814589   55.570031   40.272996  30.707572   43.441405   \n",
       "       360     116.671570   75.356019   58.263530  47.062403   61.979569   \n",
       "1000   30       14.431985    1.675460    0.336039   0.071022    0.391523   \n",
       "       60       26.939837    7.097201    2.874676   1.267086    3.366442   \n",
       "       90       37.120818   13.247955    6.788457   3.764422    7.759151   \n",
       "       120      45.928854   19.338110   11.191670   6.963514   12.569931   \n",
       "       240      73.926326   41.315588   29.119627  21.698203   31.573252   \n",
       "       360      95.888087   60.039918   45.597379  36.295319   48.680771   \n",
       "\n",
       "                        5           6           7           8           9  \n",
       "Strike Expiry                                                              \n",
       "800    30       84.072059   50.434446  102.087214  140.795896  150.632641  \n",
       "       60       92.294898   61.808491  108.588707  144.451434  153.696418  \n",
       "       90       99.932844   70.830639  115.390930  149.432590  158.229717  \n",
       "       120     106.861711   78.541225  121.826203  154.668129  163.153750  \n",
       "       240     129.814668  102.746316  143.931294  174.448342  182.300360  \n",
       "       360     148.283382  121.564435  162.117951  191.710041  199.296506  \n",
       "850    30       45.069251   21.470005   58.912689   93.062220  102.162549  \n",
       "       60       57.694576   34.632972   70.591184  101.332261  109.499771  \n",
       "       90       67.464259   44.500657   80.037265  109.308620  117.037586  \n",
       "       120      75.741598   52.765483   88.162469  116.610536  124.084784  \n",
       "       240     101.530856   78.257210  113.808611  140.943296  147.987069  \n",
       "       360     121.486110   97.858083  133.814084  160.578512  167.481429  \n",
       "900    30       19.233544    6.857308   27.308558   51.987387   59.099270  \n",
       "       60       32.637557   17.308936   41.649632   65.367829   71.908775  \n",
       "       90       42.838880   26.129935   52.291437   75.763552   82.116302  \n",
       "       120      51.430515   33.841984   61.172306   84.575995   90.839957  \n",
       "       240      78.061978   58.554273   88.475723  112.034565  118.207250  \n",
       "       360      98.605651   78.029420  109.425227  133.278724  139.469113  \n",
       "950    30        6.371444    1.629402    9.781764   23.292710   27.532428  \n",
       "       60       16.672245    7.732080   22.199735   38.451337   43.115068  \n",
       "       90       25.606603   14.378992   32.172953   49.659388   54.516952  \n",
       "       120      33.504401   20.773960   40.731610   59.001287   63.986703  \n",
       "       240      59.073655   43.106055   67.700273   87.692295   92.980526  \n",
       "       360      79.360818   61.692550   88.724209  109.692883  115.168876  \n",
       "1000   30        1.633379    0.291530    2.671616    8.105673    9.933092  \n",
       "       60        7.710393    3.106406   10.695913   20.558362   23.500059  \n",
       "       90       14.446618    7.447238   18.675454   30.786771   34.239529  \n",
       "       120      20.988866   12.244848   26.075546   39.628168   43.398854  \n",
       "       240      44.060075   31.271405   51.052087   67.657355   72.091889  \n",
       "       360      63.389921   48.410786   71.390113   89.590396   94.373349  "
      ]
     },
     "execution_count": 32,
     "metadata": {},
     "output_type": "execute_result"
    }
   ],
   "source": [
    "import numpy as np\n",
    "import pandas as pd\n",
    "from scipy.stats import norm\n",
    "\n",
    "\n",
    "def bsm_call(S, K, T, r, sigma):\n",
    "    d1 = (np.log(S / K) + (r + 0.5 * sigma**2) * T) / (sigma * np.sqrt(T))\n",
    "    d2 = d1 - sigma * np.sqrt(T)\n",
    "    call = S * norm.cdf(d1) - K * np.exp(-r * T) * norm.cdf(d2)\n",
    "    return call\n",
    "\n",
    "\n",
    "def evaluate_calls_by_day(stock_prices, days, r, sigma, strike_range, expiry_range):\n",
    "    results = []\n",
    "    for day, S in zip(days, stock_prices):\n",
    "        for K in strike_range:\n",
    "            for T in expiry_range:\n",
    "                T_years = T / 365\n",
    "                call_price = bsm_call(S, K, T_years - day / 365, r, sigma)\n",
    "                results.append([day, K, T, call_price])\n",
    "\n",
    "    columns = [\"Day\", \"Strike\", \"Expiry\", \"Call_Price\"]\n",
    "    df = pd.DataFrame(results, columns=columns)\n",
    "\n",
    "    df_pivot = df.pivot_table(\n",
    "        index=[\"Strike\", \"Expiry\"], columns=\"Day\", values=\"Call_Price\"\n",
    "    )\n",
    "    df_pivot.columns.name = None\n",
    "    df_pivot.index.names = [\"Strike\", \"Expiry\"]\n",
    "\n",
    "    return df_pivot\n",
    "\n",
    "\n",
    "# 模擬參數\n",
    "stock_prices = [950, 870, 830, 800, 840, 880, 840, 900, 940, 950]\n",
    "days = list(range(0, len(stock_prices)))\n",
    "r = 0.01  # 無風險利率\n",
    "sigma = 0.3  # 波動率\n",
    "\n",
    "strike_range = [800, 850, 900, 950, 1000]\n",
    "expiry_range = [30, 60, 90, 120, 240, 360]  # 到期日範圍(天)\n",
    "\n",
    "call_prices_by_day = evaluate_calls_by_day(\n",
    "    stock_prices, days, r, sigma, strike_range, expiry_range\n",
    ")\n",
    "print(\"Call prices by day:\")\n",
    "call_prices_by_day"
   ]
  },
  {
   "cell_type": "code",
   "execution_count": 34,
   "metadata": {},
   "outputs": [
    {
     "name": "stdout",
     "output_type": "stream",
     "text": [
      "Call option performance:\n"
     ]
    },
    {
     "data": {
      "text/html": [
       "<div>\n",
       "<style scoped>\n",
       "    .dataframe tbody tr th:only-of-type {\n",
       "        vertical-align: middle;\n",
       "    }\n",
       "\n",
       "    .dataframe tbody tr th {\n",
       "        vertical-align: top;\n",
       "    }\n",
       "\n",
       "    .dataframe thead th {\n",
       "        text-align: right;\n",
       "    }\n",
       "</style>\n",
       "<table border=\"1\" class=\"dataframe\">\n",
       "  <thead>\n",
       "    <tr style=\"text-align: right;\">\n",
       "      <th></th>\n",
       "      <th>Strike</th>\n",
       "      <th>Expiry</th>\n",
       "      <th>Total_Return</th>\n",
       "      <th>Volatility</th>\n",
       "      <th>Downside_Risk</th>\n",
       "      <th>Sharpe_Ratio</th>\n",
       "      <th>Max_Drawdown</th>\n",
       "      <th>Max_Drawup</th>\n",
       "    </tr>\n",
       "  </thead>\n",
       "  <tbody>\n",
       "    <tr>\n",
       "      <th>0</th>\n",
       "      <td>800</td>\n",
       "      <td>30</td>\n",
       "      <td>-0.43%</td>\n",
       "      <td>980.72%</td>\n",
       "      <td>457.12%</td>\n",
       "      <td>3.825270</td>\n",
       "      <td>33.16%</td>\n",
       "      <td>82.17%</td>\n",
       "    </tr>\n",
       "    <tr>\n",
       "      <th>1</th>\n",
       "      <td>800</td>\n",
       "      <td>60</td>\n",
       "      <td>-0.82%</td>\n",
       "      <td>744.50%</td>\n",
       "      <td>384.37%</td>\n",
       "      <td>3.072726</td>\n",
       "      <td>30.34%</td>\n",
       "      <td>74.39%</td>\n",
       "    </tr>\n",
       "    <tr>\n",
       "      <th>2</th>\n",
       "      <td>800</td>\n",
       "      <td>90</td>\n",
       "      <td>-0.91%</td>\n",
       "      <td>634.03%</td>\n",
       "      <td>343.36%</td>\n",
       "      <td>2.668562</td>\n",
       "      <td>28.63%</td>\n",
       "      <td>69.27%</td>\n",
       "    </tr>\n",
       "    <tr>\n",
       "      <th>3</th>\n",
       "      <td>850</td>\n",
       "      <td>30</td>\n",
       "      <td>-1.95%</td>\n",
       "      <td>1482.47%</td>\n",
       "      <td>580.40%</td>\n",
       "      <td>5.134730</td>\n",
       "      <td>30.16%</td>\n",
       "      <td>89.35%</td>\n",
       "    </tr>\n",
       "    <tr>\n",
       "      <th>4</th>\n",
       "      <td>850</td>\n",
       "      <td>60</td>\n",
       "      <td>-2.06%</td>\n",
       "      <td>958.95%</td>\n",
       "      <td>458.13%</td>\n",
       "      <td>3.784567</td>\n",
       "      <td>29.99%</td>\n",
       "      <td>80.63%</td>\n",
       "    </tr>\n",
       "    <tr>\n",
       "      <th>5</th>\n",
       "      <td>850</td>\n",
       "      <td>90</td>\n",
       "      <td>-1.82%</td>\n",
       "      <td>770.45%</td>\n",
       "      <td>397.13%</td>\n",
       "      <td>3.158729</td>\n",
       "      <td>29.07%</td>\n",
       "      <td>74.81%</td>\n",
       "    </tr>\n",
       "    <tr>\n",
       "      <th>6</th>\n",
       "      <td>900</td>\n",
       "      <td>30</td>\n",
       "      <td>-6.68%</td>\n",
       "      <td>2235.38%</td>\n",
       "      <td>698.07%</td>\n",
       "      <td>6.457100</td>\n",
       "      <td>23.84%</td>\n",
       "      <td>89.61%</td>\n",
       "    </tr>\n",
       "    <tr>\n",
       "      <th>7</th>\n",
       "      <td>900</td>\n",
       "      <td>60</td>\n",
       "      <td>-4.34%</td>\n",
       "      <td>1216.46%</td>\n",
       "      <td>531.39%</td>\n",
       "      <td>4.529803</td>\n",
       "      <td>28.04%</td>\n",
       "      <td>84.10%</td>\n",
       "    </tr>\n",
       "    <tr>\n",
       "      <th>8</th>\n",
       "      <td>900</td>\n",
       "      <td>90</td>\n",
       "      <td>-3.23%</td>\n",
       "      <td>923.57%</td>\n",
       "      <td>450.81%</td>\n",
       "      <td>3.668893</td>\n",
       "      <td>28.56%</td>\n",
       "      <td>78.83%</td>\n",
       "    </tr>\n",
       "    <tr>\n",
       "      <th>9</th>\n",
       "      <td>950</td>\n",
       "      <td>30</td>\n",
       "      <td>-16.48%</td>\n",
       "      <td>3352.56%</td>\n",
       "      <td>796.62%</td>\n",
       "      <td>7.552309</td>\n",
       "      <td>16.89%</td>\n",
       "      <td>82.12%</td>\n",
       "    </tr>\n",
       "    <tr>\n",
       "      <th>10</th>\n",
       "      <td>950</td>\n",
       "      <td>60</td>\n",
       "      <td>-7.91%</td>\n",
       "      <td>1518.23%</td>\n",
       "      <td>600.14%</td>\n",
       "      <td>5.263501</td>\n",
       "      <td>25.06%</td>\n",
       "      <td>84.64%</td>\n",
       "    </tr>\n",
       "    <tr>\n",
       "      <th>11</th>\n",
       "      <td>950</td>\n",
       "      <td>90</td>\n",
       "      <td>-5.21%</td>\n",
       "      <td>1091.87%</td>\n",
       "      <td>502.52%</td>\n",
       "      <td>4.181350</td>\n",
       "      <td>27.31%</td>\n",
       "      <td>81.24%</td>\n",
       "    </tr>\n",
       "    <tr>\n",
       "      <th>12</th>\n",
       "      <td>1000</td>\n",
       "      <td>30</td>\n",
       "      <td>-31.17%</td>\n",
       "      <td>5007.31%</td>\n",
       "      <td>872.26%</td>\n",
       "      <td>8.284083</td>\n",
       "      <td>11.12%</td>\n",
       "      <td>68.33%</td>\n",
       "    </tr>\n",
       "    <tr>\n",
       "      <th>13</th>\n",
       "      <td>1000</td>\n",
       "      <td>60</td>\n",
       "      <td>-12.77%</td>\n",
       "      <td>1867.07%</td>\n",
       "      <td>662.13%</td>\n",
       "      <td>5.950254</td>\n",
       "      <td>21.64%</td>\n",
       "      <td>82.53%</td>\n",
       "    </tr>\n",
       "    <tr>\n",
       "      <th>14</th>\n",
       "      <td>1000</td>\n",
       "      <td>90</td>\n",
       "      <td>-7.76%</td>\n",
       "      <td>1274.33%</td>\n",
       "      <td>551.06%</td>\n",
       "      <td>4.681781</td>\n",
       "      <td>25.55%</td>\n",
       "      <td>82.10%</td>\n",
       "    </tr>\n",
       "  </tbody>\n",
       "</table>\n",
       "</div>"
      ],
      "text/plain": [
       "    Strike  Expiry Total_Return Volatility Downside_Risk  Sharpe_Ratio  \\\n",
       "0      800      30       -0.43%    980.72%       457.12%      3.825270   \n",
       "1      800      60       -0.82%    744.50%       384.37%      3.072726   \n",
       "2      800      90       -0.91%    634.03%       343.36%      2.668562   \n",
       "3      850      30       -1.95%   1482.47%       580.40%      5.134730   \n",
       "4      850      60       -2.06%    958.95%       458.13%      3.784567   \n",
       "5      850      90       -1.82%    770.45%       397.13%      3.158729   \n",
       "6      900      30       -6.68%   2235.38%       698.07%      6.457100   \n",
       "7      900      60       -4.34%   1216.46%       531.39%      4.529803   \n",
       "8      900      90       -3.23%    923.57%       450.81%      3.668893   \n",
       "9      950      30      -16.48%   3352.56%       796.62%      7.552309   \n",
       "10     950      60       -7.91%   1518.23%       600.14%      5.263501   \n",
       "11     950      90       -5.21%   1091.87%       502.52%      4.181350   \n",
       "12    1000      30      -31.17%   5007.31%       872.26%      8.284083   \n",
       "13    1000      60      -12.77%   1867.07%       662.13%      5.950254   \n",
       "14    1000      90       -7.76%   1274.33%       551.06%      4.681781   \n",
       "\n",
       "   Max_Drawdown Max_Drawup  \n",
       "0        33.16%     82.17%  \n",
       "1        30.34%     74.39%  \n",
       "2        28.63%     69.27%  \n",
       "3        30.16%     89.35%  \n",
       "4        29.99%     80.63%  \n",
       "5        29.07%     74.81%  \n",
       "6        23.84%     89.61%  \n",
       "7        28.04%     84.10%  \n",
       "8        28.56%     78.83%  \n",
       "9        16.89%     82.12%  \n",
       "10       25.06%     84.64%  \n",
       "11       27.31%     81.24%  \n",
       "12       11.12%     68.33%  \n",
       "13       21.64%     82.53%  \n",
       "14       25.55%     82.10%  "
      ]
     },
     "execution_count": 34,
     "metadata": {},
     "output_type": "execute_result"
    }
   ],
   "source": [
    "import numpy as np\n",
    "import pandas as pd\n",
    "from scipy.stats import norm\n",
    "\n",
    "\n",
    "def bsm_call(S, K, T, r, sigma):\n",
    "    d1 = (np.log(S / K) + (r + 0.5 * sigma**2) * T) / (sigma * np.sqrt(T))\n",
    "    d2 = d1 - sigma * np.sqrt(T)\n",
    "    call = S * norm.cdf(d1) - K * np.exp(-r * T) * norm.cdf(d2)\n",
    "    return call\n",
    "\n",
    "\n",
    "def evaluate_call_performance(stock_prices, days, r, sigma, strike_range, expiry_range):\n",
    "    results = []\n",
    "    for K in strike_range:\n",
    "        for T in expiry_range:\n",
    "            T_years = T / 365\n",
    "            call_prices = [\n",
    "                bsm_call(S, K, T_years - day / 365, r, sigma)\n",
    "                for day, S in zip(days, stock_prices)\n",
    "            ]\n",
    "            returns = np.diff(call_prices) / call_prices[:-1]\n",
    "\n",
    "            total_return = (call_prices[-1] - call_prices[0]) / call_prices[0]\n",
    "            volatility = np.std(returns, ddof=1) * np.sqrt(252)\n",
    "            downside_risk = np.sqrt(np.mean([min(0, r) ** 2 for r in returns]) * 252)\n",
    "            sharpe_ratio = np.mean(returns) / np.std(returns, ddof=1) * np.sqrt(252)\n",
    "\n",
    "            cumulative_returns = (1 + returns).cumprod() - 1\n",
    "            max_drawdown = np.max(\n",
    "                np.maximum.accumulate(cumulative_returns) - cumulative_returns\n",
    "            )\n",
    "            max_drawup = np.max(\n",
    "                cumulative_returns - np.minimum.accumulate(cumulative_returns)\n",
    "            )\n",
    "\n",
    "            results.append(\n",
    "                [\n",
    "                    K,\n",
    "                    T,\n",
    "                    total_return,\n",
    "                    volatility,\n",
    "                    downside_risk,\n",
    "                    sharpe_ratio,\n",
    "                    max_drawdown,\n",
    "                    max_drawup,\n",
    "                ]\n",
    "            )\n",
    "\n",
    "    columns = [\n",
    "        \"Strike\",\n",
    "        \"Expiry\",\n",
    "        \"Total_Return\",\n",
    "        \"Volatility\",\n",
    "        \"Downside_Risk\",\n",
    "        \"Sharpe_Ratio\",\n",
    "        \"Max_Drawdown\",\n",
    "        \"Max_Drawup\",\n",
    "    ]\n",
    "    df = pd.DataFrame(results, columns=columns)\n",
    "\n",
    "    df[\"Total_Return\"] = df[\"Total_Return\"].apply(lambda x: f\"{x:.2%}\")\n",
    "    df[\"Volatility\"] = df[\"Volatility\"].apply(lambda x: f\"{x:.2%}\")\n",
    "    df[\"Downside_Risk\"] = df[\"Downside_Risk\"].apply(lambda x: f\"{x:.2%}\")\n",
    "    df[\"Max_Drawdown\"] = df[\"Max_Drawdown\"].apply(lambda x: f\"{x:.2%}\")\n",
    "    df[\"Max_Drawup\"] = df[\"Max_Drawup\"].apply(lambda x: f\"{x:.2%}\")\n",
    "\n",
    "    return df\n",
    "\n",
    "\n",
    "# 模擬參數\n",
    "stock_prices = [950, 870, 830, 800, 840, 880, 840, 900, 940, 950]\n",
    "days = list(range(0, len(stock_prices)))\n",
    "r = 0.01  # 無風險利率\n",
    "sigma = 0.3  # 波動率\n",
    "\n",
    "strike_range = [800, 850, 900, 950, 1000]\n",
    "expiry_range = [30, 60, 90]  # 到期日範圍(天)\n",
    "\n",
    "call_performance = evaluate_call_performance(\n",
    "    stock_prices, days, r, sigma, strike_range, expiry_range\n",
    ")\n",
    "print(\"Call option performance:\")\n",
    "# print(call_performance)\n",
    "call_performance"
   ]
  },
  {
   "cell_type": "code",
   "execution_count": 5,
   "metadata": {},
   "outputs": [
    {
     "data": {
      "text/html": [
       "<div>\n",
       "<style scoped>\n",
       "    .dataframe tbody tr th:only-of-type {\n",
       "        vertical-align: middle;\n",
       "    }\n",
       "\n",
       "    .dataframe tbody tr th {\n",
       "        vertical-align: top;\n",
       "    }\n",
       "\n",
       "    .dataframe thead th {\n",
       "        text-align: right;\n",
       "    }\n",
       "</style>\n",
       "<table border=\"1\" class=\"dataframe\">\n",
       "  <thead>\n",
       "    <tr style=\"text-align: right;\">\n",
       "      <th></th>\n",
       "      <th>Strike Price</th>\n",
       "      <th>Expiry (Days)</th>\n",
       "      <th>Total Return</th>\n",
       "      <th>Volatility</th>\n",
       "      <th>Downside Risk</th>\n",
       "      <th>Sharpe Ratio</th>\n",
       "      <th>Max Drawdown</th>\n",
       "      <th>Max Drawup</th>\n",
       "    </tr>\n",
       "  </thead>\n",
       "  <tbody>\n",
       "    <tr>\n",
       "      <th>0</th>\n",
       "      <td>700</td>\n",
       "      <td>30</td>\n",
       "      <td>0.248218</td>\n",
       "      <td>4.329427</td>\n",
       "      <td>2.212450</td>\n",
       "      <td>3.272017</td>\n",
       "      <td>0.343300</td>\n",
       "      <td>0.740812</td>\n",
       "    </tr>\n",
       "    <tr>\n",
       "      <th>1</th>\n",
       "      <td>700</td>\n",
       "      <td>60</td>\n",
       "      <td>0.244067</td>\n",
       "      <td>4.084324</td>\n",
       "      <td>2.101418</td>\n",
       "      <td>3.239908</td>\n",
       "      <td>0.325606</td>\n",
       "      <td>0.715307</td>\n",
       "    </tr>\n",
       "    <tr>\n",
       "      <th>2</th>\n",
       "      <td>700</td>\n",
       "      <td>90</td>\n",
       "      <td>0.236884</td>\n",
       "      <td>3.839964</td>\n",
       "      <td>1.989725</td>\n",
       "      <td>3.196431</td>\n",
       "      <td>0.309599</td>\n",
       "      <td>0.687040</td>\n",
       "    </tr>\n",
       "    <tr>\n",
       "      <th>3</th>\n",
       "      <td>700</td>\n",
       "      <td>120</td>\n",
       "      <td>0.229038</td>\n",
       "      <td>3.630589</td>\n",
       "      <td>1.892951</td>\n",
       "      <td>3.153007</td>\n",
       "      <td>0.296247</td>\n",
       "      <td>0.660772</td>\n",
       "    </tr>\n",
       "    <tr>\n",
       "      <th>4</th>\n",
       "      <td>700</td>\n",
       "      <td>240</td>\n",
       "      <td>0.202430</td>\n",
       "      <td>3.061623</td>\n",
       "      <td>1.624010</td>\n",
       "      <td>3.016589</td>\n",
       "      <td>0.259669</td>\n",
       "      <td>0.581488</td>\n",
       "    </tr>\n",
       "    <tr>\n",
       "      <th>5</th>\n",
       "      <td>700</td>\n",
       "      <td>360</td>\n",
       "      <td>0.183967</td>\n",
       "      <td>2.722393</td>\n",
       "      <td>1.459134</td>\n",
       "      <td>2.926601</td>\n",
       "      <td>0.236924</td>\n",
       "      <td>0.529448</td>\n",
       "    </tr>\n",
       "    <tr>\n",
       "      <th>6</th>\n",
       "      <td>800</td>\n",
       "      <td>30</td>\n",
       "      <td>0.456000</td>\n",
       "      <td>9.393523</td>\n",
       "      <td>3.994348</td>\n",
       "      <td>4.690422</td>\n",
       "      <td>0.484951</td>\n",
       "      <td>1.201585</td>\n",
       "    </tr>\n",
       "    <tr>\n",
       "      <th>7</th>\n",
       "      <td>800</td>\n",
       "      <td>60</td>\n",
       "      <td>0.394751</td>\n",
       "      <td>7.015671</td>\n",
       "      <td>3.248110</td>\n",
       "      <td>4.154762</td>\n",
       "      <td>0.426662</td>\n",
       "      <td>1.046170</td>\n",
       "    </tr>\n",
       "    <tr>\n",
       "      <th>8</th>\n",
       "      <td>800</td>\n",
       "      <td>90</td>\n",
       "      <td>0.353203</td>\n",
       "      <td>5.914285</td>\n",
       "      <td>2.845196</td>\n",
       "      <td>3.872606</td>\n",
       "      <td>0.391033</td>\n",
       "      <td>0.946069</td>\n",
       "    </tr>\n",
       "    <tr>\n",
       "      <th>9</th>\n",
       "      <td>800</td>\n",
       "      <td>120</td>\n",
       "      <td>0.323571</td>\n",
       "      <td>5.238343</td>\n",
       "      <td>2.579072</td>\n",
       "      <td>3.689802</td>\n",
       "      <td>0.365413</td>\n",
       "      <td>0.874577</td>\n",
       "    </tr>\n",
       "    <tr>\n",
       "      <th>10</th>\n",
       "      <td>800</td>\n",
       "      <td>240</td>\n",
       "      <td>0.256555</td>\n",
       "      <td>3.910804</td>\n",
       "      <td>2.013311</td>\n",
       "      <td>3.311802</td>\n",
       "      <td>0.304515</td>\n",
       "      <td>0.709736</td>\n",
       "    </tr>\n",
       "    <tr>\n",
       "      <th>11</th>\n",
       "      <td>800</td>\n",
       "      <td>360</td>\n",
       "      <td>0.221966</td>\n",
       "      <td>3.299904</td>\n",
       "      <td>1.733316</td>\n",
       "      <td>3.130422</td>\n",
       "      <td>0.270788</td>\n",
       "      <td>0.622134</td>\n",
       "    </tr>\n",
       "    <tr>\n",
       "      <th>12</th>\n",
       "      <td>850</td>\n",
       "      <td>30</td>\n",
       "      <td>0.650048</td>\n",
       "      <td>14.369128</td>\n",
       "      <td>5.154881</td>\n",
       "      <td>5.814650</td>\n",
       "      <td>0.507611</td>\n",
       "      <td>1.503634</td>\n",
       "    </tr>\n",
       "    <tr>\n",
       "      <th>13</th>\n",
       "      <td>850</td>\n",
       "      <td>60</td>\n",
       "      <td>0.501034</td>\n",
       "      <td>9.115124</td>\n",
       "      <td>3.915474</td>\n",
       "      <td>4.755387</td>\n",
       "      <td>0.459576</td>\n",
       "      <td>1.235663</td>\n",
       "    </tr>\n",
       "    <tr>\n",
       "      <th>14</th>\n",
       "      <td>850</td>\n",
       "      <td>90</td>\n",
       "      <td>0.426758</td>\n",
       "      <td>7.236999</td>\n",
       "      <td>3.320104</td>\n",
       "      <td>4.282288</td>\n",
       "      <td>0.422417</td>\n",
       "      <td>1.087114</td>\n",
       "    </tr>\n",
       "    <tr>\n",
       "      <th>15</th>\n",
       "      <td>850</td>\n",
       "      <td>120</td>\n",
       "      <td>0.379943</td>\n",
       "      <td>6.201906</td>\n",
       "      <td>2.949727</td>\n",
       "      <td>4.000690</td>\n",
       "      <td>0.394085</td>\n",
       "      <td>0.987928</td>\n",
       "    </tr>\n",
       "    <tr>\n",
       "      <th>16</th>\n",
       "      <td>850</td>\n",
       "      <td>240</td>\n",
       "      <td>0.285831</td>\n",
       "      <td>4.370243</td>\n",
       "      <td>2.213376</td>\n",
       "      <td>3.469861</td>\n",
       "      <td>0.324867</td>\n",
       "      <td>0.774748</td>\n",
       "    </tr>\n",
       "    <tr>\n",
       "      <th>17</th>\n",
       "      <td>850</td>\n",
       "      <td>360</td>\n",
       "      <td>0.241759</td>\n",
       "      <td>3.600414</td>\n",
       "      <td>1.871219</td>\n",
       "      <td>3.236137</td>\n",
       "      <td>0.286502</td>\n",
       "      <td>0.668269</td>\n",
       "    </tr>\n",
       "    <tr>\n",
       "      <th>18</th>\n",
       "      <td>900</td>\n",
       "      <td>30</td>\n",
       "      <td>0.892407</td>\n",
       "      <td>21.881383</td>\n",
       "      <td>6.283819</td>\n",
       "      <td>6.958891</td>\n",
       "      <td>0.483468</td>\n",
       "      <td>1.817164</td>\n",
       "    </tr>\n",
       "    <tr>\n",
       "      <th>19</th>\n",
       "      <td>900</td>\n",
       "      <td>60</td>\n",
       "      <td>0.621307</td>\n",
       "      <td>11.654878</td>\n",
       "      <td>4.588033</td>\n",
       "      <td>5.388925</td>\n",
       "      <td>0.475280</td>\n",
       "      <td>1.425526</td>\n",
       "    </tr>\n",
       "    <tr>\n",
       "      <th>20</th>\n",
       "      <td>900</td>\n",
       "      <td>90</td>\n",
       "      <td>0.507071</td>\n",
       "      <td>8.732017</td>\n",
       "      <td>3.799825</td>\n",
       "      <td>4.711614</td>\n",
       "      <td>0.444837</td>\n",
       "      <td>1.227768</td>\n",
       "    </tr>\n",
       "    <tr>\n",
       "      <th>21</th>\n",
       "      <td>900</td>\n",
       "      <td>120</td>\n",
       "      <td>0.440247</td>\n",
       "      <td>7.254608</td>\n",
       "      <td>3.323415</td>\n",
       "      <td>4.323914</td>\n",
       "      <td>0.417194</td>\n",
       "      <td>1.100704</td>\n",
       "    </tr>\n",
       "    <tr>\n",
       "      <th>22</th>\n",
       "      <td>900</td>\n",
       "      <td>240</td>\n",
       "      <td>0.315982</td>\n",
       "      <td>4.846007</td>\n",
       "      <td>2.413101</td>\n",
       "      <td>3.630776</td>\n",
       "      <td>0.343426</td>\n",
       "      <td>0.839029</td>\n",
       "    </tr>\n",
       "    <tr>\n",
       "      <th>23</th>\n",
       "      <td>900</td>\n",
       "      <td>360</td>\n",
       "      <td>0.261810</td>\n",
       "      <td>3.905444</td>\n",
       "      <td>2.007960</td>\n",
       "      <td>3.342563</td>\n",
       "      <td>0.301236</td>\n",
       "      <td>0.713689</td>\n",
       "    </tr>\n",
       "    <tr>\n",
       "      <th>24</th>\n",
       "      <td>950</td>\n",
       "      <td>30</td>\n",
       "      <td>1.119352</td>\n",
       "      <td>33.074124</td>\n",
       "      <td>7.266696</td>\n",
       "      <td>7.893549</td>\n",
       "      <td>0.428592</td>\n",
       "      <td>2.083687</td>\n",
       "    </tr>\n",
       "    <tr>\n",
       "      <th>25</th>\n",
       "      <td>950</td>\n",
       "      <td>60</td>\n",
       "      <td>0.746035</td>\n",
       "      <td>14.651754</td>\n",
       "      <td>5.232988</td>\n",
       "      <td>6.010735</td>\n",
       "      <td>0.475101</td>\n",
       "      <td>1.604743</td>\n",
       "    </tr>\n",
       "    <tr>\n",
       "      <th>26</th>\n",
       "      <td>950</td>\n",
       "      <td>90</td>\n",
       "      <td>0.590636</td>\n",
       "      <td>10.386625</td>\n",
       "      <td>4.269242</td>\n",
       "      <td>5.142473</td>\n",
       "      <td>0.458256</td>\n",
       "      <td>1.363212</td>\n",
       "    </tr>\n",
       "    <tr>\n",
       "      <th>27</th>\n",
       "      <td>950</td>\n",
       "      <td>120</td>\n",
       "      <td>0.502682</td>\n",
       "      <td>8.384791</td>\n",
       "      <td>3.691495</td>\n",
       "      <td>4.649686</td>\n",
       "      <td>0.434524</td>\n",
       "      <td>1.210163</td>\n",
       "    </tr>\n",
       "    <tr>\n",
       "      <th>28</th>\n",
       "      <td>950</td>\n",
       "      <td>240</td>\n",
       "      <td>0.346614</td>\n",
       "      <td>5.333885</td>\n",
       "      <td>2.610336</td>\n",
       "      <td>3.792220</td>\n",
       "      <td>0.360077</td>\n",
       "      <td>0.901884</td>\n",
       "    </tr>\n",
       "    <tr>\n",
       "      <th>29</th>\n",
       "      <td>950</td>\n",
       "      <td>360</td>\n",
       "      <td>0.281955</td>\n",
       "      <td>4.213066</td>\n",
       "      <td>2.142639</td>\n",
       "      <td>3.448704</td>\n",
       "      <td>0.314939</td>\n",
       "      <td>0.758099</td>\n",
       "    </tr>\n",
       "    <tr>\n",
       "      <th>30</th>\n",
       "      <td>1000</td>\n",
       "      <td>30</td>\n",
       "      <td>1.242371</td>\n",
       "      <td>49.673547</td>\n",
       "      <td>8.064211</td>\n",
       "      <td>8.498484</td>\n",
       "      <td>0.362198</td>\n",
       "      <td>2.226338</td>\n",
       "    </tr>\n",
       "    <tr>\n",
       "      <th>31</th>\n",
       "      <td>1000</td>\n",
       "      <td>60</td>\n",
       "      <td>0.864527</td>\n",
       "      <td>18.135147</td>\n",
       "      <td>5.830582</td>\n",
       "      <td>6.588645</td>\n",
       "      <td>0.462569</td>\n",
       "      <td>1.763994</td>\n",
       "    </tr>\n",
       "    <tr>\n",
       "      <th>32</th>\n",
       "      <td>1000</td>\n",
       "      <td>90</td>\n",
       "      <td>0.673926</td>\n",
       "      <td>12.191843</td>\n",
       "      <td>4.718206</td>\n",
       "      <td>5.561381</td>\n",
       "      <td>0.463637</td>\n",
       "      <td>1.489888</td>\n",
       "    </tr>\n",
       "    <tr>\n",
       "      <th>33</th>\n",
       "      <td>1000</td>\n",
       "      <td>120</td>\n",
       "      <td>0.565545</td>\n",
       "      <td>9.583078</td>\n",
       "      <td>4.047915</td>\n",
       "      <td>4.970652</td>\n",
       "      <td>0.446394</td>\n",
       "      <td>1.314347</td>\n",
       "    </tr>\n",
       "    <tr>\n",
       "      <th>34</th>\n",
       "      <td>1000</td>\n",
       "      <td>240</td>\n",
       "      <td>0.377386</td>\n",
       "      <td>5.830460</td>\n",
       "      <td>2.803508</td>\n",
       "      <td>3.952439</td>\n",
       "      <td>0.374809</td>\n",
       "      <td>0.962820</td>\n",
       "    </tr>\n",
       "    <tr>\n",
       "      <th>35</th>\n",
       "      <td>1000</td>\n",
       "      <td>360</td>\n",
       "      <td>0.302059</td>\n",
       "      <td>4.521747</td>\n",
       "      <td>2.274600</td>\n",
       "      <td>3.553807</td>\n",
       "      <td>0.327602</td>\n",
       "      <td>0.801296</td>\n",
       "    </tr>\n",
       "    <tr>\n",
       "      <th>36</th>\n",
       "      <td>1100</td>\n",
       "      <td>30</td>\n",
       "      <td>0.975133</td>\n",
       "      <td>109.428569</td>\n",
       "      <td>9.157127</td>\n",
       "      <td>8.792229</td>\n",
       "      <td>0.239460</td>\n",
       "      <td>1.972154</td>\n",
       "    </tr>\n",
       "    <tr>\n",
       "      <th>37</th>\n",
       "      <td>1100</td>\n",
       "      <td>60</td>\n",
       "      <td>1.045303</td>\n",
       "      <td>26.740793</td>\n",
       "      <td>6.854664</td>\n",
       "      <td>7.545266</td>\n",
       "      <td>0.415731</td>\n",
       "      <td>1.995423</td>\n",
       "    </tr>\n",
       "    <tr>\n",
       "      <th>38</th>\n",
       "      <td>1100</td>\n",
       "      <td>90</td>\n",
       "      <td>0.827493</td>\n",
       "      <td>16.237268</td>\n",
       "      <td>5.534284</td>\n",
       "      <td>6.330329</td>\n",
       "      <td>0.456006</td>\n",
       "      <td>1.707912</td>\n",
       "    </tr>\n",
       "    <tr>\n",
       "      <th>39</th>\n",
       "      <td>1100</td>\n",
       "      <td>120</td>\n",
       "      <td>0.686833</td>\n",
       "      <td>12.157704</td>\n",
       "      <td>4.712108</td>\n",
       "      <td>5.579272</td>\n",
       "      <td>0.456316</td>\n",
       "      <td>1.502212</td>\n",
       "    </tr>\n",
       "    <tr>\n",
       "      <th>40</th>\n",
       "      <td>1100</td>\n",
       "      <td>240</td>\n",
       "      <td>0.438284</td>\n",
       "      <td>6.839438</td>\n",
       "      <td>3.173699</td>\n",
       "      <td>4.264460</td>\n",
       "      <td>0.398821</td>\n",
       "      <td>1.077776</td>\n",
       "    </tr>\n",
       "    <tr>\n",
       "      <th>41</th>\n",
       "      <td>1100</td>\n",
       "      <td>360</td>\n",
       "      <td>0.341730</td>\n",
       "      <td>5.137749</td>\n",
       "      <td>2.528712</td>\n",
       "      <td>3.758872</td>\n",
       "      <td>0.349904</td>\n",
       "      <td>0.883568</td>\n",
       "    </tr>\n",
       "  </tbody>\n",
       "</table>\n",
       "</div>"
      ],
      "text/plain": [
       "    Strike Price  Expiry (Days)  Total Return  Volatility  Downside Risk  \\\n",
       "0            700             30      0.248218    4.329427       2.212450   \n",
       "1            700             60      0.244067    4.084324       2.101418   \n",
       "2            700             90      0.236884    3.839964       1.989725   \n",
       "3            700            120      0.229038    3.630589       1.892951   \n",
       "4            700            240      0.202430    3.061623       1.624010   \n",
       "5            700            360      0.183967    2.722393       1.459134   \n",
       "6            800             30      0.456000    9.393523       3.994348   \n",
       "7            800             60      0.394751    7.015671       3.248110   \n",
       "8            800             90      0.353203    5.914285       2.845196   \n",
       "9            800            120      0.323571    5.238343       2.579072   \n",
       "10           800            240      0.256555    3.910804       2.013311   \n",
       "11           800            360      0.221966    3.299904       1.733316   \n",
       "12           850             30      0.650048   14.369128       5.154881   \n",
       "13           850             60      0.501034    9.115124       3.915474   \n",
       "14           850             90      0.426758    7.236999       3.320104   \n",
       "15           850            120      0.379943    6.201906       2.949727   \n",
       "16           850            240      0.285831    4.370243       2.213376   \n",
       "17           850            360      0.241759    3.600414       1.871219   \n",
       "18           900             30      0.892407   21.881383       6.283819   \n",
       "19           900             60      0.621307   11.654878       4.588033   \n",
       "20           900             90      0.507071    8.732017       3.799825   \n",
       "21           900            120      0.440247    7.254608       3.323415   \n",
       "22           900            240      0.315982    4.846007       2.413101   \n",
       "23           900            360      0.261810    3.905444       2.007960   \n",
       "24           950             30      1.119352   33.074124       7.266696   \n",
       "25           950             60      0.746035   14.651754       5.232988   \n",
       "26           950             90      0.590636   10.386625       4.269242   \n",
       "27           950            120      0.502682    8.384791       3.691495   \n",
       "28           950            240      0.346614    5.333885       2.610336   \n",
       "29           950            360      0.281955    4.213066       2.142639   \n",
       "30          1000             30      1.242371   49.673547       8.064211   \n",
       "31          1000             60      0.864527   18.135147       5.830582   \n",
       "32          1000             90      0.673926   12.191843       4.718206   \n",
       "33          1000            120      0.565545    9.583078       4.047915   \n",
       "34          1000            240      0.377386    5.830460       2.803508   \n",
       "35          1000            360      0.302059    4.521747       2.274600   \n",
       "36          1100             30      0.975133  109.428569       9.157127   \n",
       "37          1100             60      1.045303   26.740793       6.854664   \n",
       "38          1100             90      0.827493   16.237268       5.534284   \n",
       "39          1100            120      0.686833   12.157704       4.712108   \n",
       "40          1100            240      0.438284    6.839438       3.173699   \n",
       "41          1100            360      0.341730    5.137749       2.528712   \n",
       "\n",
       "    Sharpe Ratio  Max Drawdown  Max Drawup  \n",
       "0       3.272017      0.343300    0.740812  \n",
       "1       3.239908      0.325606    0.715307  \n",
       "2       3.196431      0.309599    0.687040  \n",
       "3       3.153007      0.296247    0.660772  \n",
       "4       3.016589      0.259669    0.581488  \n",
       "5       2.926601      0.236924    0.529448  \n",
       "6       4.690422      0.484951    1.201585  \n",
       "7       4.154762      0.426662    1.046170  \n",
       "8       3.872606      0.391033    0.946069  \n",
       "9       3.689802      0.365413    0.874577  \n",
       "10      3.311802      0.304515    0.709736  \n",
       "11      3.130422      0.270788    0.622134  \n",
       "12      5.814650      0.507611    1.503634  \n",
       "13      4.755387      0.459576    1.235663  \n",
       "14      4.282288      0.422417    1.087114  \n",
       "15      4.000690      0.394085    0.987928  \n",
       "16      3.469861      0.324867    0.774748  \n",
       "17      3.236137      0.286502    0.668269  \n",
       "18      6.958891      0.483468    1.817164  \n",
       "19      5.388925      0.475280    1.425526  \n",
       "20      4.711614      0.444837    1.227768  \n",
       "21      4.323914      0.417194    1.100704  \n",
       "22      3.630776      0.343426    0.839029  \n",
       "23      3.342563      0.301236    0.713689  \n",
       "24      7.893549      0.428592    2.083687  \n",
       "25      6.010735      0.475101    1.604743  \n",
       "26      5.142473      0.458256    1.363212  \n",
       "27      4.649686      0.434524    1.210163  \n",
       "28      3.792220      0.360077    0.901884  \n",
       "29      3.448704      0.314939    0.758099  \n",
       "30      8.498484      0.362198    2.226338  \n",
       "31      6.588645      0.462569    1.763994  \n",
       "32      5.561381      0.463637    1.489888  \n",
       "33      4.970652      0.446394    1.314347  \n",
       "34      3.952439      0.374809    0.962820  \n",
       "35      3.553807      0.327602    0.801296  \n",
       "36      8.792229      0.239460    1.972154  \n",
       "37      7.545266      0.415731    1.995423  \n",
       "38      6.330329      0.456006    1.707912  \n",
       "39      5.579272      0.456316    1.502212  \n",
       "40      4.264460      0.398821    1.077776  \n",
       "41      3.758872      0.349904    0.883568  "
      ]
     },
     "execution_count": 5,
     "metadata": {},
     "output_type": "execute_result"
    }
   ],
   "source": [
    "import numpy as np\n",
    "import pandas as pd\n",
    "from scipy.stats import norm\n",
    "\n",
    "\n",
    "def bsm_call(S, K, T, r, sigma):\n",
    "    \"\"\"\n",
    "    Black-Scholes-Merton model to calculate European call option price.\n",
    "    \"\"\"\n",
    "    d1 = (np.log(S / K) + (r + 0.5 * sigma**2) * T) / (sigma * np.sqrt(T))\n",
    "    d2 = d1 - sigma * np.sqrt(T)\n",
    "    call = S * norm.cdf(d1) - K * np.exp(-r * T) * norm.cdf(d2)\n",
    "    return call\n",
    "\n",
    "\n",
    "def calculate_call_prices(stock_prices, K, T_years, r, sigma):\n",
    "    \"\"\"\n",
    "    Calculate call prices for a given set of parameters.\n",
    "\n",
    "    Parameters:\n",
    "    - stock_prices: list of stock prices\n",
    "    - K: strike price\n",
    "    - T_years: time to expiry in years\n",
    "    - r: risk-free interest rate\n",
    "    - sigma: volatility of the stock\n",
    "\n",
    "    Returns:\n",
    "    - DataFrame containing the call prices.\n",
    "    \"\"\"\n",
    "    days = np.arange(len(stock_prices))\n",
    "    call_prices = [\n",
    "        bsm_call(S, K, T_years - day / 365, r, sigma)\n",
    "        for day, S in zip(days, stock_prices)\n",
    "    ]\n",
    "    return pd.DataFrame({\"day\": days, \"call_price\": call_prices})\n",
    "\n",
    "\n",
    "def calculate_metrics(call_prices_df):\n",
    "    \"\"\"\n",
    "    Calculate various performance metrics based on call prices.\n",
    "\n",
    "    Parameters:\n",
    "    - call_prices_df: DataFrame with call prices.\n",
    "\n",
    "    Returns:\n",
    "    - A dictionary containing various performance metrics.\n",
    "    \"\"\"\n",
    "    call_prices = call_prices_df[\"call_price\"]\n",
    "    returns = np.diff(call_prices) / call_prices[:-1]\n",
    "\n",
    "    total_return = (call_prices.iloc[-1] - call_prices.iloc[0]) / call_prices.iloc[0]\n",
    "    volatility = np.std(returns, ddof=1) * np.sqrt(252)\n",
    "    downside_risk = np.sqrt(np.mean([min(0, r) ** 2 for r in returns]) * 252)\n",
    "    sharpe_ratio = np.mean(returns) / np.std(returns, ddof=1) * np.sqrt(252)\n",
    "\n",
    "    cumulative_returns = np.cumprod(1 + returns) - 1\n",
    "    max_drawdown = np.max(\n",
    "        np.maximum.accumulate(cumulative_returns) - cumulative_returns\n",
    "    )\n",
    "    max_drawup = np.max(cumulative_returns - np.minimum.accumulate(cumulative_returns))\n",
    "\n",
    "    return {\n",
    "        \"total_return\": total_return,\n",
    "        \"volatility\": volatility,\n",
    "        \"downside_risk\": downside_risk,\n",
    "        \"sharpe_ratio\": sharpe_ratio,\n",
    "        \"max_drawdown\": max_drawdown,\n",
    "        \"max_drawup\": max_drawup,\n",
    "    }\n",
    "\n",
    "\n",
    "# Simulation parameters\n",
    "# stock_prices = [950, 870, 830, 800, 840, 880, 840, 900, 940, 950]\n",
    "stock_prices = [900, 870, 830, 800, 840, 880, 840, 900, 940, 950]\n",
    "days = list(range(0, len(stock_prices)))\n",
    "r = 0.01  # Risk-free interest rate\n",
    "sigma = 0.3  # Volatility\n",
    "\n",
    "strike_range = [700, 800, 850, 900, 950, 1000, 1100]\n",
    "expiry_range = [30, 60, 90, 120, 240, 360]  # Expiry dates range in days\n",
    "\n",
    "# Initialize a list to store the results\n",
    "results = []\n",
    "\n",
    "# Iterate through each combination of strike price and expiry\n",
    "for K in strike_range:\n",
    "    for T in expiry_range:\n",
    "        T_years = T / 365\n",
    "        call_prices_df = calculate_call_prices(stock_prices, K, T_years, r, sigma)\n",
    "        metrics = calculate_metrics(call_prices_df)\n",
    "        results.append([K, T] + list(metrics.values()))\n",
    "\n",
    "\n",
    "# Create a DataFrame to display the results\n",
    "results_df = pd.DataFrame(\n",
    "    results,\n",
    "    columns=[\n",
    "        \"Strike Price\",\n",
    "        \"Expiry (Days)\",\n",
    "        \"Total Return\",\n",
    "        \"Volatility\",\n",
    "        \"Downside Risk\",\n",
    "        \"Sharpe Ratio\",\n",
    "        \"Max Drawdown\",\n",
    "        \"Max Drawup\",\n",
    "    ],\n",
    ")\n",
    "\n",
    "\n",
    "# Display the results table\n",
    "# print(results_df)\n",
    "results_df"
   ]
  },
  {
   "cell_type": "code",
   "execution_count": 11,
   "metadata": {},
   "outputs": [
    {
     "data": {
      "application/vnd.plotly.v1+json": {
       "config": {
        "plotlyServerURL": "https://plot.ly"
       },
       "data": [
        {
         "hoverinfo": "text+y",
         "mode": "markers",
         "name": "Total Return",
         "text": [
          "Strike: 700.0, Expiry: 30.0 days",
          "Strike: 700.0, Expiry: 60.0 days",
          "Strike: 700.0, Expiry: 90.0 days",
          "Strike: 700.0, Expiry: 120.0 days",
          "Strike: 700.0, Expiry: 240.0 days",
          "Strike: 700.0, Expiry: 360.0 days",
          "Strike: 800.0, Expiry: 30.0 days",
          "Strike: 800.0, Expiry: 60.0 days",
          "Strike: 800.0, Expiry: 90.0 days",
          "Strike: 800.0, Expiry: 120.0 days",
          "Strike: 800.0, Expiry: 240.0 days",
          "Strike: 800.0, Expiry: 360.0 days",
          "Strike: 850.0, Expiry: 30.0 days",
          "Strike: 850.0, Expiry: 60.0 days",
          "Strike: 850.0, Expiry: 90.0 days",
          "Strike: 850.0, Expiry: 120.0 days",
          "Strike: 850.0, Expiry: 240.0 days",
          "Strike: 850.0, Expiry: 360.0 days",
          "Strike: 900.0, Expiry: 30.0 days",
          "Strike: 900.0, Expiry: 60.0 days",
          "Strike: 900.0, Expiry: 90.0 days",
          "Strike: 900.0, Expiry: 120.0 days",
          "Strike: 900.0, Expiry: 240.0 days",
          "Strike: 900.0, Expiry: 360.0 days",
          "Strike: 950.0, Expiry: 30.0 days",
          "Strike: 950.0, Expiry: 60.0 days",
          "Strike: 950.0, Expiry: 90.0 days",
          "Strike: 950.0, Expiry: 120.0 days",
          "Strike: 950.0, Expiry: 240.0 days",
          "Strike: 950.0, Expiry: 360.0 days",
          "Strike: 1000.0, Expiry: 30.0 days",
          "Strike: 1000.0, Expiry: 60.0 days",
          "Strike: 1000.0, Expiry: 90.0 days",
          "Strike: 1000.0, Expiry: 120.0 days",
          "Strike: 1000.0, Expiry: 240.0 days",
          "Strike: 1000.0, Expiry: 360.0 days",
          "Strike: 1100.0, Expiry: 30.0 days",
          "Strike: 1100.0, Expiry: 60.0 days",
          "Strike: 1100.0, Expiry: 90.0 days",
          "Strike: 1100.0, Expiry: 120.0 days",
          "Strike: 1100.0, Expiry: 240.0 days",
          "Strike: 1100.0, Expiry: 360.0 days"
         ],
         "type": "scatter",
         "x": [
          700,
          700,
          700,
          700,
          700,
          700,
          800,
          800,
          800,
          800,
          800,
          800,
          850,
          850,
          850,
          850,
          850,
          850,
          900,
          900,
          900,
          900,
          900,
          900,
          950,
          950,
          950,
          950,
          950,
          950,
          1000,
          1000,
          1000,
          1000,
          1000,
          1000,
          1100,
          1100,
          1100,
          1100,
          1100,
          1100
         ],
         "xaxis": "x",
         "y": [
          0.24821783297023634,
          0.2440670109910012,
          0.23688447126819903,
          0.2290378359696943,
          0.20243003322067335,
          0.18396662042752912,
          0.45600041090790894,
          0.39475132723255363,
          0.3532025679238744,
          0.32357115362274913,
          0.256554681732826,
          0.22196647422097918,
          0.6500483911542071,
          0.5010344735807304,
          0.4267579218504473,
          0.3799433453842318,
          0.2858305299262443,
          0.24175913894392376,
          0.8924068137590326,
          0.6213073185434871,
          0.5070708456889468,
          0.4402472137836218,
          0.31598228094068276,
          0.26181036901673826,
          1.1193518423851636,
          0.7460348482505815,
          0.5906355231651504,
          0.5026821001207764,
          0.34661357142169913,
          0.2819554704671113,
          1.2423706595536548,
          0.8645265372457136,
          0.6739255737790226,
          0.5655452226151234,
          0.37738553927944307,
          0.30205912375457866,
          0.9751331619801024,
          1.0453033128638014,
          0.8274932095735879,
          0.6868334543379211,
          0.4382838215014205,
          0.3417297160000439
         ],
         "yaxis": "y"
        },
        {
         "hoverinfo": "text+y",
         "mode": "markers",
         "name": "Volatility",
         "text": [
          "Strike: 700.0, Expiry: 30.0 days",
          "Strike: 700.0, Expiry: 60.0 days",
          "Strike: 700.0, Expiry: 90.0 days",
          "Strike: 700.0, Expiry: 120.0 days",
          "Strike: 700.0, Expiry: 240.0 days",
          "Strike: 700.0, Expiry: 360.0 days",
          "Strike: 800.0, Expiry: 30.0 days",
          "Strike: 800.0, Expiry: 60.0 days",
          "Strike: 800.0, Expiry: 90.0 days",
          "Strike: 800.0, Expiry: 120.0 days",
          "Strike: 800.0, Expiry: 240.0 days",
          "Strike: 800.0, Expiry: 360.0 days",
          "Strike: 850.0, Expiry: 30.0 days",
          "Strike: 850.0, Expiry: 60.0 days",
          "Strike: 850.0, Expiry: 90.0 days",
          "Strike: 850.0, Expiry: 120.0 days",
          "Strike: 850.0, Expiry: 240.0 days",
          "Strike: 850.0, Expiry: 360.0 days",
          "Strike: 900.0, Expiry: 30.0 days",
          "Strike: 900.0, Expiry: 60.0 days",
          "Strike: 900.0, Expiry: 90.0 days",
          "Strike: 900.0, Expiry: 120.0 days",
          "Strike: 900.0, Expiry: 240.0 days",
          "Strike: 900.0, Expiry: 360.0 days",
          "Strike: 950.0, Expiry: 30.0 days",
          "Strike: 950.0, Expiry: 60.0 days",
          "Strike: 950.0, Expiry: 90.0 days",
          "Strike: 950.0, Expiry: 120.0 days",
          "Strike: 950.0, Expiry: 240.0 days",
          "Strike: 950.0, Expiry: 360.0 days",
          "Strike: 1000.0, Expiry: 30.0 days",
          "Strike: 1000.0, Expiry: 60.0 days",
          "Strike: 1000.0, Expiry: 90.0 days",
          "Strike: 1000.0, Expiry: 120.0 days",
          "Strike: 1000.0, Expiry: 240.0 days",
          "Strike: 1000.0, Expiry: 360.0 days",
          "Strike: 1100.0, Expiry: 30.0 days",
          "Strike: 1100.0, Expiry: 60.0 days",
          "Strike: 1100.0, Expiry: 90.0 days",
          "Strike: 1100.0, Expiry: 120.0 days",
          "Strike: 1100.0, Expiry: 240.0 days",
          "Strike: 1100.0, Expiry: 360.0 days"
         ],
         "type": "scatter",
         "x": [
          700,
          700,
          700,
          700,
          700,
          700,
          800,
          800,
          800,
          800,
          800,
          800,
          850,
          850,
          850,
          850,
          850,
          850,
          900,
          900,
          900,
          900,
          900,
          900,
          950,
          950,
          950,
          950,
          950,
          950,
          1000,
          1000,
          1000,
          1000,
          1000,
          1000,
          1100,
          1100,
          1100,
          1100,
          1100,
          1100
         ],
         "xaxis": "x2",
         "y": [
          4.329426662540606,
          4.0843235753510125,
          3.839963959790142,
          3.6305893012723556,
          3.061622699238742,
          2.722393135769169,
          9.393522594371325,
          7.015671264939464,
          5.91428502522645,
          5.238342540870023,
          3.9108036979016685,
          3.299904104623726,
          14.369128223893517,
          9.115123827598554,
          7.236999006512247,
          6.201905969139456,
          4.370243148247421,
          3.6004137432303462,
          21.88138264544042,
          11.654878368292225,
          8.732017491887602,
          7.254608391331685,
          4.846006677991425,
          3.9054436084150406,
          33.07412441998735,
          14.651753805346273,
          10.386625207690889,
          8.384791123133988,
          5.333885390067479,
          4.213066363507321,
          49.67354739931229,
          18.13514675721085,
          12.191843428578602,
          9.583078463272074,
          5.830460002437312,
          4.521747055233894,
          109.42856898502488,
          26.740792781768498,
          16.23726843136627,
          12.15770356420907,
          6.839438194774251,
          5.137748637715787
         ],
         "yaxis": "y2"
        },
        {
         "hoverinfo": "text+y",
         "mode": "markers",
         "name": "Sharpe Ratio",
         "text": [
          "Strike: 700.0, Expiry: 30.0 days",
          "Strike: 700.0, Expiry: 60.0 days",
          "Strike: 700.0, Expiry: 90.0 days",
          "Strike: 700.0, Expiry: 120.0 days",
          "Strike: 700.0, Expiry: 240.0 days",
          "Strike: 700.0, Expiry: 360.0 days",
          "Strike: 800.0, Expiry: 30.0 days",
          "Strike: 800.0, Expiry: 60.0 days",
          "Strike: 800.0, Expiry: 90.0 days",
          "Strike: 800.0, Expiry: 120.0 days",
          "Strike: 800.0, Expiry: 240.0 days",
          "Strike: 800.0, Expiry: 360.0 days",
          "Strike: 850.0, Expiry: 30.0 days",
          "Strike: 850.0, Expiry: 60.0 days",
          "Strike: 850.0, Expiry: 90.0 days",
          "Strike: 850.0, Expiry: 120.0 days",
          "Strike: 850.0, Expiry: 240.0 days",
          "Strike: 850.0, Expiry: 360.0 days",
          "Strike: 900.0, Expiry: 30.0 days",
          "Strike: 900.0, Expiry: 60.0 days",
          "Strike: 900.0, Expiry: 90.0 days",
          "Strike: 900.0, Expiry: 120.0 days",
          "Strike: 900.0, Expiry: 240.0 days",
          "Strike: 900.0, Expiry: 360.0 days",
          "Strike: 950.0, Expiry: 30.0 days",
          "Strike: 950.0, Expiry: 60.0 days",
          "Strike: 950.0, Expiry: 90.0 days",
          "Strike: 950.0, Expiry: 120.0 days",
          "Strike: 950.0, Expiry: 240.0 days",
          "Strike: 950.0, Expiry: 360.0 days",
          "Strike: 1000.0, Expiry: 30.0 days",
          "Strike: 1000.0, Expiry: 60.0 days",
          "Strike: 1000.0, Expiry: 90.0 days",
          "Strike: 1000.0, Expiry: 120.0 days",
          "Strike: 1000.0, Expiry: 240.0 days",
          "Strike: 1000.0, Expiry: 360.0 days",
          "Strike: 1100.0, Expiry: 30.0 days",
          "Strike: 1100.0, Expiry: 60.0 days",
          "Strike: 1100.0, Expiry: 90.0 days",
          "Strike: 1100.0, Expiry: 120.0 days",
          "Strike: 1100.0, Expiry: 240.0 days",
          "Strike: 1100.0, Expiry: 360.0 days"
         ],
         "type": "scatter",
         "x": [
          700,
          700,
          700,
          700,
          700,
          700,
          800,
          800,
          800,
          800,
          800,
          800,
          850,
          850,
          850,
          850,
          850,
          850,
          900,
          900,
          900,
          900,
          900,
          900,
          950,
          950,
          950,
          950,
          950,
          950,
          1000,
          1000,
          1000,
          1000,
          1000,
          1000,
          1100,
          1100,
          1100,
          1100,
          1100,
          1100
         ],
         "xaxis": "x3",
         "y": [
          3.2720166425403647,
          3.239907924458236,
          3.196431098788522,
          3.153006761589952,
          3.016588952428638,
          2.9266009897448106,
          4.6904224425776855,
          4.154761671482057,
          3.8726063334636334,
          3.689801968074873,
          3.311802190135992,
          3.1304222964500434,
          5.81464990927564,
          4.7553868734520295,
          4.282287946230761,
          4.000690191189406,
          3.469861346444415,
          3.236136657363341,
          6.9588913261201215,
          5.388924861612637,
          4.711614464868104,
          4.323914219688097,
          3.6307757207478146,
          3.34256331258346,
          7.893549198070493,
          6.010735396105335,
          5.142473077135616,
          4.649685832860369,
          3.792220450031256,
          3.4487035667782036,
          8.4984841553519,
          6.588644743872032,
          5.561381046754388,
          4.9706517657982365,
          3.9524394381656833,
          3.5538072080791085,
          8.792229000008282,
          7.545265933047536,
          6.330329221960253,
          5.579271858812963,
          4.2644597803278215,
          3.7588720244096305
         ],
         "yaxis": "y3"
        },
        {
         "hoverinfo": "text+y",
         "mode": "markers",
         "name": "Max Drawdown",
         "text": [
          "Strike: 700.0, Expiry: 30.0 days",
          "Strike: 700.0, Expiry: 60.0 days",
          "Strike: 700.0, Expiry: 90.0 days",
          "Strike: 700.0, Expiry: 120.0 days",
          "Strike: 700.0, Expiry: 240.0 days",
          "Strike: 700.0, Expiry: 360.0 days",
          "Strike: 800.0, Expiry: 30.0 days",
          "Strike: 800.0, Expiry: 60.0 days",
          "Strike: 800.0, Expiry: 90.0 days",
          "Strike: 800.0, Expiry: 120.0 days",
          "Strike: 800.0, Expiry: 240.0 days",
          "Strike: 800.0, Expiry: 360.0 days",
          "Strike: 850.0, Expiry: 30.0 days",
          "Strike: 850.0, Expiry: 60.0 days",
          "Strike: 850.0, Expiry: 90.0 days",
          "Strike: 850.0, Expiry: 120.0 days",
          "Strike: 850.0, Expiry: 240.0 days",
          "Strike: 850.0, Expiry: 360.0 days",
          "Strike: 900.0, Expiry: 30.0 days",
          "Strike: 900.0, Expiry: 60.0 days",
          "Strike: 900.0, Expiry: 90.0 days",
          "Strike: 900.0, Expiry: 120.0 days",
          "Strike: 900.0, Expiry: 240.0 days",
          "Strike: 900.0, Expiry: 360.0 days",
          "Strike: 950.0, Expiry: 30.0 days",
          "Strike: 950.0, Expiry: 60.0 days",
          "Strike: 950.0, Expiry: 90.0 days",
          "Strike: 950.0, Expiry: 120.0 days",
          "Strike: 950.0, Expiry: 240.0 days",
          "Strike: 950.0, Expiry: 360.0 days",
          "Strike: 1000.0, Expiry: 30.0 days",
          "Strike: 1000.0, Expiry: 60.0 days",
          "Strike: 1000.0, Expiry: 90.0 days",
          "Strike: 1000.0, Expiry: 120.0 days",
          "Strike: 1000.0, Expiry: 240.0 days",
          "Strike: 1000.0, Expiry: 360.0 days",
          "Strike: 1100.0, Expiry: 30.0 days",
          "Strike: 1100.0, Expiry: 60.0 days",
          "Strike: 1100.0, Expiry: 90.0 days",
          "Strike: 1100.0, Expiry: 120.0 days",
          "Strike: 1100.0, Expiry: 240.0 days",
          "Strike: 1100.0, Expiry: 360.0 days"
         ],
         "type": "scatter",
         "x": [
          700,
          700,
          700,
          700,
          700,
          700,
          800,
          800,
          800,
          800,
          800,
          800,
          850,
          850,
          850,
          850,
          850,
          850,
          900,
          900,
          900,
          900,
          900,
          900,
          950,
          950,
          950,
          950,
          950,
          950,
          1000,
          1000,
          1000,
          1000,
          1000,
          1000,
          1100,
          1100,
          1100,
          1100,
          1100,
          1100
         ],
         "xaxis": "x4",
         "y": [
          0.3433002236162298,
          0.32560630943581936,
          0.3095985207357046,
          0.29624656774558744,
          0.2596690823157083,
          0.23692397090862882,
          0.4849509469880289,
          0.426662447516452,
          0.39103297609818355,
          0.3654129320256988,
          0.30451541793195736,
          0.27078788335985915,
          0.5076108249235818,
          0.45957627211576635,
          0.4224171580611218,
          0.3940852356925474,
          0.32486693907448505,
          0.2865015002876039,
          0.48346776252849055,
          0.4752804345934696,
          0.4448367288880445,
          0.41719397024794114,
          0.3434263199226938,
          0.30123557661505185,
          0.4285915395418367,
          0.4751014866433878,
          0.4582556851424352,
          0.4345243197647475,
          0.36007673448087685,
          0.3149388649306717,
          0.36219798326151487,
          0.46256928790993557,
          0.46363745763939856,
          0.446394039745139,
          0.37480919866191853,
          0.3276017269655992,
          0.239459513704272,
          0.41573059060554196,
          0.4560058313777231,
          0.4563163374617709,
          0.3988211496634486,
          0.3499036448254197
         ],
         "yaxis": "y4"
        }
       ],
       "layout": {
        "annotations": [
         {
          "font": {
           "size": 16
          },
          "showarrow": false,
          "text": "Total Return",
          "x": 0.225,
          "xanchor": "center",
          "xref": "paper",
          "y": 1,
          "yanchor": "bottom",
          "yref": "paper"
         },
         {
          "font": {
           "size": 16
          },
          "showarrow": false,
          "text": "Volatility",
          "x": 0.775,
          "xanchor": "center",
          "xref": "paper",
          "y": 1,
          "yanchor": "bottom",
          "yref": "paper"
         },
         {
          "font": {
           "size": 16
          },
          "showarrow": false,
          "text": "Sharpe Ratio",
          "x": 0.225,
          "xanchor": "center",
          "xref": "paper",
          "y": 0.375,
          "yanchor": "bottom",
          "yref": "paper"
         },
         {
          "font": {
           "size": 16
          },
          "showarrow": false,
          "text": "Max Drawdown",
          "x": 0.775,
          "xanchor": "center",
          "xref": "paper",
          "y": 0.375,
          "yanchor": "bottom",
          "yref": "paper"
         }
        ],
        "height": 800,
        "hovermode": "closest",
        "template": {
         "data": {
          "bar": [
           {
            "error_x": {
             "color": "#2a3f5f"
            },
            "error_y": {
             "color": "#2a3f5f"
            },
            "marker": {
             "line": {
              "color": "#E5ECF6",
              "width": 0.5
             },
             "pattern": {
              "fillmode": "overlay",
              "size": 10,
              "solidity": 0.2
             }
            },
            "type": "bar"
           }
          ],
          "barpolar": [
           {
            "marker": {
             "line": {
              "color": "#E5ECF6",
              "width": 0.5
             },
             "pattern": {
              "fillmode": "overlay",
              "size": 10,
              "solidity": 0.2
             }
            },
            "type": "barpolar"
           }
          ],
          "carpet": [
           {
            "aaxis": {
             "endlinecolor": "#2a3f5f",
             "gridcolor": "white",
             "linecolor": "white",
             "minorgridcolor": "white",
             "startlinecolor": "#2a3f5f"
            },
            "baxis": {
             "endlinecolor": "#2a3f5f",
             "gridcolor": "white",
             "linecolor": "white",
             "minorgridcolor": "white",
             "startlinecolor": "#2a3f5f"
            },
            "type": "carpet"
           }
          ],
          "choropleth": [
           {
            "colorbar": {
             "outlinewidth": 0,
             "ticks": ""
            },
            "type": "choropleth"
           }
          ],
          "contour": [
           {
            "colorbar": {
             "outlinewidth": 0,
             "ticks": ""
            },
            "colorscale": [
             [
              0,
              "#0d0887"
             ],
             [
              0.1111111111111111,
              "#46039f"
             ],
             [
              0.2222222222222222,
              "#7201a8"
             ],
             [
              0.3333333333333333,
              "#9c179e"
             ],
             [
              0.4444444444444444,
              "#bd3786"
             ],
             [
              0.5555555555555556,
              "#d8576b"
             ],
             [
              0.6666666666666666,
              "#ed7953"
             ],
             [
              0.7777777777777778,
              "#fb9f3a"
             ],
             [
              0.8888888888888888,
              "#fdca26"
             ],
             [
              1,
              "#f0f921"
             ]
            ],
            "type": "contour"
           }
          ],
          "contourcarpet": [
           {
            "colorbar": {
             "outlinewidth": 0,
             "ticks": ""
            },
            "type": "contourcarpet"
           }
          ],
          "heatmap": [
           {
            "colorbar": {
             "outlinewidth": 0,
             "ticks": ""
            },
            "colorscale": [
             [
              0,
              "#0d0887"
             ],
             [
              0.1111111111111111,
              "#46039f"
             ],
             [
              0.2222222222222222,
              "#7201a8"
             ],
             [
              0.3333333333333333,
              "#9c179e"
             ],
             [
              0.4444444444444444,
              "#bd3786"
             ],
             [
              0.5555555555555556,
              "#d8576b"
             ],
             [
              0.6666666666666666,
              "#ed7953"
             ],
             [
              0.7777777777777778,
              "#fb9f3a"
             ],
             [
              0.8888888888888888,
              "#fdca26"
             ],
             [
              1,
              "#f0f921"
             ]
            ],
            "type": "heatmap"
           }
          ],
          "heatmapgl": [
           {
            "colorbar": {
             "outlinewidth": 0,
             "ticks": ""
            },
            "colorscale": [
             [
              0,
              "#0d0887"
             ],
             [
              0.1111111111111111,
              "#46039f"
             ],
             [
              0.2222222222222222,
              "#7201a8"
             ],
             [
              0.3333333333333333,
              "#9c179e"
             ],
             [
              0.4444444444444444,
              "#bd3786"
             ],
             [
              0.5555555555555556,
              "#d8576b"
             ],
             [
              0.6666666666666666,
              "#ed7953"
             ],
             [
              0.7777777777777778,
              "#fb9f3a"
             ],
             [
              0.8888888888888888,
              "#fdca26"
             ],
             [
              1,
              "#f0f921"
             ]
            ],
            "type": "heatmapgl"
           }
          ],
          "histogram": [
           {
            "marker": {
             "pattern": {
              "fillmode": "overlay",
              "size": 10,
              "solidity": 0.2
             }
            },
            "type": "histogram"
           }
          ],
          "histogram2d": [
           {
            "colorbar": {
             "outlinewidth": 0,
             "ticks": ""
            },
            "colorscale": [
             [
              0,
              "#0d0887"
             ],
             [
              0.1111111111111111,
              "#46039f"
             ],
             [
              0.2222222222222222,
              "#7201a8"
             ],
             [
              0.3333333333333333,
              "#9c179e"
             ],
             [
              0.4444444444444444,
              "#bd3786"
             ],
             [
              0.5555555555555556,
              "#d8576b"
             ],
             [
              0.6666666666666666,
              "#ed7953"
             ],
             [
              0.7777777777777778,
              "#fb9f3a"
             ],
             [
              0.8888888888888888,
              "#fdca26"
             ],
             [
              1,
              "#f0f921"
             ]
            ],
            "type": "histogram2d"
           }
          ],
          "histogram2dcontour": [
           {
            "colorbar": {
             "outlinewidth": 0,
             "ticks": ""
            },
            "colorscale": [
             [
              0,
              "#0d0887"
             ],
             [
              0.1111111111111111,
              "#46039f"
             ],
             [
              0.2222222222222222,
              "#7201a8"
             ],
             [
              0.3333333333333333,
              "#9c179e"
             ],
             [
              0.4444444444444444,
              "#bd3786"
             ],
             [
              0.5555555555555556,
              "#d8576b"
             ],
             [
              0.6666666666666666,
              "#ed7953"
             ],
             [
              0.7777777777777778,
              "#fb9f3a"
             ],
             [
              0.8888888888888888,
              "#fdca26"
             ],
             [
              1,
              "#f0f921"
             ]
            ],
            "type": "histogram2dcontour"
           }
          ],
          "mesh3d": [
           {
            "colorbar": {
             "outlinewidth": 0,
             "ticks": ""
            },
            "type": "mesh3d"
           }
          ],
          "parcoords": [
           {
            "line": {
             "colorbar": {
              "outlinewidth": 0,
              "ticks": ""
             }
            },
            "type": "parcoords"
           }
          ],
          "pie": [
           {
            "automargin": true,
            "type": "pie"
           }
          ],
          "scatter": [
           {
            "fillpattern": {
             "fillmode": "overlay",
             "size": 10,
             "solidity": 0.2
            },
            "type": "scatter"
           }
          ],
          "scatter3d": [
           {
            "line": {
             "colorbar": {
              "outlinewidth": 0,
              "ticks": ""
             }
            },
            "marker": {
             "colorbar": {
              "outlinewidth": 0,
              "ticks": ""
             }
            },
            "type": "scatter3d"
           }
          ],
          "scattercarpet": [
           {
            "marker": {
             "colorbar": {
              "outlinewidth": 0,
              "ticks": ""
             }
            },
            "type": "scattercarpet"
           }
          ],
          "scattergeo": [
           {
            "marker": {
             "colorbar": {
              "outlinewidth": 0,
              "ticks": ""
             }
            },
            "type": "scattergeo"
           }
          ],
          "scattergl": [
           {
            "marker": {
             "colorbar": {
              "outlinewidth": 0,
              "ticks": ""
             }
            },
            "type": "scattergl"
           }
          ],
          "scattermapbox": [
           {
            "marker": {
             "colorbar": {
              "outlinewidth": 0,
              "ticks": ""
             }
            },
            "type": "scattermapbox"
           }
          ],
          "scatterpolar": [
           {
            "marker": {
             "colorbar": {
              "outlinewidth": 0,
              "ticks": ""
             }
            },
            "type": "scatterpolar"
           }
          ],
          "scatterpolargl": [
           {
            "marker": {
             "colorbar": {
              "outlinewidth": 0,
              "ticks": ""
             }
            },
            "type": "scatterpolargl"
           }
          ],
          "scatterternary": [
           {
            "marker": {
             "colorbar": {
              "outlinewidth": 0,
              "ticks": ""
             }
            },
            "type": "scatterternary"
           }
          ],
          "surface": [
           {
            "colorbar": {
             "outlinewidth": 0,
             "ticks": ""
            },
            "colorscale": [
             [
              0,
              "#0d0887"
             ],
             [
              0.1111111111111111,
              "#46039f"
             ],
             [
              0.2222222222222222,
              "#7201a8"
             ],
             [
              0.3333333333333333,
              "#9c179e"
             ],
             [
              0.4444444444444444,
              "#bd3786"
             ],
             [
              0.5555555555555556,
              "#d8576b"
             ],
             [
              0.6666666666666666,
              "#ed7953"
             ],
             [
              0.7777777777777778,
              "#fb9f3a"
             ],
             [
              0.8888888888888888,
              "#fdca26"
             ],
             [
              1,
              "#f0f921"
             ]
            ],
            "type": "surface"
           }
          ],
          "table": [
           {
            "cells": {
             "fill": {
              "color": "#EBF0F8"
             },
             "line": {
              "color": "white"
             }
            },
            "header": {
             "fill": {
              "color": "#C8D4E3"
             },
             "line": {
              "color": "white"
             }
            },
            "type": "table"
           }
          ]
         },
         "layout": {
          "annotationdefaults": {
           "arrowcolor": "#2a3f5f",
           "arrowhead": 0,
           "arrowwidth": 1
          },
          "autotypenumbers": "strict",
          "coloraxis": {
           "colorbar": {
            "outlinewidth": 0,
            "ticks": ""
           }
          },
          "colorscale": {
           "diverging": [
            [
             0,
             "#8e0152"
            ],
            [
             0.1,
             "#c51b7d"
            ],
            [
             0.2,
             "#de77ae"
            ],
            [
             0.3,
             "#f1b6da"
            ],
            [
             0.4,
             "#fde0ef"
            ],
            [
             0.5,
             "#f7f7f7"
            ],
            [
             0.6,
             "#e6f5d0"
            ],
            [
             0.7,
             "#b8e186"
            ],
            [
             0.8,
             "#7fbc41"
            ],
            [
             0.9,
             "#4d9221"
            ],
            [
             1,
             "#276419"
            ]
           ],
           "sequential": [
            [
             0,
             "#0d0887"
            ],
            [
             0.1111111111111111,
             "#46039f"
            ],
            [
             0.2222222222222222,
             "#7201a8"
            ],
            [
             0.3333333333333333,
             "#9c179e"
            ],
            [
             0.4444444444444444,
             "#bd3786"
            ],
            [
             0.5555555555555556,
             "#d8576b"
            ],
            [
             0.6666666666666666,
             "#ed7953"
            ],
            [
             0.7777777777777778,
             "#fb9f3a"
            ],
            [
             0.8888888888888888,
             "#fdca26"
            ],
            [
             1,
             "#f0f921"
            ]
           ],
           "sequentialminus": [
            [
             0,
             "#0d0887"
            ],
            [
             0.1111111111111111,
             "#46039f"
            ],
            [
             0.2222222222222222,
             "#7201a8"
            ],
            [
             0.3333333333333333,
             "#9c179e"
            ],
            [
             0.4444444444444444,
             "#bd3786"
            ],
            [
             0.5555555555555556,
             "#d8576b"
            ],
            [
             0.6666666666666666,
             "#ed7953"
            ],
            [
             0.7777777777777778,
             "#fb9f3a"
            ],
            [
             0.8888888888888888,
             "#fdca26"
            ],
            [
             1,
             "#f0f921"
            ]
           ]
          },
          "colorway": [
           "#636efa",
           "#EF553B",
           "#00cc96",
           "#ab63fa",
           "#FFA15A",
           "#19d3f3",
           "#FF6692",
           "#B6E880",
           "#FF97FF",
           "#FECB52"
          ],
          "font": {
           "color": "#2a3f5f"
          },
          "geo": {
           "bgcolor": "white",
           "lakecolor": "white",
           "landcolor": "#E5ECF6",
           "showlakes": true,
           "showland": true,
           "subunitcolor": "white"
          },
          "hoverlabel": {
           "align": "left"
          },
          "hovermode": "closest",
          "mapbox": {
           "style": "light"
          },
          "paper_bgcolor": "white",
          "plot_bgcolor": "#E5ECF6",
          "polar": {
           "angularaxis": {
            "gridcolor": "white",
            "linecolor": "white",
            "ticks": ""
           },
           "bgcolor": "#E5ECF6",
           "radialaxis": {
            "gridcolor": "white",
            "linecolor": "white",
            "ticks": ""
           }
          },
          "scene": {
           "xaxis": {
            "backgroundcolor": "#E5ECF6",
            "gridcolor": "white",
            "gridwidth": 2,
            "linecolor": "white",
            "showbackground": true,
            "ticks": "",
            "zerolinecolor": "white"
           },
           "yaxis": {
            "backgroundcolor": "#E5ECF6",
            "gridcolor": "white",
            "gridwidth": 2,
            "linecolor": "white",
            "showbackground": true,
            "ticks": "",
            "zerolinecolor": "white"
           },
           "zaxis": {
            "backgroundcolor": "#E5ECF6",
            "gridcolor": "white",
            "gridwidth": 2,
            "linecolor": "white",
            "showbackground": true,
            "ticks": "",
            "zerolinecolor": "white"
           }
          },
          "shapedefaults": {
           "line": {
            "color": "#2a3f5f"
           }
          },
          "ternary": {
           "aaxis": {
            "gridcolor": "white",
            "linecolor": "white",
            "ticks": ""
           },
           "baxis": {
            "gridcolor": "white",
            "linecolor": "white",
            "ticks": ""
           },
           "bgcolor": "#E5ECF6",
           "caxis": {
            "gridcolor": "white",
            "linecolor": "white",
            "ticks": ""
           }
          },
          "title": {
           "x": 0.05
          },
          "xaxis": {
           "automargin": true,
           "gridcolor": "white",
           "linecolor": "white",
           "ticks": "",
           "title": {
            "standoff": 15
           },
           "zerolinecolor": "white",
           "zerolinewidth": 2
          },
          "yaxis": {
           "automargin": true,
           "gridcolor": "white",
           "linecolor": "white",
           "ticks": "",
           "title": {
            "standoff": 15
           },
           "zerolinecolor": "white",
           "zerolinewidth": 2
          }
         }
        },
        "title": {
         "text": "Option Performance Metrics by Strike Price with Strike and Expiry Details"
        },
        "width": 1200,
        "xaxis": {
         "anchor": "y",
         "domain": [
          0,
          0.45
         ]
        },
        "xaxis2": {
         "anchor": "y2",
         "domain": [
          0.55,
          1
         ]
        },
        "xaxis3": {
         "anchor": "y3",
         "domain": [
          0,
          0.45
         ]
        },
        "xaxis4": {
         "anchor": "y4",
         "domain": [
          0.55,
          1
         ]
        },
        "yaxis": {
         "anchor": "x",
         "domain": [
          0.625,
          1
         ]
        },
        "yaxis2": {
         "anchor": "x2",
         "domain": [
          0.625,
          1
         ]
        },
        "yaxis3": {
         "anchor": "x3",
         "domain": [
          0,
          0.375
         ]
        },
        "yaxis4": {
         "anchor": "x4",
         "domain": [
          0,
          0.375
         ]
        }
       }
      },
      "text/html": [
       "<div>                            <div id=\"f7411a17-c151-4f83-b33e-51ed5454e8c1\" class=\"plotly-graph-div\" style=\"height:800px; width:1200px;\"></div>            <script type=\"text/javascript\">                require([\"plotly\"], function(Plotly) {                    window.PLOTLYENV=window.PLOTLYENV || {};                                    if (document.getElementById(\"f7411a17-c151-4f83-b33e-51ed5454e8c1\")) {                    Plotly.newPlot(                        \"f7411a17-c151-4f83-b33e-51ed5454e8c1\",                        [{\"hoverinfo\":\"text+y\",\"mode\":\"markers\",\"name\":\"Total Return\",\"text\":[\"Strike: 700.0, Expiry: 30.0 days\",\"Strike: 700.0, Expiry: 60.0 days\",\"Strike: 700.0, Expiry: 90.0 days\",\"Strike: 700.0, Expiry: 120.0 days\",\"Strike: 700.0, Expiry: 240.0 days\",\"Strike: 700.0, Expiry: 360.0 days\",\"Strike: 800.0, Expiry: 30.0 days\",\"Strike: 800.0, Expiry: 60.0 days\",\"Strike: 800.0, Expiry: 90.0 days\",\"Strike: 800.0, Expiry: 120.0 days\",\"Strike: 800.0, Expiry: 240.0 days\",\"Strike: 800.0, Expiry: 360.0 days\",\"Strike: 850.0, Expiry: 30.0 days\",\"Strike: 850.0, Expiry: 60.0 days\",\"Strike: 850.0, Expiry: 90.0 days\",\"Strike: 850.0, Expiry: 120.0 days\",\"Strike: 850.0, Expiry: 240.0 days\",\"Strike: 850.0, Expiry: 360.0 days\",\"Strike: 900.0, Expiry: 30.0 days\",\"Strike: 900.0, Expiry: 60.0 days\",\"Strike: 900.0, Expiry: 90.0 days\",\"Strike: 900.0, Expiry: 120.0 days\",\"Strike: 900.0, Expiry: 240.0 days\",\"Strike: 900.0, Expiry: 360.0 days\",\"Strike: 950.0, Expiry: 30.0 days\",\"Strike: 950.0, Expiry: 60.0 days\",\"Strike: 950.0, Expiry: 90.0 days\",\"Strike: 950.0, Expiry: 120.0 days\",\"Strike: 950.0, Expiry: 240.0 days\",\"Strike: 950.0, Expiry: 360.0 days\",\"Strike: 1000.0, Expiry: 30.0 days\",\"Strike: 1000.0, Expiry: 60.0 days\",\"Strike: 1000.0, Expiry: 90.0 days\",\"Strike: 1000.0, Expiry: 120.0 days\",\"Strike: 1000.0, Expiry: 240.0 days\",\"Strike: 1000.0, Expiry: 360.0 days\",\"Strike: 1100.0, Expiry: 30.0 days\",\"Strike: 1100.0, Expiry: 60.0 days\",\"Strike: 1100.0, Expiry: 90.0 days\",\"Strike: 1100.0, Expiry: 120.0 days\",\"Strike: 1100.0, Expiry: 240.0 days\",\"Strike: 1100.0, Expiry: 360.0 days\"],\"x\":[700,700,700,700,700,700,800,800,800,800,800,800,850,850,850,850,850,850,900,900,900,900,900,900,950,950,950,950,950,950,1000,1000,1000,1000,1000,1000,1100,1100,1100,1100,1100,1100],\"y\":[0.24821783297023634,0.2440670109910012,0.23688447126819903,0.2290378359696943,0.20243003322067335,0.18396662042752912,0.45600041090790894,0.39475132723255363,0.3532025679238744,0.32357115362274913,0.256554681732826,0.22196647422097918,0.6500483911542071,0.5010344735807304,0.4267579218504473,0.3799433453842318,0.2858305299262443,0.24175913894392376,0.8924068137590326,0.6213073185434871,0.5070708456889468,0.4402472137836218,0.31598228094068276,0.26181036901673826,1.1193518423851636,0.7460348482505815,0.5906355231651504,0.5026821001207764,0.34661357142169913,0.2819554704671113,1.2423706595536548,0.8645265372457136,0.6739255737790226,0.5655452226151234,0.37738553927944307,0.30205912375457866,0.9751331619801024,1.0453033128638014,0.8274932095735879,0.6868334543379211,0.4382838215014205,0.3417297160000439],\"type\":\"scatter\",\"xaxis\":\"x\",\"yaxis\":\"y\"},{\"hoverinfo\":\"text+y\",\"mode\":\"markers\",\"name\":\"Volatility\",\"text\":[\"Strike: 700.0, Expiry: 30.0 days\",\"Strike: 700.0, Expiry: 60.0 days\",\"Strike: 700.0, Expiry: 90.0 days\",\"Strike: 700.0, Expiry: 120.0 days\",\"Strike: 700.0, Expiry: 240.0 days\",\"Strike: 700.0, Expiry: 360.0 days\",\"Strike: 800.0, Expiry: 30.0 days\",\"Strike: 800.0, Expiry: 60.0 days\",\"Strike: 800.0, Expiry: 90.0 days\",\"Strike: 800.0, Expiry: 120.0 days\",\"Strike: 800.0, Expiry: 240.0 days\",\"Strike: 800.0, Expiry: 360.0 days\",\"Strike: 850.0, Expiry: 30.0 days\",\"Strike: 850.0, Expiry: 60.0 days\",\"Strike: 850.0, Expiry: 90.0 days\",\"Strike: 850.0, Expiry: 120.0 days\",\"Strike: 850.0, Expiry: 240.0 days\",\"Strike: 850.0, Expiry: 360.0 days\",\"Strike: 900.0, Expiry: 30.0 days\",\"Strike: 900.0, Expiry: 60.0 days\",\"Strike: 900.0, Expiry: 90.0 days\",\"Strike: 900.0, Expiry: 120.0 days\",\"Strike: 900.0, Expiry: 240.0 days\",\"Strike: 900.0, Expiry: 360.0 days\",\"Strike: 950.0, Expiry: 30.0 days\",\"Strike: 950.0, Expiry: 60.0 days\",\"Strike: 950.0, Expiry: 90.0 days\",\"Strike: 950.0, Expiry: 120.0 days\",\"Strike: 950.0, Expiry: 240.0 days\",\"Strike: 950.0, Expiry: 360.0 days\",\"Strike: 1000.0, Expiry: 30.0 days\",\"Strike: 1000.0, Expiry: 60.0 days\",\"Strike: 1000.0, Expiry: 90.0 days\",\"Strike: 1000.0, Expiry: 120.0 days\",\"Strike: 1000.0, Expiry: 240.0 days\",\"Strike: 1000.0, Expiry: 360.0 days\",\"Strike: 1100.0, Expiry: 30.0 days\",\"Strike: 1100.0, Expiry: 60.0 days\",\"Strike: 1100.0, Expiry: 90.0 days\",\"Strike: 1100.0, Expiry: 120.0 days\",\"Strike: 1100.0, Expiry: 240.0 days\",\"Strike: 1100.0, Expiry: 360.0 days\"],\"x\":[700,700,700,700,700,700,800,800,800,800,800,800,850,850,850,850,850,850,900,900,900,900,900,900,950,950,950,950,950,950,1000,1000,1000,1000,1000,1000,1100,1100,1100,1100,1100,1100],\"y\":[4.329426662540606,4.0843235753510125,3.839963959790142,3.6305893012723556,3.061622699238742,2.722393135769169,9.393522594371325,7.015671264939464,5.91428502522645,5.238342540870023,3.9108036979016685,3.299904104623726,14.369128223893517,9.115123827598554,7.236999006512247,6.201905969139456,4.370243148247421,3.6004137432303462,21.88138264544042,11.654878368292225,8.732017491887602,7.254608391331685,4.846006677991425,3.9054436084150406,33.07412441998735,14.651753805346273,10.386625207690889,8.384791123133988,5.333885390067479,4.213066363507321,49.67354739931229,18.13514675721085,12.191843428578602,9.583078463272074,5.830460002437312,4.521747055233894,109.42856898502488,26.740792781768498,16.23726843136627,12.15770356420907,6.839438194774251,5.137748637715787],\"type\":\"scatter\",\"xaxis\":\"x2\",\"yaxis\":\"y2\"},{\"hoverinfo\":\"text+y\",\"mode\":\"markers\",\"name\":\"Sharpe Ratio\",\"text\":[\"Strike: 700.0, Expiry: 30.0 days\",\"Strike: 700.0, Expiry: 60.0 days\",\"Strike: 700.0, Expiry: 90.0 days\",\"Strike: 700.0, Expiry: 120.0 days\",\"Strike: 700.0, Expiry: 240.0 days\",\"Strike: 700.0, Expiry: 360.0 days\",\"Strike: 800.0, Expiry: 30.0 days\",\"Strike: 800.0, Expiry: 60.0 days\",\"Strike: 800.0, Expiry: 90.0 days\",\"Strike: 800.0, Expiry: 120.0 days\",\"Strike: 800.0, Expiry: 240.0 days\",\"Strike: 800.0, Expiry: 360.0 days\",\"Strike: 850.0, Expiry: 30.0 days\",\"Strike: 850.0, Expiry: 60.0 days\",\"Strike: 850.0, Expiry: 90.0 days\",\"Strike: 850.0, Expiry: 120.0 days\",\"Strike: 850.0, Expiry: 240.0 days\",\"Strike: 850.0, Expiry: 360.0 days\",\"Strike: 900.0, Expiry: 30.0 days\",\"Strike: 900.0, Expiry: 60.0 days\",\"Strike: 900.0, Expiry: 90.0 days\",\"Strike: 900.0, Expiry: 120.0 days\",\"Strike: 900.0, Expiry: 240.0 days\",\"Strike: 900.0, Expiry: 360.0 days\",\"Strike: 950.0, Expiry: 30.0 days\",\"Strike: 950.0, Expiry: 60.0 days\",\"Strike: 950.0, Expiry: 90.0 days\",\"Strike: 950.0, Expiry: 120.0 days\",\"Strike: 950.0, Expiry: 240.0 days\",\"Strike: 950.0, Expiry: 360.0 days\",\"Strike: 1000.0, Expiry: 30.0 days\",\"Strike: 1000.0, Expiry: 60.0 days\",\"Strike: 1000.0, Expiry: 90.0 days\",\"Strike: 1000.0, Expiry: 120.0 days\",\"Strike: 1000.0, Expiry: 240.0 days\",\"Strike: 1000.0, Expiry: 360.0 days\",\"Strike: 1100.0, Expiry: 30.0 days\",\"Strike: 1100.0, Expiry: 60.0 days\",\"Strike: 1100.0, Expiry: 90.0 days\",\"Strike: 1100.0, Expiry: 120.0 days\",\"Strike: 1100.0, Expiry: 240.0 days\",\"Strike: 1100.0, Expiry: 360.0 days\"],\"x\":[700,700,700,700,700,700,800,800,800,800,800,800,850,850,850,850,850,850,900,900,900,900,900,900,950,950,950,950,950,950,1000,1000,1000,1000,1000,1000,1100,1100,1100,1100,1100,1100],\"y\":[3.2720166425403647,3.239907924458236,3.196431098788522,3.153006761589952,3.016588952428638,2.9266009897448106,4.6904224425776855,4.154761671482057,3.8726063334636334,3.689801968074873,3.311802190135992,3.1304222964500434,5.81464990927564,4.7553868734520295,4.282287946230761,4.000690191189406,3.469861346444415,3.236136657363341,6.9588913261201215,5.388924861612637,4.711614464868104,4.323914219688097,3.6307757207478146,3.34256331258346,7.893549198070493,6.010735396105335,5.142473077135616,4.649685832860369,3.792220450031256,3.4487035667782036,8.4984841553519,6.588644743872032,5.561381046754388,4.9706517657982365,3.9524394381656833,3.5538072080791085,8.792229000008282,7.545265933047536,6.330329221960253,5.579271858812963,4.2644597803278215,3.7588720244096305],\"type\":\"scatter\",\"xaxis\":\"x3\",\"yaxis\":\"y3\"},{\"hoverinfo\":\"text+y\",\"mode\":\"markers\",\"name\":\"Max Drawdown\",\"text\":[\"Strike: 700.0, Expiry: 30.0 days\",\"Strike: 700.0, Expiry: 60.0 days\",\"Strike: 700.0, Expiry: 90.0 days\",\"Strike: 700.0, Expiry: 120.0 days\",\"Strike: 700.0, Expiry: 240.0 days\",\"Strike: 700.0, Expiry: 360.0 days\",\"Strike: 800.0, Expiry: 30.0 days\",\"Strike: 800.0, Expiry: 60.0 days\",\"Strike: 800.0, Expiry: 90.0 days\",\"Strike: 800.0, Expiry: 120.0 days\",\"Strike: 800.0, Expiry: 240.0 days\",\"Strike: 800.0, Expiry: 360.0 days\",\"Strike: 850.0, Expiry: 30.0 days\",\"Strike: 850.0, Expiry: 60.0 days\",\"Strike: 850.0, Expiry: 90.0 days\",\"Strike: 850.0, Expiry: 120.0 days\",\"Strike: 850.0, Expiry: 240.0 days\",\"Strike: 850.0, Expiry: 360.0 days\",\"Strike: 900.0, Expiry: 30.0 days\",\"Strike: 900.0, Expiry: 60.0 days\",\"Strike: 900.0, Expiry: 90.0 days\",\"Strike: 900.0, Expiry: 120.0 days\",\"Strike: 900.0, Expiry: 240.0 days\",\"Strike: 900.0, Expiry: 360.0 days\",\"Strike: 950.0, Expiry: 30.0 days\",\"Strike: 950.0, Expiry: 60.0 days\",\"Strike: 950.0, Expiry: 90.0 days\",\"Strike: 950.0, Expiry: 120.0 days\",\"Strike: 950.0, Expiry: 240.0 days\",\"Strike: 950.0, Expiry: 360.0 days\",\"Strike: 1000.0, Expiry: 30.0 days\",\"Strike: 1000.0, Expiry: 60.0 days\",\"Strike: 1000.0, Expiry: 90.0 days\",\"Strike: 1000.0, Expiry: 120.0 days\",\"Strike: 1000.0, Expiry: 240.0 days\",\"Strike: 1000.0, Expiry: 360.0 days\",\"Strike: 1100.0, Expiry: 30.0 days\",\"Strike: 1100.0, Expiry: 60.0 days\",\"Strike: 1100.0, Expiry: 90.0 days\",\"Strike: 1100.0, Expiry: 120.0 days\",\"Strike: 1100.0, Expiry: 240.0 days\",\"Strike: 1100.0, Expiry: 360.0 days\"],\"x\":[700,700,700,700,700,700,800,800,800,800,800,800,850,850,850,850,850,850,900,900,900,900,900,900,950,950,950,950,950,950,1000,1000,1000,1000,1000,1000,1100,1100,1100,1100,1100,1100],\"y\":[0.3433002236162298,0.32560630943581936,0.3095985207357046,0.29624656774558744,0.2596690823157083,0.23692397090862882,0.4849509469880289,0.426662447516452,0.39103297609818355,0.3654129320256988,0.30451541793195736,0.27078788335985915,0.5076108249235818,0.45957627211576635,0.4224171580611218,0.3940852356925474,0.32486693907448505,0.2865015002876039,0.48346776252849055,0.4752804345934696,0.4448367288880445,0.41719397024794114,0.3434263199226938,0.30123557661505185,0.4285915395418367,0.4751014866433878,0.4582556851424352,0.4345243197647475,0.36007673448087685,0.3149388649306717,0.36219798326151487,0.46256928790993557,0.46363745763939856,0.446394039745139,0.37480919866191853,0.3276017269655992,0.239459513704272,0.41573059060554196,0.4560058313777231,0.4563163374617709,0.3988211496634486,0.3499036448254197],\"type\":\"scatter\",\"xaxis\":\"x4\",\"yaxis\":\"y4\"}],                        {\"template\":{\"data\":{\"histogram2dcontour\":[{\"type\":\"histogram2dcontour\",\"colorbar\":{\"outlinewidth\":0,\"ticks\":\"\"},\"colorscale\":[[0.0,\"#0d0887\"],[0.1111111111111111,\"#46039f\"],[0.2222222222222222,\"#7201a8\"],[0.3333333333333333,\"#9c179e\"],[0.4444444444444444,\"#bd3786\"],[0.5555555555555556,\"#d8576b\"],[0.6666666666666666,\"#ed7953\"],[0.7777777777777778,\"#fb9f3a\"],[0.8888888888888888,\"#fdca26\"],[1.0,\"#f0f921\"]]}],\"choropleth\":[{\"type\":\"choropleth\",\"colorbar\":{\"outlinewidth\":0,\"ticks\":\"\"}}],\"histogram2d\":[{\"type\":\"histogram2d\",\"colorbar\":{\"outlinewidth\":0,\"ticks\":\"\"},\"colorscale\":[[0.0,\"#0d0887\"],[0.1111111111111111,\"#46039f\"],[0.2222222222222222,\"#7201a8\"],[0.3333333333333333,\"#9c179e\"],[0.4444444444444444,\"#bd3786\"],[0.5555555555555556,\"#d8576b\"],[0.6666666666666666,\"#ed7953\"],[0.7777777777777778,\"#fb9f3a\"],[0.8888888888888888,\"#fdca26\"],[1.0,\"#f0f921\"]]}],\"heatmap\":[{\"type\":\"heatmap\",\"colorbar\":{\"outlinewidth\":0,\"ticks\":\"\"},\"colorscale\":[[0.0,\"#0d0887\"],[0.1111111111111111,\"#46039f\"],[0.2222222222222222,\"#7201a8\"],[0.3333333333333333,\"#9c179e\"],[0.4444444444444444,\"#bd3786\"],[0.5555555555555556,\"#d8576b\"],[0.6666666666666666,\"#ed7953\"],[0.7777777777777778,\"#fb9f3a\"],[0.8888888888888888,\"#fdca26\"],[1.0,\"#f0f921\"]]}],\"heatmapgl\":[{\"type\":\"heatmapgl\",\"colorbar\":{\"outlinewidth\":0,\"ticks\":\"\"},\"colorscale\":[[0.0,\"#0d0887\"],[0.1111111111111111,\"#46039f\"],[0.2222222222222222,\"#7201a8\"],[0.3333333333333333,\"#9c179e\"],[0.4444444444444444,\"#bd3786\"],[0.5555555555555556,\"#d8576b\"],[0.6666666666666666,\"#ed7953\"],[0.7777777777777778,\"#fb9f3a\"],[0.8888888888888888,\"#fdca26\"],[1.0,\"#f0f921\"]]}],\"contourcarpet\":[{\"type\":\"contourcarpet\",\"colorbar\":{\"outlinewidth\":0,\"ticks\":\"\"}}],\"contour\":[{\"type\":\"contour\",\"colorbar\":{\"outlinewidth\":0,\"ticks\":\"\"},\"colorscale\":[[0.0,\"#0d0887\"],[0.1111111111111111,\"#46039f\"],[0.2222222222222222,\"#7201a8\"],[0.3333333333333333,\"#9c179e\"],[0.4444444444444444,\"#bd3786\"],[0.5555555555555556,\"#d8576b\"],[0.6666666666666666,\"#ed7953\"],[0.7777777777777778,\"#fb9f3a\"],[0.8888888888888888,\"#fdca26\"],[1.0,\"#f0f921\"]]}],\"surface\":[{\"type\":\"surface\",\"colorbar\":{\"outlinewidth\":0,\"ticks\":\"\"},\"colorscale\":[[0.0,\"#0d0887\"],[0.1111111111111111,\"#46039f\"],[0.2222222222222222,\"#7201a8\"],[0.3333333333333333,\"#9c179e\"],[0.4444444444444444,\"#bd3786\"],[0.5555555555555556,\"#d8576b\"],[0.6666666666666666,\"#ed7953\"],[0.7777777777777778,\"#fb9f3a\"],[0.8888888888888888,\"#fdca26\"],[1.0,\"#f0f921\"]]}],\"mesh3d\":[{\"type\":\"mesh3d\",\"colorbar\":{\"outlinewidth\":0,\"ticks\":\"\"}}],\"scatter\":[{\"fillpattern\":{\"fillmode\":\"overlay\",\"size\":10,\"solidity\":0.2},\"type\":\"scatter\"}],\"parcoords\":[{\"type\":\"parcoords\",\"line\":{\"colorbar\":{\"outlinewidth\":0,\"ticks\":\"\"}}}],\"scatterpolargl\":[{\"type\":\"scatterpolargl\",\"marker\":{\"colorbar\":{\"outlinewidth\":0,\"ticks\":\"\"}}}],\"bar\":[{\"error_x\":{\"color\":\"#2a3f5f\"},\"error_y\":{\"color\":\"#2a3f5f\"},\"marker\":{\"line\":{\"color\":\"#E5ECF6\",\"width\":0.5},\"pattern\":{\"fillmode\":\"overlay\",\"size\":10,\"solidity\":0.2}},\"type\":\"bar\"}],\"scattergeo\":[{\"type\":\"scattergeo\",\"marker\":{\"colorbar\":{\"outlinewidth\":0,\"ticks\":\"\"}}}],\"scatterpolar\":[{\"type\":\"scatterpolar\",\"marker\":{\"colorbar\":{\"outlinewidth\":0,\"ticks\":\"\"}}}],\"histogram\":[{\"marker\":{\"pattern\":{\"fillmode\":\"overlay\",\"size\":10,\"solidity\":0.2}},\"type\":\"histogram\"}],\"scattergl\":[{\"type\":\"scattergl\",\"marker\":{\"colorbar\":{\"outlinewidth\":0,\"ticks\":\"\"}}}],\"scatter3d\":[{\"type\":\"scatter3d\",\"line\":{\"colorbar\":{\"outlinewidth\":0,\"ticks\":\"\"}},\"marker\":{\"colorbar\":{\"outlinewidth\":0,\"ticks\":\"\"}}}],\"scattermapbox\":[{\"type\":\"scattermapbox\",\"marker\":{\"colorbar\":{\"outlinewidth\":0,\"ticks\":\"\"}}}],\"scatterternary\":[{\"type\":\"scatterternary\",\"marker\":{\"colorbar\":{\"outlinewidth\":0,\"ticks\":\"\"}}}],\"scattercarpet\":[{\"type\":\"scattercarpet\",\"marker\":{\"colorbar\":{\"outlinewidth\":0,\"ticks\":\"\"}}}],\"carpet\":[{\"aaxis\":{\"endlinecolor\":\"#2a3f5f\",\"gridcolor\":\"white\",\"linecolor\":\"white\",\"minorgridcolor\":\"white\",\"startlinecolor\":\"#2a3f5f\"},\"baxis\":{\"endlinecolor\":\"#2a3f5f\",\"gridcolor\":\"white\",\"linecolor\":\"white\",\"minorgridcolor\":\"white\",\"startlinecolor\":\"#2a3f5f\"},\"type\":\"carpet\"}],\"table\":[{\"cells\":{\"fill\":{\"color\":\"#EBF0F8\"},\"line\":{\"color\":\"white\"}},\"header\":{\"fill\":{\"color\":\"#C8D4E3\"},\"line\":{\"color\":\"white\"}},\"type\":\"table\"}],\"barpolar\":[{\"marker\":{\"line\":{\"color\":\"#E5ECF6\",\"width\":0.5},\"pattern\":{\"fillmode\":\"overlay\",\"size\":10,\"solidity\":0.2}},\"type\":\"barpolar\"}],\"pie\":[{\"automargin\":true,\"type\":\"pie\"}]},\"layout\":{\"autotypenumbers\":\"strict\",\"colorway\":[\"#636efa\",\"#EF553B\",\"#00cc96\",\"#ab63fa\",\"#FFA15A\",\"#19d3f3\",\"#FF6692\",\"#B6E880\",\"#FF97FF\",\"#FECB52\"],\"font\":{\"color\":\"#2a3f5f\"},\"hovermode\":\"closest\",\"hoverlabel\":{\"align\":\"left\"},\"paper_bgcolor\":\"white\",\"plot_bgcolor\":\"#E5ECF6\",\"polar\":{\"bgcolor\":\"#E5ECF6\",\"angularaxis\":{\"gridcolor\":\"white\",\"linecolor\":\"white\",\"ticks\":\"\"},\"radialaxis\":{\"gridcolor\":\"white\",\"linecolor\":\"white\",\"ticks\":\"\"}},\"ternary\":{\"bgcolor\":\"#E5ECF6\",\"aaxis\":{\"gridcolor\":\"white\",\"linecolor\":\"white\",\"ticks\":\"\"},\"baxis\":{\"gridcolor\":\"white\",\"linecolor\":\"white\",\"ticks\":\"\"},\"caxis\":{\"gridcolor\":\"white\",\"linecolor\":\"white\",\"ticks\":\"\"}},\"coloraxis\":{\"colorbar\":{\"outlinewidth\":0,\"ticks\":\"\"}},\"colorscale\":{\"sequential\":[[0.0,\"#0d0887\"],[0.1111111111111111,\"#46039f\"],[0.2222222222222222,\"#7201a8\"],[0.3333333333333333,\"#9c179e\"],[0.4444444444444444,\"#bd3786\"],[0.5555555555555556,\"#d8576b\"],[0.6666666666666666,\"#ed7953\"],[0.7777777777777778,\"#fb9f3a\"],[0.8888888888888888,\"#fdca26\"],[1.0,\"#f0f921\"]],\"sequentialminus\":[[0.0,\"#0d0887\"],[0.1111111111111111,\"#46039f\"],[0.2222222222222222,\"#7201a8\"],[0.3333333333333333,\"#9c179e\"],[0.4444444444444444,\"#bd3786\"],[0.5555555555555556,\"#d8576b\"],[0.6666666666666666,\"#ed7953\"],[0.7777777777777778,\"#fb9f3a\"],[0.8888888888888888,\"#fdca26\"],[1.0,\"#f0f921\"]],\"diverging\":[[0,\"#8e0152\"],[0.1,\"#c51b7d\"],[0.2,\"#de77ae\"],[0.3,\"#f1b6da\"],[0.4,\"#fde0ef\"],[0.5,\"#f7f7f7\"],[0.6,\"#e6f5d0\"],[0.7,\"#b8e186\"],[0.8,\"#7fbc41\"],[0.9,\"#4d9221\"],[1,\"#276419\"]]},\"xaxis\":{\"gridcolor\":\"white\",\"linecolor\":\"white\",\"ticks\":\"\",\"title\":{\"standoff\":15},\"zerolinecolor\":\"white\",\"automargin\":true,\"zerolinewidth\":2},\"yaxis\":{\"gridcolor\":\"white\",\"linecolor\":\"white\",\"ticks\":\"\",\"title\":{\"standoff\":15},\"zerolinecolor\":\"white\",\"automargin\":true,\"zerolinewidth\":2},\"scene\":{\"xaxis\":{\"backgroundcolor\":\"#E5ECF6\",\"gridcolor\":\"white\",\"linecolor\":\"white\",\"showbackground\":true,\"ticks\":\"\",\"zerolinecolor\":\"white\",\"gridwidth\":2},\"yaxis\":{\"backgroundcolor\":\"#E5ECF6\",\"gridcolor\":\"white\",\"linecolor\":\"white\",\"showbackground\":true,\"ticks\":\"\",\"zerolinecolor\":\"white\",\"gridwidth\":2},\"zaxis\":{\"backgroundcolor\":\"#E5ECF6\",\"gridcolor\":\"white\",\"linecolor\":\"white\",\"showbackground\":true,\"ticks\":\"\",\"zerolinecolor\":\"white\",\"gridwidth\":2}},\"shapedefaults\":{\"line\":{\"color\":\"#2a3f5f\"}},\"annotationdefaults\":{\"arrowcolor\":\"#2a3f5f\",\"arrowhead\":0,\"arrowwidth\":1},\"geo\":{\"bgcolor\":\"white\",\"landcolor\":\"#E5ECF6\",\"subunitcolor\":\"white\",\"showland\":true,\"showlakes\":true,\"lakecolor\":\"white\"},\"title\":{\"x\":0.05},\"mapbox\":{\"style\":\"light\"}}},\"xaxis\":{\"anchor\":\"y\",\"domain\":[0.0,0.45]},\"yaxis\":{\"anchor\":\"x\",\"domain\":[0.625,1.0]},\"xaxis2\":{\"anchor\":\"y2\",\"domain\":[0.55,1.0]},\"yaxis2\":{\"anchor\":\"x2\",\"domain\":[0.625,1.0]},\"xaxis3\":{\"anchor\":\"y3\",\"domain\":[0.0,0.45]},\"yaxis3\":{\"anchor\":\"x3\",\"domain\":[0.0,0.375]},\"xaxis4\":{\"anchor\":\"y4\",\"domain\":[0.55,1.0]},\"yaxis4\":{\"anchor\":\"x4\",\"domain\":[0.0,0.375]},\"annotations\":[{\"font\":{\"size\":16},\"showarrow\":false,\"text\":\"Total Return\",\"x\":0.225,\"xanchor\":\"center\",\"xref\":\"paper\",\"y\":1.0,\"yanchor\":\"bottom\",\"yref\":\"paper\"},{\"font\":{\"size\":16},\"showarrow\":false,\"text\":\"Volatility\",\"x\":0.775,\"xanchor\":\"center\",\"xref\":\"paper\",\"y\":1.0,\"yanchor\":\"bottom\",\"yref\":\"paper\"},{\"font\":{\"size\":16},\"showarrow\":false,\"text\":\"Sharpe Ratio\",\"x\":0.225,\"xanchor\":\"center\",\"xref\":\"paper\",\"y\":0.375,\"yanchor\":\"bottom\",\"yref\":\"paper\"},{\"font\":{\"size\":16},\"showarrow\":false,\"text\":\"Max Drawdown\",\"x\":0.775,\"xanchor\":\"center\",\"xref\":\"paper\",\"y\":0.375,\"yanchor\":\"bottom\",\"yref\":\"paper\"}],\"title\":{\"text\":\"Option Performance Metrics by Strike Price with Strike and Expiry Details\"},\"height\":800,\"width\":1200,\"hovermode\":\"closest\"},                        {\"responsive\": true}                    ).then(function(){\n",
       "                            \n",
       "var gd = document.getElementById('f7411a17-c151-4f83-b33e-51ed5454e8c1');\n",
       "var x = new MutationObserver(function (mutations, observer) {{\n",
       "        var display = window.getComputedStyle(gd).display;\n",
       "        if (!display || display === 'none') {{\n",
       "            console.log([gd, 'removed!']);\n",
       "            Plotly.purge(gd);\n",
       "            observer.disconnect();\n",
       "        }}\n",
       "}});\n",
       "\n",
       "// Listen for the removal of the full notebook cells\n",
       "var notebookContainer = gd.closest('#notebook-container');\n",
       "if (notebookContainer) {{\n",
       "    x.observe(notebookContainer, {childList: true});\n",
       "}}\n",
       "\n",
       "// Listen for the clearing of the current output cell\n",
       "var outputEl = gd.closest('.output');\n",
       "if (outputEl) {{\n",
       "    x.observe(outputEl, {childList: true});\n",
       "}}\n",
       "\n",
       "                        })                };                });            </script>        </div>"
      ]
     },
     "metadata": {},
     "output_type": "display_data"
    }
   ],
   "source": [
    "from plotly.subplots import make_subplots\n",
    "import plotly.graph_objects as go\n",
    "\n",
    "# Assuming results_df is already populated with the data from the previous step\n",
    "\n",
    "# Initialize subplot\n",
    "fig = make_subplots(\n",
    "    rows=2,\n",
    "    cols=2,\n",
    "    subplot_titles=(\"Total Return\", \"Volatility\", \"Sharpe Ratio\", \"Max Drawdown\"),\n",
    ")\n",
    "\n",
    "\n",
    "# Custom function to create hover text\n",
    "def create_hover_text(row):\n",
    "    return f\"Strike: {row['Strike Price']}, Expiry: {row['Expiry (Days)']} days\"\n",
    "\n",
    "\n",
    "# Add traces with hoverinfo\n",
    "metrics = [\"Total Return\", \"Volatility\", \"Sharpe Ratio\", \"Max Drawdown\"]\n",
    "positions = [(1, 1), (1, 2), (2, 1), (2, 2)]\n",
    "\n",
    "for metric, pos in zip(metrics, positions):\n",
    "    fig.add_trace(\n",
    "        go.Scatter(\n",
    "            x=results_df[\"Strike Price\"],\n",
    "            y=results_df[metric],\n",
    "            mode=\"markers\",\n",
    "            name=metric,\n",
    "            text=results_df.apply(create_hover_text, axis=1),\n",
    "            hoverinfo=\"text+y\",\n",
    "        ),\n",
    "        row=pos[0],\n",
    "        col=pos[1],\n",
    "    )\n",
    "\n",
    "# Update layout for readability\n",
    "fig.update_layout(\n",
    "    height=800,\n",
    "    width=1200,\n",
    "    title_text=\"Option Performance Metrics by Strike Price with Strike and Expiry Details\",\n",
    "    hovermode=\"closest\",\n",
    ")\n",
    "\n",
    "fig.show()"
   ]
  }
 ],
 "metadata": {
  "kernelspec": {
   "display_name": "Python 3",
   "language": "python",
   "name": "python3"
  },
  "language_info": {
   "codemirror_mode": {
    "name": "ipython",
    "version": 3
   },
   "file_extension": ".py",
   "mimetype": "text/x-python",
   "name": "python",
   "nbconvert_exporter": "python",
   "pygments_lexer": "ipython3",
   "version": "3.10.13"
  }
 },
 "nbformat": 4,
 "nbformat_minor": 2
}
